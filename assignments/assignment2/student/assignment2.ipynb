{
 "cells": [
  {
   "cell_type": "code",
   "execution_count": null,
   "id": "32a05ea7",
   "metadata": {
    "deletable": false,
    "editable": false
   },
   "outputs": [],
   "source": [
    "# Initialize Otter\n",
    "import otter\n",
    "grader = otter.Notebook(\"assignment2.ipynb\")"
   ]
  },
  {
   "cell_type": "markdown",
   "metadata": {
    "toc": true
   },
   "source": [
    "<h1>Table of Contents<span class=\"tocSkip\"></span></h1>\n",
    "<div class=\"toc\"><ul class=\"toc-item\"><li><span><a href=\"#Question-1:-Managing-data-files\" data-toc-modified-id=\"Question-1:-Managing-data-files-1\">Question 1: Managing data files</a></span><ul class=\"toc-item\"><li><span><a href=\"#Question-1a:-Team-Data\" data-toc-modified-id=\"Question-1a:-Team-Data-1.1\">Question 1a: Team Data</a></span></li><li><span><a href=\"#Question-1b:-Player-Data\" data-toc-modified-id=\"Question-1b:-Player-Data-1.2\">Question 1b: Player Data</a></span></li><li><span><a href=\"#Question-1c:-Shots-Data\" data-toc-modified-id=\"Question-1c:-Shots-Data-1.3\">Question 1c: Shots Data</a></span></li><li><span><a href=\"#Question-1d:-Extract-Stephen-Curry's-Shot-Data\" data-toc-modified-id=\"Question-1d:-Extract-Stephen-Curry's-Shot-Data-1.4\">Question 1d: Extract Stephen Curry's Shot Data</a></span></li></ul></li><li><span><a href=\"#Question-2:-Visualization\" data-toc-modified-id=\"Question-2:-Visualization-2\">Question 2: Visualization</a></span><ul class=\"toc-item\"><li><span><a href=\"#Question-2a:-All-Shots-Scatter-Plot\" data-toc-modified-id=\"Question-2a:-All-Shots-Scatter-Plot-2.1\">Question 2a: All Shots Scatter Plot</a></span></li><li><span><a href=\"#Question-2b:-All-Shots-Scatter-Plot-+-Court-Outline\" data-toc-modified-id=\"Question-2b:-All-Shots-Scatter-Plot-+-Court-Outline-2.2\">Question 2b: All Shots Scatter Plot + Court Outline</a></span></li><li><span><a href=\"#Question-2c:-Analyzing-the-Visualization\" data-toc-modified-id=\"Question-2c:-Analyzing-the-Visualization-2.3\">Question 2c: Analyzing the Visualization</a></span></li><li><span><a href=\"#Question-2d:-A-Hexbin-plot\" data-toc-modified-id=\"Question-2d:-A-Hexbin-plot-2.4\">Question 2d: A Hexbin plot</a></span></li></ul></li><li><span><a href=\"#Question-3:-Binning-and-Smoothing-Shots\" data-toc-modified-id=\"Question-3:-Binning-and-Smoothing-Shots-3\">Question 3: Binning and Smoothing Shots</a></span><ul class=\"toc-item\"><li><span><a href=\"#Question-3a:-2D-Smoothing\" data-toc-modified-id=\"Question-3a:-2D-Smoothing-3.1\">Question 3a: 2D Smoothing</a></span></li><li><span><a href=\"#Question-3b:-Visualize-the-binning-on-curry_data\" data-toc-modified-id=\"Question-3b:-Visualize-the-binning-on-curry_data-3.2\">Question 3b: Visualize the binning on <code>curry_data</code></a></span></li><li><span><a href=\"#Vectorize-Shot-Images\" data-toc-modified-id=\"Vectorize-Shot-Images-3.3\">Vectorize Shot Images</a></span></li></ul></li><li><span><a href=\"#Question-4:-Non-negative-Matrix-Factorization-(NMF)\" data-toc-modified-id=\"Question-4:-Non-negative-Matrix-Factorization-(NMF)-4\">Question 4: Non-negative Matrix Factorization (NMF)</a></span><ul class=\"toc-item\"><li><ul class=\"toc-item\"><li><span><a href=\"#The-data-matrix-$X$\" data-toc-modified-id=\"The-data-matrix-$X$-4.0.1\">The data matrix $X$</a></span></li><li><span><a href=\"#Bases-matrix:-$W$\" data-toc-modified-id=\"Bases-matrix:-$W$-4.0.2\">Bases matrix: $W$</a></span></li><li><span><a href=\"#Coefficient-matrix:-H\" data-toc-modified-id=\"Coefficient-matrix:-H-4.0.3\">Coefficient matrix: H</a></span></li></ul></li><li><span><a href=\"#Question-4a:-Computing-NMF-Factorization\" data-toc-modified-id=\"Question-4a:-Computing-NMF-Factorization-4.1\">Question 4a: Computing NMF Factorization</a></span></li><li><span><a href=\"#Question-4b:-Visualizing-Shot-Types\" data-toc-modified-id=\"Question-4b:-Visualizing-Shot-Types-4.2\">Question 4b: Visualizing Shot Types</a></span></li><li><span><a href=\"#Question-4c:-Reconstruction-Error\" data-toc-modified-id=\"Question-4c:-Reconstruction-Error-4.3\">Question 4c: Reconstruction Error</a></span></li><li><span><a href=\"#Question-4d:-Choice-of-Colormap\" data-toc-modified-id=\"Question-4d:-Choice-of-Colormap-4.4\">Question 4d: Choice of Colormap</a></span></li><li><span><a href=\"#Question-4e:-More-Detailed-Modeling\" data-toc-modified-id=\"Question-4e:-More-Detailed-Modeling-4.5\">Question 4e: More Detailed Modeling</a></span></li><li><span><a href=\"#Question-4f:-Comparing-Players\" data-toc-modified-id=\"Question-4f:-Comparing-Players-4.6\">Question 4f: Comparing Players</a></span></li><li><span><a href=\"#Question-4g:-Residuals\" data-toc-modified-id=\"Question-4g:-Residuals-4.7\">Question 4g: Residuals</a></span></li><li><span><a href=\"#Question-4h:-Proposing-improvements\" data-toc-modified-id=\"Question-4h:-Proposing-improvements-4.8\">Question 4h: Proposing improvements</a></span></li></ul></li></ul></div>"
   ]
  },
  {
   "cell_type": "markdown",
   "metadata": {
    "hideCode": false,
    "hidePrompt": false
   },
   "source": [
    "# Assignment 3: Exploratory Data Analysis in Professional Basketball\n",
    "\n",
    "In this assignment we'll conduct an exploratory data analysis of professional basketball data.  Basketball is a team sport in which the goal is to try to outscore the amount in a fixed amount of time. Points are scored (either 2 or 3 points) by putting the ball throw a hoop on one end of the court.  An attempt at putting the ball throw the hoop is known as a \"shot\".  If helpful, you can read more about [the rules of basketball](https://en.wikipedia.org/wiki/Rules_of_basketball).\n",
    "\n",
    "The National Basketball Association (NBA) is the professional basketball league in the United States and provides a nice website with many statistics gathered on teams and players in the league: [http://stat.nba.com](http://stat.nba.com). "
   ]
  },
  {
   "cell_type": "markdown",
   "metadata": {
    "hideCode": false,
    "hidePrompt": false
   },
   "source": [
    "## Question 1: Managing data files\n",
    "\n",
    "We will use data that is available from NBA. Although NBA doesn't officially make the data API (application programming interface) public, people have figured out ways to access their data programmatically ([1](https://datavizardry.com/2020/01/28/nba-shot-charts-part-1/), [2](https://github.com/swar/nba_api), [3](https://github.com/seemethere/nba_py/wiki/stats.nba.com-Endpoint-Documentation)). While these approaches will work when python is installed and running on your computer, NBA seems to block (pun intended) connections from Google Cloud where our course JupyterHub is running.\n",
    "\n",
    "Therefore, in this assignment, the raw data downloads are provided to you in a zip file: https://ucsb.box.com/shared/static/z6y3etgikbzbnf0ld4brvc95xtgjcrie.zip\n",
    "\n",
    "Download and unzip the file to a directory named `data` using command line commands (unzipping on Windows and Mac may not work because different OS have different constraints on filename lengths, etc.). Adding exclamation point in Jupyter notebook cell indicates that `bash` shell interpreter will execute your command.\n",
    "```bash\n",
    "wget -nc https://ucsb.box.com/shared/static/z6y3etgikbzbnf0ld4brvc95xtgjcrie.zip -O nba-data.zip\n",
    "unzip -o nba-data.zip -d data\n",
    "```\n",
    "What these commands are doing:\n",
    "* `wget` downloads files ([what do each of the pieces do?](https://explainshell.com/explain?cmd=wget+-nc+https%3A%2F%2Fucsb.box.com%2Fshared%2Fstatic%2F940qiuxyp798gv4nx8iwvazu9qqjs37e.zip+-O+nba-data.zip))\n",
    "* `unzip` will unzip `nba-data.zip` into directory named `data` (specified by `-d data`) and will overwrite any same filenames when extracting (specified by `-o`).\n",
    "Following screencast videos show the terminal vs. Jupyter notebook's `!` exclamation way of running command line commands."
   ]
  },
  {
   "cell_type": "code",
   "execution_count": 1,
   "metadata": {
    "scrolled": false
   },
   "outputs": [],
   "source": [
    "%%HTML\n",
    "<table>\n",
    "    <tr>\n",
    "    <td><div align=\"middle\">\n",
    "    <video width=\"80%\" controls>\n",
    "          <source src=\"media/cli-part-1.mp4\" type=\"video/mp4\">\n",
    "    </video></div></td>\n",
    "    </tr>\n",
    "    <tr>\n",
    "    <td><div align=\"middle\">\n",
    "    <video width=\"80%\" controls>\n",
    "          <source src=\"media/cli-part-2.mp4\" type=\"video/mp4\">\n",
    "    </video></div></td>\n",
    "    </tr>\n",
    "</table>"
   ]
  },
  {
   "cell_type": "code",
   "execution_count": 2,
   "metadata": {},
   "outputs": [],
   "source": [
    "# Run your commands in this cell"
   ]
  },
  {
   "cell_type": "markdown",
   "metadata": {
    "hideCode": false,
    "hidePrompt": false
   },
   "source": [
    "After unzipping the files, you will find three types of files in `data/` directory:\n",
    "\n",
    "* Team data: `commonTeamYears?LeagueID=00&Season=2018-19`\n",
    "* Player data: `commonallplayers?LeagueID=00&Season=2018-19&IsOnlyCurrentSeason=0`\n",
    "* Player's shot data: `shotchartdetail?PlayerID=[PlayerID]&PlayerPosition=&Season=2018-19&ContextMeasure=FGA&DateFrom=&DateTo=&GameID=&GameSegment=&LastNGames=0&LeagueID=00&Location=&Month=0&OpponentTeamID=0&Outcome=&Period=0&Position=&RookieYear=&SeasonSegment=&`\n",
    "\n",
    "Each player's shot data is identified by replacing `[PlayerID]` with their numeric ID.\n",
    "\n",
    "Here is how we will read in the data:\n",
    "* Each data file contains text in [JSON (Javascript Object Notation) format](https://www.w3schools.com/python/python_json.asp).\n",
    "* First, read the data content as text (using [Path.read_text()](https://docs.python.org/3/library/pathlib.html#pathlib.Path.read_text) from `pathlib` module)\n",
    "* Second, we convert it to a Python dictionary format (using [json.loads()](https://docs.python.org/3/library/json.html#json.loads) in `json` module)\n",
    "* Third, identify DataFrame content \n",
    "* Fourth, identify DataFrame header\n",
    "* Fifth, assemble DataFrame\n",
    "\n",
    "Another way to unzip a file is using `zipfile`."
   ]
  },
  {
   "cell_type": "code",
   "execution_count": 3,
   "metadata": {},
   "outputs": [],
   "source": [
    "import zipfile\n",
    "with zipfile.ZipFile('nba-data.zip', 'r') as zip_ref:\n",
    "    zip_ref.extractall('data')"
   ]
  },
  {
   "cell_type": "markdown",
   "metadata": {
    "hideCode": false,
    "hidePrompt": false
   },
   "source": [
    "### Question 1a: Team Data\n",
    "\n",
    "Read team data file into a pandas data frame named `allteams` starting from the given code below."
   ]
  },
  {
   "cell_type": "code",
   "execution_count": 4,
   "metadata": {},
   "outputs": [],
   "source": [
    "from pathlib import Path\n",
    "import json\n",
    "import pandas as pd\n",
    "import numpy as np\n",
    "\n",
    "fname  = 'data/commonTeamYears?LeagueID=00&Season=2018-19' # directory_name/file_name\n",
    "step_1 = Path(fname).read_text()              # str\n",
    "step_2 = json.loads(step_1)                   # dict\n",
    "step_3 = step_2['resultSets'][0]['rowSet']    # list \n",
    "step_4 = step_2['resultSets'][0]['headers']   # list"
   ]
  },
  {
   "cell_type": "code",
   "execution_count": 5,
   "metadata": {},
   "outputs": [],
   "source": [
    "# print out each of step_1 through step_4 and understand what each line does"
   ]
  },
  {
   "cell_type": "markdown",
   "metadata": {
    "deletable": false,
    "editable": false,
    "hideCode": false,
    "hidePrompt": false
   },
   "source": [
    "Use variables constructed above to assemble `allteams` DataFrame.\n",
    "\n",
    "Drop any teams that no longer exist as of 2019. These teams show None in `ABBREVIATION` column.\n",
    "\n",
    "<!--\n",
    "BEGIN QUESTION\n",
    "name: q1a\n",
    "manual: false\n",
    "points: 3\n",
    "-->"
   ]
  },
  {
   "cell_type": "code",
   "execution_count": 6,
   "metadata": {},
   "outputs": [],
   "source": [
    "allteams = ..."
   ]
  },
  {
   "cell_type": "code",
   "execution_count": null,
   "id": "f89d6f90",
   "metadata": {
    "deletable": false,
    "editable": false
   },
   "outputs": [],
   "source": [
    "grader.check(\"q1a\")"
   ]
  },
  {
   "cell_type": "markdown",
   "metadata": {
    "deletable": false,
    "editable": false,
    "hideCode": false,
    "hidePrompt": false
   },
   "source": [
    "### Question 1b: Player Data\n",
    "\n",
    "`pathlib` has flexible ways to specify file and directory paths. For example, the following are equivalent:\n",
    "\n",
    "* `Path('data/commonallplayers?LeagueID=00&Season=2018-19&IsOnlyCurrentSeason=0')`\n",
    "* `Path('data') / 'commonallplayers?LeagueID=00&Season=2018-19&IsOnlyCurrentSeason=0')`\n",
    "* `Path('data').joinpath('commonallplayers?LeagueID=00&Season=2018-19&IsOnlyCurrentSeason=0')`\n",
    "\n",
    "Read players data file with name `data/commonallplayers?LeagueID=00&Season=2018-19&IsOnlyCurrentSeason=0`. \n",
    "Assemble pandas DataFrame with name `allplayers`. Set row index to be `PERSON_ID` and `sort_index`.\n",
    "\n",
    "<!--\n",
    "BEGIN QUESTION\n",
    "name: q1b\n",
    "manual: false\n",
    "points: 3\n",
    "-->"
   ]
  },
  {
   "cell_type": "code",
   "execution_count": 10,
   "metadata": {
    "hideCode": false,
    "hidePrompt": false
   },
   "outputs": [],
   "source": [
    "dirname  = 'data' # directory_name\n",
    "filename = 'commonallplayers?LeagueID=00&Season=2018-19&IsOnlyCurrentSeason=0' # file_name\n",
    "step_1 = ...\n",
    "...\n",
    "allplayers = ..."
   ]
  },
  {
   "cell_type": "code",
   "execution_count": null,
   "id": "321d91df",
   "metadata": {
    "deletable": false,
    "editable": false
   },
   "outputs": [],
   "source": [
    "grader.check(\"q1b\")"
   ]
  },
  {
   "cell_type": "markdown",
   "metadata": {
    "hideCode": false,
    "hidePrompt": false
   },
   "source": [
    "### Question 1c: Shots Data\n",
    "\n",
    "`pathlib` can also find all filenames that match a given pattern using [`Path.glob()` method](https://docs.python.org/3/library/pathlib.html#pathlib.Path.glob).\n",
    "\n",
    "For example, teams data and players data start with the pattern `common` followed by a wildcard `*`: `common*`. \n",
    "\n",
    "We can use this to retrieve two file names with one call:"
   ]
  },
  {
   "cell_type": "code",
   "execution_count": 16,
   "metadata": {},
   "outputs": [],
   "source": [
    "two_files = Path('data').glob('common*') # generator: https://www.educative.io/edpresso/generator-vs-iterator-in-python\n",
    "list(two_files)                          # list"
   ]
  },
  {
   "cell_type": "markdown",
   "metadata": {
    "deletable": false,
    "editable": false,
    "hideCode": false,
    "hidePrompt": false
   },
   "source": [
    "All file names for shots data start with `shotchartdetail`. \n",
    "\n",
    "Use this as the pattern to \n",
    "* First, read all file names into `allshots_files`\n",
    "* Second, loop over each file in `allshots_files` and assemble a dataframe\n",
    "* Third, add as an element in a list named `allshots_list` (each file is an data frame item in the list). \n",
    "* Fourth, concatenate all dataframes into one dataframe named `allshots`. Set the row index to be `PLAYER_ID` and `sort_index`.\n",
    "\n",
    "<!--\n",
    "BEGIN QUESTION\n",
    "name: q1c\n",
    "manual: false\n",
    "points: 4\n",
    "-->"
   ]
  },
  {
   "cell_type": "code",
   "execution_count": 17,
   "metadata": {
    "hideCode": false,
    "hidePrompt": false
   },
   "outputs": [],
   "source": [
    "allshots_files = ...\n",
    "allshots_files.sort()\n",
    "allshots_list  = list()\n",
    "\n",
    "for f in allshots_files:\n",
    "    ...\n",
    "\n",
    "allshots = ..."
   ]
  },
  {
   "cell_type": "code",
   "execution_count": null,
   "id": "ff2ea700",
   "metadata": {
    "deletable": false,
    "editable": false
   },
   "outputs": [],
   "source": [
    "grader.check(\"q1c\")"
   ]
  },
  {
   "cell_type": "markdown",
   "metadata": {
    "deletable": false,
    "editable": false,
    "hideCode": false,
    "hidePrompt": false
   },
   "source": [
    "### Question 1d: Extract Stephen Curry's Shot Data\n",
    "\n",
    "Use [`allplayers.query()`](https://pandas.pydata.org/pandas-docs/stable/reference/api/pandas.DataFrame.query.html) to find the player id (index) associated with the player named \"[Stephen Curry](https://en.wikipedia.org/wiki/Stephen_Curry)\".  Set the value of `PlayerID` as `curry_id` of type `str`. \n",
    "\n",
    "Subset all of Stephen Curry's shots in a data frame named `curry_data`. Also, set the dtype of `SHOT_MADE_FLAG` to `'bool'` in one command. Something like:  \n",
    "```\n",
    "curry_data = allshots.query(???).astype(????)\n",
    "```\n",
    "\n",
    "<!--\n",
    "BEGIN QUESTION\n",
    "name: q1d\n",
    "manual: false\n",
    "points: 6\n",
    "-->"
   ]
  },
  {
   "cell_type": "code",
   "execution_count": 25,
   "metadata": {},
   "outputs": [],
   "source": [
    "# fill-in all ...\n",
    "query_str = '... == \"Stephen Curry\"'\n",
    "curry_id = str(allplayers.query(...).index.values[...])\n",
    "curry_data = allshots.query('PLAYER_ID == ' + curry_id).astype({... : ...})\n",
    "..."
   ]
  },
  {
   "cell_type": "code",
   "execution_count": null,
   "id": "b0247e48",
   "metadata": {
    "deletable": false,
    "editable": false
   },
   "outputs": [],
   "source": [
    "grader.check(\"q1d\")"
   ]
  },
  {
   "cell_type": "markdown",
   "metadata": {
    "hideCode": false,
    "hidePrompt": false
   },
   "source": [
    "## Question 2: Visualization"
   ]
  },
  {
   "cell_type": "markdown",
   "metadata": {
    "hideCode": false,
    "hidePrompt": false
   },
   "source": [
    "### Question 2a: All Shots Scatter Plot\n",
    "Use `seaborn` to create scatter plot of the location of Stephen Curry's shot attempts from this year (`LOC_X` and `LOC_Y`).  When you call a scatterplot, seaborn returns a figure in an object, we'll call it `ax`.  We can set properties of the figure by calling methods on `ax`.  Use this approach to set the x-axis limits to span (-300, 300), the y-axis limits to span (-100, 500)."
   ]
  },
  {
   "cell_type": "code",
   "execution_count": 31,
   "metadata": {
    "hideCode": false,
    "hidePrompt": false
   },
   "outputs": [],
   "source": [
    "%matplotlib inline\n",
    "import matplotlib.pyplot as plt\n",
    "import seaborn as sns\n",
    "\n",
    "plt.figure(figsize=[12, 11])\n",
    "ax2a = ...\n",
    "\n",
    "# Set x/y limits and labels\n",
    "...\n",
    "plt.show()"
   ]
  },
  {
   "cell_type": "code",
   "execution_count": null,
   "id": "7d2fb765",
   "metadata": {
    "deletable": false,
    "editable": false
   },
   "outputs": [],
   "source": [
    "grader.check(\"q2a\")"
   ]
  },
  {
   "cell_type": "markdown",
   "metadata": {
    "hideCode": false,
    "hidePrompt": false
   },
   "source": [
    "Understanding any dataset is difficult without context.  Lets add some important context by adding the relevant court lines into our diagram.  If you are interested, you can read more about the lines and dimensions on the [NBA basketball court](https://en.wikipedia.org/wiki/Basketball_court).  We will use code from [http://savvastjortjoglou.com/nba-shot-sharts.html](http://savvastjortjoglou.com/nba-shot-sharts.html) to add the court markings to our diagram.  The `draw_court` function below will do this for us.  The below cell will generate an example court."
   ]
  },
  {
   "cell_type": "code",
   "execution_count": 34,
   "metadata": {
    "hideCode": false,
    "hidePrompt": false
   },
   "outputs": [],
   "source": [
    "## code is from http://savvastjortjoglou.com/nba-shot-sharts.html\n",
    "def draw_court(ax=None, color='black', lw=1, outer_lines=False):\n",
    "    \n",
    "    from matplotlib.patches import Circle, Rectangle, Arc\n",
    "    from matplotlib.pyplot import gca\n",
    "    \n",
    "    # If an axes object isn't provided to plot onto, just get current one\n",
    "    if ax is None:\n",
    "        ax = gca()\n",
    "\n",
    "    # Create the various parts of an NBA basketball court\n",
    "\n",
    "    # Create the basketball hoop\n",
    "    # Diameter of a hoop is 18\" so it has a radius of 9\", which is a value\n",
    "    # 7.5 in our coordinate system\n",
    "    hoop = Circle((0, 0), radius=7.5, linewidth=lw, color=color, fill=False)\n",
    "\n",
    "    # Create backboard\n",
    "    backboard = Rectangle((-30, -7.5), 60, 0, linewidth=lw, color=color)\n",
    "\n",
    "    # The paint\n",
    "    # Create the outer box 0f the paint, width=16ft, height=19ft\n",
    "    outer_box = Rectangle((-80, -47.5), 160, 190, linewidth=lw, color=color,\n",
    "                          fill=False)\n",
    "    # Create the inner box of the paint, widt=12ft, height=19ft\n",
    "    inner_box = Rectangle((-60, -47.5), 120, 190, linewidth=lw, color=color,\n",
    "                          fill=False)\n",
    "\n",
    "    # Create free throw top arc\n",
    "    top_free_throw = Arc((0, 142.5), 120, 120, theta1=0, theta2=180,\n",
    "                         linewidth=lw, color=color, fill=False)\n",
    "    # Create free throw bottom arc\n",
    "    bottom_free_throw = Arc((0, 142.5), 120, 120, theta1=180, theta2=0,\n",
    "                            linewidth=lw, color=color, linestyle='dashed')\n",
    "    # Restricted Zone, it is an arc with 4ft radius from center of the hoop\n",
    "    restricted = Arc((0, 0), 80, 80, theta1=0, theta2=180, linewidth=lw,\n",
    "                     color=color)\n",
    "\n",
    "    # Three point line\n",
    "    # Create the side 3pt lines, they are 14ft long before they begin to arc\n",
    "    corner_three_a = Rectangle((-219, -47.5), 0, 140, linewidth=lw,\n",
    "                               color=color)\n",
    "    corner_three_b = Rectangle((219, -47.5), 0, 140, linewidth=lw, color=color)\n",
    "    # 3pt arc - center of arc will be the hoop, arc is 23'9\" away from hoop\n",
    "    # I just played around with the theta values until they lined up with the \n",
    "    # threes\n",
    "    three_arc = Arc((0, 0), 475, 475, theta1=22.5, theta2=157.5, linewidth=lw,\n",
    "                    color=color)\n",
    "\n",
    "    # Center Court\n",
    "    center_outer_arc = Arc((0, 422.5), 120, 120, theta1=180, theta2=0,\n",
    "                           linewidth=lw, color=color)\n",
    "    center_inner_arc = Arc((0, 422.5), 40, 40, theta1=180, theta2=0,\n",
    "                           linewidth=lw, color=color)\n",
    "\n",
    "    # List of the court elements to be plotted onto the axes\n",
    "    court_elements = [hoop, backboard, outer_box, inner_box, top_free_throw,\n",
    "                      bottom_free_throw, restricted, corner_three_a,\n",
    "                      corner_three_b, three_arc, center_outer_arc,\n",
    "                      center_inner_arc]\n",
    "\n",
    "    if outer_lines:\n",
    "        # Draw the half court line, baseline and side out bound lines\n",
    "        outer_lines = Rectangle((-250, -47.5), 500, 470, linewidth=lw,\n",
    "                                color=color, fill=False)\n",
    "        court_elements.append(outer_lines)\n",
    "\n",
    "    # Add the court elements onto the axes\n",
    "    for element in court_elements:\n",
    "        ax.add_patch(element)\n",
    "\n",
    "    return ax\n",
    "\n",
    "plt.figure(figsize=(12,11))\n",
    "draw_court(outer_lines=True)\n",
    "plt.xlim(-300,300)\n",
    "plt.ylim(-100,500)\n",
    "plt.show()"
   ]
  },
  {
   "cell_type": "markdown",
   "metadata": {
    "deletable": false,
    "editable": false,
    "hideCode": false,
    "hidePrompt": false
   },
   "source": [
    "<!-- BEGIN QUESTION -->\n",
    "\n",
    "### Question 2b: All Shots Scatter Plot + Court Outline\n",
    "\n",
    "Again use seaborn to make a scatter plot of Stephen Curry's shots. Again, set the x-axis limits to span (-300, 300), the y-axis limits to span (-100, 500) color the points by whether the shot was made or missed.  Set the missed shots to have an 'x' symbol and made shots to be a circular symbol. Call the `draw_court` function with `outer_lines` set to to be true. Save the `Axes` returned by the plot call in a variable called `ax`.\n",
    "\n",
    "<!--\n",
    "BEGIN QUESTION\n",
    "name: q2b1\n",
    "manual: true\n",
    "points: 4\n",
    "-->"
   ]
  },
  {
   "cell_type": "code",
   "execution_count": 35,
   "metadata": {
    "hideCode": false,
    "hidePrompt": false
   },
   "outputs": [],
   "source": [
    "plt.figure(figsize=(12, 11))\n",
    "markers = {0 : \"X\", 1 : \"o\"}\n",
    "ax = ...\n",
    "\n",
    "...\n",
    "plt.show()"
   ]
  },
  {
   "cell_type": "markdown",
   "metadata": {
    "deletable": false,
    "editable": false,
    "hideCode": false,
    "hidePrompt": false
   },
   "source": [
    "<!-- END QUESTION -->\n",
    "\n",
    "<!-- BEGIN QUESTION -->\n",
    "\n",
    "### Question 2c: Analyzing the Visualization\n",
    "<!--\n",
    "BEGIN QUESTION\n",
    "name: q2c\n",
    "manual: true\n",
    "points: 4\n",
    "-->\n",
    "\n",
    "In a few sentences, discuss what makes this an effective or ineffective visualization for understanding the types of shots that Stephen Curry likes to take and is good at taking, relative to other players in the league.  Are there ways it can be improved?"
   ]
  },
  {
   "cell_type": "markdown",
   "id": "4f2e6729",
   "metadata": {},
   "source": [
    "_Type your answer here, replacing this text._"
   ]
  },
  {
   "cell_type": "markdown",
   "metadata": {
    "hideCode": false,
    "hidePrompt": false
   },
   "source": [
    "<!-- END QUESTION -->\n",
    "\n",
    "\n",
    "\n",
    "### Question 2d: A Hexbin plot\n",
    "\n",
    "Visualize Stephen Curry's shots by using a [hexbin plot with marginal histograms](https://seaborn.pydata.org/examples/hexbin_marginals.html). Also refer to setting [figure aesthetics](https://seaborn.pydata.org/tutorial/aesthetics.html) for what commands below do."
   ]
  },
  {
   "cell_type": "code",
   "execution_count": 36,
   "metadata": {},
   "outputs": [],
   "source": [
    "curry_data.reset_index()"
   ]
  },
  {
   "cell_type": "code",
   "execution_count": 37,
   "metadata": {
    "hideCode": false,
    "hidePrompt": false
   },
   "outputs": [],
   "source": [
    "sns.set_style(\"white\")\n",
    "joint_shot_chart = ...\n",
    "joint_shot_chart.fig.set_size_inches(12,11)\n",
    "\n",
    "# A joint plot has 3 Axes, the first one called ax_joint \n",
    "# is the one we want to draw our court onto and adjust some other settings\n",
    "ax = joint_shot_chart.ax_joint\n",
    "draw_court(ax, outer_lines=True)\n",
    "\n",
    "# Adjust the axis limits and orientation of the plot in order\n",
    "# to plot half court, with the hoop by the top of the plot\n",
    "ax.set_xlim(-300, 300)\n",
    "ax.set_ylim(500, -100)\n",
    "\n",
    "# Get rid of axis labels and tick marks\n",
    "ax.set_xlabel('')\n",
    "ax.set_ylabel('')\n",
    "ax.tick_params(labelbottom=False, labelleft=False)\n",
    "\n",
    "# Add a title\n",
    "ax.set_title('Stephen Curry, 2018-19, FGA', \n",
    "             y=1.2, fontsize=10)\n",
    "\n",
    "# Add Data Scource and Author\n",
    "ax.text(-250,445,'\\n This plot is based on code by Savvas Tjortjoglou (savvastjortjoglou.com)',\n",
    "        fontsize=12);"
   ]
  },
  {
   "cell_type": "markdown",
   "metadata": {
    "hideCode": false,
    "hidePrompt": false
   },
   "source": [
    "## Question 3: Binning and Smoothing Shots\n",
    "\n",
    "So far, in we have worked with dataframes which represent each shot as a single observation (row) within the dataset.  However, this isn't a convenient data structure for the kinds of spatial analyses we will pursue below.\n",
    "\n",
    "In this part, we will divide the court into square regions and create a matrix which includes the number of shots taken by a player in that region.  We divide the court up into square bins (i.e. a 2d histogram) and, for each player, count number of shots that fall into each bin. Fortunately, this function is relatively simple to write using `numpy` module. "
   ]
  },
  {
   "cell_type": "markdown",
   "metadata": {
    "deletable": false,
    "editable": false,
    "hideCode": false,
    "hidePrompt": false
   },
   "source": [
    "### Question 3a: 2D Smoothing\n",
    "\n",
    "Fill in the `bin_shots` function below. Use `np.histgram2d` to count count the shots in each bin.  The bins are defined `bin_edges` which is a pandas Series of the form `(xedges, yedges)`.  If `density = True`, call `ndimage.filters.gaussian_filter` on the result of `np.histogram2d` with smoothing parameter `sigma`.  This will create a smoothed version of the raw data histograms.\n",
    "\n",
    "<!--\n",
    "BEGIN QUESTION\n",
    "name: q3a\n",
    "manual: false\n",
    "points: 2\n",
    "-->"
   ]
  },
  {
   "cell_type": "code",
   "execution_count": 38,
   "metadata": {
    "hideCode": false,
    "hidePrompt": false
   },
   "outputs": [],
   "source": [
    "def bin_shots(df, bin_edges, density=False, sigma=1):\n",
    "    \n",
    "    \"\"\"Given data frame of shots, compute a 2d matrix of binned counts is computed\n",
    "    \n",
    "    Args:\n",
    "        df: data frame of shotchartdetail from nba.com. \n",
    "            At the minimum, variables named LOCX and LOCY are required.\n",
    "        bin_edges: bin edge definition: edges in x and edges in y\n",
    "    \n",
    "    Returns:\n",
    "        binned: counts\n",
    "        xedges: bin edges in X direction\n",
    "        yedges: bin edges in Y direction\n",
    "    \"\"\"\n",
    "    import numpy as np\n",
    "    from scipy import ndimage\n",
    "    \n",
    "    ## Call np.histogram2d\n",
    "    ...\n",
    "    \n",
    "    if density:\n",
    "\n",
    "        # Recompute 'binned' using \"gaussian_filter\"\n",
    "        binned = ...\n",
    "        \n",
    "        # Normalize the histogram to be a \"density\", e.g. mass across all bins sums to 1.\n",
    "        binned /= np.sum(binned)\n",
    "    \n",
    "    return(binned, xedges, yedges)\n"
   ]
  },
  {
   "cell_type": "code",
   "execution_count": null,
   "id": "2d88e1bd",
   "metadata": {
    "deletable": false,
    "editable": false
   },
   "outputs": [],
   "source": [
    "grader.check(\"q3a\")"
   ]
  },
  {
   "cell_type": "markdown",
   "metadata": {
    "hideCode": false,
    "hidePrompt": false
   },
   "source": [
    "### Question 3b: Visualize the binning on `curry_data`\n",
    "\n",
    "Call `bin_shots` on `curry_data` to create a binned but unsmoothed matrix of shot counts (call this `curry_binned_unsmoothed`), a binned and smoothed matrix of counts with `sigma=1` (call this `curry_binned_smoothed1`) and one with `sigma=5` (call this `curry_binned_smoothed5`). Use the bin edges defined below:"
   ]
  },
  {
   "cell_type": "code",
   "execution_count": 43,
   "metadata": {
    "hideCode": false,
    "hidePrompt": false
   },
   "outputs": [],
   "source": [
    "## bin edge definitions in inches\n",
    "xedges = np.linspace(start=-300, stop=300, num=151)\n",
    "yedges = np.linspace(start=-48, stop=372, num=106)"
   ]
  },
  {
   "cell_type": "code",
   "execution_count": 44,
   "metadata": {
    "hideCode": false,
    "hidePrompt": false
   },
   "outputs": [],
   "source": [
    "bin_edges = (xedges, yedges)\n",
    "\n",
    "# curry_binned_unsmoothed, xe, ye = ... \n",
    "# curry_binned_smoothed1,  xe, ye = ... \n",
    "# curry_binned_smoothed5,  xe, ye = ... \n",
    "..."
   ]
  },
  {
   "cell_type": "markdown",
   "metadata": {
    "hideCode": false,
    "hidePrompt": false
   },
   "source": [
    "The function below can be used to visualize the shots as a heatmap:"
   ]
  },
  {
   "cell_type": "code",
   "execution_count": 45,
   "metadata": {
    "hideCode": false,
    "hidePrompt": false
   },
   "outputs": [],
   "source": [
    "def plot_shotchart(binned_counts, xedges, yedges, ax=None, use_log=False, cmap = 'Reds'):\n",
    "    \n",
    "    \"\"\"Plots 2d heatmap from vectorized heatmap counts\n",
    "    \n",
    "    Args:\n",
    "        hist_counts: vectorized output of numpy.histogram2d\n",
    "        xedges, yedges: bin edges in arrays\n",
    "        ax: figure axes [None]\n",
    "        use_log: will convert count x to log(x+1) to increase visibility [False]\n",
    "        cmap: Set the color map https://matplotlib.org/examples/color/colormaps_reference.html\n",
    "    Returns:\n",
    "        ax: axes with plot\n",
    "    \"\"\"\n",
    "    \n",
    "    import numpy as np\n",
    "    import matplotlib.pyplot as plt\n",
    "    \n",
    "    ## number of x and y bins.  \n",
    "    nx = xedges.size - 1\n",
    "    ny = yedges.size - 1\n",
    "\n",
    "    X, Y = np.meshgrid(xedges, yedges)\n",
    "    \n",
    "    if use_log:\n",
    "        counts = np.log(binned_counts + 1)\n",
    "        \n",
    "    if ax is None:\n",
    "        fig, ax = plt.subplots(1,1)\n",
    "    \n",
    "    ax.pcolormesh(X, Y, binned_counts.T, cmap=cmap) \n",
    "    ax.set_aspect('equal')\n",
    "    \n",
    "    draw_court(ax)\n",
    "    \n",
    "    return(ax)"
   ]
  },
  {
   "cell_type": "markdown",
   "metadata": {
    "hideCode": false,
    "hidePrompt": false
   },
   "source": [
    "Create 3 side by side plots of `curry_binned_unsmoothed`, `curry_binned_smoothed1` and `curry_binned_smoothed5`"
   ]
  },
  {
   "cell_type": "markdown",
   "metadata": {
    "deletable": false,
    "editable": false,
    "hideCode": false,
    "hidePrompt": false
   },
   "source": [
    "<!-- BEGIN QUESTION -->\n",
    "\n",
    "<!--\n",
    "BEGIN QUESTION\n",
    "name: q3b\n",
    "manual: true\n",
    "points: 5\n",
    "-->"
   ]
  },
  {
   "cell_type": "code",
   "execution_count": 46,
   "metadata": {
    "hideCode": false,
    "hidePrompt": false
   },
   "outputs": [],
   "source": [
    "fig, ax = plt.subplots(1, 3, figsize=(20,60))\n",
    "\n",
    "...\n",
    "fig.show()"
   ]
  },
  {
   "cell_type": "markdown",
   "metadata": {
    "hideCode": false,
    "hidePrompt": false
   },
   "source": [
    "<!-- END QUESTION -->\n",
    "\n",
    "\n",
    "\n",
    "### Vectorize Shot Images"
   ]
  },
  {
   "cell_type": "markdown",
   "metadata": {
    "hideCode": false,
    "hidePrompt": false
   },
   "source": [
    "- Here we proceed create a dictionary of smoothed patterns, each vectorized into a 1-d array (like Lab 6)\n",
    "- In this case, the object `all_smooth` is a dictionary that consists of arrays of length `15750`. \n",
    "- Each entry in `all_smooth` represents the smoothed frequency of shots along the bins generated in the code above for a given player."
   ]
  },
  {
   "cell_type": "code",
   "execution_count": 47,
   "metadata": {
    "hideCode": false,
    "hidePrompt": false
   },
   "outputs": [],
   "source": [
    "## number of bins is one less than number of edges (remember homework 1)\n",
    "nx = xedges.size - 1\n",
    "ny = yedges.size - 1\n",
    "\n",
    "## 2d histogram containers for binned counts and smoothed binned counts\n",
    "all_counts = []\n",
    "all_smooth = []\n",
    "pids = []\n",
    "\n",
    "## 2d histogram containers for binned counts and smoothed binned counts\n",
    "\n",
    "## data matrix: players (row) by vectorized 2-d court locations (column)\n",
    "for i, one in enumerate(allshots.groupby('PLAYER_ID')):\n",
    "    \n",
    "    ## what does this line do?\n",
    "    pid, pdf = one\n",
    "        \n",
    "    num_shots = len(pdf.index)\n",
    "    if(num_shots > 100): \n",
    "        \n",
    "        tmp1, xedges, yedges = bin_shots(pdf, bin_edges=(xedges, yedges), density=True, sigma=2)\n",
    "        tmp2, xedges, yedges = bin_shots(pdf, bin_edges=(xedges, yedges), density=False)\n",
    "    \n",
    "        ## vectorize and store into list\n",
    "        all_smooth += [tmp1.reshape(-1)]\n",
    "        all_counts += [tmp2.reshape(-1)]\n",
    "        pids += [pid]\n",
    "        \n",
    "X = np.vstack(all_smooth).T\n",
    "p, n = X.shape\n",
    "\n",
    "print('Number of shot regions (p):', p)\n",
    "print('Number of players (n):', n)"
   ]
  },
  {
   "cell_type": "markdown",
   "metadata": {
    "hideCode": false,
    "hidePrompt": false
   },
   "source": [
    "## Question 4: Non-negative Matrix Factorization (NMF) \n",
    "\n",
    "The non-negative matrix factorization is a dimension reduction technique that is often applied to image data.  It is similar to PCA except that is only applicable for strictly positive data.  We can apply the NMF to vectorized versions of the shot surface. This is useful because we can convert the observed matrix of shot surfaces into:\n",
    "* Bases: Identifying modes of shooting style (number of modes is determined by `n_components` argument to `NMF` function below)\n",
    "* Coefficients: How each players shooting style could be expressed as a (positive) linear combination of these bases\n",
    "\n",
    "The NMF solves the following problem: given some matrix $X$ is $p\\times n$ matrix, NMF computes the following factorization:\n",
    "$$ \\min_{W,H} \\| X - WH \\|_F\\\\\n",
    "\\text{ subject to } W\\geq 0,\\ H\\geq 0, $$\n",
    "where $W$ is ${p\\times r}$ matrix and $H$ is ${r\\times n}$ matrix.\n",
    "\n",
    "In this homework, we have the following:\n",
    " \n",
    "#### The data matrix $X$ \n",
    "$X$ is of dimension $n$={number of players} and $p$={number of total square bins on the court}. Each column corresponds to a player, with entries corresponding to a \"flattened\" or \"vectorized\" version of the 2d histograms plotted in part 4b.\n",
    "\n",
    "#### Bases matrix: $W$\n",
    "\n",
    "Columns $W_i$ contain the shot \"bases\". First, we will try it with $r=3$ bins in 5a, and then with $r=10$ bins in 5d.\n",
    "\n",
    "#### Coefficient matrix: H\n",
    "\n",
    "Each column of $H$ gives a coefficient for each of the bases vectors in $W$, and there are $n$ columns for each player.\n",
    "\n",
    "\n",
    "The `sklearn` library is one of the main Python machine learning libraries.  It has a built in NMF function for us.  The function below runs this function and normalizes the basis surfaces to sum to 1."
   ]
  },
  {
   "cell_type": "code",
   "execution_count": 48,
   "metadata": {
    "hideCode": false,
    "hidePrompt": false
   },
   "outputs": [],
   "source": [
    "## Non-negative Matrix Factorization\n",
    "def non_negative_marix_decomp(n_components, array_data):\n",
    "    import sklearn.decomposition as skld\n",
    "    model = skld.NMF(n_components=n_components, init='nndsvda', max_iter=500, random_state=0)\n",
    "    W = model.fit_transform(array_data)\n",
    "    \n",
    "    # Normalize basis vectors to sum to 1\n",
    "    Wsum = W.sum(axis=0)\n",
    "    W = W/Wsum\n",
    "    \n",
    "    ## fix H correspondingly\n",
    "    H = model.components_\n",
    "    H = (H.T * Wsum).T\n",
    "\n",
    "    nmf = (W, H)\n",
    "    return(nmf)"
   ]
  },
  {
   "cell_type": "markdown",
   "metadata": {
    "deletable": false,
    "editable": false,
    "hideCode": false,
    "hidePrompt": false
   },
   "source": [
    "### Question 4a: Computing NMF Factorization\n",
    "\n",
    "Compute the NMF on all player's shot charts, X, assuming with `n_components` = 3 (i.e. each shot chart can be represented as a positive linear combination of 3 \"basis\" shot charts).  Fill in `plot_vectorized_shot_chart`.  This takes a the a vector of binned shot counts, converts it back to a matrix of the appropriate size and then calls `plot_shotchart` on the matrix.  The numpy function `reshape` will be useful here: [https://docs.scipy.org/doc/numpy/reference/generated/numpy.reshape.html](https://docs.scipy.org/doc/numpy/reference/generated/numpy.reshape.html)\n",
    "\n",
    "<!--\n",
    "BEGIN QUESTION\n",
    "name: q4a\n",
    "manual: false\n",
    "points: 5\n",
    "-->"
   ]
  },
  {
   "cell_type": "code",
   "execution_count": 49,
   "metadata": {
    "hideCode": false,
    "hidePrompt": false
   },
   "outputs": [],
   "source": [
    "# W3, H3 = ..."
   ]
  },
  {
   "cell_type": "code",
   "execution_count": null,
   "id": "030cfaf3",
   "metadata": {
    "deletable": false,
    "editable": false
   },
   "outputs": [],
   "source": [
    "grader.check(\"q4a\")"
   ]
  },
  {
   "cell_type": "markdown",
   "metadata": {
    "deletable": false,
    "editable": false,
    "hideCode": false,
    "hidePrompt": false
   },
   "source": [
    "<!-- BEGIN QUESTION -->\n",
    "\n",
    "### Question 4b: Visualizing Shot Types\n",
    "\n",
    "Plot the first three basis images by calling `plot_vectorized_shot_chart` below on the columns of `W3`.\n",
    "\n",
    "<!--\n",
    "BEGIN QUESTION\n",
    "name: q4b\n",
    "manual: true\n",
    "points: 5\n",
    "-->"
   ]
  },
  {
   "cell_type": "code",
   "execution_count": 54,
   "metadata": {
    "hideCode": false,
    "hidePrompt": false
   },
   "outputs": [],
   "source": [
    "def plot_vectorized_shotchart(vec_counts, xedges, yedges, ax=None, use_log=False, cmap = 'Reds'):\n",
    "    \n",
    "    \"\"\"Plots 2d heatmap from vectorized heatmap counts\n",
    "    \n",
    "    Args:\n",
    "        hist_counts: vectorized output of numpy.histogram2d\n",
    "        xedges, yedges: bin edges in arrays\n",
    "        ax: figure axes [None]\n",
    "        use_log: will convert count x to log(x+1) to increase visibility [False]\n",
    "        cmap: Set the color map https://matplotlib.org/examples/color/colormaps_reference.html\n",
    "    Returns:\n",
    "        ax: axes with plot\n",
    "    \"\"\"\n",
    "\n",
    "    nx = ...\n",
    "    ny = ...\n",
    "    \n",
    "    # use reshape to convert a vectorized counts back into a 2d histogram\n",
    "    two_d_counts = ...\n",
    "    \n",
    "    return(plot_shotchart(two_d_counts, xedges, yedges, ax=ax, use_log=use_log, cmap=cmap))\n",
    "\n",
    "fig, ax = plt.subplots(1, 3, figsize=(20,60))\n",
    "\n",
    "## Write a for loop\n",
    "for i in range(3):\n",
    "    # Call plot_vectorized_shot_chart\n",
    "    ax[i].set_title('Shot Basis %i' % (i+1))"
   ]
  },
  {
   "cell_type": "markdown",
   "metadata": {
    "deletable": false,
    "editable": false,
    "hideCode": false,
    "hidePrompt": false
   },
   "source": [
    "<!-- END QUESTION -->\n",
    "\n",
    "<!-- BEGIN QUESTION -->\n",
    "\n",
    "### Question 4c: Reconstruction Error\n",
    "\n",
    "Below we re-construct the shooting pattern for a single player. By \"reconstructing\" we mean use the approximation $$\\hat{X} = WH$$ obtained via NMF.  Find $\\hat X$ by multipling W and H.  In python the `@` symbol is used for matrix multiplication.\n",
    "\n",
    "<!--\n",
    "BEGIN QUESTION\n",
    "name: q4c\n",
    "manual: true\n",
    "points: 5\n",
    "-->"
   ]
  },
  {
   "cell_type": "code",
   "execution_count": 55,
   "metadata": {
    "hideCode": false,
    "hidePrompt": false
   },
   "outputs": [],
   "source": [
    "X3_hat = ..."
   ]
  },
  {
   "cell_type": "markdown",
   "metadata": {
    "hideCode": false,
    "hidePrompt": false
   },
   "source": [
    "<!-- END QUESTION -->\n",
    "\n",
    "\n",
    "\n",
    "Plot $X$, $\\hat X$ and the residual ($X - \\hat X$) for the player named LaMarcus Aldridge. Remember, each column of $X$ is a vectorized matrix corresponding to the binned (or smoothed binned) shot information."
   ]
  },
  {
   "cell_type": "code",
   "execution_count": 56,
   "metadata": {
    "hideCode": false,
    "hidePrompt": false
   },
   "outputs": [],
   "source": [
    "# Find the player_id of LaMarcus Aldridge\n",
    "player_id = ...\n",
    "\n",
    "## find index in X corresponding to that player\n",
    "to_plot_idx = np.where(pids == player_id)[0][0]\n",
    "\n",
    "fig, ax = plt.subplots(1, 3, figsize=(20,60))\n",
    "\n",
    "## Call plot_vectorized_shot_chart\n",
    "original_shotchart = ...\n",
    "reconstructed_shotchart = ...\n",
    "residual_chart = ...\n",
    "\n",
    "# print(max(abs(X3_hat[:, to_plot_idx] - X[:, to_plot_idx])))\n",
    "ax[0].set_title('Original Shooting Pattern')\n",
    "ax[1].set_title('Reconstructed Shooting pattern (r=3)')\n",
    "ax[2].set_title('Residual Shooting Pattern (r=3)')\n",
    "fig.show()"
   ]
  },
  {
   "cell_type": "markdown",
   "metadata": {
    "deletable": false,
    "editable": false,
    "hideCode": false,
    "hidePrompt": false
   },
   "source": [
    "<!-- BEGIN QUESTION -->\n",
    "\n",
    "### Question 4d: Choice of Colormap\n",
    "\n",
    "Why does it make sense to use a _sequential_ palette for the original and reconstructed shot charts and a _diverging_ palette for the residual?  _Hint:_ Read the introduction to colormaps [here](https://matplotlib.org/users/colormaps.html). \n",
    "\n",
    "\n",
    "<!--\n",
    "BEGIN QUESTION\n",
    "name: q4d\n",
    "manual: true\n",
    "points: 3\n",
    "-->"
   ]
  },
  {
   "cell_type": "markdown",
   "id": "46816eb3",
   "metadata": {},
   "source": [
    "_Type your answer here, replacing this text._"
   ]
  },
  {
   "cell_type": "markdown",
   "metadata": {
    "hideCode": false,
    "hidePrompt": false
   },
   "source": [
    "<!-- END QUESTION -->\n",
    "\n",
    "\n",
    "\n",
    "What areas of the court does this player to shoot more and where less relative to the reconstructed area.  If its helpful, you can refer to court locations by name using this legend [here](https://en.wikipedia.org/wiki/Basketball_court#/media/File:Basketball_terms.png])."
   ]
  },
  {
   "cell_type": "markdown",
   "id": "ff507975",
   "metadata": {},
   "source": [
    "_Type your answer here, replacing this text._"
   ]
  },
  {
   "cell_type": "markdown",
   "metadata": {
    "deletable": false,
    "editable": false,
    "hideCode": false,
    "hidePrompt": false
   },
   "source": [
    "<!-- BEGIN QUESTION -->\n",
    "\n",
    "### Question 4e: More Detailed Modeling\n",
    "\n",
    "Re-run the analysis, this time for 10 basis vectors instead of 3.  Again plot the bases using `plot_vectorized_shotchart` on the columns of `W10`.\n",
    "\n",
    "**Hint**: Study the following code\n",
    "```\n",
    "fig, ax = plt.subplots(2, 5, figsize=(20, 7))\n",
    "ax = ax.flatten() # turn ax into a flat array\n",
    "ax[0].set_title('hello')\n",
    "ax[9].set_title('there')\n",
    "fig.show()\n",
    "```\n",
    "\n",
    "<!--\n",
    "BEGIN QUESTION\n",
    "name: q4e1\n",
    "manual: true\n",
    "points: 3\n",
    "-->"
   ]
  },
  {
   "cell_type": "code",
   "execution_count": 57,
   "metadata": {
    "hideCode": false,
    "hidePrompt": false
   },
   "outputs": [],
   "source": [
    "...\n",
    "\n",
    "fig, ax = plt.subplots(2, 5, figsize=(20, 7))\n",
    "\n",
    "## Write a for loop\n",
    "for i in range(10):\n",
    "    ...\n",
    "    ax[i//5, i % 5].set_title('Shot Basis %i' % (i+1))\n"
   ]
  },
  {
   "cell_type": "markdown",
   "metadata": {
    "deletable": false,
    "editable": false,
    "hideCode": false,
    "hidePrompt": false
   },
   "source": [
    "<!-- END QUESTION -->\n",
    "\n",
    "<!-- BEGIN QUESTION -->\n",
    "\n",
    "If you did things correctly, you should be really impressed! We've identified potentially interesting patterns of shooting styles without actually specifying anything about the way basketball is played or where the relevant lines are on the court.  The resulting images are based only on the actual behavior of the players.  Even more impressive is that we're capturing similarity in regions that are far apart on the court.  One reason we can do this is that a basketball court is symmetric along the length of the court (i.e. symmetric about x=0).  However, people tend to be left or right hand dominant, which might affect their preferences.  Look carefuly at the shot basis plots above: is there any evidence of _asymmetry_ in player shooting behavior?  Refer to specific basis images in your answer.    \n",
    "\n",
    "\n",
    "<!--\n",
    "BEGIN QUESTION\n",
    "name: q4e2\n",
    "manual: true\n",
    "points: 3\n",
    "-->"
   ]
  },
  {
   "cell_type": "markdown",
   "id": "5363d820",
   "metadata": {},
   "source": [
    "_Type your answer here, replacing this text._"
   ]
  },
  {
   "cell_type": "markdown",
   "metadata": {
    "deletable": false,
    "editable": false,
    "hideCode": false,
    "hidePrompt": false
   },
   "source": [
    "<!-- END QUESTION -->\n",
    "\n",
    "<!-- BEGIN QUESTION -->\n",
    "\n",
    "Repeat part 5b, and again plot original, reconstructed and residual shot chats for LaMarcus Aldridge.\n",
    "\n",
    "<!--\n",
    "BEGIN QUESTION\n",
    "name: q4e3\n",
    "manual: true\n",
    "points: 3\n",
    "-->"
   ]
  },
  {
   "cell_type": "code",
   "execution_count": 58,
   "metadata": {
    "hideCode": false,
    "hidePrompt": false
   },
   "outputs": [],
   "source": [
    "X10_hat = ...\n",
    "\n",
    "fig, ax = plt.subplots(1, 3, figsize=(20,60))\n",
    "\n",
    "# I took the first player appearing in first column \n",
    "# (you probably want to do more interesting players)\n",
    "original_shotchart = ...\n",
    "reconstructed_shotchart = ...\n",
    "residual_chart = ...\n",
    "\n",
    "ax[0].set_title('Original Shooting Pattern')\n",
    "ax[1].set_title('Reconstructed Shooting pattern (r=10)')\n",
    "ax[2].set_title('Residual Shooting Pattern (r=10)');"
   ]
  },
  {
   "cell_type": "markdown",
   "metadata": {
    "deletable": false,
    "editable": false
   },
   "source": [
    "<!-- END QUESTION -->\n",
    "\n",
    "<!-- BEGIN QUESTION -->\n",
    "\n",
    "### Question 4f: Comparing Players \n",
    "\n",
    "With `H10` matrix, it is possible to compare any pair of players. For all players pairwise, $i$ and $j$, compare using euclidean distance between their coefficients:\n",
    "\n",
    "$$ \\text{player-distance}(i,j) = \\| H_i - H_j \\|_2 = \\left(\\sum_{k=1}^{10} (H_{ki} - H_{kj})^2 \\right)^{1/2} $$\n",
    "\n",
    "Create a heatmap for comparing pair-wise player distance matrix. Find the two pairs of players with smallest distances. Also, find two pairs of players with largest distances.\n",
    "\n",
    "<!--\n",
    "BEGIN QUESTION\n",
    "name: q4f\n",
    "manual: true\n",
    "points: 10\n",
    "-->"
   ]
  },
  {
   "cell_type": "markdown",
   "id": "c48912e3",
   "metadata": {},
   "source": [
    "_Type your answer here, replacing this text._"
   ]
  },
  {
   "cell_type": "markdown",
   "metadata": {
    "deletable": false,
    "editable": false
   },
   "source": [
    "<!-- END QUESTION -->\n",
    "\n",
    "<!-- BEGIN QUESTION -->\n",
    "\n",
    "### Question 4g: Residuals\n",
    "\n",
    "The residual betwene `Xhat` and `X` gives a sense of how well a player is decribed by NMF computed matrices `W` and `H`. Calculate RMSE for each player, and plot the histogram. Comment on this distribution and players with smallest and largest RMSEs (use 10 components).\n",
    "\n",
    "<!--\n",
    "BEGIN QUESTION\n",
    "name: q4g\n",
    "manual: true\n",
    "points: 10\n",
    "-->"
   ]
  },
  {
   "cell_type": "markdown",
   "id": "15332cdb",
   "metadata": {},
   "source": [
    "_Type your answer here, replacing this text._"
   ]
  },
  {
   "cell_type": "markdown",
   "metadata": {
    "deletable": false,
    "editable": false,
    "hideCode": false,
    "hidePrompt": false
   },
   "source": [
    "<!-- END QUESTION -->\n",
    "\n",
    "<!-- BEGIN QUESTION -->\n",
    "\n",
    "### Question 4h: Proposing improvements\n",
    "\n",
    "One of the main purposes of exploratory data analysis is to generate new ideas, directions, and hypothesis for future analyses and experiments. Take two players of your choice and compare their shooting patterns with various visualizations.\n",
    "\n",
    "State any insights and defend your conclusions with visual and/or numerical comparisons.\n",
    "\n",
    "<!--\n",
    "BEGIN QUESTION\n",
    "name: q4h\n",
    "manual: true\n",
    "points: 10\n",
    "-->"
   ]
  },
  {
   "cell_type": "markdown",
   "id": "c0598af4",
   "metadata": {},
   "source": [
    "_Type your answer here, replacing this text._"
   ]
  },
  {
   "cell_type": "markdown",
   "metadata": {},
   "source": [
    "<!-- END QUESTION -->\n",
    "\n",
    "\n",
    "\n",
    "_Cell Intentionally Blank_"
   ]
  },
  {
   "cell_type": "markdown",
   "id": "e647a148",
   "metadata": {
    "deletable": false,
    "editable": false
   },
   "source": [
    "---\n",
    "\n",
    "To double-check your work, the cell below will rerun all of the autograder tests."
   ]
  },
  {
   "cell_type": "code",
   "execution_count": null,
   "id": "4e0c65ef",
   "metadata": {
    "deletable": false,
    "editable": false
   },
   "outputs": [],
   "source": [
    "grader.check_all()"
   ]
  },
  {
   "cell_type": "markdown",
   "id": "53b4d629",
   "metadata": {
    "deletable": false,
    "editable": false
   },
   "source": [
    "## Submission\n",
    "\n",
    "Make sure you have run all cells in your notebook in order before running the cell below, so that all images/graphs appear in the output. The cell below will generate a zip file for you to submit. **Please save before exporting!**"
   ]
  },
  {
   "cell_type": "code",
   "execution_count": null,
   "id": "c041ea52",
   "metadata": {
    "deletable": false,
    "editable": false
   },
   "outputs": [],
   "source": [
    "# Save your notebook first, then run this cell to export your submission.\n",
    "grader.export()"
   ]
  },
  {
   "cell_type": "markdown",
   "id": "b8825b97",
   "metadata": {},
   "source": [
    " "
   ]
  }
 ],
 "metadata": {
  "hide_code_all_hidden": false,
  "kernelspec": {
   "display_name": "Python 3 (ipykernel)",
   "language": "python",
   "name": "python3"
  },
  "language_info": {
   "codemirror_mode": {
    "name": "ipython",
    "version": 3
   },
   "file_extension": ".py",
   "mimetype": "text/x-python",
   "name": "python",
   "nbconvert_exporter": "python",
   "pygments_lexer": "ipython3",
   "version": "3.9.6"
  },
  "toc": {
   "base_numbering": 1,
   "nav_menu": {},
   "number_sections": false,
   "sideBar": true,
   "skip_h1_title": true,
   "title_cell": "Table of Contents",
   "title_sidebar": "Contents",
   "toc_cell": true,
   "toc_position": {},
   "toc_section_display": true,
   "toc_window_display": true
  },
  "vscode": {
   "interpreter": {
    "hash": "d4d1e4263499bec80672ea0156c357c1ee493ec2b1c70f0acce89fc37c4a6abe"
   }
  }
 },
 "nbformat": 4,
 "nbformat_minor": 4
}

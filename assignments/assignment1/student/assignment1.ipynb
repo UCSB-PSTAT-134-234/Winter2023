{
 "cells": [
  {
   "cell_type": "code",
   "execution_count": 76,
   "id": "ec4eb1f3",
   "metadata": {
    "deletable": false,
    "editable": false
   },
   "outputs": [],
   "source": [
    "# Initialize Otter\n",
    "import otter\n",
    "grader = otter.Notebook(\"assignment1.ipynb\")"
   ]
  },
  {
   "cell_type": "markdown",
   "metadata": {
    "nbgrader": {
     "grade": false,
     "grade_id": "title",
     "locked": true,
     "schema_version": 2,
     "solution": false
    }
   },
   "source": [
    "# Assignment 1: 2018 US House Elections\n",
    "**PSTAT 134/234 (Winter 2023)  \n",
    "Due Date: Monday, January 30, 11:59 PM**\n",
    "\n",
    "## Collaboration Policy\n",
    "\n",
    "Data science is a collaborative activity. While you may talk with others about\n",
    "the homework, we ask that you **write your solutions individually**. If you do\n",
    "discuss the assignments with others please **include their names** at the top\n",
    "of your notebook.\n",
    "\n",
    "**Collaborators**: *list collaborators here*\n",
    "- NA"
   ]
  },
  {
   "cell_type": "markdown",
   "metadata": {},
   "source": [
    "## Direction and Goal\n",
    "\n",
    "![election_prediction](include/clinton-trump-rating.png)  \n",
    "[image credit](https://donsnotes.com/politics/images/clinton-trump-rating.png)\n",
    "\n",
    "We haven't talked about predictive models, but we can still think about what makes a \"good\" prediction.  In this assignment, we'll focus on evaluating the quality of election predictions made by the website [fivethirtyeight.com](https://www.fivethirtyeight.com).  As one prominent example, fivethirtyeight predicted that Clinton had a 70.9% chance to win the election.  Was their model wrong?\n",
    "\n",
    "To gain insight into questions like this, we'll focus on  [US House elections predictions from 2018](https://projects.fivethirtyeight.com/2018-midterm-election-forecast/house/).  Their predictions are based predominantly on polling data but include other sources as well (state of the economy, overall favoriability of politic parties, etc).  \n",
    "\n",
    "This homework is based loosely on [this article](https://projects.fivethirtyeight.com/checking-our-work/).  Please read the article before beginning the assignment."
   ]
  },
  {
   "cell_type": "markdown",
   "metadata": {},
   "source": [
    "## Question 1: Data Processing"
   ]
  },
  {
   "cell_type": "markdown",
   "metadata": {},
   "source": [
    "### Download Data\n",
    "Command line interface is a useful tool for programmatically interacting with general functions of your computer: e.g. manipulate/manage files, download from the internet, run scripts, etc.\n",
    "\n",
    "We will get acquainted with command line soon, but below uses command line interace commands to download the raw CSV file from [fivethirtyeight's github page for this data](https://github.com/fivethirtyeight/checking-our-work-data/blob/master/us_house_elections.csv). The `!` mark tells Jupyter notebook that the command following it is to be evaluated as a command line code."
   ]
  },
  {
   "cell_type": "code",
   "execution_count": 77,
   "metadata": {},
   "outputs": [
    {
     "name": "stdout",
     "output_type": "stream",
     "text": [
      "File ‘include/us_house_elections.csv’ already there; not retrieving.\n"
     ]
    }
   ],
   "source": [
    "!wget -nc https://raw.githubusercontent.com/fivethirtyeight/checking-our-work-data/master/us_house_elections.csv  -O include/us_house_elections.csv"
   ]
  },
  {
   "cell_type": "code",
   "execution_count": 78,
   "metadata": {},
   "outputs": [
    {
     "name": "stdout",
     "output_type": "stream",
     "text": [
      "total 28212\n",
      "-rw-r--r-- 1 rongfei rongfei    51225 Jan 29 17:02 clinton-trump-rating.png\n",
      "-rw-r--r-- 1 rongfei rongfei 28834571 Jan 29 17:02 us_house_elections.csv\n"
     ]
    }
   ],
   "source": [
    "!ls -lF include/ ## `ls` command verify that data is downloaded in our folder"
   ]
  },
  {
   "cell_type": "markdown",
   "metadata": {},
   "source": [
    "### Read Data into Python\n",
    "\n",
    "Numpy and Pandas is used to read in the csv file into python."
   ]
  },
  {
   "cell_type": "code",
   "execution_count": 79,
   "metadata": {},
   "outputs": [],
   "source": [
    "import pandas as pd\n",
    "import numpy as np\n",
    "election_data = pd.read_csv(\"include/us_house_elections.csv\", low_memory=False)"
   ]
  },
  {
   "cell_type": "markdown",
   "metadata": {},
   "source": [
    "Add column of zeros named `bin` to `election_data` (we will populate this column with meaningful data later) and `print` the first 10 rows of the `DataFrame` using `iloc`."
   ]
  },
  {
   "cell_type": "code",
   "execution_count": 80,
   "metadata": {},
   "outputs": [
    {
     "data": {
      "text/plain": [
       "'2020-11-03'"
      ]
     },
     "execution_count": 80,
     "metadata": {},
     "output_type": "execute_result"
    }
   ],
   "source": [
    "election_data[\"forecast_date\"].max()"
   ]
  },
  {
   "cell_type": "code",
   "execution_count": 81,
   "metadata": {},
   "outputs": [
    {
     "name": "stdout",
     "output_type": "stream",
     "text": [
      "   year office state  district election_date forecast_date forecast_type  \\\n",
      "0  2020  House    WY       1.0    2020-11-03    2020-11-03          lite   \n",
      "1  2020  House    WY       1.0    2020-11-03    2020-11-03          lite   \n",
      "2  2020  House    WV       3.0    2020-11-03    2020-11-03          lite   \n",
      "3  2020  House    WV       3.0    2020-11-03    2020-11-03          lite   \n",
      "4  2020  House    WV       2.0    2020-11-03    2020-11-03          lite   \n",
      "5  2020  House    WV       2.0    2020-11-03    2020-11-03          lite   \n",
      "6  2020  House    WV       1.0    2020-11-03    2020-11-03          lite   \n",
      "7  2020  House    WV       1.0    2020-11-03    2020-11-03          lite   \n",
      "8  2020  House    WI       8.0    2020-11-03    2020-11-03          lite   \n",
      "9  2020  House    WI       8.0    2020-11-03    2020-11-03          lite   \n",
      "\n",
      "  party  candidate  projected_voteshare  actual_voteshare   probwin  \\\n",
      "0     D       Bull             34.73896         24.576584  0.003150   \n",
      "1     R     Cheney             65.26104         68.563117  0.996850   \n",
      "2     D     Turner             28.25597         28.663824  0.002350   \n",
      "3     R     Miller             71.74403         71.336176  0.997650   \n",
      "4     D     Kunkel             35.19270         36.923522  0.017975   \n",
      "5     R     Mooney             64.80730         63.076478  0.982025   \n",
      "6     D      Cline             30.34452         31.023255  0.007100   \n",
      "7     R   McKinley             66.29501         68.976745  0.992900   \n",
      "8     D      Stuck             40.59269         35.793298  0.081525   \n",
      "9     R  Gallagher             59.40731         64.181094  0.918475   \n",
      "\n",
      "   probwin_outcome  bin  \n",
      "0                0    0  \n",
      "1                1    0  \n",
      "2                0    0  \n",
      "3                1    0  \n",
      "4                0    0  \n",
      "5                1    0  \n",
      "6                0    0  \n",
      "7                1    0  \n",
      "8                0    0  \n",
      "9                1    0  \n"
     ]
    }
   ],
   "source": [
    "election_data[\"bin\"] = 0\n",
    "print(election_data.iloc[:10,:])"
   ]
  },
  {
   "cell_type": "markdown",
   "metadata": {},
   "source": [
    "Fivethirtyeight has three different prediction models: `lite`, `classic` and `deluxe`, which roughly incorporate an increasing number of assumptions.  In this assignment lets focus on evaluting the quality of the `classic` predictions.  You can read more about how the prediction models work [here](https://fivethirtyeight.com/methodology/how-fivethirtyeights-house-and-senate-models-work/).\n",
    "\n",
    "Fivethirtyeight continuously updated their predictions as more polling data became available for each of the races.  Let's focus on the predictions a few months before the election, on August 11th, and on the morning of election day, November 6th.  "
   ]
  },
  {
   "cell_type": "markdown",
   "metadata": {
    "deletable": false,
    "editable": false
   },
   "source": [
    "### Question 1a: Subset Data\n",
    "\n",
    "<!--\n",
    "BEGIN QUESTION\n",
    "name: q1a\n",
    "manual: false\n",
    "points: 5\n",
    "-->\n",
    "\n",
    "Create a new pandas dataframe called `election_sub` by filtering to include only rows in which the `forecast_type` is \"classic\", and the date of the foreceast (`forecast_date`) is 8/11 or 11/6. \n",
    "\n",
    "Using `query` method seems well-suited.  Note you can make two (or more) calls to `query` by chaining calls to `query` like this: `election_data.query(...).query(...)`. Output of one query will be used as an input to the second query."
   ]
  },
  {
   "cell_type": "code",
   "execution_count": 82,
   "metadata": {},
   "outputs": [],
   "source": [
    "# Fill-in ...\n",
    "election_sub = election_data.query(\"forecast_type == 'classic'\").query(\"forecast_date == '2018-08-11' | forecast_date == '2018-11-06' \")"
   ]
  },
  {
   "cell_type": "code",
   "execution_count": 83,
   "id": "e7628bb9",
   "metadata": {
    "deletable": false,
    "editable": false
   },
   "outputs": [
    {
     "data": {
      "text/html": [
       "\n",
       "    <p><strong>q1a</strong> passed!</p>\n",
       "    "
      ],
      "text/plain": [
       "q1a passed!"
      ]
     },
     "execution_count": 83,
     "metadata": {},
     "output_type": "execute_result"
    }
   ],
   "source": [
    "grader.check(\"q1a\")"
   ]
  },
  {
   "cell_type": "markdown",
   "metadata": {
    "deletable": false,
    "editable": false
   },
   "source": [
    "### Question 1b: Filtering Data\n",
    "\n",
    "In previous question, data was subset for two forcast dates: 2018-11-06 and 2018-08-11. Presumably, there _should be_ two rows (predictions) for each candidate; however, you will see that some candidates are missing one of the two predictions and not all name entries are valid.\n",
    "\n",
    "Using Pandas, remove any NaN names and any candidate that does not have two predictions.\n",
    "\n",
    "Finally, overwrite `election_sub` with the filtered data.\n",
    "\n",
    "There are different ways of doing this. I found the following functions useful:\n",
    "\n",
    "* [`pandas.DataFrame.isnull`](https://pandas.pydata.org/pandas-docs/stable/reference/api/pandas.DataFrame.isnull.html)\n",
    "* [`pandas.DataFrame.groupby`](https://pandas.pydata.org/pandas-docs/stable/reference/api/pandas.DataFrame.groupby.html)\n",
    "* [`pandas.core.groupby.DataFrameGroupBy.filter`](https://pandas.pydata.org/pandas-docs/stable/reference/api/pandas.core.groupby.DataFrameGroupBy.filter.html)\n",
    "* [`pandas.DataFrame.shape`](https://pandas.pydata.org/pandas-docs/stable/reference/api/pandas.DataFrame.shape.html)\n",
    "\n",
    "When using the documentation, make sure to use the correct version. You can check by running `pd.__version__`.\n",
    "\n",
    "<!--\n",
    "BEGIN QUESTION\n",
    "name: q1b\n",
    "manual: false\n",
    "points: 3\n",
    "-->"
   ]
  },
  {
   "cell_type": "code",
   "execution_count": 84,
   "metadata": {},
   "outputs": [],
   "source": [
    "# Fill-in ... and ###some task###\n",
    "election_sub = election_sub[~election_sub[\"candidate\"].isnull()].groupby(\"candidate\").filter(lambda x: len(x) == 2)"
   ]
  },
  {
   "cell_type": "code",
   "execution_count": 85,
   "id": "e44eccd0",
   "metadata": {
    "deletable": false,
    "editable": false
   },
   "outputs": [
    {
     "data": {
      "text/html": [
       "\n",
       "    <p><strong>q1b</strong> passed!</p>\n",
       "    "
      ],
      "text/plain": [
       "q1b passed!"
      ]
     },
     "execution_count": 85,
     "metadata": {},
     "output_type": "execute_result"
    }
   ],
   "source": [
    "grader.check(\"q1b\")"
   ]
  },
  {
   "cell_type": "markdown",
   "metadata": {
    "deletable": false,
    "editable": false
   },
   "source": [
    "### Question 1c: Transform Data\n",
    "\n",
    "<!--\n",
    "BEGIN QUESTION\n",
    "name: q1c\n",
    "manual: false\n",
    "points: 3\n",
    "-->\n",
    "\n",
    "We want to check whether events predicted by 538 to occur with probability _close to_ X% actually occured about X% of the time.  To do this, we have to define _close_.\n",
    "\n",
    "First, we'll define the `cut_points` as 20 equally spaced numbers between 0 and 1 using `np.linspace`.  Then we'll group the predicted probabilities into the `19` equally spaced bins determined by those cut points.  Define the bin for each observation using the `pd.cut` function on the `probwin` variable.  Then, assign the result to column `bin` of `election_sub`. Use `include_lowest=True` when calling `pd.cut`.\n",
    "\n",
    "_Note: Can you spot the strange behavior of `include_lowest=True`? [Despite the output, `pd.cut` seems to work correctly](https://github.com/pandas-dev/pandas/issues/23164#issuecomment-510700455)_"
   ]
  },
  {
   "cell_type": "code",
   "execution_count": 86,
   "metadata": {},
   "outputs": [],
   "source": [
    "cut_points = np.linspace(0, 1, 20)\n",
    "election_sub[\"bin\"] = pd.cut(election_sub[\"probwin\"], cut_points, include_lowest=True)\n"
   ]
  },
  {
   "cell_type": "code",
   "execution_count": 87,
   "id": "e10e6117",
   "metadata": {
    "deletable": false,
    "editable": false
   },
   "outputs": [
    {
     "data": {
      "text/html": [
       "\n",
       "    <p><strong>q1c</strong> passed!</p>\n",
       "    "
      ],
      "text/plain": [
       "q1c passed!"
      ]
     },
     "execution_count": 87,
     "metadata": {},
     "output_type": "execute_result"
    }
   ],
   "source": [
    "grader.check(\"q1c\")"
   ]
  },
  {
   "cell_type": "markdown",
   "metadata": {},
   "source": [
    "## Question 2: Looking for Insights"
   ]
  },
  {
   "cell_type": "markdown",
   "metadata": {
    "deletable": false,
    "editable": false
   },
   "source": [
    "### Question 2a: Calculate Change in Support\n",
    "\n",
    "Let's see if we can find the candidates whose standings change the most between August 11 and November 6: one with largest improvement and another with largest decrease in win-probability. First, use the `agg` function calculate the difference.\n",
    "\n",
    "Following functions have been useful for me:\n",
    "\n",
    "* [`numpy.diff`](https://docs.scipy.org/doc/numpy/reference/generated/numpy.diff.html)\n",
    "* [`pandas.DataFrame.sort_values`](https://pandas.pydata.org/pandas-docs/stable/reference/api/pandas.DataFrame.sort_values.html)\n",
    "* [`pandas.DataFrame.groupby`](https://pandas.pydata.org/pandas-docs/stable/reference/api/pandas.DataFrame.groupby.html)\n",
    "* [`pandas.DataFrame.agg`](https://pandas.pydata.org/pandas-docs/stable/reference/api/pandas.DataFrame.agg.html): especially, [different functions to columns](https://pandas.pydata.org/pandas-docs/stable/user_guide/groupby.html#applying-different-functions-to-dataframe-columns) \n",
    "\n",
    "Save the resulting DataFrame from `agg()` to a variable, `probwin_change`. \n",
    "\n",
    "<!--\n",
    "BEGIN QUESTION\n",
    "name: q2a\n",
    "manual: false\n",
    "points: 5\n",
    "-->"
   ]
  },
  {
   "cell_type": "code",
   "execution_count": 88,
   "metadata": {},
   "outputs": [
    {
     "data": {
      "text/html": [
       "<div>\n",
       "<style scoped>\n",
       "    .dataframe tbody tr th:only-of-type {\n",
       "        vertical-align: middle;\n",
       "    }\n",
       "\n",
       "    .dataframe tbody tr th {\n",
       "        vertical-align: top;\n",
       "    }\n",
       "\n",
       "    .dataframe thead th {\n",
       "        text-align: right;\n",
       "    }\n",
       "</style>\n",
       "<table border=\"1\" class=\"dataframe\">\n",
       "  <thead>\n",
       "    <tr style=\"text-align: right;\">\n",
       "      <th></th>\n",
       "      <th>probwin</th>\n",
       "    </tr>\n",
       "    <tr>\n",
       "      <th>candidate</th>\n",
       "      <th></th>\n",
       "    </tr>\n",
       "  </thead>\n",
       "  <tbody>\n",
       "    <tr>\n",
       "      <th>A. Donald McEachin</th>\n",
       "      <td>0.00040</td>\n",
       "    </tr>\n",
       "    <tr>\n",
       "      <th>Aaron Andrus</th>\n",
       "      <td>0.00010</td>\n",
       "    </tr>\n",
       "    <tr>\n",
       "      <th>Aaron Swisher</th>\n",
       "      <td>-0.00228</td>\n",
       "    </tr>\n",
       "    <tr>\n",
       "      <th>Abby Finkenauer</th>\n",
       "      <td>0.08214</td>\n",
       "    </tr>\n",
       "    <tr>\n",
       "      <th>Abigail Spanberger</th>\n",
       "      <td>0.11884</td>\n",
       "    </tr>\n",
       "  </tbody>\n",
       "</table>\n",
       "</div>"
      ],
      "text/plain": [
       "                    probwin\n",
       "candidate                  \n",
       "A. Donald McEachin  0.00040\n",
       "Aaron Andrus        0.00010\n",
       "Aaron Swisher      -0.00228\n",
       "Abby Finkenauer     0.08214\n",
       "Abigail Spanberger  0.11884"
      ]
     },
     "execution_count": 88,
     "metadata": {},
     "output_type": "execute_result"
    }
   ],
   "source": [
    "#election_sub.sort_values(by=[\"forecast_date\"]).groupby([ \"candidate\"]).get_group(\"Aaron Andrus\")\n",
    "probwin_change = election_sub.sort_values(by=[\"forecast_date\"]).groupby([\"candidate\"]).agg({\"probwin\" : lambda x: np.diff(x)[0]})\n",
    "probwin_change.head()"
   ]
  },
  {
   "cell_type": "code",
   "execution_count": 89,
   "id": "dfc3dae6",
   "metadata": {
    "deletable": false,
    "editable": false
   },
   "outputs": [
    {
     "data": {
      "text/html": [
       "\n",
       "    <p><strong>q2a</strong> passed!</p>\n",
       "    "
      ],
      "text/plain": [
       "q2a passed!"
      ]
     },
     "execution_count": 89,
     "metadata": {},
     "output_type": "execute_result"
    }
   ],
   "source": [
    "grader.check(\"q2a\")"
   ]
  },
  {
   "cell_type": "markdown",
   "metadata": {
    "deletable": false,
    "editable": false
   },
   "source": [
    "### Question 2b: Looking for Largest Changes\n",
    "\n",
    "Now, save the name of the candidates to string variables `rising_candidate` (largest increase) and `falling_candidate` (largest decrease).\n",
    "\n",
    "* [`pandas.DataFrmae.idxmax`](https://pandas.pydata.org/pandas-docs/stable/reference/api/pandas.DataFrame.idxmax.html)\n",
    "* [`pandas.DataFrmae.idxmin`](https://pandas.pydata.org/pandas-docs/stable/reference/api/pandas.DataFrame.idxmin.html)\n",
    "\n",
    "<!--\n",
    "BEGIN QUESTION\n",
    "name: q2b\n",
    "manual: false\n",
    "points: 3\n",
    "-->"
   ]
  },
  {
   "cell_type": "code",
   "execution_count": 90,
   "metadata": {},
   "outputs": [
    {
     "data": {
      "text/plain": [
       "('Sharice Davids', 'Kevin Yoder')"
      ]
     },
     "execution_count": 90,
     "metadata": {},
     "output_type": "execute_result"
    }
   ],
   "source": [
    "rising_candidate = probwin_change.idxmax()[0]\n",
    "falling_candidate = probwin_change.idxmin()[0]\n",
    "rising_candidate, falling_candidate"
   ]
  },
  {
   "cell_type": "code",
   "execution_count": 91,
   "id": "14915bbc",
   "metadata": {
    "deletable": false,
    "editable": false
   },
   "outputs": [
    {
     "data": {
      "text/html": [
       "\n",
       "    <p><strong>q2b</strong> passed!</p>\n",
       "    "
      ],
      "text/plain": [
       "q2b passed!"
      ]
     },
     "execution_count": 91,
     "metadata": {},
     "output_type": "execute_result"
    }
   ],
   "source": [
    "grader.check(\"q2b\")"
   ]
  },
  {
   "cell_type": "markdown",
   "metadata": {
    "deletable": false,
    "editable": false
   },
   "source": [
    "<!-- BEGIN QUESTION -->\n",
    "\n",
    "### Question 2c: Verify Outcome\n",
    "\n",
    "Did the candidate win or lose the election? Verify with election outcome.\n",
    "<!--\n",
    "BEGIN QUESTION\n",
    "name: q2c\n",
    "manual: true\n",
    "points: 5\n",
    "-->"
   ]
  },
  {
   "cell_type": "markdown",
   "id": "3df28d76",
   "metadata": {},
   "source": [
    "Sharice Davids won\n",
    "Kevin Yoder lost"
   ]
  },
  {
   "cell_type": "markdown",
   "metadata": {},
   "source": [
    "<!-- END QUESTION -->\n",
    "\n",
    "\n",
    "\n",
    "## Prediction vs Actual Outcomes"
   ]
  },
  {
   "cell_type": "markdown",
   "metadata": {
    "deletable": false,
    "editable": false
   },
   "source": [
    "<!-- BEGIN QUESTION -->\n",
    "\n",
    "### Question 3a: Prediction Histogram\n",
    "\n",
    "Make a histogram showing the predicted win probabilities _on the morning of the election._  Again, restrict yourself to only the `classic` predictions.\n",
    "\n",
    "<!--\n",
    "BEGIN QUESTION\n",
    "name: q3a\n",
    "manual: true\n",
    "points: 5\n",
    "-->"
   ]
  },
  {
   "cell_type": "code",
   "execution_count": 92,
   "metadata": {},
   "outputs": [
    {
     "data": {
      "text/plain": [
       "Text(0.5, 1.0, 'Histogram of probwin for classic forecasts')"
      ]
     },
     "execution_count": 92,
     "metadata": {},
     "output_type": "execute_result"
    },
    {
     "data": {
      "image/png": "[encoded data removed]",
      "text/plain": [
       "<Figure size 640x480 with 1 Axes>"
      ]
     },
     "metadata": {},
     "output_type": "display_data"
    }
   ],
   "source": [
    "ax = election_data.query(\"forecast_type=='classic'\")[\"probwin\"].hist(bins=30)\n",
    "ax.set_xlabel(\"probwin\")\n",
    "ax.set_ylabel(\"count\")\n",
    "ax.set_title(\"Histogram of probwin for classic forecasts\")"
   ]
  },
  {
   "cell_type": "markdown",
   "metadata": {
    "deletable": false,
    "editable": false
   },
   "source": [
    "<!-- END QUESTION -->\n",
    "\n",
    "<!-- BEGIN QUESTION -->\n",
    "\n",
    "### Question 3b: Prediction difficulty \n",
    "\n",
    "Are most house elections easy to forecast or hard to forecast? State your reasoning.\n",
    "\n",
    "<!--\n",
    "BEGIN QUESTION\n",
    "name: q3b\n",
    "manual: true\n",
    "points: 5\n",
    "-->"
   ]
  },
  {
   "attachments": {},
   "cell_type": "markdown",
   "id": "41d52346",
   "metadata": {},
   "source": [
    "Easy, because the chance of predicition has high frequency in both high chances of winning and low chances of winning, so one can be more definite on the outcome of the election rather than guessing the head of a coin (if the prediciting probability is about 50%)"
   ]
  },
  {
   "cell_type": "markdown",
   "metadata": {
    "deletable": false,
    "editable": false
   },
   "source": [
    "<!-- END QUESTION -->\n",
    "\n",
    "### Question 4a: Compute Actual Outcomes\n",
    "\n",
    "Now we've grouped the observations into a discrete set of bins according to the predicted probability, `probwin`.  Within each bin, we now want to compute the actual fraction of times the candidates won.\n",
    "\n",
    "If 538 did a good job, it will be close to the predited probabilities.  You'll need to use the `groupby` function to compute the mean of `probwin_outcome` (1 is a win and 0 is a loss) within each bin. Once again you can use `agg` method here.  \n",
    "\n",
    "Save the fraction of actual wins in each bin in a list called `fraction_outcome`.\n",
    "\n",
    "<!--\n",
    "BEGIN QUESTION\n",
    "name: q4a\n",
    "manual: false\n",
    "points: 5\n",
    "-->"
   ]
  },
  {
   "cell_type": "code",
   "execution_count": 93,
   "metadata": {},
   "outputs": [
    {
     "name": "stdout",
     "output_type": "stream",
     "text": [
      "                  probwin_outcome\n",
      "bin                              \n",
      "(-0.001, 0.0526]         0.001186\n",
      "(0.0526, 0.105]          0.062500\n",
      "(0.105, 0.158]           0.023810\n",
      "(0.158, 0.211]           0.142857\n",
      "(0.211, 0.263]           0.200000\n",
      "(0.263, 0.316]           0.058824\n",
      "(0.316, 0.368]           0.235294\n",
      "(0.368, 0.421]           0.272727\n",
      "(0.421, 0.474]           0.466667\n",
      "(0.474, 0.526]           0.500000\n",
      "(0.526, 0.579]           0.533333\n",
      "(0.579, 0.632]           0.727273\n",
      "(0.632, 0.684]           0.764706\n",
      "(0.684, 0.737]           0.941176\n",
      "(0.737, 0.789]           0.800000\n",
      "(0.789, 0.842]           0.857143\n",
      "(0.842, 0.895]           0.976190\n",
      "(0.895, 0.947]           0.937500\n",
      "(0.947, 1.0]             0.998473\n"
     ]
    }
   ],
   "source": [
    "fraction_outcome = election_sub.groupby(\"bin\").agg({\"probwin_outcome\" : \"mean\"})\n",
    "print(fraction_outcome)"
   ]
  },
  {
   "cell_type": "code",
   "execution_count": 94,
   "id": "b8d2aa4a",
   "metadata": {
    "deletable": false,
    "editable": false
   },
   "outputs": [
    {
     "data": {
      "text/html": [
       "\n",
       "    <p><strong>q4a</strong> passed!</p>\n",
       "    "
      ],
      "text/plain": [
       "q4a passed!"
      ]
     },
     "execution_count": 94,
     "metadata": {},
     "output_type": "execute_result"
    }
   ],
   "source": [
    "grader.check(\"q4a\")"
   ]
  },
  {
   "cell_type": "markdown",
   "metadata": {
    "deletable": false,
    "editable": false
   },
   "source": [
    "### Question 4b: Preparing to Present Results\n",
    "\n",
    "<!--\n",
    "BEGIN QUESTION\n",
    "name: q4b\n",
    "manual: false\n",
    "points: 5\n",
    "-->\n",
    "\n",
    "For this problem we'll make a plot of the predicted probabilities and actual fraction of wins in each bin.  We've already computed the actual fraction of wins; all that remains is to plot it against the predicted value assocaited with each bin.\n",
    "\n",
    "For the predicted value in each bin, using the midpoint of the bin would make sense.  Compute the midpoints of each bin from `cut_points`."
   ]
  },
  {
   "cell_type": "code",
   "execution_count": 95,
   "metadata": {},
   "outputs": [],
   "source": [
    "midpoints = cut_points[:-1] + np.diff(cut_points)/2"
   ]
  },
  {
   "cell_type": "code",
   "execution_count": 96,
   "id": "05083cc7",
   "metadata": {
    "deletable": false,
    "editable": false
   },
   "outputs": [
    {
     "data": {
      "text/html": [
       "\n",
       "    <p><strong>q4b</strong> passed!</p>\n",
       "    "
      ],
      "text/plain": [
       "q4b passed!"
      ]
     },
     "execution_count": 96,
     "metadata": {},
     "output_type": "execute_result"
    }
   ],
   "source": [
    "grader.check(\"q4b\")"
   ]
  },
  {
   "cell_type": "markdown",
   "metadata": {
    "deletable": false,
    "editable": false
   },
   "source": [
    "<!-- BEGIN QUESTION -->\n",
    "\n",
    "### Question 4c: Visualize Results\n",
    "\n",
    "<!--\n",
    "BEGIN QUESTION\n",
    "name: q4c\n",
    "manual: true \n",
    "points: 5\n",
    "-->\n",
    "\n",
    "Now make a scatterplot using `midpoints` as the x variable and `fraction_outcome` as the y variable.  Draw a dashed line from `[0,0]` to `[1,1]` to mark the line y=x.  "
   ]
  },
  {
   "cell_type": "code",
   "execution_count": 97,
   "metadata": {},
   "outputs": [
    {
     "data": {
      "text/plain": [
       "Text(0, 0.5, 'fractional probwin')"
      ]
     },
     "execution_count": 97,
     "metadata": {},
     "output_type": "execute_result"
    },
    {
     "data": {
      "image/png": "[encoded data removed]",
      "text/plain": [
       "<Figure size 640x480 with 1 Axes>"
      ]
     },
     "metadata": {},
     "output_type": "display_data"
    }
   ],
   "source": [
    "# magic for showing figures inline\n",
    "%matplotlib inline \n",
    "import matplotlib.pyplot as plt\n",
    "\n",
    "fig, ax = plt.subplots()\n",
    "ax.plot(midpoints, fraction_outcome)\n",
    "ax.plot([0,1], [0,1], linestyle='--')\n",
    "ax.set_xlabel(\"midpoints\")\n",
    "ax.set_ylabel(\"fractional probwin\")\n",
    "\n",
    "\n"
   ]
  },
  {
   "cell_type": "markdown",
   "metadata": {},
   "source": [
    "<!-- END QUESTION -->\n",
    "\n",
    "\n",
    "\n",
    "## Quantifying Uncertainty"
   ]
  },
  {
   "cell_type": "markdown",
   "metadata": {
    "deletable": false,
    "editable": false
   },
   "source": [
    "### Question 5a: Model-based Error Estimation\n",
    "\n",
    "If you did things correctly, it should look like fivethirtyeight has done \"pretty\" well with their forecasts: the actual fraction of wins tracks closely with the predicted number.\n",
    "\n",
    "But how do we decide what's \"good enough\"? Consider this example: I correctly predict that a coin is fair (e.g. that it has a 50% chance of heads, 50% chance of tails).  But if I flip it 100 times, I can be pretty sure it won't come up heads exactly 50 times.  The fact that heads didn't come up exactly 50 times doesn't make my prediction incorrect.\n",
    "\n",
    "To assess how reasonable the predictions are, I need to quantify the uncertainty in my estimate.  It's reasonable to assume that within each bin, $k$, the observed number of wins, $Y_k \\sim \\text{Binomial}\\,(n_k, p_k)$, where $n_k$ is the number of elections and $p_k$ is the predicted win probability in bin $k$.\n",
    "\n",
    "Classical results tell us that the obseved fraction of wins in bin $k$, $\\hat p = \\frac{Y_k}{n_k}$ has variance $\\operatorname{Var}\\left(\\hat p_k\\right) = \\frac{p_k (1-p_k)}{n_k} \\approx \\frac{\\hat p_k(1- \\hat p_k)}{n_k}$.  The standard deviation of the Binomial proportion then is $\\hat \\sigma_k \\approx \\sqrt{\\frac{\\hat p_k(1- \\hat p_k)}{n_k}}$.  \n",
    "\n",
    "If we use the [normal approximation to generate a confidence interval](https://en.wikipedia.org/wiki/Binomial_proportion_confidence_interval#Normal_approximation_interval), then the 95% interval has the form $\\hat p_k \\pm 1.96 \\hat \\sigma_k$.\n",
    "\n",
    "Create a new \"aggregated\" dataframe named `election_agg`.  Take `election_sub`, group by `bin` and compute both the average of the `probwin_outcome` (`mean`) and the number of observations in each bin (`count`) using the `agg` function.  Call this new data frame, `election_agg`.\n",
    "\n",
    "THen, use the `mean` and `count` columns of `election_agg` to create a new column of `election_agg` titled `err`, which stores $1.96 \\times \\hat \\sigma_k$ in each bin $k$.\n",
    "\n",
    "<!--\n",
    "BEGIN QUESTION\n",
    "name: q5a\n",
    "manual: false\n",
    "points: 3\n",
    "-->"
   ]
  },
  {
   "cell_type": "code",
   "execution_count": 98,
   "metadata": {},
   "outputs": [
    {
     "data": {
      "text/html": [
       "<div>\n",
       "<style scoped>\n",
       "    .dataframe tbody tr th:only-of-type {\n",
       "        vertical-align: middle;\n",
       "    }\n",
       "\n",
       "    .dataframe tbody tr th {\n",
       "        vertical-align: top;\n",
       "    }\n",
       "\n",
       "    .dataframe thead th {\n",
       "        text-align: right;\n",
       "    }\n",
       "</style>\n",
       "<table border=\"1\" class=\"dataframe\">\n",
       "  <thead>\n",
       "    <tr style=\"text-align: right;\">\n",
       "      <th></th>\n",
       "      <th>mean</th>\n",
       "      <th>count</th>\n",
       "      <th>err</th>\n",
       "    </tr>\n",
       "    <tr>\n",
       "      <th>bin</th>\n",
       "      <th></th>\n",
       "      <th></th>\n",
       "      <th></th>\n",
       "    </tr>\n",
       "  </thead>\n",
       "  <tbody>\n",
       "    <tr>\n",
       "      <th>(-0.001, 0.0526]</th>\n",
       "      <td>0.001186</td>\n",
       "      <td>843</td>\n",
       "      <td>0.002324</td>\n",
       "    </tr>\n",
       "    <tr>\n",
       "      <th>(0.0526, 0.105]</th>\n",
       "      <td>0.062500</td>\n",
       "      <td>32</td>\n",
       "      <td>0.083870</td>\n",
       "    </tr>\n",
       "    <tr>\n",
       "      <th>(0.105, 0.158]</th>\n",
       "      <td>0.023810</td>\n",
       "      <td>42</td>\n",
       "      <td>0.046108</td>\n",
       "    </tr>\n",
       "    <tr>\n",
       "      <th>(0.158, 0.211]</th>\n",
       "      <td>0.142857</td>\n",
       "      <td>28</td>\n",
       "      <td>0.129615</td>\n",
       "    </tr>\n",
       "    <tr>\n",
       "      <th>(0.211, 0.263]</th>\n",
       "      <td>0.200000</td>\n",
       "      <td>30</td>\n",
       "      <td>0.143138</td>\n",
       "    </tr>\n",
       "    <tr>\n",
       "      <th>(0.263, 0.316]</th>\n",
       "      <td>0.058824</td>\n",
       "      <td>17</td>\n",
       "      <td>0.111852</td>\n",
       "    </tr>\n",
       "    <tr>\n",
       "      <th>(0.316, 0.368]</th>\n",
       "      <td>0.235294</td>\n",
       "      <td>17</td>\n",
       "      <td>0.201644</td>\n",
       "    </tr>\n",
       "    <tr>\n",
       "      <th>(0.368, 0.421]</th>\n",
       "      <td>0.272727</td>\n",
       "      <td>22</td>\n",
       "      <td>0.186105</td>\n",
       "    </tr>\n",
       "    <tr>\n",
       "      <th>(0.421, 0.474]</th>\n",
       "      <td>0.466667</td>\n",
       "      <td>15</td>\n",
       "      <td>0.252472</td>\n",
       "    </tr>\n",
       "    <tr>\n",
       "      <th>(0.474, 0.526]</th>\n",
       "      <td>0.500000</td>\n",
       "      <td>16</td>\n",
       "      <td>0.245000</td>\n",
       "    </tr>\n",
       "    <tr>\n",
       "      <th>(0.526, 0.579]</th>\n",
       "      <td>0.533333</td>\n",
       "      <td>15</td>\n",
       "      <td>0.252472</td>\n",
       "    </tr>\n",
       "    <tr>\n",
       "      <th>(0.579, 0.632]</th>\n",
       "      <td>0.727273</td>\n",
       "      <td>22</td>\n",
       "      <td>0.186105</td>\n",
       "    </tr>\n",
       "    <tr>\n",
       "      <th>(0.632, 0.684]</th>\n",
       "      <td>0.764706</td>\n",
       "      <td>17</td>\n",
       "      <td>0.201644</td>\n",
       "    </tr>\n",
       "    <tr>\n",
       "      <th>(0.684, 0.737]</th>\n",
       "      <td>0.941176</td>\n",
       "      <td>17</td>\n",
       "      <td>0.111852</td>\n",
       "    </tr>\n",
       "    <tr>\n",
       "      <th>(0.737, 0.789]</th>\n",
       "      <td>0.800000</td>\n",
       "      <td>30</td>\n",
       "      <td>0.143138</td>\n",
       "    </tr>\n",
       "    <tr>\n",
       "      <th>(0.789, 0.842]</th>\n",
       "      <td>0.857143</td>\n",
       "      <td>28</td>\n",
       "      <td>0.129615</td>\n",
       "    </tr>\n",
       "    <tr>\n",
       "      <th>(0.842, 0.895]</th>\n",
       "      <td>0.976190</td>\n",
       "      <td>42</td>\n",
       "      <td>0.046108</td>\n",
       "    </tr>\n",
       "    <tr>\n",
       "      <th>(0.895, 0.947]</th>\n",
       "      <td>0.937500</td>\n",
       "      <td>32</td>\n",
       "      <td>0.083870</td>\n",
       "    </tr>\n",
       "    <tr>\n",
       "      <th>(0.947, 1.0]</th>\n",
       "      <td>0.998473</td>\n",
       "      <td>655</td>\n",
       "      <td>0.002990</td>\n",
       "    </tr>\n",
       "  </tbody>\n",
       "</table>\n",
       "</div>"
      ],
      "text/plain": [
       "                      mean  count       err\n",
       "bin                                        \n",
       "(-0.001, 0.0526]  0.001186    843  0.002324\n",
       "(0.0526, 0.105]   0.062500     32  0.083870\n",
       "(0.105, 0.158]    0.023810     42  0.046108\n",
       "(0.158, 0.211]    0.142857     28  0.129615\n",
       "(0.211, 0.263]    0.200000     30  0.143138\n",
       "(0.263, 0.316]    0.058824     17  0.111852\n",
       "(0.316, 0.368]    0.235294     17  0.201644\n",
       "(0.368, 0.421]    0.272727     22  0.186105\n",
       "(0.421, 0.474]    0.466667     15  0.252472\n",
       "(0.474, 0.526]    0.500000     16  0.245000\n",
       "(0.526, 0.579]    0.533333     15  0.252472\n",
       "(0.579, 0.632]    0.727273     22  0.186105\n",
       "(0.632, 0.684]    0.764706     17  0.201644\n",
       "(0.684, 0.737]    0.941176     17  0.111852\n",
       "(0.737, 0.789]    0.800000     30  0.143138\n",
       "(0.789, 0.842]    0.857143     28  0.129615\n",
       "(0.842, 0.895]    0.976190     42  0.046108\n",
       "(0.895, 0.947]    0.937500     32  0.083870\n",
       "(0.947, 1.0]      0.998473    655  0.002990"
      ]
     },
     "execution_count": 98,
     "metadata": {},
     "output_type": "execute_result"
    }
   ],
   "source": [
    "# Get mean and size of each bin\n",
    "election_agg = election_sub.groupby(\"bin\").agg(mean=(\"probwin_outcome\", \"mean\"), count=(\"probwin_outcome\",\"count\"))\n",
    "election_agg['err'] = 1.96 * np.sqrt(election_agg[\"mean\"] * (1 - election_agg[\"mean\"]) / election_agg[\"count\"])\n",
    "election_agg"
   ]
  },
  {
   "cell_type": "code",
   "execution_count": 99,
   "id": "04e9f48f",
   "metadata": {
    "deletable": false,
    "editable": false
   },
   "outputs": [
    {
     "data": {
      "text/html": [
       "\n",
       "    <p><strong>q5a</strong> passed!</p>\n",
       "    "
      ],
      "text/plain": [
       "q5a passed!"
      ]
     },
     "execution_count": 99,
     "metadata": {},
     "output_type": "execute_result"
    }
   ],
   "source": [
    "grader.check(\"q5a\")"
   ]
  },
  {
   "cell_type": "markdown",
   "metadata": {
    "deletable": false,
    "editable": false
   },
   "source": [
    "<!-- BEGIN QUESTION -->\n",
    "\n",
    "### Question 5b: Visualize Error Bars 1\n",
    "\n",
    "Use `plt.errorbar` to create a new plot with error bars associated with the actual fraction of wins in each bin.  Again add a dashed y=x line.  Set the argument `fmt='.'` to create a scatterplot with errorbars.\n",
    "\n",
    "<!--\n",
    "BEGIN QUESTION\n",
    "name: q5b\n",
    "manual: true\n",
    "points: 5\n",
    "-->"
   ]
  },
  {
   "cell_type": "code",
   "execution_count": 126,
   "metadata": {},
   "outputs": [
    {
     "data": {
      "text/plain": [
       "[<matplotlib.lines.Line2D at 0x7f25f8aaa650>]"
      ]
     },
     "execution_count": 126,
     "metadata": {},
     "output_type": "execute_result"
    },
    {
     "data": {
      "text/plain": [
       "<Figure size 1000x1000 with 0 Axes>"
      ]
     },
     "metadata": {},
     "output_type": "display_data"
    },
    {
     "data": {
      "image/png": "[encoded data removed]",
      "text/plain": [
       "<Figure size 640x480 with 1 Axes>"
      ]
     },
     "metadata": {},
     "output_type": "display_data"
    }
   ],
   "source": [
    "# Plotting code below\n",
    "# create errror bars\n",
    "\n",
    "plt.figure(figsize=(10, 10))\n",
    "fig, ax = plt.subplots()\n",
    "ax.errorbar(midpoints, election_agg[\"mean\"], yerr=election_agg[\"err\"], fmt='.')\n",
    "ax.plot([0,1], [0,1], linestyle='--')\n"
   ]
  },
  {
   "cell_type": "markdown",
   "metadata": {
    "deletable": false,
    "editable": false
   },
   "source": [
    "<!-- END QUESTION -->\n",
    "\n",
    "### Question 5c: Computing Coverage\n",
    "\n",
    "If our intervals were true 95% confidence intervals, then we would expect about 95% of them to cover the midpoint of the bin (i.e. overlap with the y=x line).\n",
    "\n",
    "What fraction of the 95% confidence intervals cover the bin midpoint?  Create a variable, `upper`, to be the `mean` + `err` and another, `lower`, to be `mean` - `err` (both `upper` and `lower` should pandas series). Next, compute `frac_covering` as the fraction of midpoints between `lower` and `upper`. \n",
    "\n",
    "<!--\n",
    "BEGIN QUESTION\n",
    "name: q5c\n",
    "manual: false\n",
    "points: 5\n",
    "-->"
   ]
  },
  {
   "cell_type": "code",
   "execution_count": 101,
   "metadata": {},
   "outputs": [
    {
     "data": {
      "text/plain": [
       "0.6842105263157895"
      ]
     },
     "execution_count": 101,
     "metadata": {},
     "output_type": "execute_result"
    }
   ],
   "source": [
    "upper = election_agg[\"mean\"] + election_agg[\"err\"]\n",
    "lower = election_agg[\"mean\"] - election_agg[\"err\"]\n",
    "\n",
    "frac_covering = np.mean((lower <= midpoints) & (midpoints <= upper))\n",
    "frac_covering"
   ]
  },
  {
   "cell_type": "code",
   "execution_count": 102,
   "id": "6397d62d",
   "metadata": {
    "deletable": false,
    "editable": false
   },
   "outputs": [
    {
     "data": {
      "text/html": [
       "\n",
       "    <p><strong>q5c</strong> passed!</p>\n",
       "    "
      ],
      "text/plain": [
       "q5c passed!"
      ]
     },
     "execution_count": 102,
     "metadata": {},
     "output_type": "execute_result"
    }
   ],
   "source": [
    "grader.check(\"q5c\")"
   ]
  },
  {
   "cell_type": "markdown",
   "metadata": {
    "deletable": false,
    "editable": false
   },
   "source": [
    "<!-- BEGIN QUESTION -->\n",
    "\n",
    "### Question 5d: Understanding Confidence Intervals\n",
    "\n",
    "Are the 95% confidence intervals generally larger or smaller for more confident predictions (e.g. the predictions closer to 0 or 1).  What are the factors that determine the length of the confidence intervals?\n",
    "\n",
    "<!--\n",
    "BEGIN QUESTION\n",
    "name: q5d\n",
    "manual: true\n",
    "points: 5\n",
    "-->"
   ]
  },
  {
   "attachments": {},
   "cell_type": "markdown",
   "id": "a32ae9f1",
   "metadata": {},
   "source": [
    "Confidence interval should be smaller for more confident predictions since the error should be smaller.\n",
    "Based on the formular for confidence interval, there are several factors\n",
    "- alpha, smaller alpha gives smaller CI\n",
    "- standard deviation, smaller sd gives smaller CI\n",
    "- number of samples, higher n gives smaller CI\n"
   ]
  },
  {
   "cell_type": "markdown",
   "metadata": {},
   "source": [
    "<!-- END QUESTION -->\n",
    "\n",
    "\n",
    "\n",
    "_Intentionally Blank_"
   ]
  },
  {
   "cell_type": "markdown",
   "metadata": {
    "deletable": false,
    "editable": false
   },
   "source": [
    "### (PSTAT 234) Question 5e: Empirical Uncertainty Estimation\n",
    "\n",
    "Model-based error bars were calculated by assuming that election outcomes are Binomial random variables. However, we can also estimate the error bars from resampling the data. This can be useful if we do not have a good distributional about the election outcomes, for example.\n",
    "\n",
    "Write a function named `bootstrap_data_means` that can take a data frame, say `data_in`, as input. Suppose `data_in` has `n` rows. Inside `bootstrap_data_means` function, you will\n",
    "\n",
    "* [`numpy.random.Generator.choice`](https://docs.scipy.org/doc/numpy/reference/random/generated/numpy.random.Generator.choice.html?highlight=random%20choice#numpy.random.Generator.choice): Select `n`-rows of `data_in` at random _with replacement_, creating a pseudo-dataset\n",
    "* `agg`: Group by each `bin`, compute probabilities of success for each pseudo-dataset as you have done\n",
    "\n",
    "\n",
    "Then, run the function `bootstrap_data_means` function 100 times, storing the resulting 100 DataFrames in a list. Then, create a data frame `bootstrap_election_100_agg` using `pandas.concat`:\n",
    "\n",
    "* Python list comprehension: https://docs.python.org/3/tutorial/datastructures.html#list-comprehensions\n",
    "* [`pandas.concat`](https://pandas.pydata.org/pandas-docs/stable/reference/api/pandas.concat.html): Concatenate many DataFrames together.  \n",
    "    Especially, the example, _Combine two DataFrame objects with identical columns._, in https://pandas.pydata.org/pandas-docs/stable/reference/api/pandas.concat.html could be helpful.\n",
    "\n",
    "<!--\n",
    "BEGIN QUESTION\n",
    "name: q5e\n",
    "manual: false\n",
    "points: 5\n",
    "-->"
   ]
  },
  {
   "cell_type": "code",
   "execution_count": 119,
   "metadata": {},
   "outputs": [
    {
     "data": {
      "text/html": [
       "<div>\n",
       "<style scoped>\n",
       "    .dataframe tbody tr th:only-of-type {\n",
       "        vertical-align: middle;\n",
       "    }\n",
       "\n",
       "    .dataframe tbody tr th {\n",
       "        vertical-align: top;\n",
       "    }\n",
       "\n",
       "    .dataframe thead th {\n",
       "        text-align: right;\n",
       "    }\n",
       "</style>\n",
       "<table border=\"1\" class=\"dataframe\">\n",
       "  <thead>\n",
       "    <tr style=\"text-align: right;\">\n",
       "      <th></th>\n",
       "      <th>probwin_outcome</th>\n",
       "      <th>probwin_outcome</th>\n",
       "      <th>probwin_outcome</th>\n",
       "      <th>probwin_outcome</th>\n",
       "      <th>probwin_outcome</th>\n",
       "      <th>probwin_outcome</th>\n",
       "      <th>probwin_outcome</th>\n",
       "      <th>probwin_outcome</th>\n",
       "      <th>probwin_outcome</th>\n",
       "      <th>probwin_outcome</th>\n",
       "      <th>...</th>\n",
       "      <th>probwin_outcome</th>\n",
       "      <th>probwin_outcome</th>\n",
       "      <th>probwin_outcome</th>\n",
       "      <th>probwin_outcome</th>\n",
       "      <th>probwin_outcome</th>\n",
       "      <th>probwin_outcome</th>\n",
       "      <th>probwin_outcome</th>\n",
       "      <th>probwin_outcome</th>\n",
       "      <th>probwin_outcome</th>\n",
       "      <th>probwin_outcome</th>\n",
       "    </tr>\n",
       "    <tr>\n",
       "      <th>bin</th>\n",
       "      <th></th>\n",
       "      <th></th>\n",
       "      <th></th>\n",
       "      <th></th>\n",
       "      <th></th>\n",
       "      <th></th>\n",
       "      <th></th>\n",
       "      <th></th>\n",
       "      <th></th>\n",
       "      <th></th>\n",
       "      <th></th>\n",
       "      <th></th>\n",
       "      <th></th>\n",
       "      <th></th>\n",
       "      <th></th>\n",
       "      <th></th>\n",
       "      <th></th>\n",
       "      <th></th>\n",
       "      <th></th>\n",
       "      <th></th>\n",
       "      <th></th>\n",
       "    </tr>\n",
       "  </thead>\n",
       "  <tbody>\n",
       "    <tr>\n",
       "      <th>(-0.001, 0.0526]</th>\n",
       "      <td>0.003468</td>\n",
       "      <td>0.001185</td>\n",
       "      <td>0.001208</td>\n",
       "      <td>0.002265</td>\n",
       "      <td>0.001174</td>\n",
       "      <td>0.000000</td>\n",
       "      <td>0.001136</td>\n",
       "      <td>0.000000</td>\n",
       "      <td>0.001195</td>\n",
       "      <td>0.000000</td>\n",
       "      <td>...</td>\n",
       "      <td>0.001218</td>\n",
       "      <td>0.000000</td>\n",
       "      <td>0.001263</td>\n",
       "      <td>0.002350</td>\n",
       "      <td>0.000000</td>\n",
       "      <td>0.001163</td>\n",
       "      <td>0.002389</td>\n",
       "      <td>0.003580</td>\n",
       "      <td>0.000000</td>\n",
       "      <td>0.000000</td>\n",
       "    </tr>\n",
       "    <tr>\n",
       "      <th>(0.0526, 0.105]</th>\n",
       "      <td>0.100000</td>\n",
       "      <td>0.000000</td>\n",
       "      <td>0.076923</td>\n",
       "      <td>0.000000</td>\n",
       "      <td>0.104167</td>\n",
       "      <td>0.000000</td>\n",
       "      <td>0.000000</td>\n",
       "      <td>0.027027</td>\n",
       "      <td>0.023256</td>\n",
       "      <td>0.085714</td>\n",
       "      <td>...</td>\n",
       "      <td>0.048780</td>\n",
       "      <td>0.129032</td>\n",
       "      <td>0.076923</td>\n",
       "      <td>0.051282</td>\n",
       "      <td>0.030303</td>\n",
       "      <td>0.100000</td>\n",
       "      <td>0.031250</td>\n",
       "      <td>0.027778</td>\n",
       "      <td>0.000000</td>\n",
       "      <td>0.058824</td>\n",
       "    </tr>\n",
       "    <tr>\n",
       "      <th>(0.105, 0.158]</th>\n",
       "      <td>0.000000</td>\n",
       "      <td>0.000000</td>\n",
       "      <td>0.030303</td>\n",
       "      <td>0.023810</td>\n",
       "      <td>0.054054</td>\n",
       "      <td>0.027027</td>\n",
       "      <td>0.027778</td>\n",
       "      <td>0.000000</td>\n",
       "      <td>0.018182</td>\n",
       "      <td>0.021739</td>\n",
       "      <td>...</td>\n",
       "      <td>0.046512</td>\n",
       "      <td>0.000000</td>\n",
       "      <td>0.023810</td>\n",
       "      <td>0.000000</td>\n",
       "      <td>0.022727</td>\n",
       "      <td>0.014493</td>\n",
       "      <td>0.000000</td>\n",
       "      <td>0.047619</td>\n",
       "      <td>0.029412</td>\n",
       "      <td>0.071429</td>\n",
       "    </tr>\n",
       "    <tr>\n",
       "      <th>(0.158, 0.211]</th>\n",
       "      <td>0.090909</td>\n",
       "      <td>0.258065</td>\n",
       "      <td>0.166667</td>\n",
       "      <td>0.192308</td>\n",
       "      <td>0.000000</td>\n",
       "      <td>0.171429</td>\n",
       "      <td>0.137931</td>\n",
       "      <td>0.194444</td>\n",
       "      <td>0.185185</td>\n",
       "      <td>0.142857</td>\n",
       "      <td>...</td>\n",
       "      <td>0.086957</td>\n",
       "      <td>0.121212</td>\n",
       "      <td>0.121212</td>\n",
       "      <td>0.057143</td>\n",
       "      <td>0.111111</td>\n",
       "      <td>0.166667</td>\n",
       "      <td>0.047619</td>\n",
       "      <td>0.107143</td>\n",
       "      <td>0.176471</td>\n",
       "      <td>0.192308</td>\n",
       "    </tr>\n",
       "    <tr>\n",
       "      <th>(0.211, 0.263]</th>\n",
       "      <td>0.269231</td>\n",
       "      <td>0.303030</td>\n",
       "      <td>0.214286</td>\n",
       "      <td>0.172414</td>\n",
       "      <td>0.272727</td>\n",
       "      <td>0.200000</td>\n",
       "      <td>0.121212</td>\n",
       "      <td>0.156250</td>\n",
       "      <td>0.250000</td>\n",
       "      <td>0.133333</td>\n",
       "      <td>...</td>\n",
       "      <td>0.038462</td>\n",
       "      <td>0.156250</td>\n",
       "      <td>0.217391</td>\n",
       "      <td>0.108108</td>\n",
       "      <td>0.107143</td>\n",
       "      <td>0.040000</td>\n",
       "      <td>0.214286</td>\n",
       "      <td>0.193548</td>\n",
       "      <td>0.285714</td>\n",
       "      <td>0.216216</td>\n",
       "    </tr>\n",
       "    <tr>\n",
       "      <th>(0.263, 0.316]</th>\n",
       "      <td>0.047619</td>\n",
       "      <td>0.058824</td>\n",
       "      <td>0.050000</td>\n",
       "      <td>0.111111</td>\n",
       "      <td>0.071429</td>\n",
       "      <td>0.043478</td>\n",
       "      <td>0.166667</td>\n",
       "      <td>0.000000</td>\n",
       "      <td>0.000000</td>\n",
       "      <td>0.000000</td>\n",
       "      <td>...</td>\n",
       "      <td>0.055556</td>\n",
       "      <td>0.047619</td>\n",
       "      <td>0.166667</td>\n",
       "      <td>0.062500</td>\n",
       "      <td>0.000000</td>\n",
       "      <td>0.083333</td>\n",
       "      <td>0.095238</td>\n",
       "      <td>0.000000</td>\n",
       "      <td>0.090909</td>\n",
       "      <td>0.125000</td>\n",
       "    </tr>\n",
       "    <tr>\n",
       "      <th>(0.316, 0.368]</th>\n",
       "      <td>0.181818</td>\n",
       "      <td>0.181818</td>\n",
       "      <td>0.357143</td>\n",
       "      <td>0.117647</td>\n",
       "      <td>0.266667</td>\n",
       "      <td>0.277778</td>\n",
       "      <td>0.153846</td>\n",
       "      <td>0.300000</td>\n",
       "      <td>0.333333</td>\n",
       "      <td>0.384615</td>\n",
       "      <td>...</td>\n",
       "      <td>0.250000</td>\n",
       "      <td>0.300000</td>\n",
       "      <td>0.142857</td>\n",
       "      <td>0.400000</td>\n",
       "      <td>0.222222</td>\n",
       "      <td>0.315789</td>\n",
       "      <td>0.142857</td>\n",
       "      <td>0.200000</td>\n",
       "      <td>0.133333</td>\n",
       "      <td>0.421053</td>\n",
       "    </tr>\n",
       "    <tr>\n",
       "      <th>(0.368, 0.421]</th>\n",
       "      <td>0.185185</td>\n",
       "      <td>0.368421</td>\n",
       "      <td>0.384615</td>\n",
       "      <td>0.142857</td>\n",
       "      <td>0.187500</td>\n",
       "      <td>0.200000</td>\n",
       "      <td>0.343750</td>\n",
       "      <td>0.296296</td>\n",
       "      <td>0.187500</td>\n",
       "      <td>0.260870</td>\n",
       "      <td>...</td>\n",
       "      <td>0.176471</td>\n",
       "      <td>0.185185</td>\n",
       "      <td>0.173913</td>\n",
       "      <td>0.230769</td>\n",
       "      <td>0.333333</td>\n",
       "      <td>0.238095</td>\n",
       "      <td>0.200000</td>\n",
       "      <td>0.190476</td>\n",
       "      <td>0.206897</td>\n",
       "      <td>0.318182</td>\n",
       "    </tr>\n",
       "    <tr>\n",
       "      <th>(0.421, 0.474]</th>\n",
       "      <td>0.333333</td>\n",
       "      <td>0.583333</td>\n",
       "      <td>0.363636</td>\n",
       "      <td>0.600000</td>\n",
       "      <td>0.363636</td>\n",
       "      <td>0.363636</td>\n",
       "      <td>0.428571</td>\n",
       "      <td>0.526316</td>\n",
       "      <td>0.538462</td>\n",
       "      <td>0.571429</td>\n",
       "      <td>...</td>\n",
       "      <td>0.636364</td>\n",
       "      <td>0.666667</td>\n",
       "      <td>0.642857</td>\n",
       "      <td>0.357143</td>\n",
       "      <td>0.333333</td>\n",
       "      <td>0.400000</td>\n",
       "      <td>0.500000</td>\n",
       "      <td>0.750000</td>\n",
       "      <td>0.400000</td>\n",
       "      <td>0.571429</td>\n",
       "    </tr>\n",
       "    <tr>\n",
       "      <th>(0.474, 0.526]</th>\n",
       "      <td>0.615385</td>\n",
       "      <td>0.500000</td>\n",
       "      <td>0.571429</td>\n",
       "      <td>0.642857</td>\n",
       "      <td>0.416667</td>\n",
       "      <td>0.611111</td>\n",
       "      <td>0.562500</td>\n",
       "      <td>0.315789</td>\n",
       "      <td>0.307692</td>\n",
       "      <td>0.437500</td>\n",
       "      <td>...</td>\n",
       "      <td>0.533333</td>\n",
       "      <td>0.750000</td>\n",
       "      <td>0.529412</td>\n",
       "      <td>0.545455</td>\n",
       "      <td>0.375000</td>\n",
       "      <td>0.461538</td>\n",
       "      <td>0.428571</td>\n",
       "      <td>0.571429</td>\n",
       "      <td>0.500000</td>\n",
       "      <td>0.625000</td>\n",
       "    </tr>\n",
       "    <tr>\n",
       "      <th>(0.526, 0.579]</th>\n",
       "      <td>0.583333</td>\n",
       "      <td>0.444444</td>\n",
       "      <td>0.533333</td>\n",
       "      <td>0.090909</td>\n",
       "      <td>0.666667</td>\n",
       "      <td>0.571429</td>\n",
       "      <td>0.500000</td>\n",
       "      <td>0.769231</td>\n",
       "      <td>0.541667</td>\n",
       "      <td>0.235294</td>\n",
       "      <td>...</td>\n",
       "      <td>0.470588</td>\n",
       "      <td>0.545455</td>\n",
       "      <td>0.692308</td>\n",
       "      <td>0.375000</td>\n",
       "      <td>0.461538</td>\n",
       "      <td>0.625000</td>\n",
       "      <td>0.454545</td>\n",
       "      <td>0.333333</td>\n",
       "      <td>0.555556</td>\n",
       "      <td>0.562500</td>\n",
       "    </tr>\n",
       "    <tr>\n",
       "      <th>(0.579, 0.632]</th>\n",
       "      <td>0.708333</td>\n",
       "      <td>0.652174</td>\n",
       "      <td>0.684211</td>\n",
       "      <td>0.782609</td>\n",
       "      <td>0.607143</td>\n",
       "      <td>0.687500</td>\n",
       "      <td>0.785714</td>\n",
       "      <td>0.826087</td>\n",
       "      <td>0.400000</td>\n",
       "      <td>0.916667</td>\n",
       "      <td>...</td>\n",
       "      <td>0.620690</td>\n",
       "      <td>0.736842</td>\n",
       "      <td>0.571429</td>\n",
       "      <td>0.650000</td>\n",
       "      <td>0.615385</td>\n",
       "      <td>0.818182</td>\n",
       "      <td>0.782609</td>\n",
       "      <td>0.636364</td>\n",
       "      <td>0.750000</td>\n",
       "      <td>0.681818</td>\n",
       "    </tr>\n",
       "    <tr>\n",
       "      <th>(0.632, 0.684]</th>\n",
       "      <td>0.866667</td>\n",
       "      <td>0.666667</td>\n",
       "      <td>0.500000</td>\n",
       "      <td>0.785714</td>\n",
       "      <td>0.846154</td>\n",
       "      <td>0.818182</td>\n",
       "      <td>0.882353</td>\n",
       "      <td>0.833333</td>\n",
       "      <td>0.619048</td>\n",
       "      <td>0.785714</td>\n",
       "      <td>...</td>\n",
       "      <td>0.684211</td>\n",
       "      <td>0.842105</td>\n",
       "      <td>0.809524</td>\n",
       "      <td>0.954545</td>\n",
       "      <td>0.812500</td>\n",
       "      <td>0.733333</td>\n",
       "      <td>0.785714</td>\n",
       "      <td>0.680000</td>\n",
       "      <td>0.736842</td>\n",
       "      <td>0.764706</td>\n",
       "    </tr>\n",
       "    <tr>\n",
       "      <th>(0.684, 0.737]</th>\n",
       "      <td>0.916667</td>\n",
       "      <td>0.846154</td>\n",
       "      <td>0.894737</td>\n",
       "      <td>0.866667</td>\n",
       "      <td>0.950000</td>\n",
       "      <td>0.956522</td>\n",
       "      <td>1.000000</td>\n",
       "      <td>1.000000</td>\n",
       "      <td>0.947368</td>\n",
       "      <td>0.947368</td>\n",
       "      <td>...</td>\n",
       "      <td>0.944444</td>\n",
       "      <td>0.882353</td>\n",
       "      <td>0.933333</td>\n",
       "      <td>1.000000</td>\n",
       "      <td>0.937500</td>\n",
       "      <td>0.900000</td>\n",
       "      <td>1.000000</td>\n",
       "      <td>0.952381</td>\n",
       "      <td>0.894737</td>\n",
       "      <td>1.000000</td>\n",
       "    </tr>\n",
       "    <tr>\n",
       "      <th>(0.737, 0.789]</th>\n",
       "      <td>0.722222</td>\n",
       "      <td>0.500000</td>\n",
       "      <td>1.000000</td>\n",
       "      <td>0.804878</td>\n",
       "      <td>0.777778</td>\n",
       "      <td>0.781250</td>\n",
       "      <td>0.590909</td>\n",
       "      <td>0.733333</td>\n",
       "      <td>0.833333</td>\n",
       "      <td>0.766667</td>\n",
       "      <td>...</td>\n",
       "      <td>0.862069</td>\n",
       "      <td>0.825000</td>\n",
       "      <td>0.791667</td>\n",
       "      <td>0.833333</td>\n",
       "      <td>0.730769</td>\n",
       "      <td>0.774194</td>\n",
       "      <td>0.794118</td>\n",
       "      <td>0.815789</td>\n",
       "      <td>0.837838</td>\n",
       "      <td>0.833333</td>\n",
       "    </tr>\n",
       "    <tr>\n",
       "      <th>(0.789, 0.842]</th>\n",
       "      <td>0.821429</td>\n",
       "      <td>0.866667</td>\n",
       "      <td>0.800000</td>\n",
       "      <td>0.923077</td>\n",
       "      <td>0.875000</td>\n",
       "      <td>0.875000</td>\n",
       "      <td>0.812500</td>\n",
       "      <td>0.891892</td>\n",
       "      <td>0.850000</td>\n",
       "      <td>0.800000</td>\n",
       "      <td>...</td>\n",
       "      <td>0.857143</td>\n",
       "      <td>0.840000</td>\n",
       "      <td>0.764706</td>\n",
       "      <td>0.833333</td>\n",
       "      <td>0.892857</td>\n",
       "      <td>0.777778</td>\n",
       "      <td>0.840000</td>\n",
       "      <td>0.857143</td>\n",
       "      <td>0.809524</td>\n",
       "      <td>0.800000</td>\n",
       "    </tr>\n",
       "    <tr>\n",
       "      <th>(0.842, 0.895]</th>\n",
       "      <td>0.966667</td>\n",
       "      <td>0.939394</td>\n",
       "      <td>0.979167</td>\n",
       "      <td>1.000000</td>\n",
       "      <td>0.976190</td>\n",
       "      <td>0.956522</td>\n",
       "      <td>0.953488</td>\n",
       "      <td>0.976744</td>\n",
       "      <td>0.958333</td>\n",
       "      <td>0.958333</td>\n",
       "      <td>...</td>\n",
       "      <td>0.957447</td>\n",
       "      <td>0.971429</td>\n",
       "      <td>1.000000</td>\n",
       "      <td>0.964286</td>\n",
       "      <td>0.975000</td>\n",
       "      <td>0.974359</td>\n",
       "      <td>0.976190</td>\n",
       "      <td>1.000000</td>\n",
       "      <td>0.973684</td>\n",
       "      <td>0.976744</td>\n",
       "    </tr>\n",
       "    <tr>\n",
       "      <th>(0.895, 0.947]</th>\n",
       "      <td>0.843750</td>\n",
       "      <td>0.925926</td>\n",
       "      <td>0.974359</td>\n",
       "      <td>0.896552</td>\n",
       "      <td>0.969697</td>\n",
       "      <td>0.916667</td>\n",
       "      <td>0.939394</td>\n",
       "      <td>0.961538</td>\n",
       "      <td>0.944444</td>\n",
       "      <td>0.923077</td>\n",
       "      <td>...</td>\n",
       "      <td>0.964286</td>\n",
       "      <td>0.954545</td>\n",
       "      <td>0.878788</td>\n",
       "      <td>0.913043</td>\n",
       "      <td>0.909091</td>\n",
       "      <td>0.935484</td>\n",
       "      <td>0.931034</td>\n",
       "      <td>1.000000</td>\n",
       "      <td>0.958333</td>\n",
       "      <td>0.965517</td>\n",
       "    </tr>\n",
       "    <tr>\n",
       "      <th>(0.947, 1.0]</th>\n",
       "      <td>0.998452</td>\n",
       "      <td>0.997059</td>\n",
       "      <td>0.997114</td>\n",
       "      <td>0.995200</td>\n",
       "      <td>1.000000</td>\n",
       "      <td>0.993671</td>\n",
       "      <td>1.000000</td>\n",
       "      <td>0.998494</td>\n",
       "      <td>1.000000</td>\n",
       "      <td>1.000000</td>\n",
       "      <td>...</td>\n",
       "      <td>0.997001</td>\n",
       "      <td>1.000000</td>\n",
       "      <td>0.998561</td>\n",
       "      <td>0.998374</td>\n",
       "      <td>1.000000</td>\n",
       "      <td>0.998390</td>\n",
       "      <td>1.000000</td>\n",
       "      <td>0.998464</td>\n",
       "      <td>1.000000</td>\n",
       "      <td>0.993912</td>\n",
       "    </tr>\n",
       "  </tbody>\n",
       "</table>\n",
       "<p>19 rows × 100 columns</p>\n",
       "</div>"
      ],
      "text/plain": [
       "                  probwin_outcome  probwin_outcome  probwin_outcome  \\\n",
       "bin                                                                   \n",
       "(-0.001, 0.0526]         0.003468         0.001185         0.001208   \n",
       "(0.0526, 0.105]          0.100000         0.000000         0.076923   \n",
       "(0.105, 0.158]           0.000000         0.000000         0.030303   \n",
       "(0.158, 0.211]           0.090909         0.258065         0.166667   \n",
       "(0.211, 0.263]           0.269231         0.303030         0.214286   \n",
       "(0.263, 0.316]           0.047619         0.058824         0.050000   \n",
       "(0.316, 0.368]           0.181818         0.181818         0.357143   \n",
       "(0.368, 0.421]           0.185185         0.368421         0.384615   \n",
       "(0.421, 0.474]           0.333333         0.583333         0.363636   \n",
       "(0.474, 0.526]           0.615385         0.500000         0.571429   \n",
       "(0.526, 0.579]           0.583333         0.444444         0.533333   \n",
       "(0.579, 0.632]           0.708333         0.652174         0.684211   \n",
       "(0.632, 0.684]           0.866667         0.666667         0.500000   \n",
       "(0.684, 0.737]           0.916667         0.846154         0.894737   \n",
       "(0.737, 0.789]           0.722222         0.500000         1.000000   \n",
       "(0.789, 0.842]           0.821429         0.866667         0.800000   \n",
       "(0.842, 0.895]           0.966667         0.939394         0.979167   \n",
       "(0.895, 0.947]           0.843750         0.925926         0.974359   \n",
       "(0.947, 1.0]             0.998452         0.997059         0.997114   \n",
       "\n",
       "                  probwin_outcome  probwin_outcome  probwin_outcome  \\\n",
       "bin                                                                   \n",
       "(-0.001, 0.0526]         0.002265         0.001174         0.000000   \n",
       "(0.0526, 0.105]          0.000000         0.104167         0.000000   \n",
       "(0.105, 0.158]           0.023810         0.054054         0.027027   \n",
       "(0.158, 0.211]           0.192308         0.000000         0.171429   \n",
       "(0.211, 0.263]           0.172414         0.272727         0.200000   \n",
       "(0.263, 0.316]           0.111111         0.071429         0.043478   \n",
       "(0.316, 0.368]           0.117647         0.266667         0.277778   \n",
       "(0.368, 0.421]           0.142857         0.187500         0.200000   \n",
       "(0.421, 0.474]           0.600000         0.363636         0.363636   \n",
       "(0.474, 0.526]           0.642857         0.416667         0.611111   \n",
       "(0.526, 0.579]           0.090909         0.666667         0.571429   \n",
       "(0.579, 0.632]           0.782609         0.607143         0.687500   \n",
       "(0.632, 0.684]           0.785714         0.846154         0.818182   \n",
       "(0.684, 0.737]           0.866667         0.950000         0.956522   \n",
       "(0.737, 0.789]           0.804878         0.777778         0.781250   \n",
       "(0.789, 0.842]           0.923077         0.875000         0.875000   \n",
       "(0.842, 0.895]           1.000000         0.976190         0.956522   \n",
       "(0.895, 0.947]           0.896552         0.969697         0.916667   \n",
       "(0.947, 1.0]             0.995200         1.000000         0.993671   \n",
       "\n",
       "                  probwin_outcome  probwin_outcome  probwin_outcome  \\\n",
       "bin                                                                   \n",
       "(-0.001, 0.0526]         0.001136         0.000000         0.001195   \n",
       "(0.0526, 0.105]          0.000000         0.027027         0.023256   \n",
       "(0.105, 0.158]           0.027778         0.000000         0.018182   \n",
       "(0.158, 0.211]           0.137931         0.194444         0.185185   \n",
       "(0.211, 0.263]           0.121212         0.156250         0.250000   \n",
       "(0.263, 0.316]           0.166667         0.000000         0.000000   \n",
       "(0.316, 0.368]           0.153846         0.300000         0.333333   \n",
       "(0.368, 0.421]           0.343750         0.296296         0.187500   \n",
       "(0.421, 0.474]           0.428571         0.526316         0.538462   \n",
       "(0.474, 0.526]           0.562500         0.315789         0.307692   \n",
       "(0.526, 0.579]           0.500000         0.769231         0.541667   \n",
       "(0.579, 0.632]           0.785714         0.826087         0.400000   \n",
       "(0.632, 0.684]           0.882353         0.833333         0.619048   \n",
       "(0.684, 0.737]           1.000000         1.000000         0.947368   \n",
       "(0.737, 0.789]           0.590909         0.733333         0.833333   \n",
       "(0.789, 0.842]           0.812500         0.891892         0.850000   \n",
       "(0.842, 0.895]           0.953488         0.976744         0.958333   \n",
       "(0.895, 0.947]           0.939394         0.961538         0.944444   \n",
       "(0.947, 1.0]             1.000000         0.998494         1.000000   \n",
       "\n",
       "                  probwin_outcome  ...  probwin_outcome  probwin_outcome  \\\n",
       "bin                                ...                                     \n",
       "(-0.001, 0.0526]         0.000000  ...         0.001218         0.000000   \n",
       "(0.0526, 0.105]          0.085714  ...         0.048780         0.129032   \n",
       "(0.105, 0.158]           0.021739  ...         0.046512         0.000000   \n",
       "(0.158, 0.211]           0.142857  ...         0.086957         0.121212   \n",
       "(0.211, 0.263]           0.133333  ...         0.038462         0.156250   \n",
       "(0.263, 0.316]           0.000000  ...         0.055556         0.047619   \n",
       "(0.316, 0.368]           0.384615  ...         0.250000         0.300000   \n",
       "(0.368, 0.421]           0.260870  ...         0.176471         0.185185   \n",
       "(0.421, 0.474]           0.571429  ...         0.636364         0.666667   \n",
       "(0.474, 0.526]           0.437500  ...         0.533333         0.750000   \n",
       "(0.526, 0.579]           0.235294  ...         0.470588         0.545455   \n",
       "(0.579, 0.632]           0.916667  ...         0.620690         0.736842   \n",
       "(0.632, 0.684]           0.785714  ...         0.684211         0.842105   \n",
       "(0.684, 0.737]           0.947368  ...         0.944444         0.882353   \n",
       "(0.737, 0.789]           0.766667  ...         0.862069         0.825000   \n",
       "(0.789, 0.842]           0.800000  ...         0.857143         0.840000   \n",
       "(0.842, 0.895]           0.958333  ...         0.957447         0.971429   \n",
       "(0.895, 0.947]           0.923077  ...         0.964286         0.954545   \n",
       "(0.947, 1.0]             1.000000  ...         0.997001         1.000000   \n",
       "\n",
       "                  probwin_outcome  probwin_outcome  probwin_outcome  \\\n",
       "bin                                                                   \n",
       "(-0.001, 0.0526]         0.001263         0.002350         0.000000   \n",
       "(0.0526, 0.105]          0.076923         0.051282         0.030303   \n",
       "(0.105, 0.158]           0.023810         0.000000         0.022727   \n",
       "(0.158, 0.211]           0.121212         0.057143         0.111111   \n",
       "(0.211, 0.263]           0.217391         0.108108         0.107143   \n",
       "(0.263, 0.316]           0.166667         0.062500         0.000000   \n",
       "(0.316, 0.368]           0.142857         0.400000         0.222222   \n",
       "(0.368, 0.421]           0.173913         0.230769         0.333333   \n",
       "(0.421, 0.474]           0.642857         0.357143         0.333333   \n",
       "(0.474, 0.526]           0.529412         0.545455         0.375000   \n",
       "(0.526, 0.579]           0.692308         0.375000         0.461538   \n",
       "(0.579, 0.632]           0.571429         0.650000         0.615385   \n",
       "(0.632, 0.684]           0.809524         0.954545         0.812500   \n",
       "(0.684, 0.737]           0.933333         1.000000         0.937500   \n",
       "(0.737, 0.789]           0.791667         0.833333         0.730769   \n",
       "(0.789, 0.842]           0.764706         0.833333         0.892857   \n",
       "(0.842, 0.895]           1.000000         0.964286         0.975000   \n",
       "(0.895, 0.947]           0.878788         0.913043         0.909091   \n",
       "(0.947, 1.0]             0.998561         0.998374         1.000000   \n",
       "\n",
       "                  probwin_outcome  probwin_outcome  probwin_outcome  \\\n",
       "bin                                                                   \n",
       "(-0.001, 0.0526]         0.001163         0.002389         0.003580   \n",
       "(0.0526, 0.105]          0.100000         0.031250         0.027778   \n",
       "(0.105, 0.158]           0.014493         0.000000         0.047619   \n",
       "(0.158, 0.211]           0.166667         0.047619         0.107143   \n",
       "(0.211, 0.263]           0.040000         0.214286         0.193548   \n",
       "(0.263, 0.316]           0.083333         0.095238         0.000000   \n",
       "(0.316, 0.368]           0.315789         0.142857         0.200000   \n",
       "(0.368, 0.421]           0.238095         0.200000         0.190476   \n",
       "(0.421, 0.474]           0.400000         0.500000         0.750000   \n",
       "(0.474, 0.526]           0.461538         0.428571         0.571429   \n",
       "(0.526, 0.579]           0.625000         0.454545         0.333333   \n",
       "(0.579, 0.632]           0.818182         0.782609         0.636364   \n",
       "(0.632, 0.684]           0.733333         0.785714         0.680000   \n",
       "(0.684, 0.737]           0.900000         1.000000         0.952381   \n",
       "(0.737, 0.789]           0.774194         0.794118         0.815789   \n",
       "(0.789, 0.842]           0.777778         0.840000         0.857143   \n",
       "(0.842, 0.895]           0.974359         0.976190         1.000000   \n",
       "(0.895, 0.947]           0.935484         0.931034         1.000000   \n",
       "(0.947, 1.0]             0.998390         1.000000         0.998464   \n",
       "\n",
       "                  probwin_outcome  probwin_outcome  \n",
       "bin                                                 \n",
       "(-0.001, 0.0526]         0.000000         0.000000  \n",
       "(0.0526, 0.105]          0.000000         0.058824  \n",
       "(0.105, 0.158]           0.029412         0.071429  \n",
       "(0.158, 0.211]           0.176471         0.192308  \n",
       "(0.211, 0.263]           0.285714         0.216216  \n",
       "(0.263, 0.316]           0.090909         0.125000  \n",
       "(0.316, 0.368]           0.133333         0.421053  \n",
       "(0.368, 0.421]           0.206897         0.318182  \n",
       "(0.421, 0.474]           0.400000         0.571429  \n",
       "(0.474, 0.526]           0.500000         0.625000  \n",
       "(0.526, 0.579]           0.555556         0.562500  \n",
       "(0.579, 0.632]           0.750000         0.681818  \n",
       "(0.632, 0.684]           0.736842         0.764706  \n",
       "(0.684, 0.737]           0.894737         1.000000  \n",
       "(0.737, 0.789]           0.837838         0.833333  \n",
       "(0.789, 0.842]           0.809524         0.800000  \n",
       "(0.842, 0.895]           0.973684         0.976744  \n",
       "(0.895, 0.947]           0.958333         0.965517  \n",
       "(0.947, 1.0]             1.000000         0.993912  \n",
       "\n",
       "[19 rows x 100 columns]"
      ]
     },
     "execution_count": 119,
     "metadata": {},
     "output_type": "execute_result"
    }
   ],
   "source": [
    "def bootstrap_data_means(data_in):\n",
    "    \n",
    "    from numpy.random import choice\n",
    "    \n",
    "    n = len(data_in)\n",
    "    \n",
    "    # randomly sample row indices with replacement\n",
    "    indices = choice(n, size=n, replace=True)\n",
    "    # compute probabilities of success\n",
    "    bootstrap_means = data_in.iloc[indices,:].groupby(\"bin\").agg({\"probwin_outcome\" : \"mean\"})\n",
    "    \n",
    "    return(bootstrap_means)\n",
    "\n",
    "\n",
    "bootstrap_election_100_agg = pd.concat([bootstrap_data_means(election_sub) for i in range(100)], axis=1)\n",
    "bootstrap_election_100_agg"
   ]
  },
  {
   "cell_type": "code",
   "execution_count": 120,
   "id": "0bcdfaa8",
   "metadata": {
    "deletable": false,
    "editable": false
   },
   "outputs": [
    {
     "data": {
      "text/html": [
       "\n",
       "    <p><strong>q5e</strong> passed!</p>\n",
       "    "
      ],
      "text/plain": [
       "q5e passed!"
      ]
     },
     "execution_count": 120,
     "metadata": {},
     "output_type": "execute_result"
    }
   ],
   "source": [
    "grader.check(\"q5e\")"
   ]
  },
  {
   "cell_type": "markdown",
   "metadata": {
    "deletable": false,
    "editable": false
   },
   "source": [
    "<!-- BEGIN QUESTION -->\n",
    "\n",
    "### (PSTAT 234) Question 5f. Visualize Error Bars 2\n",
    "\n",
    "By now, we have a distribution of success probabilities saved in `bootstrap_election_agg`. We can compute empirical error bars from 2.5% and 97.5% quantiles. Write function named `bootstrap_error_bars` that can be used to calculate the following columns:\n",
    "\n",
    "* `mean`: mean of probabilities of success\n",
    "* `err_low`: low point of the error bars\n",
    "* `err_high`: high point of the error bars\n",
    "\n",
    "Funtion `bootstrap_error_bars` is to be called by using `bootstrap_election_100_agg.apply(bootstrap_error_bars, ...)`.\n",
    "\n",
    "<!--\n",
    "BEGIN QUESTION\n",
    "name: q5f\n",
    "manual: true\n",
    "points: 5\n",
    "-->"
   ]
  },
  {
   "cell_type": "code",
   "execution_count": 121,
   "metadata": {},
   "outputs": [],
   "source": [
    "def bootstrap_error_bars(x):\n",
    "    out = pd.Series([x.mean(), x.mean()-x.quantile(0.025), x.quantile(0.975)-x.mean()], \n",
    "                    index=['mean', 'err_low', 'err_high'])\n",
    "    return(out)"
   ]
  },
  {
   "cell_type": "markdown",
   "metadata": {},
   "source": [
    "<!-- END QUESTION -->\n",
    "\n",
    "\n",
    "\n",
    "Use [`pandas.DataFrame.apply`](https://pandas.pydata.org/pandas-docs/stable/reference/api/pandas.DataFrame.apply.html) and `bootstrap_error_bars` functions to calculate and visualize the error bars.\n",
    "\n",
    "In addition, to the figure code used in 5b, add horizontal lines at 0 and 1."
   ]
  },
  {
   "cell_type": "code",
   "execution_count": 129,
   "metadata": {},
   "outputs": [
    {
     "ename": "KeyError",
     "evalue": "'err'",
     "output_type": "error",
     "traceback": [
      "\u001b[0;31m---------------------------------------------------------------------------\u001b[0m",
      "\u001b[0;31mKeyError\u001b[0m                                  Traceback (most recent call last)",
      "File \u001b[0;32m/usr/lib/python3.10/site-packages/pandas/core/indexes/base.py:3802\u001b[0m, in \u001b[0;36mIndex.get_loc\u001b[0;34m(self, key, method, tolerance)\u001b[0m\n\u001b[1;32m   3801\u001b[0m \u001b[39mtry\u001b[39;00m:\n\u001b[0;32m-> 3802\u001b[0m     \u001b[39mreturn\u001b[39;00m \u001b[39mself\u001b[39;49m\u001b[39m.\u001b[39;49m_engine\u001b[39m.\u001b[39;49mget_loc(casted_key)\n\u001b[1;32m   3803\u001b[0m \u001b[39mexcept\u001b[39;00m \u001b[39mKeyError\u001b[39;00m \u001b[39mas\u001b[39;00m err:\n",
      "File \u001b[0;32m/usr/lib/python3.10/site-packages/pandas/_libs/index.pyx:138\u001b[0m, in \u001b[0;36mpandas._libs.index.IndexEngine.get_loc\u001b[0;34m()\u001b[0m\n",
      "File \u001b[0;32m/usr/lib/python3.10/site-packages/pandas/_libs/index.pyx:165\u001b[0m, in \u001b[0;36mpandas._libs.index.IndexEngine.get_loc\u001b[0;34m()\u001b[0m\n",
      "File \u001b[0;32mpandas/_libs/hashtable_class_helper.pxi:5745\u001b[0m, in \u001b[0;36mpandas._libs.hashtable.PyObjectHashTable.get_item\u001b[0;34m()\u001b[0m\n",
      "File \u001b[0;32mpandas/_libs/hashtable_class_helper.pxi:5753\u001b[0m, in \u001b[0;36mpandas._libs.hashtable.PyObjectHashTable.get_item\u001b[0;34m()\u001b[0m\n",
      "\u001b[0;31mKeyError\u001b[0m: 'err'",
      "\nThe above exception was the direct cause of the following exception:\n",
      "\u001b[0;31mKeyError\u001b[0m                                  Traceback (most recent call last)",
      "Cell \u001b[0;32mIn[129], line 24\u001b[0m\n\u001b[1;32m     16\u001b[0m \u001b[39m# Overlay empirical error bars on the same plot. Use the following \u001b[39;00m\n\u001b[1;32m     17\u001b[0m \u001b[39m# visual attributes: \u001b[39;00m\n\u001b[1;32m     18\u001b[0m \u001b[39m# ..., fmt='.r', elinewidth=1, ms=10, ecolor='red', capsize=5, ...\u001b[39;00m\n\u001b[1;32m     19\u001b[0m \u001b[39m# Also, yerr can accept asymmetric errorbars (see the documentation for usage)\u001b[39;00m\n\u001b[1;32m     21\u001b[0m plt\u001b[39m.\u001b[39mfigure(figsize\u001b[39m=\u001b[39m(\u001b[39m10\u001b[39m, \u001b[39m10\u001b[39m))\n\u001b[1;32m     22\u001b[0m plt\u001b[39m.\u001b[39merrorbar(midpoints, \n\u001b[1;32m     23\u001b[0m              bootstrap_election_agg[\u001b[39m'\u001b[39m\u001b[39mmean\u001b[39m\u001b[39m'\u001b[39m]\u001b[39m.\u001b[39mvalues, \n\u001b[0;32m---> 24\u001b[0m              yerr\u001b[39m=\u001b[39mbootstrap_election_agg[\u001b[39m'\u001b[39;49m\u001b[39merr\u001b[39;49m\u001b[39m'\u001b[39;49m]\u001b[39m.\u001b[39mvalues, \n\u001b[1;32m     25\u001b[0m              fmt\u001b[39m=\u001b[39m\u001b[39m'\u001b[39m\u001b[39m.\u001b[39m\u001b[39m'\u001b[39m, elinewidth\u001b[39m=\u001b[39m\u001b[39m3\u001b[39m, ms\u001b[39m=\u001b[39m\u001b[39m20\u001b[39m, \n\u001b[1;32m     26\u001b[0m              capsize\u001b[39m=\u001b[39m\u001b[39m5\u001b[39m, capthick\u001b[39m=\u001b[39m\u001b[39m3\u001b[39m)\n\u001b[1;32m     27\u001b[0m plt\u001b[39m.\u001b[39mplot([\u001b[39m0\u001b[39m, \u001b[39m1\u001b[39m], [\u001b[39m0\u001b[39m, \u001b[39m1\u001b[39m], \u001b[39m'\u001b[39m\u001b[39m--\u001b[39m\u001b[39m'\u001b[39m)\n\u001b[1;32m     28\u001b[0m plt\u001b[39m.\u001b[39mplot([\u001b[39m0\u001b[39m, \u001b[39m1\u001b[39m], [\u001b[39m1\u001b[39m, \u001b[39m1\u001b[39m], \u001b[39m'\u001b[39m\u001b[39m:r\u001b[39m\u001b[39m'\u001b[39m)\n",
      "File \u001b[0;32m/usr/lib/python3.10/site-packages/pandas/core/frame.py:3807\u001b[0m, in \u001b[0;36mDataFrame.__getitem__\u001b[0;34m(self, key)\u001b[0m\n\u001b[1;32m   3805\u001b[0m \u001b[39mif\u001b[39;00m \u001b[39mself\u001b[39m\u001b[39m.\u001b[39mcolumns\u001b[39m.\u001b[39mnlevels \u001b[39m>\u001b[39m \u001b[39m1\u001b[39m:\n\u001b[1;32m   3806\u001b[0m     \u001b[39mreturn\u001b[39;00m \u001b[39mself\u001b[39m\u001b[39m.\u001b[39m_getitem_multilevel(key)\n\u001b[0;32m-> 3807\u001b[0m indexer \u001b[39m=\u001b[39m \u001b[39mself\u001b[39;49m\u001b[39m.\u001b[39;49mcolumns\u001b[39m.\u001b[39;49mget_loc(key)\n\u001b[1;32m   3808\u001b[0m \u001b[39mif\u001b[39;00m is_integer(indexer):\n\u001b[1;32m   3809\u001b[0m     indexer \u001b[39m=\u001b[39m [indexer]\n",
      "File \u001b[0;32m/usr/lib/python3.10/site-packages/pandas/core/indexes/base.py:3804\u001b[0m, in \u001b[0;36mIndex.get_loc\u001b[0;34m(self, key, method, tolerance)\u001b[0m\n\u001b[1;32m   3802\u001b[0m     \u001b[39mreturn\u001b[39;00m \u001b[39mself\u001b[39m\u001b[39m.\u001b[39m_engine\u001b[39m.\u001b[39mget_loc(casted_key)\n\u001b[1;32m   3803\u001b[0m \u001b[39mexcept\u001b[39;00m \u001b[39mKeyError\u001b[39;00m \u001b[39mas\u001b[39;00m err:\n\u001b[0;32m-> 3804\u001b[0m     \u001b[39mraise\u001b[39;00m \u001b[39mKeyError\u001b[39;00m(key) \u001b[39mfrom\u001b[39;00m \u001b[39merr\u001b[39;00m\n\u001b[1;32m   3805\u001b[0m \u001b[39mexcept\u001b[39;00m \u001b[39mTypeError\u001b[39;00m:\n\u001b[1;32m   3806\u001b[0m     \u001b[39m# If we have a listlike key, _check_indexing_error will raise\u001b[39;00m\n\u001b[1;32m   3807\u001b[0m     \u001b[39m#  InvalidIndexError. Otherwise we fall through and re-raise\u001b[39;00m\n\u001b[1;32m   3808\u001b[0m     \u001b[39m#  the TypeError.\u001b[39;00m\n\u001b[1;32m   3809\u001b[0m     \u001b[39mself\u001b[39m\u001b[39m.\u001b[39m_check_indexing_error(key)\n",
      "\u001b[0;31mKeyError\u001b[0m: 'err'"
     ]
    },
    {
     "data": {
      "image/png": "[encoded data removed]",
      "text/plain": [
       "<Figure size 1000x1000 with 1 Axes>"
      ]
     },
     "metadata": {},
     "output_type": "display_data"
    },
    {
     "data": {
      "text/plain": [
       "<Figure size 1000x1000 with 0 Axes>"
      ]
     },
     "metadata": {},
     "output_type": "display_data"
    }
   ],
   "source": [
    "# calculate error bars\n",
    "bootstrap_election_agg = bootstrap_election_100_agg.apply(bootstrap_error_bars, axis=1)\n",
    "\n",
    "\n",
    "plt.figure(figsize=(10, 10))\n",
    "plt.errorbar(midpoints, \n",
    "             election_agg['mean'].values, \n",
    "             yerr=election_agg['err'].values, \n",
    "             fmt='.', elinewidth=3, ms=20, \n",
    "             capsize=5, capthick=3)\n",
    "plt.plot([0, 1], [0, 1], '--')\n",
    "plt.plot([0, 1], [1, 1], ':r')\n",
    "plt.plot([0, 1], [0, 0], ':r')\n",
    "plt.xlabel(\"Predicted Win Probability\")\n",
    "plt.ylabel(\"Observed Win Probability\")\n",
    "# Overlay empirical error bars on the same plot. Use the following \n",
    "# visual attributes: \n",
    "# ..., fmt='.r', elinewidth=1, ms=10, ecolor='red', capsize=5, ...\n",
    "# Also, yerr can accept asymmetric errorbars (see the documentation for usage)\n",
    "\n",
    "plt.figure(figsize=(10, 10))\n",
    "plt.errorbar(midpoints, \n",
    "             bootstrap_election_agg['mean'].values, \n",
    "             yerr=np.stack([bootstrap_election_agg['err_low'].values, bootstrap_election_agg['err_high'].values]),\n",
    "             fmt='.', elinewidth=3, ms=20, \n",
    "             capsize=5, capthick=3)\n",
    "plt.plot([0, 1], [0, 1], '--')\n",
    "plt.plot([0, 1], [1, 1], ':r')\n",
    "plt.plot([0, 1], [0, 0], ':r')\n",
    "plt.xlabel(\"Predicted Win Probability\")\n",
    "plt.ylabel(\"Observed Win Probability\")\n",
    "plt.show()"
   ]
  },
  {
   "cell_type": "markdown",
   "metadata": {
    "deletable": false,
    "editable": false
   },
   "source": [
    "<!-- BEGIN QUESTION -->\n",
    "\n",
    "### (PSTAT 234) Question 5g: Interpreting the Results\n",
    "\n",
    "Are the 95% confidence intervals generally larger or smaller for more confident predictions (e.g. the predictions closer to 0 or 1).  What are the factors that determine the length of the error bars?\n",
    "\n",
    "Compare and contrast model-based error bars and empirically obtained error bars. What are the advantages and disadvantages of these two approaches?\n",
    "\n",
    "<!--\n",
    "BEGIN QUESTION\n",
    "name: q5g\n",
    "manual: true\n",
    "points: 5\n",
    "-->"
   ]
  },
  {
   "attachments": {},
   "cell_type": "markdown",
   "id": "641b82b5",
   "metadata": {},
   "source": []
  },
  {
   "cell_type": "markdown",
   "metadata": {},
   "source": [
    "<!-- END QUESTION -->\n",
    "\n",
    "\n",
    "\n",
    "_Intentionally Blank_"
   ]
  },
  {
   "cell_type": "markdown",
   "id": "d7ebfb14",
   "metadata": {
    "deletable": false,
    "editable": false
   },
   "source": [
    "---\n",
    "\n",
    "To double-check your work, the cell below will rerun all of the autograder tests."
   ]
  },
  {
   "cell_type": "code",
   "execution_count": 107,
   "id": "26d28b2c",
   "metadata": {
    "deletable": false,
    "editable": false
   },
   "outputs": [
    {
     "data": {
      "text/html": [
       "\n",
       "    <p><strong>q1a</strong> passed!</p>\n",
       "    \n",
       "\n",
       "\n",
       "    <p><strong>q1b</strong> passed!</p>\n",
       "    \n",
       "\n",
       "\n",
       "    <p><strong>q1c</strong> passed!</p>\n",
       "    \n",
       "\n",
       "\n",
       "    <p><strong>q2a</strong> passed!</p>\n",
       "    \n",
       "\n",
       "\n",
       "    <p><strong>q2b</strong> passed!</p>\n",
       "    \n",
       "\n",
       "\n",
       "    <p><strong>q4a</strong> passed!</p>\n",
       "    \n",
       "\n",
       "\n",
       "    <p><strong>q4b</strong> passed!</p>\n",
       "    \n",
       "\n",
       "\n",
       "    <p><strong>q5a</strong> passed!</p>\n",
       "    \n",
       "\n",
       "\n",
       "    <p><strong>q5c</strong> passed!</p>\n",
       "    \n",
       "\n",
       "\n",
       "    <p><strong style='color: red;'>q5e</strong></p>\n",
       "    <p><strong>Test result:</strong></p>\n",
       "    \n",
       "        <p><em>q5e - 1</em>\n",
       "        \n",
       "            <pre>Trying:\n",
       "    len(bootstrap_data_means(election_sub))\n",
       "Expecting:\n",
       "    19\n",
       "**********************************************************************\n",
       "Line 2, in q5e 0\n",
       "Failed example:\n",
       "    len(bootstrap_data_means(election_sub))\n",
       "Exception raised:\n",
       "    Traceback (most recent call last):\n",
       "      File \"/usr/lib/python3.10/doctest.py\", line 1350, in __run\n",
       "        exec(compile(example.source, filename, \"single\",\n",
       "      File \"<doctest q5e 0[0]>\", line 1, in <module>\n",
       "        len(bootstrap_data_means(election_sub))\n",
       "      File \"/tmp/ipykernel_19916/3650738408.py\", line 10, in bootstrap_data_means\n",
       "        bootstrap_means = data_in[indices].mean()\n",
       "      File \"/usr/lib/python3.10/site-packages/pandas/core/frame.py\", line 3813, in __getitem__\n",
       "        indexer = self.columns._get_indexer_strict(key, \"columns\")[1]\n",
       "      File \"/usr/lib/python3.10/site-packages/pandas/core/indexes/base.py\", line 6070, in _get_indexer_strict\n",
       "        self._raise_if_missing(keyarr, indexer, axis_name)\n",
       "      File \"/usr/lib/python3.10/site-packages/pandas/core/indexes/base.py\", line 6130, in _raise_if_missing\n",
       "        raise KeyError(f\"None of [{key}] are in the [{axis_name}]\")\n",
       "    KeyError: \"None of [Int64Index([ 306,  261,  500, 1658,  551, 1564, 1710, 1128,  989, 1052,\\n            ...\\n            1574, 1298,  547, 1393,  118, 1312, 1540,  699,  617,  474],\\n           dtype='int64', length=1920)] are in the [columns]\"\n",
       "</pre>\n",
       "        \n",
       "        </p>\n",
       "    \n",
       "        <p><em>q5e - 2</em>\n",
       "        \n",
       "            <pre>Trying:\n",
       "    all(election_agg.index == bootstrap_data_means(election_sub).index)\n",
       "Expecting:\n",
       "    True\n",
       "**********************************************************************\n",
       "Line 2, in q5e 1\n",
       "Failed example:\n",
       "    all(election_agg.index == bootstrap_data_means(election_sub).index)\n",
       "Exception raised:\n",
       "    Traceback (most recent call last):\n",
       "      File \"/usr/lib/python3.10/doctest.py\", line 1350, in __run\n",
       "        exec(compile(example.source, filename, \"single\",\n",
       "      File \"<doctest q5e 1[0]>\", line 1, in <module>\n",
       "        all(election_agg.index == bootstrap_data_means(election_sub).index)\n",
       "      File \"/tmp/ipykernel_19916/3650738408.py\", line 10, in bootstrap_data_means\n",
       "        bootstrap_means = data_in[indices].mean()\n",
       "      File \"/usr/lib/python3.10/site-packages/pandas/core/frame.py\", line 3813, in __getitem__\n",
       "        indexer = self.columns._get_indexer_strict(key, \"columns\")[1]\n",
       "      File \"/usr/lib/python3.10/site-packages/pandas/core/indexes/base.py\", line 6070, in _get_indexer_strict\n",
       "        self._raise_if_missing(keyarr, indexer, axis_name)\n",
       "      File \"/usr/lib/python3.10/site-packages/pandas/core/indexes/base.py\", line 6130, in _raise_if_missing\n",
       "        raise KeyError(f\"None of [{key}] are in the [{axis_name}]\")\n",
       "    KeyError: \"None of [Int64Index([  96,  958,  620,  768, 1010,  184, 1675,  346, 1075, 1829,\\n            ...\\n             495, 1282,  147,  736, 1630,   84, 1176,   70,  651,  847],\\n           dtype='int64', length=1920)] are in the [columns]\"\n",
       "</pre>\n",
       "        \n",
       "        </p>\n",
       "    \n",
       "        <p><em>q5e - 3</em>\n",
       "        \n",
       "            <pre>Trying:\n",
       "    'mean' in bootstrap_data_means(election_sub).columns\n",
       "Expecting:\n",
       "    False\n",
       "**********************************************************************\n",
       "Line 2, in q5e 2\n",
       "Failed example:\n",
       "    'mean' in bootstrap_data_means(election_sub).columns\n",
       "Exception raised:\n",
       "    Traceback (most recent call last):\n",
       "      File \"/usr/lib/python3.10/doctest.py\", line 1350, in __run\n",
       "        exec(compile(example.source, filename, \"single\",\n",
       "      File \"<doctest q5e 2[0]>\", line 1, in <module>\n",
       "        'mean' in bootstrap_data_means(election_sub).columns\n",
       "      File \"/tmp/ipykernel_19916/3650738408.py\", line 10, in bootstrap_data_means\n",
       "        bootstrap_means = data_in[indices].mean()\n",
       "      File \"/usr/lib/python3.10/site-packages/pandas/core/frame.py\", line 3813, in __getitem__\n",
       "        indexer = self.columns._get_indexer_strict(key, \"columns\")[1]\n",
       "      File \"/usr/lib/python3.10/site-packages/pandas/core/indexes/base.py\", line 6070, in _get_indexer_strict\n",
       "        self._raise_if_missing(keyarr, indexer, axis_name)\n",
       "      File \"/usr/lib/python3.10/site-packages/pandas/core/indexes/base.py\", line 6130, in _raise_if_missing\n",
       "        raise KeyError(f\"None of [{key}] are in the [{axis_name}]\")\n",
       "    KeyError: \"None of [Int64Index([ 618,  955,  147,  331,  243, 1404,  227, 1020, 1760, 1541,\\n            ...\\n            1441, 1633,  918, 1833, 1752,  542,  486,  151,  233, 1297],\\n           dtype='int64', length=1920)] are in the [columns]\"\n",
       "</pre>\n",
       "        \n",
       "        </p>\n",
       "    \n",
       "        <p><em>q5e - 4</em>\n",
       "        \n",
       "            <pre>Trying:\n",
       "    bootstrap_election_100_agg.shape\n",
       "Expecting:\n",
       "    (19, 100)\n",
       "**********************************************************************\n",
       "Line 2, in q5e 3\n",
       "Failed example:\n",
       "    bootstrap_election_100_agg.shape\n",
       "Exception raised:\n",
       "    Traceback (most recent call last):\n",
       "      File \"/usr/lib/python3.10/doctest.py\", line 1350, in __run\n",
       "        exec(compile(example.source, filename, \"single\",\n",
       "      File \"<doctest q5e 3[0]>\", line 1, in <module>\n",
       "        bootstrap_election_100_agg.shape\n",
       "    NameError: name 'bootstrap_election_100_agg' is not defined\n",
       "</pre>\n",
       "        \n",
       "        </p>\n",
       "    \n",
       "    \n",
       "\n"
      ],
      "text/plain": [
       "q1a passed!\n",
       "\n",
       "q1b passed!\n",
       "\n",
       "q1c passed!\n",
       "\n",
       "q2a passed!\n",
       "\n",
       "q2b passed!\n",
       "\n",
       "q4a passed!\n",
       "\n",
       "q4b passed!\n",
       "\n",
       "q5a passed!\n",
       "\n",
       "q5c passed!\n",
       "\n",
       "q5e results:\n",
       "\n",
       "Trying:\n",
       "    len(bootstrap_data_means(election_sub))\n",
       "Expecting:\n",
       "    19\n",
       "**********************************************************************\n",
       "Line 2, in q5e 0\n",
       "Failed example:\n",
       "    len(bootstrap_data_means(election_sub))\n",
       "Exception raised:\n",
       "    Traceback (most recent call last):\n",
       "      File \"/usr/lib/python3.10/doctest.py\", line 1350, in __run\n",
       "        exec(compile(example.source, filename, \"single\",\n",
       "      File \"<doctest q5e 0[0]>\", line 1, in <module>\n",
       "        len(bootstrap_data_means(election_sub))\n",
       "      File \"/tmp/ipykernel_19916/3650738408.py\", line 10, in bootstrap_data_means\n",
       "        bootstrap_means = data_in[indices].mean()\n",
       "      File \"/usr/lib/python3.10/site-packages/pandas/core/frame.py\", line 3813, in __getitem__\n",
       "        indexer = self.columns._get_indexer_strict(key, \"columns\")[1]\n",
       "      File \"/usr/lib/python3.10/site-packages/pandas/core/indexes/base.py\", line 6070, in _get_indexer_strict\n",
       "        self._raise_if_missing(keyarr, indexer, axis_name)\n",
       "      File \"/usr/lib/python3.10/site-packages/pandas/core/indexes/base.py\", line 6130, in _raise_if_missing\n",
       "        raise KeyError(f\"None of [{key}] are in the [{axis_name}]\")\n",
       "    KeyError: \"None of [Int64Index([ 306,  261,  500, 1658,  551, 1564, 1710, 1128,  989, 1052,\\n            ...\\n            1574, 1298,  547, 1393,  118, 1312, 1540,  699,  617,  474],\\n           dtype='int64', length=1920)] are in the [columns]\"\n",
       "\n",
       "Trying:\n",
       "    all(election_agg.index == bootstrap_data_means(election_sub).index)\n",
       "Expecting:\n",
       "    True\n",
       "**********************************************************************\n",
       "Line 2, in q5e 1\n",
       "Failed example:\n",
       "    all(election_agg.index == bootstrap_data_means(election_sub).index)\n",
       "Exception raised:\n",
       "    Traceback (most recent call last):\n",
       "      File \"/usr/lib/python3.10/doctest.py\", line 1350, in __run\n",
       "        exec(compile(example.source, filename, \"single\",\n",
       "      File \"<doctest q5e 1[0]>\", line 1, in <module>\n",
       "        all(election_agg.index == bootstrap_data_means(election_sub).index)\n",
       "      File \"/tmp/ipykernel_19916/3650738408.py\", line 10, in bootstrap_data_means\n",
       "        bootstrap_means = data_in[indices].mean()\n",
       "      File \"/usr/lib/python3.10/site-packages/pandas/core/frame.py\", line 3813, in __getitem__\n",
       "        indexer = self.columns._get_indexer_strict(key, \"columns\")[1]\n",
       "      File \"/usr/lib/python3.10/site-packages/pandas/core/indexes/base.py\", line 6070, in _get_indexer_strict\n",
       "        self._raise_if_missing(keyarr, indexer, axis_name)\n",
       "      File \"/usr/lib/python3.10/site-packages/pandas/core/indexes/base.py\", line 6130, in _raise_if_missing\n",
       "        raise KeyError(f\"None of [{key}] are in the [{axis_name}]\")\n",
       "    KeyError: \"None of [Int64Index([  96,  958,  620,  768, 1010,  184, 1675,  346, 1075, 1829,\\n            ...\\n             495, 1282,  147,  736, 1630,   84, 1176,   70,  651,  847],\\n           dtype='int64', length=1920)] are in the [columns]\"\n",
       "\n",
       "Trying:\n",
       "    'mean' in bootstrap_data_means(election_sub).columns\n",
       "Expecting:\n",
       "    False\n",
       "**********************************************************************\n",
       "Line 2, in q5e 2\n",
       "Failed example:\n",
       "    'mean' in bootstrap_data_means(election_sub).columns\n",
       "Exception raised:\n",
       "    Traceback (most recent call last):\n",
       "      File \"/usr/lib/python3.10/doctest.py\", line 1350, in __run\n",
       "        exec(compile(example.source, filename, \"single\",\n",
       "      File \"<doctest q5e 2[0]>\", line 1, in <module>\n",
       "        'mean' in bootstrap_data_means(election_sub).columns\n",
       "      File \"/tmp/ipykernel_19916/3650738408.py\", line 10, in bootstrap_data_means\n",
       "        bootstrap_means = data_in[indices].mean()\n",
       "      File \"/usr/lib/python3.10/site-packages/pandas/core/frame.py\", line 3813, in __getitem__\n",
       "        indexer = self.columns._get_indexer_strict(key, \"columns\")[1]\n",
       "      File \"/usr/lib/python3.10/site-packages/pandas/core/indexes/base.py\", line 6070, in _get_indexer_strict\n",
       "        self._raise_if_missing(keyarr, indexer, axis_name)\n",
       "      File \"/usr/lib/python3.10/site-packages/pandas/core/indexes/base.py\", line 6130, in _raise_if_missing\n",
       "        raise KeyError(f\"None of [{key}] are in the [{axis_name}]\")\n",
       "    KeyError: \"None of [Int64Index([ 618,  955,  147,  331,  243, 1404,  227, 1020, 1760, 1541,\\n            ...\\n            1441, 1633,  918, 1833, 1752,  542,  486,  151,  233, 1297],\\n           dtype='int64', length=1920)] are in the [columns]\"\n",
       "\n",
       "Trying:\n",
       "    bootstrap_election_100_agg.shape\n",
       "Expecting:\n",
       "    (19, 100)\n",
       "**********************************************************************\n",
       "Line 2, in q5e 3\n",
       "Failed example:\n",
       "    bootstrap_election_100_agg.shape\n",
       "Exception raised:\n",
       "    Traceback (most recent call last):\n",
       "      File \"/usr/lib/python3.10/doctest.py\", line 1350, in __run\n",
       "        exec(compile(example.source, filename, \"single\",\n",
       "      File \"<doctest q5e 3[0]>\", line 1, in <module>\n",
       "        bootstrap_election_100_agg.shape\n",
       "    NameError: name 'bootstrap_election_100_agg' is not defined\n",
       "\n"
      ]
     },
     "execution_count": 107,
     "metadata": {},
     "output_type": "execute_result"
    }
   ],
   "source": [
    "grader.check_all()"
   ]
  },
  {
   "cell_type": "markdown",
   "id": "f3e52106",
   "metadata": {
    "deletable": false,
    "editable": false
   },
   "source": [
    "## Submission\n",
    "\n",
    "Make sure you have run all cells in your notebook in order before running the cell below, so that all images/graphs appear in the output. The cell below will generate a zip file for you to submit. **Please save before exporting!**"
   ]
  },
  {
   "cell_type": "code",
   "execution_count": 108,
   "id": "0e486251",
   "metadata": {
    "deletable": false,
    "editable": false
   },
   "outputs": [
    {
     "name": "stderr",
     "output_type": "stream",
     "text": [
      "/usr/lib/python3.10/site-packages/nbconvert/utils/pandoc.py:51: RuntimeWarning: You are using an unsupported version of pandoc (3.0.1).\n",
      "Your version must be at least (1.12.1) but less than (3.0.0).\n",
      "Refer to https://pandoc.org/installing.html.\n",
      "Continuing with doubts...\n",
      "  check_pandoc_version()\n"
     ]
    },
    {
     "data": {
      "text/html": [
       "\n",
       "                <p>Your submission has been exported. Click <a href=\"assignment1.zip\" target=\"_blank\">here</a>\n",
       "                to download the zip file.</p>\n",
       "                "
      ],
      "text/plain": [
       "<IPython.core.display.HTML object>"
      ]
     },
     "metadata": {},
     "output_type": "display_data"
    }
   ],
   "source": [
    "# Save your notebook first, then run this cell to export your submission.\n",
    "grader.export()"
   ]
  },
  {
   "cell_type": "markdown",
   "id": "e5e72374",
   "metadata": {},
   "source": [
    " "
   ]
  }
 ],
 "metadata": {
  "kernelspec": {
   "display_name": "Python 3 (ipykernel)",
   "language": "python",
   "name": "python3"
  },
  "language_info": {
   "codemirror_mode": {
    "name": "ipython",
    "version": 3
   },
   "file_extension": ".py",
   "mimetype": "text/x-python",
   "name": "python",
   "nbconvert_exporter": "python",
   "pygments_lexer": "ipython3",
   "version": "3.10.9"
  },
  "vscode": {
   "interpreter": {
    "hash": "e7370f93d1d0cde622a1f8e1c04877d8463912d04d973331ad4851f04de6915a"
   }
  }
 },
 "nbformat": 4,
 "nbformat_minor": 4
}

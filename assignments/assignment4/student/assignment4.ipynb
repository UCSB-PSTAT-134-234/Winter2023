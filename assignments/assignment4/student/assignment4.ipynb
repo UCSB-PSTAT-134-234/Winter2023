{
 "cells": [
  {
   "cell_type": "code",
   "execution_count": null,
   "id": "25ed0e74",
   "metadata": {
    "deletable": false,
    "editable": false
   },
   "outputs": [],
   "source": [
    "# Initialize Otter\n",
    "import otter\n",
    "grader = otter.Notebook(\"assignment4.ipynb\")"
   ]
  },
  {
   "attachments": {},
   "cell_type": "markdown",
   "metadata": {
    "nbgrader": {
     "grade": false,
     "grade_id": "title",
     "locked": true,
     "schema_version": 2,
     "solution": false
    }
   },
   "source": [
    "# Final Project <a class='tocSkip'>\n",
    "    \n",
    "## PSTAT 134/234 (Winter 2023) <a class='tocSkip'>\n",
    "    \n",
    "## Collaboration Policy <a class='tocSkip'>\n",
    "\n",
    "Data science is a collaborative activity. While you may talk with others about\n",
    "the homework, we ask that you **write your solutions individually**. If you do\n",
    "discuss the assignments with others please **include their names** at the top\n",
    "of your notebook.\n",
    "\n",
    "**Collaborators**: *list collaborators here*"
   ]
  },
  {
   "cell_type": "code",
   "execution_count": 4,
   "metadata": {},
   "outputs": [],
   "source": [
    "%xmode Verbose"
   ]
  },
  {
   "attachments": {},
   "cell_type": "markdown",
   "metadata": {
    "deletable": false,
    "editable": false
   },
   "source": [
    "<!-- BEGIN QUESTION -->\n",
    "\n",
    "## Question 1: Using Linear Algebra for Optimization\n",
    "In recommender system module, low-rank matrix factorization was used to execute latent factor modeling of movie ratings data.\n",
    "\n",
    "Specifically, we calculated matrices $U$ and $V$ to solve the following optimization problem (if all ratings were given):\n",
    "$$\n",
    "\\begin{aligned}\n",
    "\\min_{U,V} f(U,V) &= \\min_{U,V} \\|R - V U^T\\|_F^2\n",
    "=\\min_{U,V} \\left\\{ \\sum_{m=1}^M\\sum_{i=1}^I I_{mi}(r_{mi} - v_m u_i^T)^2 \\right\\},\n",
    "\\end{aligned}\n",
    "$$\n",
    "where\n",
    "$$\n",
    "\\begin{aligned}\n",
    "I_{mi} = \\begin{cases}\n",
    "1 \\text{, if $r_{mi}$ is observed}\\\\\n",
    "0 \\text{, if $r_{mi}$ is missing.}\\\\\n",
    "\\end{cases}\n",
    "\\end{aligned}\n",
    "$$\n",
    "\n",
    "The best $U$ and $V$ were calculated iteratively by improving on current estimates:\n",
    "$$\n",
    "\\begin{aligned}\n",
    "u_i^{\\text{new}} &= u_i + 2\\alpha(r_{mi} -  v_m u_i^T)\\cdot v_m\\\\\n",
    "v_m^{\\text{new}} &= v_m + 2\\alpha(r_{mi} -  v_m u_i^T)\\cdot u_i,\n",
    "\\end{aligned}\n",
    "$$\n",
    "where $\\alpha$ is the step-size that is to be chosen by the user. (We won't discuss the role in this class, but treat it as an arbitrary, but given, parameter) \n",
    "\n",
    "We can make calculating the updates more efficient by calculating them with matrix operations. For example, instead of calculating each deviation $\\gamma_{mi} = r_{mi} - v_m u_i^T$ separately for all $m=1,2,\\dots,M$ and $i=1,2,\\dots,I$, matrix $\\Gamma$ of all deviations can be computed together using matrix operation _(verify for yourself)_:\n",
    "$$\\Gamma = R - VU^T$$\n",
    "\n",
    "Similarly, updating $U$ and $V$ can be combined into matrix calculations which makes the optimization procedure more efficient.\n",
    "\n",
    "First, note that updates for $u_i$, $i=1,2,\\dots,I$ can be rewritten as\n",
    "$$\n",
    "\\begin{aligned}\n",
    "u_1^{\\text{new}} &= u_1 + 2\\alpha\\gamma_{m1}\\cdot v_m\\\\\n",
    "u_2^{\\text{new}} &= u_2 + 2\\alpha\\gamma_{m2}\\cdot v_m\\\\\n",
    "\\vdots\\quad &\\qquad\\qquad\\vdots\\\\\n",
    "u_I^{\\text{new}} &= u_I + 2\\alpha\\gamma_{mI}\\cdot v_m.\n",
    "\\end{aligned}\n",
    "$$\n",
    "Stacking all $I$ equations into a matrix form, \n",
    "$$\n",
    "\\begin{aligned}\n",
    "U^{\\text{new}} &= U + 2\\alpha\\Gamma_{m-}^T v_m,\n",
    "\\end{aligned}\n",
    "$$\n",
    "where $\\Gamma_{m-}$ is the $m$-th row of $\\Gamma$ (use the notation $\\Gamma_{-i}$ for the $i$-th column). When evaluating $U^{\\text{new}}$, the latest updated values of $U$, $V$, and $\\Gamma$ are used.\n",
    "\n",
    "Note that there are $M$ such update equations (one for each $m=1,2,\\dots,M$) that can also be combined into one matrix update equation involving matrices $U$, $V$, $\\Gamma$ and scalars. As stated earlier, since $\\alpha$ is assumed to be an arbitrary step-size parameter, we can replace $\\alpha/M$ with $\\alpha$.\n",
    "\n",
    "### Question 1a: Using Linear Algebra for Optimization\n",
    "\n",
    "Complete the following update equations:\n",
    "$$\n",
    "\\begin{aligned}\n",
    "U^{\\text{new}} &= U + 2\\alpha[\\text{some function of }\\Gamma][\\text{some function of }V]\\\\\n",
    "V^{\\text{new}} &= V + 2\\alpha[\\text{some function of }\\Gamma][\\text{some function of }U]\n",
    "\\end{aligned}\n",
    "$$\n",
    "\n",
    "<!--\n",
    "BEGIN QUESTION\n",
    "name: q1a\n",
    "manual: true\n",
    "points: 4\n",
    "-->"
   ]
  },
  {
   "cell_type": "markdown",
   "id": "cc0236cf",
   "metadata": {},
   "source": [
    "_Type your answer here, replacing this text._"
   ]
  },
  {
   "attachments": {},
   "cell_type": "markdown",
   "metadata": {
    "deletable": false,
    "editable": false
   },
   "source": [
    "<!-- END QUESTION -->\n",
    "\n",
    "### Question 1b: Implementing Updates\n",
    "\n",
    "In this problem, you will implement the updates calculated in the previous problem. Define the following three functions:\n",
    "\n",
    "* `update_G(R, U, V)`: computes deviation $R-VU^T$\n",
    "* `update_U(G, U, V, alpha=0.01)`: calculates update $U^{\\text{new}}$\n",
    "* `update_V(G, U, V, alpha=0.01)`: calculates update $V^{\\text{new}}$\n",
    "\n",
    "Each function should only be one line of matrix operations. Three functions is to be applied sequentially, using the most up-to-date estimates of $G$, $U$, and $V$.\n",
    "\n",
    "Since some elements of `R` are `np.nan` for any missing ratings, `update_U` and `update_V` functions need to be adjusted by using `numpy.nan_to_num` function where appropriate. The function `numpy.nan_to_num` will let you replace `NaN` to some number, so that missing ratings do not interfere with updates.\n",
    "\n",
    "<!--\n",
    "BEGIN QUESTION\n",
    "name: q1b\n",
    "manual: false\n",
    "points: 4\n",
    "-->"
   ]
  },
  {
   "cell_type": "code",
   "execution_count": 5,
   "metadata": {},
   "outputs": [],
   "source": [
    "import numpy as np\n",
    "import pandas as pd\n",
    "\n",
    "def update_G(R_, U_, V_):\n",
    "    \n",
    "    return ...\n",
    "\n",
    "def update_U(G_, U_, V_, alpha=0.01):\n",
    "    \n",
    "    return ...\n",
    "\n",
    "def update_V(G_, U_, V_, alpha=0.01):\n",
    "    \n",
    "    return ...\n",
    "\n",
    "# small test to help debug (keep intact)\n",
    "np.random.seed(1)\n",
    "\n",
    "M_ = 5\n",
    "I_ = 3\n",
    "K_ = 2\n",
    "\n",
    "R_ = np.random.rand(M_, I_).round(1)\n",
    "R_[0, 0] = R_[3, 2] = np.nan\n",
    "U_ = np.random.rand(I_, K_).round(1)\n",
    "V_ = np.random.rand(M_, K_).round(1)\n",
    "G_ = update_G(R_, U_, V_)"
   ]
  },
  {
   "cell_type": "code",
   "execution_count": null,
   "id": "369be51a",
   "metadata": {
    "deletable": false,
    "editable": false
   },
   "outputs": [],
   "source": [
    "grader.check(\"q1b\")"
   ]
  },
  {
   "cell_type": "markdown",
   "metadata": {},
   "source": [
    "### Question 1c: Construct Optimization Algorithm\n",
    "\n",
    "Combine the above functions to implement the optimization algorithm to iteratively compute $U$ and $V$.\n",
    "\n",
    "But, first, here are functions that will calculate RMSE and quantify the maximum update (in absolute value) made by `update_U` and `update_V` after they are called."
   ]
  },
  {
   "cell_type": "code",
   "execution_count": 9,
   "metadata": {},
   "outputs": [],
   "source": [
    "def rmse(X):\n",
    "    \"\"\"\n",
    "    Computes root-mean-square-error, ignoring nan values\n",
    "    \"\"\"\n",
    "    return np.sqrt(np.nanmean(X**2))\n",
    "\n",
    "def max_update(X, Y, relative=True):\n",
    "    \"\"\"\n",
    "    Compute elementwise maximum update\n",
    "    \n",
    "    parameters:\n",
    "    - X, Y: numpy arrays or vectors\n",
    "    - relative: [True] compute relative magnitudes\n",
    "    \n",
    "    returns\n",
    "    - maximum difference between X and Y (relative to Y) \n",
    "    \n",
    "    \"\"\"\n",
    "    if relative:\n",
    "        updates = np.nan_to_num((X - Y)/Y)\n",
    "    else:\n",
    "        updates = np.nan_to_num(X - Y)\n",
    "            \n",
    "    return np.linalg.norm(updates.ravel(), np.inf)"
   ]
  },
  {
   "cell_type": "markdown",
   "metadata": {
    "deletable": false,
    "editable": false
   },
   "source": [
    "A template for the optimization algorithm is given below. Fill-in the missing portions to complete the algorithm.\n",
    "\n",
    "<!--\n",
    "BEGIN QUESTION\n",
    "name: q1c1\n",
    "manual: false\n",
    "points: 4\n",
    "-->"
   ]
  },
  {
   "cell_type": "code",
   "execution_count": 10,
   "metadata": {},
   "outputs": [],
   "source": [
    "def compute_UV(Rdf, K=5, alpha=0.01, max_iteration=5000, diff_thr=1e-3):\n",
    "\n",
    "    R = Rdf.values\n",
    "    Rone = pd.DataFrame().reindex_like(Rdf).replace(np.nan, 1) # keep data frame metadata\n",
    "\n",
    "    M, I = R.shape            # number of movies and users\n",
    "    U = np.random.rand(I, K)  # initialize with random numbers\n",
    "    V = np.random.rand(M, K)  # initialize with random numbers\n",
    "    G = update_G(R, U, V)     # calculate residual\n",
    "\n",
    "    track_rmse = []\n",
    "    track_update = []\n",
    "    for i in range(0, max_iteration): \n",
    "        \n",
    "        Unew = update_U(..., ..., ..., ...)\n",
    "        Gnew = update_G(..., ..., ...)\n",
    "\n",
    "        Vnew = update_V(..., ..., ..., ...)\n",
    "        Gnew = update_G(..., ..., ...)\n",
    "\n",
    "        track_rmse += [{\n",
    "            'iteration':i, \n",
    "            'rmse': rmse(Gnew),\n",
    "            'max residual change': max_update(Gnew, G, relative=False)\n",
    "        }]\n",
    "        track_update += [{\n",
    "            'iteration':i, \n",
    "            'max update':max(max_update(Unew, U), max_update(Vnew, V))\n",
    "        }]\n",
    "\n",
    "        U = Unew\n",
    "        V = Vnew\n",
    "        G = Gnew\n",
    "        \n",
    "        if track_update[-1]['max update'] < diff_thr:\n",
    "            break\n",
    "        \n",
    "    track_rmse = pd.DataFrame(track_rmse)\n",
    "    track_update = pd.DataFrame(track_update)\n",
    "    \n",
    "    kindex = pd.Index(range(0, K), name='k')\n",
    "    U = pd.DataFrame(U, index=..., columns=...)\n",
    "    V = pd.DataFrame(V, index=..., columns=...)\n",
    "    \n",
    "    return {\n",
    "        'U':U, 'V':V,\n",
    "        'rmse': track_rmse,\n",
    "        'update': track_update\n",
    "    }\n",
    " \n",
    "Rsmall = pd.read_pickle('data/ratings_stacked_small.pkl').unstack()\n",
    "\n",
    "np.random.seed(134) # set seed for tests\n",
    "output1 = compute_UV(Rsmall, K=10, alpha=0.001)"
   ]
  },
  {
   "cell_type": "code",
   "execution_count": null,
   "id": "ed172130",
   "metadata": {
    "deletable": false,
    "editable": false
   },
   "outputs": [],
   "source": [
    "grader.check(\"q1c1\")"
   ]
  },
  {
   "cell_type": "markdown",
   "metadata": {
    "deletable": false,
    "editable": false
   },
   "source": [
    "Running the function on a different sized problem to check if `compute_UV` adapts to changing problem sizes.\n",
    "There is nothing new to do here\n",
    "\n",
    "<!--\n",
    "BEGIN QUESTION\n",
    "name: q1c2\n",
    "manual: false\n",
    "points: 4\n",
    "-->"
   ]
  },
  {
   "cell_type": "code",
   "execution_count": 18,
   "metadata": {},
   "outputs": [],
   "source": [
    "# These tests should pass if `compute_UV` works properly\n",
    "np.random.seed(134) # set seed for tests\n",
    "output2 = compute_UV(Rsmall.iloc[:7, :5], K=8)"
   ]
  },
  {
   "cell_type": "code",
   "execution_count": null,
   "id": "205714df",
   "metadata": {
    "deletable": false,
    "editable": false
   },
   "outputs": [],
   "source": [
    "grader.check(\"q1c2\")"
   ]
  },
  {
   "cell_type": "markdown",
   "metadata": {},
   "source": [
    "### Question 1d: Interpret Diagnostic Plots\n",
    "\n",
    "Following figures tell us if the optimization algorithm is working properly."
   ]
  },
  {
   "cell_type": "code",
   "execution_count": 26,
   "metadata": {},
   "outputs": [],
   "source": [
    "import altair as alt\n",
    "logscale = alt.Scale(type='log', base=10)\n",
    "fig_rmse = \\\n",
    "    alt.Chart(output1['rmse'])\\\n",
    "    .mark_line()\\\n",
    "    .encode(\n",
    "        x='iteration:Q', \n",
    "        y=alt.Y('rmse:Q', scale=logscale)\n",
    "    )\n",
    "fig_max_residual_change = \\\n",
    "    alt.Chart(output1['rmse'])\\\n",
    "    .mark_line()\\\n",
    "    .encode(\n",
    "        x='iteration:Q', \n",
    "        y=alt.Y('max residual change:Q', scale=logscale)\n",
    "    )\n",
    "fig_updates = \\\n",
    "    alt.Chart(output1['update'])\\\n",
    "    .mark_line()\\\n",
    "    .encode(\n",
    "        x='iteration:Q', \n",
    "        y=alt.Y('max update:Q', scale=logscale)\n",
    "    )\n",
    "alt.vconcat(\n",
    "    fig_rmse | fig_max_residual_change,\n",
    "    fig_updates \n",
    ")"
   ]
  },
  {
   "cell_type": "markdown",
   "metadata": {
    "deletable": false,
    "editable": false
   },
   "source": [
    "<!-- BEGIN QUESTION -->\n",
    "\n",
    "By referring back to the function used to calculate the quantities in each figure, describe what each figure is showing and interpret the behavior of the optimization algorithm.\n",
    "\n",
    "<!--\n",
    "BEGIN QUESTION\n",
    "name: q1d\n",
    "manual: true\n",
    "points: 4\n",
    "-->"
   ]
  },
  {
   "cell_type": "markdown",
   "id": "14b49464",
   "metadata": {},
   "source": [
    "_Type your answer here, replacing this text._"
   ]
  },
  {
   "cell_type": "markdown",
   "metadata": {},
   "source": [
    "<!-- END QUESTION -->\n",
    "\n",
    "\n",
    "\n",
    "### Question 1e: Analyze Large Dataset\n",
    "\n",
    "Following code will analyze a larger dataset:"
   ]
  },
  {
   "cell_type": "code",
   "execution_count": 27,
   "metadata": {},
   "outputs": [],
   "source": [
    "# run on larger dataset: ratings for 100 movies \n",
    "Rbig = pd.read_pickle('data/ratings_stacked.pkl').unstack().iloc[:100]\n",
    "\n",
    "np.random.seed(14) # set seed for tests\n",
    "output4 = compute_UV(Rbig, K=5, alpha=0.001, max_iteration=500)\n",
    "\n",
    "Rhatbig = output4['V']@output4['U'].T"
   ]
  },
  {
   "cell_type": "code",
   "execution_count": 28,
   "metadata": {},
   "outputs": [],
   "source": [
    "fit_vs_obs = pd.concat([\n",
    "    Rhatbig.rename(columns={'rating':'fit'}),\n",
    "    Rbig.rename(columns={'rating':'observed'}),\n",
    "], axis=1).stack().dropna().reset_index()[['fit','observed']]\n",
    "\n",
    "fit_vs_obs = fit_vs_obs.iloc[np.random.choice(len(fit_vs_obs), 5000)]\n",
    "\n",
    "alt.Chart(fit_vs_obs).transform_density(\n",
    "    density='fit',\n",
    "    bandwidth=0.01,\n",
    "    groupby=['observed'],\n",
    "    extent= [0, 6]\n",
    ").mark_bar().encode(\n",
    "    alt.X('value:Q'),\n",
    "    alt.Y('density:Q'),\n",
    "    alt.Row('observed:N')\n",
    ").properties(width=800, height=50)"
   ]
  },
  {
   "cell_type": "markdown",
   "metadata": {
    "deletable": false,
    "editable": false
   },
   "source": [
    "<!-- BEGIN QUESTION -->\n",
    "\n",
    "Consider the above plot. By reading the code, comment on what the plot is illustrating. What happens when you add `counts=True` to `transform_density`? What can you conclude?\n",
    "\n",
    "<!--\n",
    "BEGIN QUESTION\n",
    "name: q1e\n",
    "manual: true\n",
    "points: 4\n",
    "-->"
   ]
  },
  {
   "cell_type": "markdown",
   "id": "b43e4619",
   "metadata": {},
   "source": [
    "_Type your answer here, replacing this text._"
   ]
  },
  {
   "cell_type": "markdown",
   "metadata": {
    "deletable": false,
    "editable": false
   },
   "source": [
    "<!-- END QUESTION -->\n",
    "\n",
    "<!-- BEGIN QUESTION -->\n",
    "\n",
    "### Question 1f: Make Recommendation\n",
    "\n",
    "What movies would you recommend to `user id` 601? Do you see any similarities to movies the user rated high?\n",
    "\n",
    "<!--\n",
    "BEGIN QUESTION\n",
    "name: q1f\n",
    "manual: true\n",
    "points: 4\n",
    "-->"
   ]
  },
  {
   "cell_type": "markdown",
   "id": "2d0652bd",
   "metadata": {},
   "source": [
    "_Type your answer here, replacing this text._"
   ]
  },
  {
   "attachments": {},
   "cell_type": "markdown",
   "metadata": {
    "deletable": false,
    "editable": false
   },
   "source": [
    "<!-- END QUESTION -->\n",
    "\n",
    "<!-- BEGIN QUESTION -->\n",
    "\n",
    "## Question 2: Improving the Model\n",
    "\n",
    "### Question 2a: Logistic function \n",
    "\n",
    "Note the reconstructed ratings can be smaller than 1 and greater than 5. To confine ratings to between the allowed range, we can use the logistic function. Logistic function is defined as \n",
    "$$ h(x) = \\frac{1}{1+e^{-x}}. $$\n",
    "It is straightforward to show the derivative is \n",
    "$$ h'(x) = \\frac{e^{-x}}{(1+e^{-x})^2} = h(x)(1-h(x)). $$\n",
    "Therefore, we can rescale the ratings from $r_{mi}\\in [1, 5]$ to $r_{mi}\\in [0, 1]$. Then, we can find the best $U$ and $V$ to optimize the following:\n",
    "$$ \\min_{U,V} \\| R - h(VU^T) \\|_F^2 = \\sum_{m,i} I_{mi}(r_{mi} - h(v_m u_i^T))^2, $$\n",
    "where function $h$ is applied elementwise and \n",
    "$$\n",
    "\\begin{aligned}\n",
    "I_{mi} = \\begin{cases}\n",
    "1 \\text{, if $r_{mi}$ is observed}\\\\\n",
    "0 \\text{, if $r_{mi}$ is missing.}\\\\\n",
    "\\end{cases}\n",
    "\\end{aligned}\n",
    "$$\n",
    "\n",
    "Derive new update expressions for the new objective function.\n",
    "<!--\n",
    "BEGIN QUESTION\n",
    "name: q2a\n",
    "manual: true\n",
    "points: 4\n",
    "-->"
   ]
  },
  {
   "cell_type": "markdown",
   "id": "1bb2830f",
   "metadata": {},
   "source": [
    "_Type your answer here, replacing this text._"
   ]
  },
  {
   "cell_type": "markdown",
   "metadata": {
    "deletable": false,
    "editable": false
   },
   "source": [
    "<!-- END QUESTION -->\n",
    "\n",
    "### Quesiton 2b: Implementation\n",
    "\n",
    "Implement the update functions in functions below.\n",
    "\n",
    "<!--\n",
    "BEGIN QUESTION\n",
    "name: q2b1\n",
    "manual: false\n",
    "points: 4\n",
    "-->"
   ]
  },
  {
   "cell_type": "code",
   "execution_count": 29,
   "metadata": {},
   "outputs": [],
   "source": [
    "def logistic(x):\n",
    "    \"\"\"\n",
    "    Evaluates logistic function\n",
    "    \n",
    "    \"\"\"\n",
    "    return 1/(1+np.exp(-x))\n",
    "\n",
    "def update_logistic_G(R_, U_, V_):\n",
    "    \n",
    "    return ...\n",
    "\n",
    "def update_logistic_U(G_, U_, V_, alpha=0.01):\n",
    "    \n",
    "    logisticVUT = ...              # estimated ratings\n",
    "    grad = -2 * np.nan_to_num(...) # gradient direction\n",
    "    return ...                     # gradient descent update from U_\n",
    "\n",
    "def update_logistic_V(G_, U_, V_, alpha=0.01):\n",
    "    \n",
    "    logisticVUT = ...              # estimated ratings\n",
    "    grad = -2 * np.nan_to_num(...) # gradient direction\n",
    "    return ...                     # gradient descent update from V_\n",
    "\n",
    "# small test to help debug (keep intact)\n",
    "np.random.seed(1)\n",
    "\n",
    "M_ = 5\n",
    "I_ = 3\n",
    "K_ = 2\n",
    "\n",
    "R_ = np.random.rand(M_, I_).round(1)\n",
    "R_[0, 0] = R_[3, 2] = np.nan\n",
    "U_ = np.random.rand(I_, K_).round(1)\n",
    "V_ = np.random.rand(M_, K_).round(1)\n",
    "G_ = update_G(R_, U_, V_)"
   ]
  },
  {
   "cell_type": "code",
   "execution_count": null,
   "id": "7f0f727e",
   "metadata": {
    "deletable": false,
    "editable": false
   },
   "outputs": [],
   "source": [
    "grader.check(\"q2b1\")"
   ]
  },
  {
   "cell_type": "markdown",
   "metadata": {
    "deletable": false,
    "editable": false
   },
   "source": [
    "Now create a function `compute_logistic_UV` below:\n",
    "\n",
    "<!--\n",
    "BEGIN QUESTION\n",
    "name: q2b2\n",
    "manual: false\n",
    "points: 4\n",
    "-->"
   ]
  },
  {
   "cell_type": "code",
   "execution_count": 33,
   "metadata": {},
   "outputs": [],
   "source": [
    "def compute_logistic_UV(Rdf, K=5, alpha=0.01, max_iteration=5000, diff_thr=1e-3):\n",
    "\n",
    "    R = Rdf.values\n",
    "    R = (R.copy()-1)/4         # map ratings to between 0 and 1\n",
    "    Rone = pd.DataFrame().reindex_like(Rdf).replace(np.nan, 1) # keep data frame metadata\n",
    "\n",
    "    M, I = R.shape                 # number of movies and users\n",
    "    U = np.random.rand(I, K)-0.5   # initialize with random numbers\n",
    "    V = np.random.rand(M, K)-0.5   # initialize with random numbers\n",
    "    G = update_G(R, U, V)          # calculate residual\n",
    "\n",
    "    track_rmse = []\n",
    "    track_update = []\n",
    "    for i in range(0, max_iteration): \n",
    "        \n",
    "        Unew = update_logistic_U(..., ..., ..., ...)\n",
    "        Gnew = update_logistic_G(..., ..., ...)\n",
    "\n",
    "        Vnew = update_logistic_V(..., ..., ..., ...)\n",
    "        Gnew = update_logistic_G(..., ..., ...)\n",
    "\n",
    "        track_rmse += [{\n",
    "            'iteration':i, \n",
    "            'rmse': rmse(Gnew),\n",
    "            'max residual change': max_update(Gnew, G, relative=False)\n",
    "        }]\n",
    "        track_update += [{\n",
    "            'iteration':i, \n",
    "            'max update':max(max_update(Unew, U), max_update(Vnew, V))\n",
    "        }]\n",
    "\n",
    "        U = Unew\n",
    "        V = Vnew\n",
    "        G = Gnew\n",
    "        \n",
    "        if track_update[-1]['max update'] < diff_thr:\n",
    "            break\n",
    "        \n",
    "    track_rmse = pd.DataFrame(track_rmse)\n",
    "    track_update = pd.DataFrame(track_update)\n",
    "    \n",
    "    kindex = pd.Index(range(0, K), name='k')\n",
    "    U = pd.DataFrame(U, index=..., columns=...)\n",
    "    V = pd.DataFrame(V, index=..., columns=...)\n",
    "    \n",
    "    return {\n",
    "        'U':U, 'V':V,\n",
    "        'rmse': track_rmse,\n",
    "        'update': track_update\n",
    "    }\n",
    "\n",
    "def logistic_rating(U_, V_):\n",
    "    \"\"\"\n",
    "    converts the rating back to 1 to 5 rating\n",
    "    \"\"\"\n",
    "    return( 4*logistic(V_@U_.T) + 1 )\n",
    "    \n",
    "np.random.seed(134) # set seed for tests\n",
    "output3 = compute_logistic_UV(Rsmall, K=10, alpha=0.05)"
   ]
  },
  {
   "cell_type": "code",
   "execution_count": null,
   "id": "6ea485ea",
   "metadata": {
    "deletable": false,
    "editable": false
   },
   "outputs": [],
   "source": [
    "grader.check(\"q2b2\")"
   ]
  },
  {
   "attachments": {},
   "cell_type": "markdown",
   "metadata": {},
   "source": [
    "### Question 2c: Analyze a Large Dataset\n",
    "\n",
    "Following code will analyze a larger dataset:"
   ]
  },
  {
   "cell_type": "code",
   "execution_count": 36,
   "metadata": {},
   "outputs": [],
   "source": [
    "# run on larger dataset: ratings for 100 movies \n",
    "Rbig = pd.read_pickle('data/ratings_stacked.pkl').unstack().iloc[:100]\n",
    "\n",
    "np.random.seed(14) # set seed for tests\n",
    "output4 = compute_logistic_UV(Rbig, K=5, alpha=0.05, max_iteration=500)\n",
    "\n",
    "Rhatbig = logistic_rating(output4['U'], output4['V'])"
   ]
  },
  {
   "cell_type": "code",
   "execution_count": 37,
   "metadata": {},
   "outputs": [],
   "source": [
    "Rhatbig.min()"
   ]
  },
  {
   "cell_type": "code",
   "execution_count": 38,
   "metadata": {},
   "outputs": [],
   "source": [
    "fit_vs_obs_2 = pd.concat([\n",
    "    Rhatbig.rename(columns={'rating':'fit'}),\n",
    "    Rbig.rename(columns={'rating':'observed'}),\n",
    "], axis=1).stack().dropna().reset_index()[['fit','observed']]\n",
    "\n",
    "fit_vs_obs_2 = fit_vs_obs_2.iloc[np.random.choice(len(fit_vs_obs_2), 5000)]\n",
    "\n",
    "alt.Chart(fit_vs_obs_2).transform_density(\n",
    "    density='fit',\n",
    "    bandwidth=0.01,\n",
    "    groupby=['observed'],\n",
    "    extent= [0, 6]\n",
    ").mark_bar().encode(\n",
    "    alt.X('value:Q'),\n",
    "    alt.Y('density:Q'),\n",
    "    alt.Row('observed:N')\n",
    ").properties(width=800, height=50)"
   ]
  },
  {
   "cell_type": "markdown",
   "metadata": {
    "deletable": false,
    "editable": false
   },
   "source": [
    "<!-- BEGIN QUESTION -->\n",
    "\n",
    "Consider the above plot. By reading the code, comment on what the plot is illustrating. How does this plot look different than part 1.e?\n",
    "\n",
    "<!--\n",
    "BEGIN QUESTION\n",
    "name: q2c\n",
    "manual: true\n",
    "points: 4\n",
    "-->"
   ]
  },
  {
   "cell_type": "markdown",
   "id": "ce738141",
   "metadata": {},
   "source": [
    "_Type your answer here, replacing this text._"
   ]
  },
  {
   "attachments": {},
   "cell_type": "markdown",
   "metadata": {
    "deletable": false,
    "editable": false
   },
   "source": [
    "<!-- END QUESTION -->\n",
    "\n",
    "<!-- BEGIN QUESTION -->\n",
    "\n",
    "## (PSTAT 234) Question 3: Segmentation in latent factor space\n",
    "\n",
    "Now that we have user matrix $U$ and movie matrix $V$, suppose we want to use the newly learned representation for an advertising campaign. \n",
    "\n",
    "Suppose you are leading the planning of an online advertising campaign and you have a fixed budget. With the budget, you can create 5 variations of an ad, and you want to create the variations based on a representative movie each group likes.\n",
    "\n",
    "The advertisements will entice the viewer to sign up for a mailing list by offering a free poster. The goal of the advertising campaign is two fold: \n",
    "\n",
    "1. Get potential customers to sign up using their email address by offering a free poster among the 5 \"representative\" movies\n",
    "2. Learn their user segment placement preference to use for the starting point for movie recommendations once they sign up\n",
    "\n",
    "In order to achieve this goal, we want to \n",
    "1. Produce clusterings of users\n",
    "2. Balance performance metric of clustering results and practical considerations to choose one of the clustering results.\n",
    "\n",
    "We will tackle this step by step.\n",
    "\n",
    "### Question 3a: Concatenate matrix factors and cluster\n",
    "\n",
    "Entries in either matrix factors are just points in $k$-dimensional latent variable space. We will use both $U$ and $V$ for segmentation by combining them into one large clustering problem.\n",
    "\n",
    "Once clusters are identified, you will qualitatively inspect the users and movies in the cluster and decide on a \"representative\" movie from each cluster.\n",
    "\n",
    "Consider concatenating $U$ and $V$ into one large matrix. Since these matrices have arbitrary scaling, it would be a good idea to standardize the columns before concatenating them. Standardize $U$ and $V$ separately, then concatenate with numpy's `concatenate` method. Call this concatenated matrix, `UVstd`.\n",
    "\n",
    "Apply hierarchical and K-means clustering methods on `UVstd`.  For each clustering method, identify 5 clusters. Compare the clustering results by applying three different [cluster validation metrics](https://scikit-learn.org/stable/modules/clustering.html#clustering-performance-evaluation) to evaluate the clustering performance. \n",
    "\n",
    "Which cluster performance metrics can you use? Do we have true labels? Does one performance metric seem to clearly be better than another? Why would you choose one metric over another? What interpretation, if any, does each metric have in the context of our problem? Explain.\n",
    "\n",
    "<!--\n",
    "BEGIN QUESTION\n",
    "name: q3a\n",
    "manual: true\n",
    "points: 20\n",
    "-->"
   ]
  },
  {
   "cell_type": "markdown",
   "id": "94771ab9",
   "metadata": {},
   "source": [
    "_Type your answer here, replacing this text._"
   ]
  },
  {
   "attachments": {},
   "cell_type": "markdown",
   "metadata": {
    "deletable": false,
    "editable": false
   },
   "source": [
    "<!-- END QUESTION -->\n",
    "\n",
    "<!-- BEGIN QUESTION -->\n",
    "\n",
    "### Question 3b: Making decisions\n",
    "\n",
    "\n",
    "To make actionable decisions, there are practical considerations to take into account.\n",
    "\n",
    "1. How will you choose a \"representative\" movie from each cluster?\n",
    "2. How many of each poster do you estimate you will need? Assume the ad campaign will serve 10 million users and 0.01% people will respond. What other assumption do you need to make?\n",
    "3. Which clustering method will you use as the final method?\n",
    "\n",
    "\n",
    "<!--\n",
    "BEGIN QUESTION\n",
    "name: q3b\n",
    "manual: true\n",
    "points: 20\n",
    "-->\n"
   ]
  },
  {
   "cell_type": "markdown",
   "id": "65dcbabb",
   "metadata": {},
   "source": [
    "_Type your answer here, replacing this text._"
   ]
  },
  {
   "cell_type": "markdown",
   "metadata": {},
   "source": [
    "<!-- END QUESTION -->\n",
    "\n",
    "\n",
    "\n",
    "_Cell Intentionally Blank_"
   ]
  },
  {
   "cell_type": "markdown",
   "id": "b2e63734",
   "metadata": {
    "deletable": false,
    "editable": false
   },
   "source": [
    "---\n",
    "\n",
    "To double-check your work, the cell below will rerun all of the autograder tests."
   ]
  },
  {
   "cell_type": "code",
   "execution_count": null,
   "id": "bbcc8216",
   "metadata": {
    "deletable": false,
    "editable": false
   },
   "outputs": [],
   "source": [
    "grader.check_all()"
   ]
  },
  {
   "cell_type": "markdown",
   "id": "3fcb9820",
   "metadata": {
    "deletable": false,
    "editable": false
   },
   "source": [
    "## Submission\n",
    "\n",
    "Make sure you have run all cells in your notebook in order before running the cell below, so that all images/graphs appear in the output. The cell below will generate a zip file for you to submit. **Please save before exporting!**"
   ]
  },
  {
   "cell_type": "code",
   "execution_count": null,
   "id": "a1c41420",
   "metadata": {
    "deletable": false,
    "editable": false
   },
   "outputs": [],
   "source": [
    "# Save your notebook first, then run this cell to export your submission.\n",
    "grader.export()"
   ]
  },
  {
   "cell_type": "markdown",
   "id": "3ddf6703",
   "metadata": {},
   "source": [
    " "
   ]
  }
 ],
 "metadata": {
  "kernelspec": {
   "display_name": "Python 3.9.6 ('base')",
   "language": "python",
   "name": "python3"
  },
  "language_info": {
   "codemirror_mode": {
    "name": "ipython",
    "version": 3
   },
   "file_extension": ".py",
   "mimetype": "text/x-python",
   "name": "python",
   "nbconvert_exporter": "python",
   "pygments_lexer": "ipython3",
   "version": "3.9.6"
  },
  "toc": {
   "base_numbering": 1,
   "nav_menu": {},
   "number_sections": true,
   "sideBar": true,
   "skip_h1_title": false,
   "title_cell": "Table of Contents",
   "title_sidebar": "Contents",
   "toc_cell": true,
   "toc_position": {},
   "toc_section_display": true,
   "toc_window_display": false
  },
  "vscode": {
   "interpreter": {
    "hash": "d4d1e4263499bec80672ea0156c357c1ee493ec2b1c70f0acce89fc37c4a6abe"
   }
  }
 },
 "nbformat": 4,
 "nbformat_minor": 4
}

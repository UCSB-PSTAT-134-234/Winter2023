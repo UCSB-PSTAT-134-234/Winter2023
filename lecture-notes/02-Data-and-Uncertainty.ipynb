{
 "cells": [
  {
   "cell_type": "markdown",
   "metadata": {
    "slideshow": {
     "slide_type": "slide"
    }
   },
   "source": [
    "# PSTAT 134 - Data and Uncertainty <a class=\"tocSkip\">\n",
    "\n",
    "## Sang-Yun Oh <a class=\"tocSkip\">"
   ]
  },
  {
   "cell_type": "markdown",
   "metadata": {
    "slideshow": {
     "slide_type": "slide"
    },
    "toc": true
   },
   "source": [
    "<h1>Table of Contents<span class=\"tocSkip\"></span></h1>\n",
    "<div class=\"toc\"><ul class=\"toc-item\"><li><span><a href=\"#Coin-Flips-Re-visited\" data-toc-modified-id=\"Coin-Flips-Re-visited-1\">Coin Flips Re-visited</a></span></li><li><span><a href=\"#Models-and-Data\" data-toc-modified-id=\"Models-and-Data-2\">Models and Data</a></span><ul class=\"toc-item\"><li><span><a href=\"#Model-Fit-to-Data\" data-toc-modified-id=\"Model-Fit-to-Data-2.1\">Model Fit to Data</a></span></li><li><span><a href=\"#Model-Complexity-and-Data\" data-toc-modified-id=\"Model-Complexity-and-Data-2.2\">Model Complexity and Data</a></span></li><li><span><a href=\"#Data-Amount/Quality-and-Models\" data-toc-modified-id=\"Data-Amount/Quality-and-Models-2.3\">Data Amount/Quality and Models</a></span></li></ul></li><li><span><a href=\"#Models-in-the-Real-World\" data-toc-modified-id=\"Models-in-the-Real-World-3\">Models in the Real World</a></span><ul class=\"toc-item\"><li><span><a href=\"#Monte-Carlo-simulation\" data-toc-modified-id=\"Monte-Carlo-simulation-3.1\">Monte Carlo simulation</a></span><ul class=\"toc-item\"><li><span><a href=\"#Monte-Carlo-simulation-of-card-games\" data-toc-modified-id=\"Monte-Carlo-simulation-of-card-games-3.1.1\">Monte Carlo simulation of card games</a></span></li><li><span><a href=\"#Monte-Carlo-simulation-of-complex-processes\" data-toc-modified-id=\"Monte-Carlo-simulation-of-complex-processes-3.1.2\">Monte Carlo simulation of complex processes</a></span></li><li><span><a href=\"#Monte-Carlo-simulation-for-Data-Science?\" data-toc-modified-id=\"Monte-Carlo-simulation-for-Data-Science?-3.1.3\">Monte Carlo simulation for Data Science?</a></span></li></ul></li></ul></li><li><span><a href=\"#Simulating-Data\" data-toc-modified-id=\"Simulating-Data-4\">Simulating Data</a></span><ul class=\"toc-item\"><li><span><a href=\"#Random-variable\" data-toc-modified-id=\"Random-variable-4.1\">Random variable</a></span></li><li><span><a href=\"#Random-sample\" data-toc-modified-id=\"Random-sample-4.2\">Random sample</a></span></li><li><span><a href=\"#Simulating-of-Random-Sample\" data-toc-modified-id=\"Simulating-of-Random-Sample-4.3\">Simulating of Random Sample</a></span></li></ul></li><li><span><a href=\"#Example:-Consistency-of-the-sample-mean:-dice-example\" data-toc-modified-id=\"Example:-Consistency-of-the-sample-mean:-dice-example-5\">Example: Consistency of the sample mean: dice example</a></span><ul class=\"toc-item\"><li><span><a href=\"#Simulating-dice-throws\" data-toc-modified-id=\"Simulating-dice-throws-5.1\">Simulating dice throws</a></span></li><li><span><a href=\"#Simulating-multiple-dice-throws-(random-sample)\" data-toc-modified-id=\"Simulating-multiple-dice-throws-(random-sample)-5.2\">Simulating multiple dice throws (random sample)</a></span></li><li><span><a href=\"#Simulating-Data-with-Numpy\" data-toc-modified-id=\"Simulating-Data-with-Numpy-5.3\">Simulating Data with Numpy</a></span><ul class=\"toc-item\"><li><span><a href=\"#Arrays\" data-toc-modified-id=\"Arrays-5.3.1\">Arrays</a></span></li><li><span><a href=\"#Array-operations\" data-toc-modified-id=\"Array-operations-5.3.2\">Array operations</a></span></li><li><span><a href=\"#Array-Row/Column-Means\" data-toc-modified-id=\"Array-Row/Column-Means-5.3.3\">Array Row/Column Means</a></span></li></ul></li><li><span><a href=\"#Back-to-Simulation\" data-toc-modified-id=\"Back-to-Simulation-5.4\">Back to Simulation</a></span></li><li><span><a href=\"#What-are-we-seeing?\" data-toc-modified-id=\"What-are-we-seeing?-5.5\">What are we seeing?</a></span></li><li><span><a href=\"#More-complex-phenomenon:-Effect-of-Sample-Size-$n$\" data-toc-modified-id=\"More-complex-phenomenon:-Effect-of-Sample-Size-$n$-5.6\">More complex phenomenon: Effect of Sample Size $n$</a></span></li><li><span><a href=\"#Plot-80%-and-90%-bounds\" data-toc-modified-id=\"Plot-80%-and-90%-bounds-5.7\">Plot 80% and 90% bounds</a></span></li></ul></li></ul></div>"
   ]
  },
  {
   "cell_type": "markdown",
   "metadata": {
    "slideshow": {
     "slide_type": "slide"
    }
   },
   "source": [
    "# Coin Flips Re-visited"
   ]
  },
  {
   "cell_type": "code",
   "execution_count": 1,
   "metadata": {
    "hideCode": true,
    "slideshow": {
     "slide_type": "-"
    }
   },
   "outputs": [
    {
     "data": {
      "text/html": [
       "<iframe width=\"560\" height=\"315\" src=\"https://www.youtube-nocookie.com/embed/486jBqQEYs0\" frameborder=\"0\" allow=\"accelerometer; autoplay; clipboard-write; encrypted-media; gyroscope; picture-in-picture\" allowfullscreen></iframe>\n"
      ],
      "text/plain": [
       "<IPython.core.display.HTML object>"
      ]
     },
     "metadata": {},
     "output_type": "display_data"
    }
   ],
   "source": [
    "%%html\n",
    "<iframe width=\"560\" height=\"315\" src=\"https://www.youtube-nocookie.com/embed/486jBqQEYs0\" frameborder=\"0\" allow=\"accelerometer; autoplay; clipboard-write; encrypted-media; gyroscope; picture-in-picture\" allowfullscreen></iframe>"
   ]
  },
  {
   "cell_type": "markdown",
   "metadata": {
    "slideshow": {
     "slide_type": "subslide"
    }
   },
   "source": [
    "<div>\n",
    "<img src=\"images/coinflip.png\" width=500>\n",
    "</div>"
   ]
  },
  {
   "cell_type": "markdown",
   "metadata": {},
   "source": [
    "- Coin flips: https://www.youtube.com/watch?v=AYnJv68T3MM\n",
    "- Fair dice: https://www.youtube.com/watch?v=G7zT9MljJ3Y"
   ]
  },
  {
   "cell_type": "markdown",
   "metadata": {
    "slideshow": {
     "slide_type": "subslide"
    }
   },
   "source": [
    "- Many real-world processes are much more complicated; however, we still try  \n",
    "\n",
    "    > _Now it would be very remarkable if any system existing in the real world could be \n",
    "    exactly represented by any simple model. However, cunningly chosen parsimonious models \n",
    "    often do provide remarkably useful approximations. \n",
    "    [... example of modeling gas in physics ...]  \n",
    "    For such a model there is no need to ask the question \"Is the model true?\". \n",
    "    If \"truth\" is to be the \"whole truth\" the answer must be \"No\". \n",
    "    The only question of interest is \"Is the model illuminating and useful?\"._  \n",
    "    George Box"
   ]
  },
  {
   "cell_type": "markdown",
   "metadata": {
    "slideshow": {
     "slide_type": "subslide"
    }
   },
   "source": [
    "# Q: Is my model useful? <a class=\"tocSkip\">"
   ]
  },
  {
   "cell_type": "markdown",
   "metadata": {
    "slideshow": {
     "slide_type": "slide"
    }
   },
   "source": [
    "![Fallingwater - Frank Lloyd Wright](images/fallingwater.jpg)\n",
    "[Fallingwater - Frank Lloyd Wright](https://en.wikipedia.org/wiki/Fallingwater)"
   ]
  },
  {
   "cell_type": "markdown",
   "metadata": {
    "slideshow": {
     "slide_type": "slide"
    }
   },
   "source": [
    "# Models and Data"
   ]
  },
  {
   "cell_type": "markdown",
   "metadata": {
    "slideshow": {
     "slide_type": "fragment"
    }
   },
   "source": [
    "- In probability, underlying processes are represented by __models__ (often distributions)   \n",
    "    e.g., flipping a coin, rolling a dice, etc.\n",
    "   "
   ]
  },
  {
   "cell_type": "markdown",
   "metadata": {
    "slideshow": {
     "slide_type": "fragment"
    }
   },
   "source": [
    "- Often these models are often based on assumptions:  \n",
    "    e.g. binomial distribution cannot model for edge landings"
   ]
  },
  {
   "cell_type": "markdown",
   "metadata": {
    "slideshow": {
     "slide_type": "fragment"
    }
   },
   "source": [
    "- How much data is needed to learn a 3-state multinomial random variable?"
   ]
  },
  {
   "cell_type": "markdown",
   "metadata": {
    "slideshow": {
     "slide_type": "fragment"
    }
   },
   "source": [
    "- Choosing a model is important: simple vs. complex models"
   ]
  },
  {
   "cell_type": "markdown",
   "metadata": {
    "slideshow": {
     "slide_type": "fragment"
    }
   },
   "source": [
    "- _When model complexity goes up, required amount of data increases_ :  \n",
    "    e.g. two-sided coin vs. 30-sided dice "
   ]
  },
  {
   "cell_type": "markdown",
   "metadata": {
    "slideshow": {
     "slide_type": "fragment"
    }
   },
   "source": [
    "- Deep learning model is highly flexible and massive amounts of data is needed to train it"
   ]
  },
  {
   "cell_type": "markdown",
   "metadata": {
    "slideshow": {
     "slide_type": "subslide"
    }
   },
   "source": [
    "## Model Fit to Data\n",
    "\n",
    "- Data: {Heads, Heads, Tails}"
   ]
  },
  {
   "cell_type": "markdown",
   "metadata": {
    "slideshow": {
     "slide_type": "fragment"
    }
   },
   "source": [
    "- Model: Bernoulli random variable  \n",
    "    $$ p(x) = \\theta^{x}(1-\\theta)^{1-x} $$"
   ]
  },
  {
   "cell_type": "markdown",
   "metadata": {
    "slideshow": {
     "slide_type": "fragment"
    }
   },
   "source": [
    "- Model fit to data: $\\hat\\theta = 2/3$"
   ]
  },
  {
   "cell_type": "markdown",
   "metadata": {
    "slideshow": {
     "slide_type": "fragment"
    }
   },
   "source": [
    "- Does model fit data well? Yes"
   ]
  },
  {
   "cell_type": "markdown",
   "metadata": {
    "slideshow": {
     "slide_type": "fragment"
    }
   },
   "source": [
    "- Will it generalize well to more coin flips? No"
   ]
  },
  {
   "cell_type": "markdown",
   "metadata": {
    "slideshow": {
     "slide_type": "subslide"
    }
   },
   "source": [
    "## Model Complexity and Data\n",
    "\n",
    "- How do we choose complexity of models?"
   ]
  },
  {
   "cell_type": "markdown",
   "metadata": {
    "slideshow": {
     "slide_type": "fragment"
    }
   },
   "source": [
    "- Depends on complexity of reality and availability of data"
   ]
  },
  {
   "cell_type": "markdown",
   "metadata": {
    "slideshow": {
     "slide_type": "fragment"
    }
   },
   "source": [
    "- Dependency on data:\n",
    "\n",
    "![curvefit](images/sphx_glr_plot_underfitting_overfitting_001.png)"
   ]
  },
  {
   "cell_type": "markdown",
   "metadata": {
    "slideshow": {
     "slide_type": "fragment"
    }
   },
   "source": [
    "- Fair comparison of methods require new set of data (out-of-sample data)"
   ]
  },
  {
   "cell_type": "markdown",
   "metadata": {
    "slideshow": {
     "slide_type": "fragment"
    }
   },
   "source": [
    "- **Goal: Choosing a model: complex enough to fit current data and generalizes well to new data**"
   ]
  },
  {
   "cell_type": "markdown",
   "metadata": {
    "slideshow": {
     "slide_type": "subslide"
    }
   },
   "source": [
    "![curvefit](images/sphx_glr_plot_underfitting_overfitting_001.png)\n",
    "\n",
    "Suppose we had A LOT of data over the full interval of x, and you had to choose between model with degree 1 vs one with degree 15. Which would you choose?\n",
    "\n",
    "a. Model with degree 1\n",
    "\n",
    "b. Model with degree 15"
   ]
  },
  {
   "cell_type": "markdown",
   "metadata": {
    "slideshow": {
     "slide_type": "subslide"
    }
   },
   "source": [
    "## Data Amount/Quality and Models\n",
    "\n",
    "- Data represents the real world to the analyst"
   ]
  },
  {
   "cell_type": "markdown",
   "metadata": {
    "slideshow": {
     "slide_type": "fragment"
    }
   },
   "source": [
    "- If chosen model is correct but data doesn't represent reality, model fit will be bad:  \n",
    "    e.g. model coin edge-landing, but data doesn't contain any edge-landings"
   ]
  },
  {
   "cell_type": "markdown",
   "metadata": {
    "slideshow": {
     "slide_type": "fragment"
    }
   },
   "source": [
    "- If chosen model is not rich enough, model fit cannot capture the full reality:  \n",
    "    e.g. do not model edge-landing, but data contains observed edge-landings"
   ]
  },
  {
   "cell_type": "markdown",
   "metadata": {
    "slideshow": {
     "slide_type": "fragment"
    }
   },
   "source": [
    "- If we don't have enough data to learn the model reliably, model will not generalize to new data  \n",
    "    e.g. model fit with three coin flips will not generalize well"
   ]
  },
  {
   "cell_type": "markdown",
   "metadata": {
    "slideshow": {
     "slide_type": "subslide"
    }
   },
   "source": [
    "# Models in the Real World\n",
    "\n",
    "- However, often building models from ground up can often be practically impossible"
   ]
  },
  {
   "cell_type": "markdown",
   "metadata": {
    "slideshow": {
     "slide_type": "fragment"
    }
   },
   "source": [
    "- e.g., where do you begin to build a model for [NCAA tournament](https://www.forbes.com/sites/kurtbadenhausen/2019/03/14/2019-march-madness-bracket-contest-prize-1-million-a-year-for-life-from-warren-buffett/#2ceb486a6755)? human behavior?"
   ]
  },
  {
   "cell_type": "markdown",
   "metadata": {
    "slideshow": {
     "slide_type": "fragment"
    }
   },
   "source": [
    "- Assuming there is a \"useful\" model, we can generate new data for comparison etc."
   ]
  },
  {
   "cell_type": "markdown",
   "metadata": {
    "slideshow": {
     "slide_type": "fragment"
    }
   },
   "source": [
    "- Monte Carlo simulation "
   ]
  },
  {
   "cell_type": "markdown",
   "metadata": {
    "slideshow": {
     "slide_type": "slide"
    }
   },
   "source": [
    "## Monte Carlo simulation\n",
    "\n",
    "![Monte Carlo Casino](images/sbm_casinos_10_2017_place_du_casinosoir_16_id111623_rsz.jpg)"
   ]
  },
  {
   "cell_type": "markdown",
   "metadata": {
    "slideshow": {
     "slide_type": "subslide"
    }
   },
   "source": [
    "### Monte Carlo simulation of card games\n",
    "\n",
    "- Dealing cards is simple"
   ]
  },
  {
   "cell_type": "markdown",
   "metadata": {
    "slideshow": {
     "slide_type": "fragment"
    }
   },
   "source": [
    "- Repeatedly play games with simulated hands to determine outcome"
   ]
  },
  {
   "cell_type": "markdown",
   "metadata": {
    "slideshow": {
     "slide_type": "fragment"
    }
   },
   "source": [
    "- Calculating probability of card game outcomes by counting or averaging"
   ]
  },
  {
   "cell_type": "markdown",
   "metadata": {
    "slideshow": {
     "slide_type": "subslide"
    }
   },
   "source": [
    "### Monte Carlo simulation of complex processes\n",
    "\n",
    "- Complex process $f$ with random input $X$: i.e. process of interest is $f(x)$"
   ]
  },
  {
   "cell_type": "markdown",
   "metadata": {
    "slideshow": {
     "slide_type": "fragment"
    }
   },
   "source": [
    "- Simulate data $X$, apply process $f$"
   ]
  },
  {
   "cell_type": "markdown",
   "metadata": {
    "slideshow": {
     "slide_type": "fragment"
    }
   },
   "source": [
    "- Calculate some probability or expected value (average)"
   ]
  },
  {
   "cell_type": "markdown",
   "metadata": {
    "slideshow": {
     "slide_type": "subslide"
    }
   },
   "source": [
    "### Monte Carlo simulation for Data Science?\n",
    "\n",
    "- Monte Carlo simulation generates fake data. How is this useful?"
   ]
  },
  {
   "cell_type": "markdown",
   "metadata": {
    "slideshow": {
     "slide_type": "fragment"
    }
   },
   "source": [
    "- If $f$ is fairly accurate, we have ground truth"
   ]
  },
  {
   "cell_type": "markdown",
   "metadata": {
    "slideshow": {
     "slide_type": "fragment"
    }
   },
   "source": [
    "- We learn $\\hat f$ from (fake) data"
   ]
  },
  {
   "cell_type": "markdown",
   "metadata": {
    "slideshow": {
     "slide_type": "fragment"
    }
   },
   "source": [
    "- We can compare $\\hat f$ to $f$ without worrying about data availability"
   ]
  },
  {
   "cell_type": "markdown",
   "metadata": {
    "slideshow": {
     "slide_type": "slide"
    }
   },
   "source": [
    "# Simulating Data"
   ]
  },
  {
   "cell_type": "markdown",
   "metadata": {
    "slideshow": {
     "slide_type": "subslide"
    }
   },
   "source": [
    "## Random variable\n",
    "\n",
    "- Suppose a random variable $X$ is Bernoulli(0.2)"
   ]
  },
  {
   "cell_type": "markdown",
   "metadata": {
    "slideshow": {
     "slide_type": "fragment"
    }
   },
   "source": [
    "- Random variable $X$ does not have a single value"
   ]
  },
  {
   "cell_type": "markdown",
   "metadata": {
    "slideshow": {
     "slide_type": "fragment"
    }
   },
   "source": [
    "- An observation $x$ from $X$ has a value: i.e., 0 or 1 "
   ]
  },
  {
   "cell_type": "markdown",
   "metadata": {
    "slideshow": {
     "slide_type": "fragment"
    }
   },
   "source": [
    "- To express a distribution of $X$, multiple observations must be used:  \n",
    "    e.g., $x_1, x_2, \\dots, x_s$ or a vector of $s$ observations"
   ]
  },
  {
   "cell_type": "markdown",
   "metadata": {
    "slideshow": {
     "slide_type": "subslide"
    }
   },
   "source": [
    "## Random sample\n",
    "\n",
    "- What is a random sample?\n",
    "\n",
    "    > __Random sample__: Let $X_1,X_2,\\dots,X_n$ be a set of $n$ independent random variables, all having the _same pdf,_ $f_X$. Then $X_1,X_2,\\dots,X_n$ are said to be a _random sample of size $n$_.\n",
    "\n",
    "- _Random sample_ is a collection of $n$ random variables: $X_1,X_2,\\dots,X_n$"
   ]
  },
  {
   "cell_type": "markdown",
   "metadata": {
    "slideshow": {
     "slide_type": "subslide"
    }
   },
   "source": [
    "## Simulating of Random Sample\n",
    "\n",
    "- Expressing each rv $X_i$ with $s$ observations, we need a matrix of observations\n",
    "\n",
    "- i.e., capturing randomness of _random sample_ with _iid observations_, \n",
    "    we can generate many sets of random measurements   \n",
    "    $$\n",
    "    x_1^{(1)},x_2^{(1)},\\dots,x_n^{(1)}\\\\\n",
    "    x_1^{(2)},x_2^{(2)},\\dots,x_n^{(2)}\\\\\n",
    "    \\vdots\\\\\n",
    "    x_1^{(s)},x_2^{(s)},\\dots,x_n^{(s)}\n",
    "    $$\n",
    "\n",
    "- As an example, let's simulate convergence of the sample mean to the true mean"
   ]
  },
  {
   "cell_type": "markdown",
   "metadata": {
    "slideshow": {
     "slide_type": "subslide"
    }
   },
   "source": [
    "# Example: Consistency of the sample mean: dice example\n",
    "\n",
    "- Dice throw is easy to simulate"
   ]
  },
  {
   "cell_type": "markdown",
   "metadata": {
    "slideshow": {
     "slide_type": "fragment"
    }
   },
   "source": [
    "- **Suppose average of $n$-throws is a complex phenomenon we want to study**"
   ]
  },
  {
   "cell_type": "markdown",
   "metadata": {
    "slideshow": {
     "slide_type": "fragment"
    }
   },
   "source": [
    "- What is expected value of sample average of $n$-observations? Variance?"
   ]
  },
  {
   "cell_type": "markdown",
   "metadata": {
    "slideshow": {
     "slide_type": "fragment"
    }
   },
   "source": [
    "- How can we approximate distribution of sample average of $n$-observations?  "
   ]
  },
  {
   "cell_type": "markdown",
   "metadata": {
    "slideshow": {
     "slide_type": "fragment"
    }
   },
   "source": [
    "- Can be calculated theoretically, but we will use simulation to calculate the properties."
   ]
  },
  {
   "cell_type": "markdown",
   "metadata": {
    "slideshow": {
     "slide_type": "subslide"
    }
   },
   "source": [
    "Suppose one dice throw can be simulated reasonably well using 100 observations. How many observations do we need in order to simulate 5 independent throws of the same dice (iid)?\n",
    "\n",
    "a. 500 observations\n",
    "\n",
    "b. 100 observations because all throws are iid"
   ]
  },
  {
   "cell_type": "markdown",
   "metadata": {
    "slideshow": {
     "slide_type": "subslide"
    }
   },
   "source": [
    "## Simulating dice throws\n",
    "\n",
    "- Each fair dice is a random variable $p_X(x)=1/6$ for all $x\\in\\{1,2,3,4,5,6\\}$"
   ]
  },
  {
   "cell_type": "markdown",
   "metadata": {
    "slideshow": {
     "slide_type": "fragment"
    }
   },
   "source": [
    "- True value of $E(X)=\\mu=3.5$ and $\\text{Var}(X) = \\sigma^2 = 2.917$"
   ]
  },
  {
   "cell_type": "markdown",
   "metadata": {
    "slideshow": {
     "slide_type": "fragment"
    }
   },
   "source": [
    "## Simulating multiple dice throws (random sample)\n",
    "\n",
    "- $X_1,X_2,\\dots,X_n$ is a random sample of size $n$ from a discrete pdf $p_X(x)$"
   ]
  },
  {
   "cell_type": "markdown",
   "metadata": {
    "slideshow": {
     "slide_type": "fragment"
    }
   },
   "source": [
    "- Sampling distribution gives $E(\\hat\\mu_n)=\\mu$ and $$\\text{Var}(\\hat\\mu_n) = \\text{Var}\\left(\\frac{1}{n}\\sum_{i=1}^n X_i \\right) = \\frac{1}{n^2} \\sum_{i=1}^n \\text{Var}(X_i)= \\frac{\\sigma^2}{n}$$"
   ]
  },
  {
   "cell_type": "markdown",
   "metadata": {
    "slideshow": {
     "slide_type": "fragment"
    }
   },
   "source": [
    "- Can we verify $E(\\hat\\mu_n)$ and $\\text{Var}(\\hat\\mu_n)$ from simulation?"
   ]
  },
  {
   "cell_type": "markdown",
   "metadata": {
    "slideshow": {
     "slide_type": "fragment"
    }
   },
   "source": [
    "- Can $\\hat\\mu_n$ be verify more complex phenomenon from simulation?  \n",
    "    e.g. does $\\hat\\mu$ look like a consistent estimator for $\\mu$?"
   ]
  },
  {
   "cell_type": "markdown",
   "metadata": {
    "slideshow": {
     "slide_type": "subslide"
    }
   },
   "source": [
    "## Simulating Data with Numpy\n",
    "\n",
    "- Generate many random observations $(x_1^{(s)},x_2^{(s)},\\dots ,x_n^{(s)})$ for $s=1,2,\\dots, 10$ and $n=7$\n",
    "\n",
    "- Each simulation is the _data_ of 7 dice throws\n",
    "\n",
    "- Put them into a numpy array"
   ]
  },
  {
   "cell_type": "code",
   "execution_count": 2,
   "metadata": {
    "slideshow": {
     "slide_type": "fragment"
    }
   },
   "outputs": [
    {
     "name": "stdout",
     "output_type": "stream",
     "text": [
      "shape of x: (10, 7)\n",
      "unique values in x: [1 2 3 4 5 6]\n"
     ]
    }
   ],
   "source": [
    "import numpy as np\n",
    "import pandas as pd\n",
    "\n",
    "n = 7\n",
    "S = 10\n",
    "\n",
    "x = np.random.randint(size=(S, n), low=1, high=7)\n",
    "print(\"shape of x:\", x.shape)\n",
    "print(\"unique values in x:\", np.unique(x))"
   ]
  },
  {
   "cell_type": "markdown",
   "metadata": {
    "slideshow": {
     "slide_type": "subslide"
    }
   },
   "source": [
    "### Arrays\n",
    "In `x`, one set of observations is one row. Get one row by indexing into `x`. First index is for the row:"
   ]
  },
  {
   "cell_type": "code",
   "execution_count": 3,
   "metadata": {
    "slideshow": {
     "slide_type": "fragment"
    }
   },
   "outputs": [
    {
     "data": {
      "text/plain": [
       "array([[6, 2, 2, 1, 6, 1, 1],\n",
       "       [6, 2, 3, 6, 3, 5, 5],\n",
       "       [2, 2, 1, 6, 1, 5, 6],\n",
       "       [2, 3, 3, 1, 5, 6, 3],\n",
       "       [4, 5, 4, 2, 3, 3, 6],\n",
       "       [2, 1, 5, 3, 6, 5, 3],\n",
       "       [1, 1, 6, 4, 5, 2, 2],\n",
       "       [5, 2, 1, 1, 4, 2, 2],\n",
       "       [3, 3, 5, 2, 2, 2, 1],\n",
       "       [2, 6, 6, 2, 5, 1, 1]])"
      ]
     },
     "execution_count": 3,
     "metadata": {},
     "output_type": "execute_result"
    }
   ],
   "source": [
    "x ## 10 rows (observations), 7 columns (random sample)"
   ]
  },
  {
   "cell_type": "code",
   "execution_count": 4,
   "metadata": {
    "slideshow": {
     "slide_type": "subslide"
    }
   },
   "outputs": [
    {
     "name": "stdout",
     "output_type": "stream",
     "text": [
      "one row: [6 2 2 1 6 1 1]\n",
      "one value: 6\n"
     ]
    }
   ],
   "source": [
    "print(\"one row:\", x[0])    \n",
    "print(\"one value:\", x[0, 4])"
   ]
  },
  {
   "cell_type": "code",
   "execution_count": 5,
   "metadata": {},
   "outputs": [
    {
     "name": "stdout",
     "output_type": "stream",
     "text": [
      "one row: [2 6 6 2 5 1 1]\n",
      "one value: 1\n"
     ]
    }
   ],
   "source": [
    "print(\"one row:\", x[-1])\n",
    "print(\"one value:\", x[-1, -1])"
   ]
  },
  {
   "cell_type": "markdown",
   "metadata": {
    "slideshow": {
     "slide_type": "subslide"
    }
   },
   "source": [
    "### Array operations\n",
    "\n",
    "- Numpy offers many convenient and flexible ways to slice and get a subset of numpy arrays (Chapter 2 in Vanderplas)"
   ]
  },
  {
   "cell_type": "markdown",
   "metadata": {
    "slideshow": {
     "slide_type": "fragment"
    }
   },
   "source": [
    "- In particular, [_views_ of arrays](https://jakevdp.github.io/PythonDataScienceHandbook/02.02-the-basics-of-numpy-arrays.html#Subarrays-as-no-copy-views) are useful. This is in contrast to R that always creates copies (even in function calls)."
   ]
  },
  {
   "cell_type": "markdown",
   "metadata": {
    "slideshow": {
     "slide_type": "fragment"
    }
   },
   "source": [
    "- Numpy makes array operations simple, whereas `list` does not:"
   ]
  },
  {
   "cell_type": "code",
   "execution_count": 6,
   "metadata": {
    "slideshow": {
     "slide_type": "fragment"
    }
   },
   "outputs": [
    {
     "data": {
      "text/plain": [
       "array([13, 23, 33])"
      ]
     },
     "execution_count": 6,
     "metadata": {},
     "output_type": "execute_result"
    }
   ],
   "source": [
    "## [1,2,3] + 3        ## list + scalar doesn't work and errors\n",
    "np.array([10,20,30]) + 3 ## works fine"
   ]
  },
  {
   "cell_type": "markdown",
   "metadata": {
    "slideshow": {
     "slide_type": "subslide"
    }
   },
   "source": [
    "In addition to common arithmetic functions (called ufuncs) other useful functions are:"
   ]
  },
  {
   "cell_type": "code",
   "execution_count": 7,
   "metadata": {
    "slideshow": {
     "slide_type": "fragment"
    }
   },
   "outputs": [
    {
     "data": {
      "text/plain": [
       "array([[11, 21, 31],\n",
       "       [12, 22, 32],\n",
       "       [13, 23, 33]])"
      ]
     },
     "execution_count": 7,
     "metadata": {},
     "output_type": "execute_result"
    }
   ],
   "source": [
    "np.add.outer([1,2,3], [10,20,30]) ## outer sum of first two columns"
   ]
  },
  {
   "cell_type": "code",
   "execution_count": 8,
   "metadata": {
    "slideshow": {
     "slide_type": "fragment"
    }
   },
   "outputs": [
    {
     "data": {
      "text/plain": [
       "array([[10, 20, 30],\n",
       "       [20, 40, 60],\n",
       "       [30, 60, 90]])"
      ]
     },
     "execution_count": 8,
     "metadata": {},
     "output_type": "execute_result"
    }
   ],
   "source": [
    "np.multiply.outer([1,2,3], [10,20,30]) ## outer product of first two rows"
   ]
  },
  {
   "cell_type": "markdown",
   "metadata": {
    "slideshow": {
     "slide_type": "subslide"
    }
   },
   "source": [
    "### Array Row/Column Means\n",
    "\n",
    "Note that sample mean of one set of random observations can be computed by:"
   ]
  },
  {
   "cell_type": "code",
   "execution_count": 9,
   "metadata": {
    "slideshow": {
     "slide_type": "-"
    }
   },
   "outputs": [
    {
     "name": "stdout",
     "output_type": "stream",
     "text": [
      "object method: 2.7142857142857144 function: 2.7142857142857144\n"
     ]
    }
   ],
   "source": [
    "print(\"object method:\", x[0].mean(), \"function:\", np.mean(x[0]))"
   ]
  },
  {
   "cell_type": "markdown",
   "metadata": {
    "slideshow": {
     "slide_type": "fragment"
    }
   },
   "source": [
    "Internally, they are equivalent."
   ]
  },
  {
   "cell_type": "code",
   "execution_count": 10,
   "metadata": {
    "slideshow": {
     "slide_type": "-"
    }
   },
   "outputs": [],
   "source": [
    "x0 = x[0]\n",
    "# x0.mean??\n",
    "# np.mean??"
   ]
  },
  {
   "cell_type": "code",
   "execution_count": 11,
   "metadata": {},
   "outputs": [
    {
     "data": {
      "text/plain": [
       "array([6, 2, 2, 1, 6, 1, 1])"
      ]
     },
     "execution_count": 11,
     "metadata": {},
     "output_type": "execute_result"
    }
   ],
   "source": [
    "x0"
   ]
  },
  {
   "cell_type": "markdown",
   "metadata": {
    "slideshow": {
     "slide_type": "subslide"
    }
   },
   "source": [
    "## Back to Simulation\n",
    "\n",
    "- One row of `x` is one simulation: i.e., 7 dice throws. \n",
    "\n",
    "- One column of `x` is all 10 simulations for random variable $X_1$\n",
    "\n",
    "- How do you compute mean of each simulation?\n",
    "\n",
    "- Numpy `axis` refers to the direction of the array. \n",
    "\n",
    "- Giving argument `axis=0`, the mean function computes column averages."
   ]
  },
  {
   "cell_type": "code",
   "execution_count": 12,
   "metadata": {
    "slideshow": {
     "slide_type": "fragment"
    }
   },
   "outputs": [
    {
     "name": "stdout",
     "output_type": "stream",
     "text": [
      "x.mean(axis=0)   : [3.3 2.7 3.6 2.8 4.  3.2 3. ]\n",
      "x.mean(0)[3]  : 2.8\n",
      "x[:,3].mean() : 2.8\n"
     ]
    }
   ],
   "source": [
    "temp = x.mean(axis=0)\n",
    "print(\"x.mean(axis=0)   :\", temp)\n",
    "print(\"x.mean(0)[3]  :\", temp[3])\n",
    "print(\"x[:,3].mean() :\", x[:,3].mean())"
   ]
  },
  {
   "cell_type": "markdown",
   "metadata": {
    "slideshow": {
     "slide_type": "fragment"
    }
   },
   "source": [
    "Giving argument `axis=1`, the mean function computes row averages."
   ]
  },
  {
   "cell_type": "code",
   "execution_count": 13,
   "metadata": {
    "slideshow": {
     "slide_type": "-"
    }
   },
   "outputs": [
    {
     "name": "stdout",
     "output_type": "stream",
     "text": [
      "xmean: [2.71428571 4.28571429 3.28571429 3.28571429 3.85714286 3.57142857\n",
      " 3.         2.42857143 2.57142857 3.28571429]\n"
     ]
    }
   ],
   "source": [
    "xmean = x.mean(axis=1)\n",
    "print(\"xmean:\", xmean)"
   ]
  },
  {
   "cell_type": "markdown",
   "metadata": {
    "slideshow": {
     "slide_type": "subslide"
    }
   },
   "source": [
    "Plot the histogram of `xmean`:   \n",
    "\n",
    "_Note that `xmean` does not contain many observations of the sample mean $\\hat\\mu_n$_"
   ]
  },
  {
   "cell_type": "code",
   "execution_count": 14,
   "metadata": {
    "slideshow": {
     "slide_type": "skip"
    }
   },
   "outputs": [],
   "source": [
    "%matplotlib inline\n",
    "import matplotlib.pyplot as plt\n",
    "import seaborn; seaborn.set()  # set plot style\n",
    "from IPython.core.pylabtools import figsize\n",
    "figsize(8, 6)"
   ]
  },
  {
   "cell_type": "code",
   "execution_count": 15,
   "metadata": {
    "slideshow": {
     "slide_type": "subslide"
    }
   },
   "outputs": [],
   "source": [
    "S = 10  # small number of simulations\n",
    "\n",
    "x = np.random.randint(size=(S, n), low=1, high=7)\n",
    "xmean = x.mean(axis=1)"
   ]
  },
  {
   "cell_type": "code",
   "execution_count": 16,
   "metadata": {
    "hideCode": true,
    "slideshow": {
     "slide_type": "-"
    }
   },
   "outputs": [
    {
     "data": {
      "image/png": "[encoded data removed]",
      "text/plain": [
       "<Figure size 576x432 with 1 Axes>"
      ]
     },
     "metadata": {},
     "output_type": "display_data"
    }
   ],
   "source": [
    "plt.hist(xmean, bins=5)\n",
    "plt.xlabel('sample mean')\n",
    "plt.ylabel('count')\n",
    "plt.show()"
   ]
  },
  {
   "cell_type": "code",
   "execution_count": 17,
   "metadata": {
    "slideshow": {
     "slide_type": "subslide"
    }
   },
   "outputs": [],
   "source": [
    "S = 1000  # Repeat with large number of simulations\n",
    "\n",
    "np.random.seed(134)\n",
    "x = np.random.randint(size=(S, n), low=1, high=7)\n",
    "xmean = x.mean(axis=1)"
   ]
  },
  {
   "cell_type": "code",
   "execution_count": 18,
   "metadata": {
    "hideCode": true,
    "slideshow": {
     "slide_type": "-"
    }
   },
   "outputs": [
    {
     "data": {
      "image/png": "[encoded data removed]",
      "text/plain": [
       "<Figure size 576x432 with 1 Axes>"
      ]
     },
     "metadata": {},
     "output_type": "display_data"
    }
   ],
   "source": [
    "plt.hist(xmean)\n",
    "plt.xlabel('sample mean')\n",
    "plt.ylabel('count')\n",
    "plt.show()"
   ]
  },
  {
   "cell_type": "markdown",
   "metadata": {
    "slideshow": {
     "slide_type": "subslide"
    }
   },
   "source": [
    "Theoretically,\n",
    "- True $E(\\hat\\mu_n) = 3.5$\n",
    "- True $\\text{Var}(\\hat\\mu_n)=2.917/7\\approx 0.4167$\n",
    "\n",
    "Empirically (with random seed set),\n",
    "- `xmean.mean()`: Estimated $E(\\hat\\mu_n)$ is $3.4832$ \n",
    "- `xmean.var()`: Estimated $\\text{Var}(\\hat\\mu_n)$ is $0.4023$"
   ]
  },
  {
   "cell_type": "markdown",
   "metadata": {
    "slideshow": {
     "slide_type": "subslide"
    }
   },
   "source": [
    "## What are we seeing?\n",
    "\n",
    "- Dice throws are simple to simulate"
   ]
  },
  {
   "cell_type": "markdown",
   "metadata": {
    "slideshow": {
     "slide_type": "fragment"
    }
   },
   "source": [
    "- Histogram is approximating sampling distribution of average of $n$ dice throws: i.e. $\\hat\\mu_n$"
   ]
  },
  {
   "cell_type": "markdown",
   "metadata": {
    "slideshow": {
     "slide_type": "fragment"
    }
   },
   "source": [
    "- No math, just dice throwing"
   ]
  },
  {
   "cell_type": "markdown",
   "metadata": {
    "slideshow": {
     "slide_type": "fragment"
    }
   },
   "source": [
    "- As $S\\rightarrow\\infty$, histogram will be increasingly better approximate distribution of sample average $\\hat\\mu_n$"
   ]
  },
  {
   "cell_type": "markdown",
   "metadata": {
    "slideshow": {
     "slide_type": "subslide"
    }
   },
   "source": [
    "## More complex phenomenon: Effect of Sample Size $n$"
   ]
  },
  {
   "cell_type": "markdown",
   "metadata": {
    "slideshow": {
     "slide_type": "-"
    }
   },
   "source": [
    "Let's veryfiy Chebyshev's inequality:\n",
    "$$ \\Pr(|\\hat\\mu_n - \\mu| < \\epsilon) > 1 - \\frac{\\text{Var}(\\hat\\mu_n)}{\\epsilon^2} \n",
    "= 1- \\frac{\\sigma^2}{n\\epsilon^2} $$\n",
    "\n",
    "- Plug-in variance of dice throws: $\\sigma^2=2.917$\n",
    "\n",
    "- Choose $\\epsilon = 1$\n",
    "\n",
    "- Create dice-throwing function "
   ]
  },
  {
   "cell_type": "code",
   "execution_count": 19,
   "metadata": {
    "slideshow": {
     "slide_type": "fragment"
    }
   },
   "outputs": [],
   "source": [
    "## throw dice\n",
    "def throw_dice(n=1):\n",
    "    \n",
    "    from numpy.random import randint\n",
    "    \n",
    "    return(randint(size=n, low=1, high=7))\n",
    "\n",
    "## throw dice n times, compute mean\n",
    "def muhat_n(n=1):\n",
    "    \n",
    "    return(throw_dice(n).mean())"
   ]
  },
  {
   "cell_type": "markdown",
   "metadata": {
    "slideshow": {
     "slide_type": "subslide"
    }
   },
   "source": [
    "Above functions return numpy arrays. We will compile results below in a bare list. Then create Pandas data frame from it (more on Pandas later). Some automatic type conversion is possible, but more strict than R."
   ]
  },
  {
   "cell_type": "code",
   "execution_count": 20,
   "metadata": {
    "slideshow": {
     "slide_type": "fragment"
    }
   },
   "outputs": [],
   "source": [
    "n_choices = np.arange(20, 10001, 10)\n",
    "\n",
    "results = []\n",
    "for n in n_choices:\n",
    "    results += [muhat_n(n)] ## appends to list"
   ]
  },
  {
   "cell_type": "code",
   "execution_count": 21,
   "metadata": {
    "hideCode": true,
    "slideshow": {
     "slide_type": "-"
    }
   },
   "outputs": [
    {
     "data": {
      "text/html": [
       "<div>\n",
       "<style scoped>\n",
       "    .dataframe tbody tr th:only-of-type {\n",
       "        vertical-align: middle;\n",
       "    }\n",
       "\n",
       "    .dataframe tbody tr th {\n",
       "        vertical-align: top;\n",
       "    }\n",
       "\n",
       "    .dataframe thead th {\n",
       "        text-align: right;\n",
       "    }\n",
       "</style>\n",
       "<table border=\"1\" class=\"dataframe\">\n",
       "  <thead>\n",
       "    <tr style=\"text-align: right;\">\n",
       "      <th></th>\n",
       "      <th>n_throws</th>\n",
       "      <th>muhat_n</th>\n",
       "    </tr>\n",
       "  </thead>\n",
       "  <tbody>\n",
       "    <tr>\n",
       "      <th>0</th>\n",
       "      <td>20</td>\n",
       "      <td>3.250000</td>\n",
       "    </tr>\n",
       "    <tr>\n",
       "      <th>1</th>\n",
       "      <td>30</td>\n",
       "      <td>3.633333</td>\n",
       "    </tr>\n",
       "    <tr>\n",
       "      <th>2</th>\n",
       "      <td>40</td>\n",
       "      <td>3.575000</td>\n",
       "    </tr>\n",
       "    <tr>\n",
       "      <th>3</th>\n",
       "      <td>50</td>\n",
       "      <td>3.260000</td>\n",
       "    </tr>\n",
       "    <tr>\n",
       "      <th>4</th>\n",
       "      <td>60</td>\n",
       "      <td>3.233333</td>\n",
       "    </tr>\n",
       "    <tr>\n",
       "      <th>5</th>\n",
       "      <td>70</td>\n",
       "      <td>3.428571</td>\n",
       "    </tr>\n",
       "    <tr>\n",
       "      <th>6</th>\n",
       "      <td>80</td>\n",
       "      <td>3.587500</td>\n",
       "    </tr>\n",
       "    <tr>\n",
       "      <th>7</th>\n",
       "      <td>90</td>\n",
       "      <td>3.100000</td>\n",
       "    </tr>\n",
       "    <tr>\n",
       "      <th>8</th>\n",
       "      <td>100</td>\n",
       "      <td>3.650000</td>\n",
       "    </tr>\n",
       "    <tr>\n",
       "      <th>9</th>\n",
       "      <td>110</td>\n",
       "      <td>3.581818</td>\n",
       "    </tr>\n",
       "  </tbody>\n",
       "</table>\n",
       "</div>"
      ],
      "text/plain": [
       "   n_throws   muhat_n\n",
       "0        20  3.250000\n",
       "1        30  3.633333\n",
       "2        40  3.575000\n",
       "3        50  3.260000\n",
       "4        60  3.233333\n",
       "5        70  3.428571\n",
       "6        80  3.587500\n",
       "7        90  3.100000\n",
       "8       100  3.650000\n",
       "9       110  3.581818"
      ]
     },
     "execution_count": 21,
     "metadata": {},
     "output_type": "execute_result"
    }
   ],
   "source": [
    "df = pd.DataFrame({\n",
    "    'n_throws': n_choices,\n",
    "    'muhat_n' : results,\n",
    "})\n",
    "df[:10]"
   ]
  },
  {
   "cell_type": "code",
   "execution_count": 22,
   "metadata": {
    "hideCode": true,
    "slideshow": {
     "slide_type": "subslide"
    }
   },
   "outputs": [
    {
     "data": {
      "image/png": "[encoded data removed]",
      "text/plain": [
       "<Figure size 792x648 with 1 Axes>"
      ]
     },
     "metadata": {},
     "output_type": "display_data"
    }
   ],
   "source": [
    "figsize(11, 9)\n",
    "plt.plot(df['n_throws'], df['muhat_n']);\n",
    "plt.xlabel(\"Number of dice throws (n)\");\n",
    "plt.ylabel(\"Average of n dice throws\");"
   ]
  },
  {
   "cell_type": "markdown",
   "metadata": {
    "slideshow": {
     "slide_type": "subslide"
    }
   },
   "source": [
    "We can build on the result by showing where 95% bound according to Chebyshev's inequality.\n",
    "\n",
    "For illustration, choosing $95\\%$ probability and $n=50$ (also plug in $\\sigma^2$), we would get as $\\epsilon$:\n",
    "$$ \n",
    "1- \\frac{2.917}{50\\cdot \\epsilon^2} = 0.95\\\\\n",
    "\\epsilon = \\sqrt{\\frac{2.917}{0.05\\cdot 50}}$$\n",
    "\n",
    "Following computes error threshold $\\epsilon$ guaranteed by Chebyshev's threshold."
   ]
  },
  {
   "cell_type": "code",
   "execution_count": 23,
   "metadata": {
    "slideshow": {
     "slide_type": "-"
    }
   },
   "outputs": [],
   "source": [
    "epsilon_n = np.sqrt(2.917/(0.05*n_choices))\n",
    "df['epsilon'] = epsilon_n"
   ]
  },
  {
   "cell_type": "markdown",
   "metadata": {
    "slideshow": {
     "slide_type": "subslide"
    }
   },
   "source": [
    "Plot the new plot\n",
    "$$ \\Pr(|\\hat\\mu_n - \\mu| < \\epsilon) > 0.95\\\\\n",
    "\\Pr(-\\epsilon_n < \\hat\\mu_n - \\mu < \\epsilon_n)  > 0.95 $$"
   ]
  },
  {
   "cell_type": "code",
   "execution_count": 24,
   "metadata": {
    "hideCode": true,
    "slideshow": {
     "slide_type": "-"
    }
   },
   "outputs": [
    {
     "data": {
      "image/png": "[encoded data removed]",
      "text/plain": [
       "<Figure size 792x648 with 1 Axes>"
      ]
     },
     "metadata": {},
     "output_type": "display_data"
    }
   ],
   "source": [
    "figsize(11, 9)\n",
    "plt.plot((df['n_throws']),  df['muhat_n']-3.5);    ## subtract true mean 3.5\n",
    "plt.plot((df['n_throws']),  df['epsilon'], '--r');\n",
    "plt.plot((df['n_throws']), -df['epsilon'], '--r');\n",
    "plt.xlabel(\"Number of dice throws (n)\");\n",
    "plt.ylabel(\"Average of n dice throws\");"
   ]
  },
  {
   "cell_type": "code",
   "execution_count": 25,
   "metadata": {
    "slideshow": {
     "slide_type": "subslide"
    }
   },
   "outputs": [],
   "source": [
    "## repeat computing mean of n throws s times\n",
    "def repeat_muhat_n(n=1, s=100):\n",
    "    \n",
    "    out = [muhat_n(n) for one in range(s)]\n",
    "    \n",
    "    return({ 'min': min(out), 'max': max(out), 'mean': sum(out)/s})"
   ]
  },
  {
   "cell_type": "code",
   "execution_count": 26,
   "metadata": {
    "slideshow": {
     "slide_type": "fragment"
    }
   },
   "outputs": [
    {
     "data": {
      "text/plain": [
       "{'min': 1.9, 'max': 5.1, 'mean': 3.587999999999999}"
      ]
     },
     "execution_count": 26,
     "metadata": {},
     "output_type": "execute_result"
    }
   ],
   "source": [
    "repeat_muhat_n(10)"
   ]
  },
  {
   "cell_type": "code",
   "execution_count": 27,
   "metadata": {
    "slideshow": {
     "slide_type": "fragment"
    }
   },
   "outputs": [],
   "source": [
    "results = []\n",
    "for n in n_choices:\n",
    "    results += [repeat_muhat_n(n)] ## appends to list"
   ]
  },
  {
   "cell_type": "code",
   "execution_count": 28,
   "metadata": {
    "hideCode": true,
    "slideshow": {
     "slide_type": "fragment"
    }
   },
   "outputs": [
    {
     "data": {
      "text/html": [
       "<div>\n",
       "<style scoped>\n",
       "    .dataframe tbody tr th:only-of-type {\n",
       "        vertical-align: middle;\n",
       "    }\n",
       "\n",
       "    .dataframe tbody tr th {\n",
       "        vertical-align: top;\n",
       "    }\n",
       "\n",
       "    .dataframe thead th {\n",
       "        text-align: right;\n",
       "    }\n",
       "</style>\n",
       "<table border=\"1\" class=\"dataframe\">\n",
       "  <thead>\n",
       "    <tr style=\"text-align: right;\">\n",
       "      <th></th>\n",
       "      <th>min</th>\n",
       "      <th>max</th>\n",
       "      <th>mean</th>\n",
       "      <th>n_throws</th>\n",
       "      <th>epsilon</th>\n",
       "    </tr>\n",
       "  </thead>\n",
       "  <tbody>\n",
       "    <tr>\n",
       "      <th>0</th>\n",
       "      <td>2.650000</td>\n",
       "      <td>4.550000</td>\n",
       "      <td>3.488000</td>\n",
       "      <td>20</td>\n",
       "      <td>1.707923</td>\n",
       "    </tr>\n",
       "    <tr>\n",
       "      <th>1</th>\n",
       "      <td>2.733333</td>\n",
       "      <td>4.266667</td>\n",
       "      <td>3.497000</td>\n",
       "      <td>30</td>\n",
       "      <td>1.394513</td>\n",
       "    </tr>\n",
       "    <tr>\n",
       "      <th>2</th>\n",
       "      <td>2.825000</td>\n",
       "      <td>4.150000</td>\n",
       "      <td>3.522000</td>\n",
       "      <td>40</td>\n",
       "      <td>1.207684</td>\n",
       "    </tr>\n",
       "    <tr>\n",
       "      <th>3</th>\n",
       "      <td>2.900000</td>\n",
       "      <td>4.200000</td>\n",
       "      <td>3.502400</td>\n",
       "      <td>50</td>\n",
       "      <td>1.080185</td>\n",
       "    </tr>\n",
       "    <tr>\n",
       "      <th>4</th>\n",
       "      <td>2.833333</td>\n",
       "      <td>4.066667</td>\n",
       "      <td>3.497500</td>\n",
       "      <td>60</td>\n",
       "      <td>0.986070</td>\n",
       "    </tr>\n",
       "    <tr>\n",
       "      <th>5</th>\n",
       "      <td>3.100000</td>\n",
       "      <td>4.114286</td>\n",
       "      <td>3.504143</td>\n",
       "      <td>70</td>\n",
       "      <td>0.912923</td>\n",
       "    </tr>\n",
       "    <tr>\n",
       "      <th>6</th>\n",
       "      <td>3.125000</td>\n",
       "      <td>3.975000</td>\n",
       "      <td>3.507375</td>\n",
       "      <td>80</td>\n",
       "      <td>0.853961</td>\n",
       "    </tr>\n",
       "    <tr>\n",
       "      <th>7</th>\n",
       "      <td>3.044444</td>\n",
       "      <td>3.988889</td>\n",
       "      <td>3.478222</td>\n",
       "      <td>90</td>\n",
       "      <td>0.805122</td>\n",
       "    </tr>\n",
       "    <tr>\n",
       "      <th>8</th>\n",
       "      <td>2.920000</td>\n",
       "      <td>4.010000</td>\n",
       "      <td>3.506200</td>\n",
       "      <td>100</td>\n",
       "      <td>0.763806</td>\n",
       "    </tr>\n",
       "    <tr>\n",
       "      <th>9</th>\n",
       "      <td>3.190909</td>\n",
       "      <td>4.036364</td>\n",
       "      <td>3.510545</td>\n",
       "      <td>110</td>\n",
       "      <td>0.728261</td>\n",
       "    </tr>\n",
       "  </tbody>\n",
       "</table>\n",
       "</div>"
      ],
      "text/plain": [
       "        min       max      mean  n_throws   epsilon\n",
       "0  2.650000  4.550000  3.488000        20  1.707923\n",
       "1  2.733333  4.266667  3.497000        30  1.394513\n",
       "2  2.825000  4.150000  3.522000        40  1.207684\n",
       "3  2.900000  4.200000  3.502400        50  1.080185\n",
       "4  2.833333  4.066667  3.497500        60  0.986070\n",
       "5  3.100000  4.114286  3.504143        70  0.912923\n",
       "6  3.125000  3.975000  3.507375        80  0.853961\n",
       "7  3.044444  3.988889  3.478222        90  0.805122\n",
       "8  2.920000  4.010000  3.506200       100  0.763806\n",
       "9  3.190909  4.036364  3.510545       110  0.728261"
      ]
     },
     "execution_count": 28,
     "metadata": {},
     "output_type": "execute_result"
    }
   ],
   "source": [
    "df_new = pd.DataFrame(results)\n",
    "df_new['n_throws'] = n_choices\n",
    "df_new['epsilon'] = epsilon_n\n",
    "df_new[:10]"
   ]
  },
  {
   "cell_type": "code",
   "execution_count": 29,
   "metadata": {
    "hideCode": true,
    "slideshow": {
     "slide_type": "subslide"
    }
   },
   "outputs": [
    {
     "data": {
      "image/png": "[encoded data removed]",
      "text/plain": [
       "<Figure size 792x648 with 1 Axes>"
      ]
     },
     "metadata": {},
     "output_type": "display_data"
    }
   ],
   "source": [
    "figsize(11, 9)\n",
    "plt.plot((df_new['n_throws']),  df_new['mean']-3.5, '-g');    ## subtract true mean 3.5\n",
    "plt.plot((df_new['n_throws']),  df_new['min'] -3.5, ':g');    ## subtract true mean 3.5\n",
    "plt.plot((df_new['n_throws']),  df_new['max'] -3.5, ':g');    ## subtract true mean 3.5\n",
    "plt.plot((df_new['n_throws']),  df_new['epsilon'], '--r');\n",
    "plt.plot((df_new['n_throws']), -df_new['epsilon'], '--r');\n",
    "plt.xlabel(\"Number of dice throws (n)\");\n",
    "plt.ylabel(\"Average of n dice throws\");"
   ]
  },
  {
   "cell_type": "markdown",
   "metadata": {
    "slideshow": {
     "slide_type": "subslide"
    }
   },
   "source": [
    "## Plot 80% and 90% bounds\n",
    "\n",
    "Plot $\\epsilon$ bounds corresponding to 80% and 90% probability. Interpret these bounds."
   ]
  },
  {
   "cell_type": "code",
   "execution_count": 30,
   "metadata": {
    "hideCode": false,
    "slideshow": {
     "slide_type": "-"
    }
   },
   "outputs": [
    {
     "data": {
      "image/png": "[encoded data removed]",
      "text/plain": [
       "<Figure size 792x648 with 1 Axes>"
      ]
     },
     "metadata": {},
     "output_type": "display_data"
    }
   ],
   "source": [
    "epsilon_n = np.sqrt(2.917/(0.1*n_choices))\n",
    "df_new['epsilon_10'] = epsilon_n\n",
    "\n",
    "epsilon_n = np.sqrt(2.917/(0.2*n_choices))\n",
    "df_new['epsilon_20'] = epsilon_n\n",
    "\n",
    "figsize(11, 9)\n",
    "plt.plot((df_new['n_throws']),  df_new['mean']-3.5, '-g')    ## subtract true mean 3.5\n",
    "plt.plot((df_new['n_throws']),  df_new['min'] -3.5, ':g')    ## subtract true mean 3.5\n",
    "plt.plot((df_new['n_throws']),  df_new['max'] -3.5, ':g')    ## subtract true mean 3.5\n",
    "plt.plot((df_new['n_throws']),  df_new['epsilon'], '--r')\n",
    "plt.plot((df_new['n_throws']), -df_new['epsilon'], '--r')\n",
    "plt.plot((df_new['n_throws']),  df_new['epsilon_10'], '--b')\n",
    "plt.plot((df_new['n_throws']), -df_new['epsilon_10'], '--b')\n",
    "plt.plot((df_new['n_throws']),  df_new['epsilon_20'], '--k')\n",
    "plt.plot((df_new['n_throws']), -df_new['epsilon_20'], '--k')\n",
    "plt.xlim(0, 3000)\n",
    "plt.xlabel(\"Number of dice throws (n)\")\n",
    "plt.ylabel(\"Average of n dice throws\")\n",
    "plt.show()"
   ]
  }
 ],
 "metadata": {
  "celltoolbar": "Slideshow",
  "kernelspec": {
   "display_name": "Python 3 (ipykernel)",
   "language": "python",
   "name": "python3"
  },
  "language_info": {
   "codemirror_mode": {
    "name": "ipython",
    "version": 3
   },
   "file_extension": ".py",
   "mimetype": "text/x-python",
   "name": "python",
   "nbconvert_exporter": "python",
   "pygments_lexer": "ipython3",
   "version": "3.9.6"
  },
  "toc": {
   "base_numbering": 1,
   "nav_menu": {},
   "number_sections": false,
   "sideBar": true,
   "skip_h1_title": false,
   "title_cell": "Table of Contents",
   "title_sidebar": "Contents",
   "toc_cell": true,
   "toc_position": {},
   "toc_section_display": true,
   "toc_window_display": false
  }
 },
 "nbformat": 4,
 "nbformat_minor": 4
}

{
 "cells": [
  {
   "cell_type": "markdown",
   "id": "chemical-bradford",
   "metadata": {
    "slideshow": {
     "slide_type": "slide"
    }
   },
   "source": [
    "# Covariance Matrices in High Dimensions\n",
    "\n",
    "### Sang-Yun Oh"
   ]
  },
  {
   "cell_type": "markdown",
   "id": "prescribed-delight",
   "metadata": {
    "slideshow": {
     "slide_type": "slide"
    }
   },
   "source": [
    "# Covariance Matrices\n",
    "\n",
    "* Suppose data consist of $p$ variables and $n$ measurements\n",
    "* Variables: blood pressure, height, weight, etc.\n",
    "* Measurements: $n$-subjects, units, items, etc.\n",
    "* Data matrix: $\\boldsymbol{Y}\\in\\mathbb{R}^{n\\times p}$"
   ]
  },
  {
   "cell_type": "markdown",
   "id": "c57b284b",
   "metadata": {},
   "source": [
    "## Theoretical Concepts"
   ]
  },
  {
   "cell_type": "markdown",
   "id": "juvenile-surprise",
   "metadata": {
    "slideshow": {
     "slide_type": "slide"
    }
   },
   "source": [
    "## Covariance Matrix\n",
    "\n",
    "* Covariance matrix is defined as\n",
    "$$\n",
    "\\Sigma=E(\\boldsymbol{Y}-\\boldsymbol{\\mu})(\\boldsymbol{Y}-\\boldsymbol{\\mu})^{\\prime}=\\left(\\sigma_{i j}\\right),\n",
    "$$"
   ]
  },
  {
   "cell_type": "markdown",
   "id": "engaging-cooking",
   "metadata": {
    "slideshow": {
     "slide_type": "fragment"
    }
   },
   "source": [
    "* Sample covariance matrix is\n",
    "$$\n",
    "\\mathbf{S}=\\frac{1}{n} \\sum_{i=1}^{n}\\left(\\boldsymbol{Y}_{i}-\\overline{\\boldsymbol{Y}}\\right)\\left(\\boldsymbol{Y}_{i}-\\overline{\\boldsymbol{Y}}\\right)^{\\prime},\n",
    "$$\n",
    "* Other types of covariance estimates"
   ]
  },
  {
   "cell_type": "markdown",
   "id": "labeled-responsibility",
   "metadata": {
    "slideshow": {
     "slide_type": "slide"
    }
   },
   "source": [
    "## Examples of Covariance Matrices\n",
    "\n",
    "* Stocks: $p=4300+$ companies and 20 days per month  \n",
    "    Relationship between stocks (volatility structure)"
   ]
  },
  {
   "cell_type": "markdown",
   "id": "expanded-centre",
   "metadata": {
    "slideshow": {
     "slide_type": "fragment"
    }
   },
   "source": [
    "* Genomics: $p\\approx 20000$ genes and 100s of subjects  \n",
    "    Co-expression of genes (gene relevance network)"
   ]
  },
  {
   "cell_type": "markdown",
   "id": "champion-month",
   "metadata": {
    "slideshow": {
     "slide_type": "fragment"
    }
   },
   "source": [
    "* Neuroimaging: $p=90000$ voxels (or hundreds of aggregated ROIs) and thousands of time points  \n",
    "    Functional connectivity network"
   ]
  },
  {
   "cell_type": "markdown",
   "id": "quantitative-soldier",
   "metadata": {
    "slideshow": {
     "slide_type": "fragment"
    }
   },
   "source": [
    "* Ecology: $p=23$ environmental variables and $n=12$ locations  \n",
    "    Community abundance (Warton 2008)\n",
    "    \n",
    "**Data are often high dimensional**"
   ]
  },
  {
   "cell_type": "markdown",
   "id": "attempted-spray",
   "metadata": {
    "slideshow": {
     "slide_type": "slide"
    }
   },
   "source": [
    "## Properties of Covariance Matrices\n",
    "\n",
    "* Matrix $\\Sigma$ is symmetric\n",
    "* All eigenvalues are nonnegative\n",
    "* Nonnegative definite\n",
    "* If singular, dimensionality can be reduced"
   ]
  },
  {
   "cell_type": "markdown",
   "id": "funky-venture",
   "metadata": {
    "slideshow": {
     "slide_type": "slide"
    }
   },
   "source": [
    "## Estimation of Covariance Matrices\n",
    "\n",
    "* High dimensionality makes covariance estimation challenging\n",
    "* $O(p^2)$ parameters (high estimator variance)\n",
    "* $\\mathbf{S}$ is singular when $p>n$\n",
    "* Even when $p<n$, eigenvalues can be inaccurate"
   ]
  },
  {
   "cell_type": "markdown",
   "id": "appointed-tobacco",
   "metadata": {
    "slideshow": {
     "slide_type": "slide"
    }
   },
   "source": [
    "![](images/eigenvalues.png)"
   ]
  },
  {
   "cell_type": "markdown",
   "id": "difficult-renewal",
   "metadata": {
    "slideshow": {
     "slide_type": "slide"
    }
   },
   "source": [
    "## Uses of Covariance Matrices\n",
    "\n",
    "* Markowitz Portfolio Problem (encodes market volatility)\n",
    "* Regression (OLS)  \n",
    "$$\n",
    "\\widehat{\\beta}_{\\text {OLS}}=\\left(\\boldsymbol{X}^{\\prime} \\boldsymbol{X}\\right)^{-1} \\boldsymbol{X}^{\\prime} \\boldsymbol{Y}\n",
    "$$\n",
    "* Canonical Correlation Analysis (CCA): associations among two sets of variables ([examples](https://stats.idre.ucla.edu/r/dae/canonical-correlation-analysis/))\n",
    "* Input to clustering algorithm\n",
    "* Inverse of $\\Sigma$ often needed but doesn't exist in high dimensional setting"
   ]
  },
  {
   "cell_type": "markdown",
   "id": "cf1168c2",
   "metadata": {
    "slideshow": {
     "slide_type": "slide"
    }
   },
   "source": [
    "## PCA as Optimal Subspace Estimation\n",
    "\n",
    "Suppose we have data $X\\in \\mathbb{R}^{n\\times p}$ with mean zero with sample covariance $S=\\frac{1}{n-1} X^T X$. Note the following optimization problem\n",
    "$$\n",
    "\\begin{aligned}\n",
    "\\begin{array}{ll}\n",
    "\\max _{v_1} & v_1^T X^T X v_1, \\\\\n",
    "\\text{subject to} & v_1^T v_1=1 .\n",
    "\\end{array}\n",
    "\\end{aligned}\n",
    "$$\n",
    "Objective function is equivalent to $\\operatorname{var}\\left(X v_1\\right)=v_1^T S v_1$"
   ]
  },
  {
   "cell_type": "markdown",
   "id": "9681d71b",
   "metadata": {
    "slideshow": {
     "slide_type": "slide"
    }
   },
   "source": [
    "## PCA as Optimal Subspace Estimation\n",
    "\n",
    "Suppose we have data $X\\in \\mathbb{R}^{n\\times p}$ with mean zero with sample covariance $S=\\frac{1}{n-1} X^T X$. Note the following optimization problem\n",
    "$$\n",
    "\\begin{aligned}\n",
    "\\begin{array}{ll}\n",
    "\\max _{v_1} & v_1^T X^T X v_1, \\\\\n",
    "\\text{subject to} & v_1^T v_1=1 .\n",
    "\\end{array}\n",
    "\\end{aligned}\n",
    "$$\n",
    "Objective function is equivalent to $\\operatorname{var}\\left(X v_1\\right)=v_1^T S v_1$"
   ]
  },
  {
   "cell_type": "markdown",
   "id": "d7d1d4b8",
   "metadata": {
    "slideshow": {
     "slide_type": "subslide"
    }
   },
   "source": [
    "Next optimization problem is similar with additional constraints:\n",
    "$$\n",
    "\\begin{aligned}\n",
    "\\begin{array}{ll}\n",
    "\\max _{v_2} & v_2^T X^T X v_2, \\\\\n",
    "\\text{subject to} & v_2^T v_2=1 \\\\\n",
    "& v_1^T v_2=0.\n",
    "\\end{array}\n",
    "\\end{aligned}\n",
    "$$\n"
   ]
  },
  {
   "cell_type": "markdown",
   "id": "ac8f4c8f",
   "metadata": {
    "slideshow": {
     "slide_type": "subslide"
    }
   },
   "source": [
    "Continuing up to $k$-th PC loadings:\n",
    "$$\\begin{aligned}\n",
    "\\begin{array}{ll}\n",
    "\\max _{v_k} & v_k^T X^T X v_k \\\\\n",
    "\\text{subject to} & v_k^T v_k=1 \\\\\n",
    "& v_j^T v_k=0, j=1, \\ldots, k-1\n",
    "\\end{array}\n",
    "\\end{aligned}$$"
   ]
  },
  {
   "cell_type": "markdown",
   "id": "07b93ae4",
   "metadata": {
    "slideshow": {
     "slide_type": "subslide"
    }
   },
   "source": [
    "Collectively, we can write\n",
    "$$\n",
    "\\begin{aligned}\n",
    "\\begin{array}{ll}\n",
    "\\max_V & V^T X^T X V \\\\\n",
    "\\text{subject to} & V^T V=I\n",
    "\\end{array}\n",
    "\\end{aligned}\n",
    "$$\n",
    "\n",
    "For other formulation of PCA refer to _Principal Component Analysis and Optimization:\n",
    "A Tutorial_, Reris and Brooks ([manuscript](https://scholarscompass.vcu.edu/cgi/viewcontent.cgi?article=1006&context=ssor_pubs))"
   ]
  },
  {
   "cell_type": "markdown",
   "id": "continental-relevance",
   "metadata": {
    "slideshow": {
     "slide_type": "slide"
    }
   },
   "source": [
    "## Regularization\n",
    "\n",
    "* Eigenvalue structure (Ledoit-Wolf, condition number)"
   ]
  },
  {
   "cell_type": "markdown",
   "id": "basic-halifax",
   "metadata": {
    "slideshow": {
     "slide_type": "fragment"
    }
   },
   "source": [
    "* Sparsity pattern (graphical models)"
   ]
  },
  {
   "cell_type": "markdown",
   "id": "protected-railway",
   "metadata": {
    "slideshow": {
     "slide_type": "fragment"
    }
   },
   "source": [
    "* Structural assumptions (banding, tapering, low-rank)\n",
    "\n",
    "All stabilize estimates (bias variance trade off)"
   ]
  },
  {
   "cell_type": "markdown",
   "id": "hourly-parade",
   "metadata": {
    "slideshow": {
     "slide_type": "subslide"
    }
   },
   "source": [
    "## Eigen-structure regularization\n",
    "\n",
    "* Ledoit-Wolf Estimator (Ledoit and Wolf, 2004)\n",
    "$$\n",
    "\\widehat{\\mathbf{\\Sigma}}=\\alpha I+(1-\\alpha) \\mathbf{S}\n",
    "$$"
   ]
  },
  {
   "cell_type": "markdown",
   "id": "disturbed-knight",
   "metadata": {
    "slideshow": {
     "slide_type": "fragment"
    }
   },
   "source": [
    "* Condition number regularization (Won et al., 2009)\n",
    "$$\n",
    "\\begin{array}{ll}\n",
    "\\operatorname{maximize} & l(\\Sigma) \\\\\n",
    "\\text { subject to } & \\operatorname{cond}(\\Sigma) \\leq \\kappa_{\\max },\n",
    "\\end{array}\n",
    "$$  \n",
    "    where $l(\\Sigma)$ is the Gaussian Likelihood"
   ]
  },
  {
   "cell_type": "markdown",
   "id": "reliable-whale",
   "metadata": {
    "slideshow": {
     "slide_type": "fragment"
    }
   },
   "source": [
    "* Eigenvector regularization (sparse PCA, SVD, etc)"
   ]
  },
  {
   "cell_type": "markdown",
   "id": "pacific-glory",
   "metadata": {
    "slideshow": {
     "slide_type": "slide"
    }
   },
   "source": [
    "## Sparsity pattern (Graphical Model)\n",
    "\n",
    "* $\\mathbf{\\Theta}=\\mathbf{\\Sigma}^{-1}$ appear in many situations\n",
    "* $\\mathbf{\\Theta}$ can be regularized directly"
   ]
  },
  {
   "cell_type": "markdown",
   "id": "distributed-pixel",
   "metadata": {
    "slideshow": {
     "slide_type": "fragment"
    }
   },
   "source": [
    "* Assume $\\boldsymbol{Y}_{1}, \\ldots, \\boldsymbol{Y}_{n} \\sim N_{p}(\\boldsymbol{0}, \\boldsymbol{\\Sigma})$ and \n",
    "$$\n",
    "L(\\boldsymbol{\\Sigma})=\\frac{1}{(2 \\pi)^{n p / 2}|\\boldsymbol{\\Sigma}|^{n / 2}} \\exp \\left\\{-\\frac{1}{2} \\sum_{i=1}^{n} \\boldsymbol{Y}_{i}^{\\prime} \\boldsymbol{\\Sigma}^{-1} \\boldsymbol{Y}_{i}\\right\\} .\n",
    "$$"
   ]
  },
  {
   "cell_type": "markdown",
   "id": "lyric-potato",
   "metadata": {
    "slideshow": {
     "slide_type": "fragment"
    }
   },
   "source": [
    "* Compute $\\boldsymbol{\\Theta}$:\n",
    "$$\n",
    "\\ell_{P}(\\boldsymbol{\\Theta})=\\log |\\boldsymbol{\\Theta}|-\\operatorname{tr}(\\mathbf{S} \\Theta)-\\lambda\\|\\boldsymbol{\\Theta}\\|_{1},\n",
    "$$"
   ]
  },
  {
   "cell_type": "markdown",
   "id": "associate-facial",
   "metadata": {
    "slideshow": {
     "slide_type": "slide"
    }
   },
   "source": [
    "Reference: [High‐Dimensional Covariance Estimation](https://ucsb-primo.hosted.exlibrisgroup.com/permalink/f/1egv95m/01UCSB_ALMA51276966020003776) by Mohsen Pourahmadi"
   ]
  },
  {
   "cell_type": "markdown",
   "id": "19b9b8ba",
   "metadata": {},
   "source": [
    "# Numerical Experiments"
   ]
  },
  {
   "cell_type": "markdown",
   "id": "bulgarian-bangkok",
   "metadata": {
    "slideshow": {
     "slide_type": "slide"
    }
   },
   "source": [
    "## Sample Covariance Matrix\n",
    "\n",
    "$$\n",
    "\\mathbf{S}=\\frac{1}{n} \\sum_{i=1}^{n}\\left(\\boldsymbol{Y}_{i}-\\overline{\\boldsymbol{Y}}\\right)\\left(\\boldsymbol{Y}_{i}-\\overline{\\boldsymbol{Y}}\\right)^{\\prime},\n",
    "$$\n",
    "\n",
    "* MLE of covariance matrix for Gaussian data\n",
    "* Singular in high dimensional setting: Zero eigenvalues \n",
    "* When $p>n$, other covariance estimates are needed"
   ]
  },
  {
   "cell_type": "code",
   "execution_count": 1,
   "id": "assumed-actor",
   "metadata": {
    "slideshow": {
     "slide_type": "subslide"
    }
   },
   "outputs": [
    {
     "name": "stderr",
     "output_type": "stream",
     "text": [
      "/opt/conda/lib/python3.9/site-packages/numpy/core/_asarray.py:102: ComplexWarning: Casting complex values to real discards the imaginary part\n",
      "  return array(a, dtype, copy=False, order=order)\n"
     ]
    },
    {
     "data": {
      "image/png": "[encoded data removed]",
      "text/plain": [
       "<Figure size 432x288 with 1 Axes>"
      ]
     },
     "metadata": {
      "needs_background": "light"
     },
     "output_type": "display_data"
    }
   ],
   "source": [
    "import pandas as pd\n",
    "logret = pd.read_pickle('dowjones-logret.pkl').dropna()\n",
    "\n",
    "import sklearn.covariance as skcov\n",
    "import sklearn.model_selection as sksel\n",
    "import numpy.linalg as npl\n",
    "\n",
    "cov_sample = skcov.empirical_covariance(logret[:15])\n",
    "eigval_sample, eigvec_sample = npl.eig(cov_sample)\n",
    "pd.Series(eigval_sample).plot();"
   ]
  },
  {
   "cell_type": "markdown",
   "id": "unlimited-study",
   "metadata": {
    "slideshow": {
     "slide_type": "subslide"
    }
   },
   "source": [
    "## Ledoit-Wolf Estimator \n",
    "$$\n",
    "\\Sigma_{\\text {LW}}=(1-\\alpha) \\mathbf{S}+\\alpha \\frac{\\operatorname{Tr} \\mathbf{S}}{p} \\text { I }\n",
    "$$\n",
    "\n",
    "* Ledoit and Wolf, 2004 ([documentation page](https://scikit-learn.org/stable/modules/covariance.html#shrunk-covariance))\n",
    "* Weighted average between sample covariance and identity (times average eigenvalue)"
   ]
  },
  {
   "cell_type": "code",
   "execution_count": 2,
   "id": "altered-bracket",
   "metadata": {
    "scrolled": true,
    "slideshow": {
     "slide_type": "subslide"
    }
   },
   "outputs": [
    {
     "data": {
      "image/png": "[encoded data removed]",
      "text/plain": [
       "<Figure size 432x288 with 1 Axes>"
      ]
     },
     "metadata": {
      "needs_background": "light"
     },
     "output_type": "display_data"
    }
   ],
   "source": [
    "cov_lw, shrinkage_lw = skcov.ledoit_wolf(logret[:15])\n",
    "eigval_lw, eigvec_lw = npl.eig(cov_lw)\n",
    "pd.Series(eigval_lw).plot();"
   ]
  },
  {
   "cell_type": "markdown",
   "id": "complete-azerbaijan",
   "metadata": {
    "slideshow": {
     "slide_type": "fragment"
    }
   },
   "source": [
    "* Large eigenvalues decrease\n",
    "* Zero eigenvalues increase (not sigular) "
   ]
  },
  {
   "cell_type": "code",
   "execution_count": 3,
   "id": "numeric-equipment",
   "metadata": {
    "slideshow": {
     "slide_type": "subslide"
    }
   },
   "outputs": [
    {
     "name": "stderr",
     "output_type": "stream",
     "text": [
      "/opt/conda/lib/python3.9/site-packages/numpy/core/_asarray.py:102: ComplexWarning: Casting complex values to real discards the imaginary part\n",
      "  return array(a, dtype, copy=False, order=order)\n"
     ]
    },
    {
     "data": {
      "image/png": "[encoded data removed]",
      "text/plain": [
       "<Figure size 432x288 with 1 Axes>"
      ]
     },
     "metadata": {
      "needs_background": "light"
     },
     "output_type": "display_data"
    }
   ],
   "source": [
    "pd.Series(eigval_lw - eigval_sample).plot();"
   ]
  },
  {
   "cell_type": "markdown",
   "id": "hawaiian-lightweight",
   "metadata": {
    "slideshow": {
     "slide_type": "slide"
    }
   },
   "source": [
    "## Graphical Model\n",
    "\n",
    "* Suppose $X = (X_a, X_b, X_c)^T \\sim N(0, \\Sigma)$ then,\n",
    "* $\\Omega= \\Sigma^{-1}$ encodes multivariate relationship (rather than pairwise)\n",
    "$$\n",
    "\\operatorname{cor}\\left(X_{a}, X_{b} \\mid X_{c}: c \\neq a, b\\right)=\\frac{\\operatorname{cov}\\left(X_{a}, X_{b} \\mid X_{c}: c \\neq a, b\\right)}{\\sqrt{\\operatorname{var}\\left(X_{a} \\mid X_{c}: c \\neq a, b\\right) \\operatorname{var}\\left(X_{b} \\mid X_{c}: c \\neq a, b\\right)}}\\\\\n",
    "=\\frac{-\\Omega_{a b}}{\\sqrt{\\Omega_{a a} \\Omega_{b b}}}\n",
    "$$\n",
    "* $\\Omega$ is useful for understanding relationships"
   ]
  },
  {
   "cell_type": "code",
   "execution_count": 13,
   "id": "confused-austria",
   "metadata": {
    "scrolled": false,
    "slideshow": {
     "slide_type": "subslide"
    }
   },
   "outputs": [
    {
     "name": "stderr",
     "output_type": "stream",
     "text": [
      "/opt/conda/lib/python3.9/site-packages/sklearn/covariance/_graph_lasso.py:243: RuntimeWarning: invalid value encountered in multiply\n",
      "  precision_[indices != idx, idx] = (- precision_[idx, idx]\n",
      "/opt/conda/lib/python3.9/site-packages/sklearn/covariance/_graph_lasso.py:245: RuntimeWarning: invalid value encountered in multiply\n",
      "  precision_[idx, indices != idx] = (- precision_[idx, idx]\n",
      "/opt/conda/lib/python3.9/site-packages/numpy/core/_methods.py:229: RuntimeWarning: invalid value encountered in subtract\n",
      "  x = asanyarray(arr - arrmean)\n"
     ]
    }
   ],
   "source": [
    "edge_model = skcov.GraphicalLassoCV(n_refinements=2)\n",
    "edge_model.fit(logret[:100])\n",
    "omega = edge_model.precision_.copy()\n",
    "cov_ggm = npl.inv(omega)\n",
    "eigval_ggm, eigvec_ggm = npl.eig(cov_ggm)"
   ]
  },
  {
   "cell_type": "code",
   "execution_count": 14,
   "id": "christian-indiana",
   "metadata": {
    "slideshow": {
     "slide_type": "subslide"
    }
   },
   "outputs": [
    {
     "data": {
      "image/png": "[encoded data removed]",
      "text/plain": [
       "<Figure size 432x288 with 1 Axes>"
      ]
     },
     "metadata": {
      "needs_background": "light"
     },
     "output_type": "display_data"
    }
   ],
   "source": [
    "pd.Series(eigval_ggm).plot();"
   ]
  },
  {
   "cell_type": "markdown",
   "id": "decent-kenya",
   "metadata": {
    "slideshow": {
     "slide_type": "subslide"
    }
   },
   "source": [
    "### Visualize Graphical Model"
   ]
  },
  {
   "cell_type": "code",
   "execution_count": 15,
   "id": "official-dover",
   "metadata": {
    "slideshow": {
     "slide_type": "-"
    }
   },
   "outputs": [
    {
     "data": {
      "text/html": [
       "\n",
       "    <div class=\"bk-root\">\n",
       "        <a href=\"https://bokeh.org\" target=\"_blank\" class=\"bk-logo bk-logo-small bk-logo-notebook\"></a>\n",
       "        <span id=\"1389\">Loading BokehJS ...</span>\n",
       "    </div>"
      ]
     },
     "metadata": {},
     "output_type": "display_data"
    },
    {
     "data": {
      "application/javascript": [
       "\n",
       "(function(root) {\n",
       "  function now() {\n",
       "    return new Date();\n",
       "  }\n",
       "\n",
       "  var force = true;\n",
       "\n",
       "  if (typeof root._bokeh_onload_callbacks === \"undefined\" || force === true) {\n",
       "    root._bokeh_onload_callbacks = [];\n",
       "    root._bokeh_is_loading = undefined;\n",
       "  }\n",
       "\n",
       "  var JS_MIME_TYPE = 'application/javascript';\n",
       "  var HTML_MIME_TYPE = 'text/html';\n",
       "  var EXEC_MIME_TYPE = 'application/vnd.bokehjs_exec.v0+json';\n",
       "  var CLASS_NAME = 'output_bokeh rendered_html';\n",
       "\n",
       "  /**\n",
       "   * Render data to the DOM node\n",
       "   */\n",
       "  function render(props, node) {\n",
       "    var script = document.createElement(\"script\");\n",
       "    node.appendChild(script);\n",
       "  }\n",
       "\n",
       "  /**\n",
       "   * Handle when an output is cleared or removed\n",
       "   */\n",
       "  function handleClearOutput(event, handle) {\n",
       "    var cell = handle.cell;\n",
       "\n",
       "    var id = cell.output_area._bokeh_element_id;\n",
       "    var server_id = cell.output_area._bokeh_server_id;\n",
       "    // Clean up Bokeh references\n",
       "    if (id != null && id in Bokeh.index) {\n",
       "      Bokeh.index[id].model.document.clear();\n",
       "      delete Bokeh.index[id];\n",
       "    }\n",
       "\n",
       "    if (server_id !== undefined) {\n",
       "      // Clean up Bokeh references\n",
       "      var cmd = \"from bokeh.io.state import curstate; print(curstate().uuid_to_server['\" + server_id + \"'].get_sessions()[0].document.roots[0]._id)\";\n",
       "      cell.notebook.kernel.execute(cmd, {\n",
       "        iopub: {\n",
       "          output: function(msg) {\n",
       "            var id = msg.content.text.trim();\n",
       "            if (id in Bokeh.index) {\n",
       "              Bokeh.index[id].model.document.clear();\n",
       "              delete Bokeh.index[id];\n",
       "            }\n",
       "          }\n",
       "        }\n",
       "      });\n",
       "      // Destroy server and session\n",
       "      var cmd = \"import bokeh.io.notebook as ion; ion.destroy_server('\" + server_id + \"')\";\n",
       "      cell.notebook.kernel.execute(cmd);\n",
       "    }\n",
       "  }\n",
       "\n",
       "  /**\n",
       "   * Handle when a new output is added\n",
       "   */\n",
       "  function handleAddOutput(event, handle) {\n",
       "    var output_area = handle.output_area;\n",
       "    var output = handle.output;\n",
       "\n",
       "    // limit handleAddOutput to display_data with EXEC_MIME_TYPE content only\n",
       "    if ((output.output_type != \"display_data\") || (!Object.prototype.hasOwnProperty.call(output.data, EXEC_MIME_TYPE))) {\n",
       "      return\n",
       "    }\n",
       "\n",
       "    var toinsert = output_area.element.find(\".\" + CLASS_NAME.split(' ')[0]);\n",
       "\n",
       "    if (output.metadata[EXEC_MIME_TYPE][\"id\"] !== undefined) {\n",
       "      toinsert[toinsert.length - 1].firstChild.textContent = output.data[JS_MIME_TYPE];\n",
       "      // store reference to embed id on output_area\n",
       "      output_area._bokeh_element_id = output.metadata[EXEC_MIME_TYPE][\"id\"];\n",
       "    }\n",
       "    if (output.metadata[EXEC_MIME_TYPE][\"server_id\"] !== undefined) {\n",
       "      var bk_div = document.createElement(\"div\");\n",
       "      bk_div.innerHTML = output.data[HTML_MIME_TYPE];\n",
       "      var script_attrs = bk_div.children[0].attributes;\n",
       "      for (var i = 0; i < script_attrs.length; i++) {\n",
       "        toinsert[toinsert.length - 1].firstChild.setAttribute(script_attrs[i].name, script_attrs[i].value);\n",
       "        toinsert[toinsert.length - 1].firstChild.textContent = bk_div.children[0].textContent\n",
       "      }\n",
       "      // store reference to server id on output_area\n",
       "      output_area._bokeh_server_id = output.metadata[EXEC_MIME_TYPE][\"server_id\"];\n",
       "    }\n",
       "  }\n",
       "\n",
       "  function register_renderer(events, OutputArea) {\n",
       "\n",
       "    function append_mime(data, metadata, element) {\n",
       "      // create a DOM node to render to\n",
       "      var toinsert = this.create_output_subarea(\n",
       "        metadata,\n",
       "        CLASS_NAME,\n",
       "        EXEC_MIME_TYPE\n",
       "      );\n",
       "      this.keyboard_manager.register_events(toinsert);\n",
       "      // Render to node\n",
       "      var props = {data: data, metadata: metadata[EXEC_MIME_TYPE]};\n",
       "      render(props, toinsert[toinsert.length - 1]);\n",
       "      element.append(toinsert);\n",
       "      return toinsert\n",
       "    }\n",
       "\n",
       "    /* Handle when an output is cleared or removed */\n",
       "    events.on('clear_output.CodeCell', handleClearOutput);\n",
       "    events.on('delete.Cell', handleClearOutput);\n",
       "\n",
       "    /* Handle when a new output is added */\n",
       "    events.on('output_added.OutputArea', handleAddOutput);\n",
       "\n",
       "    /**\n",
       "     * Register the mime type and append_mime function with output_area\n",
       "     */\n",
       "    OutputArea.prototype.register_mime_type(EXEC_MIME_TYPE, append_mime, {\n",
       "      /* Is output safe? */\n",
       "      safe: true,\n",
       "      /* Index of renderer in `output_area.display_order` */\n",
       "      index: 0\n",
       "    });\n",
       "  }\n",
       "\n",
       "  // register the mime type if in Jupyter Notebook environment and previously unregistered\n",
       "  if (root.Jupyter !== undefined) {\n",
       "    var events = require('base/js/events');\n",
       "    var OutputArea = require('notebook/js/outputarea').OutputArea;\n",
       "\n",
       "    if (OutputArea.prototype.mime_types().indexOf(EXEC_MIME_TYPE) == -1) {\n",
       "      register_renderer(events, OutputArea);\n",
       "    }\n",
       "  }\n",
       "\n",
       "  \n",
       "  if (typeof (root._bokeh_timeout) === \"undefined\" || force === true) {\n",
       "    root._bokeh_timeout = Date.now() + 5000;\n",
       "    root._bokeh_failed_load = false;\n",
       "  }\n",
       "\n",
       "  var NB_LOAD_WARNING = {'data': {'text/html':\n",
       "     \"<div style='background-color: #fdd'>\\n\"+\n",
       "     \"<p>\\n\"+\n",
       "     \"BokehJS does not appear to have successfully loaded. If loading BokehJS from CDN, this \\n\"+\n",
       "     \"may be due to a slow or bad network connection. Possible fixes:\\n\"+\n",
       "     \"</p>\\n\"+\n",
       "     \"<ul>\\n\"+\n",
       "     \"<li>re-rerun `output_notebook()` to attempt to load from CDN again, or</li>\\n\"+\n",
       "     \"<li>use INLINE resources instead, as so:</li>\\n\"+\n",
       "     \"</ul>\\n\"+\n",
       "     \"<code>\\n\"+\n",
       "     \"from bokeh.resources import INLINE\\n\"+\n",
       "     \"output_notebook(resources=INLINE)\\n\"+\n",
       "     \"</code>\\n\"+\n",
       "     \"</div>\"}};\n",
       "\n",
       "  function display_loaded() {\n",
       "    var el = document.getElementById(\"1389\");\n",
       "    if (el != null) {\n",
       "      el.textContent = \"BokehJS is loading...\";\n",
       "    }\n",
       "    if (root.Bokeh !== undefined) {\n",
       "      if (el != null) {\n",
       "        el.textContent = \"BokehJS \" + root.Bokeh.version + \" successfully loaded.\";\n",
       "      }\n",
       "    } else if (Date.now() < root._bokeh_timeout) {\n",
       "      setTimeout(display_loaded, 100)\n",
       "    }\n",
       "  }\n",
       "\n",
       "\n",
       "  function run_callbacks() {\n",
       "    try {\n",
       "      root._bokeh_onload_callbacks.forEach(function(callback) {\n",
       "        if (callback != null)\n",
       "          callback();\n",
       "      });\n",
       "    } finally {\n",
       "      delete root._bokeh_onload_callbacks\n",
       "    }\n",
       "    console.debug(\"Bokeh: all callbacks have finished\");\n",
       "  }\n",
       "\n",
       "  function load_libs(css_urls, js_urls, callback) {\n",
       "    if (css_urls == null) css_urls = [];\n",
       "    if (js_urls == null) js_urls = [];\n",
       "\n",
       "    root._bokeh_onload_callbacks.push(callback);\n",
       "    if (root._bokeh_is_loading > 0) {\n",
       "      console.debug(\"Bokeh: BokehJS is being loaded, scheduling callback at\", now());\n",
       "      return null;\n",
       "    }\n",
       "    if (js_urls == null || js_urls.length === 0) {\n",
       "      run_callbacks();\n",
       "      return null;\n",
       "    }\n",
       "    console.debug(\"Bokeh: BokehJS not loaded, scheduling load and callback at\", now());\n",
       "    root._bokeh_is_loading = css_urls.length + js_urls.length;\n",
       "\n",
       "    function on_load() {\n",
       "      root._bokeh_is_loading--;\n",
       "      if (root._bokeh_is_loading === 0) {\n",
       "        console.debug(\"Bokeh: all BokehJS libraries/stylesheets loaded\");\n",
       "        run_callbacks()\n",
       "      }\n",
       "    }\n",
       "\n",
       "    function on_error(url) {\n",
       "      console.error(\"failed to load \" + url);\n",
       "    }\n",
       "\n",
       "    for (let i = 0; i < css_urls.length; i++) {\n",
       "      const url = css_urls[i];\n",
       "      const element = document.createElement(\"link\");\n",
       "      element.onload = on_load;\n",
       "      element.onerror = on_error.bind(null, url);\n",
       "      element.rel = \"stylesheet\";\n",
       "      element.type = \"text/css\";\n",
       "      element.href = url;\n",
       "      console.debug(\"Bokeh: injecting link tag for BokehJS stylesheet: \", url);\n",
       "      document.body.appendChild(element);\n",
       "    }\n",
       "\n",
       "    const hashes = {\"https://cdn.bokeh.org/bokeh/release/bokeh-2.3.3.min.js\": \"dM3QQsP+wXdHg42wTqW85BjZQdLNNIXqlPw/BgKoExPmTG7ZLML4EGqLMfqHT6ON\", \"https://cdn.bokeh.org/bokeh/release/bokeh-tables-2.3.3.min.js\": \"8x57I4YuIfu8XyZfFo0XVr2WAT8EK4rh/uDe3wF7YuW2FNUSNEpJbsPaB1nJ2fz2\", \"https://cdn.bokeh.org/bokeh/release/bokeh-widgets-2.3.3.min.js\": \"3QTqdz9LyAm2i0sG5XTePsHec3UHWwVsrOL68SYRoAXsafvfAyqtQ+h440+qIBhS\"};\n",
       "\n",
       "    for (let i = 0; i < js_urls.length; i++) {\n",
       "      const url = js_urls[i];\n",
       "      const element = document.createElement('script');\n",
       "      element.onload = on_load;\n",
       "      element.onerror = on_error.bind(null, url);\n",
       "      element.async = false;\n",
       "      element.src = url;\n",
       "      if (url in hashes) {\n",
       "        element.crossOrigin = \"anonymous\";\n",
       "        element.integrity = \"sha384-\" + hashes[url];\n",
       "      }\n",
       "      console.debug(\"Bokeh: injecting script tag for BokehJS library: \", url);\n",
       "      document.head.appendChild(element);\n",
       "    }\n",
       "  };\n",
       "\n",
       "  function inject_raw_css(css) {\n",
       "    const element = document.createElement(\"style\");\n",
       "    element.appendChild(document.createTextNode(css));\n",
       "    document.body.appendChild(element);\n",
       "  }\n",
       "\n",
       "  \n",
       "  var js_urls = [\"https://cdn.bokeh.org/bokeh/release/bokeh-2.3.3.min.js\", \"https://cdn.bokeh.org/bokeh/release/bokeh-widgets-2.3.3.min.js\", \"https://cdn.bokeh.org/bokeh/release/bokeh-tables-2.3.3.min.js\"];\n",
       "  var css_urls = [];\n",
       "  \n",
       "\n",
       "  var inline_js = [\n",
       "    function(Bokeh) {\n",
       "      Bokeh.set_log_level(\"info\");\n",
       "    },\n",
       "    function(Bokeh) {\n",
       "    \n",
       "    \n",
       "    }\n",
       "  ];\n",
       "\n",
       "  function run_inline_js() {\n",
       "    \n",
       "    if (root.Bokeh !== undefined || force === true) {\n",
       "      \n",
       "    for (var i = 0; i < inline_js.length; i++) {\n",
       "      inline_js[i].call(root, root.Bokeh);\n",
       "    }\n",
       "    if (force === true) {\n",
       "        display_loaded();\n",
       "      }} else if (Date.now() < root._bokeh_timeout) {\n",
       "      setTimeout(run_inline_js, 100);\n",
       "    } else if (!root._bokeh_failed_load) {\n",
       "      console.log(\"Bokeh: BokehJS failed to load within specified timeout.\");\n",
       "      root._bokeh_failed_load = true;\n",
       "    } else if (force !== true) {\n",
       "      var cell = $(document.getElementById(\"1389\")).parents('.cell').data().cell;\n",
       "      cell.output_area.append_execute_result(NB_LOAD_WARNING)\n",
       "    }\n",
       "\n",
       "  }\n",
       "\n",
       "  if (root._bokeh_is_loading === 0) {\n",
       "    console.debug(\"Bokeh: BokehJS loaded, going straight to plotting\");\n",
       "    run_inline_js();\n",
       "  } else {\n",
       "    load_libs(css_urls, js_urls, function() {\n",
       "      console.debug(\"Bokeh: BokehJS plotting callback run at\", now());\n",
       "      run_inline_js();\n",
       "    });\n",
       "  }\n",
       "}(window));"
      ],
      "application/vnd.bokehjs_load.v0+json": "\n(function(root) {\n  function now() {\n    return new Date();\n  }\n\n  var force = true;\n\n  if (typeof root._bokeh_onload_callbacks === \"undefined\" || force === true) {\n    root._bokeh_onload_callbacks = [];\n    root._bokeh_is_loading = undefined;\n  }\n\n  \n\n  \n  if (typeof (root._bokeh_timeout) === \"undefined\" || force === true) {\n    root._bokeh_timeout = Date.now() + 5000;\n    root._bokeh_failed_load = false;\n  }\n\n  var NB_LOAD_WARNING = {'data': {'text/html':\n     \"<div style='background-color: #fdd'>\\n\"+\n     \"<p>\\n\"+\n     \"BokehJS does not appear to have successfully loaded. If loading BokehJS from CDN, this \\n\"+\n     \"may be due to a slow or bad network connection. Possible fixes:\\n\"+\n     \"</p>\\n\"+\n     \"<ul>\\n\"+\n     \"<li>re-rerun `output_notebook()` to attempt to load from CDN again, or</li>\\n\"+\n     \"<li>use INLINE resources instead, as so:</li>\\n\"+\n     \"</ul>\\n\"+\n     \"<code>\\n\"+\n     \"from bokeh.resources import INLINE\\n\"+\n     \"output_notebook(resources=INLINE)\\n\"+\n     \"</code>\\n\"+\n     \"</div>\"}};\n\n  function display_loaded() {\n    var el = document.getElementById(\"1389\");\n    if (el != null) {\n      el.textContent = \"BokehJS is loading...\";\n    }\n    if (root.Bokeh !== undefined) {\n      if (el != null) {\n        el.textContent = \"BokehJS \" + root.Bokeh.version + \" successfully loaded.\";\n      }\n    } else if (Date.now() < root._bokeh_timeout) {\n      setTimeout(display_loaded, 100)\n    }\n  }\n\n\n  function run_callbacks() {\n    try {\n      root._bokeh_onload_callbacks.forEach(function(callback) {\n        if (callback != null)\n          callback();\n      });\n    } finally {\n      delete root._bokeh_onload_callbacks\n    }\n    console.debug(\"Bokeh: all callbacks have finished\");\n  }\n\n  function load_libs(css_urls, js_urls, callback) {\n    if (css_urls == null) css_urls = [];\n    if (js_urls == null) js_urls = [];\n\n    root._bokeh_onload_callbacks.push(callback);\n    if (root._bokeh_is_loading > 0) {\n      console.debug(\"Bokeh: BokehJS is being loaded, scheduling callback at\", now());\n      return null;\n    }\n    if (js_urls == null || js_urls.length === 0) {\n      run_callbacks();\n      return null;\n    }\n    console.debug(\"Bokeh: BokehJS not loaded, scheduling load and callback at\", now());\n    root._bokeh_is_loading = css_urls.length + js_urls.length;\n\n    function on_load() {\n      root._bokeh_is_loading--;\n      if (root._bokeh_is_loading === 0) {\n        console.debug(\"Bokeh: all BokehJS libraries/stylesheets loaded\");\n        run_callbacks()\n      }\n    }\n\n    function on_error(url) {\n      console.error(\"failed to load \" + url);\n    }\n\n    for (let i = 0; i < css_urls.length; i++) {\n      const url = css_urls[i];\n      const element = document.createElement(\"link\");\n      element.onload = on_load;\n      element.onerror = on_error.bind(null, url);\n      element.rel = \"stylesheet\";\n      element.type = \"text/css\";\n      element.href = url;\n      console.debug(\"Bokeh: injecting link tag for BokehJS stylesheet: \", url);\n      document.body.appendChild(element);\n    }\n\n    const hashes = {\"https://cdn.bokeh.org/bokeh/release/bokeh-2.3.3.min.js\": \"dM3QQsP+wXdHg42wTqW85BjZQdLNNIXqlPw/BgKoExPmTG7ZLML4EGqLMfqHT6ON\", \"https://cdn.bokeh.org/bokeh/release/bokeh-tables-2.3.3.min.js\": \"8x57I4YuIfu8XyZfFo0XVr2WAT8EK4rh/uDe3wF7YuW2FNUSNEpJbsPaB1nJ2fz2\", \"https://cdn.bokeh.org/bokeh/release/bokeh-widgets-2.3.3.min.js\": \"3QTqdz9LyAm2i0sG5XTePsHec3UHWwVsrOL68SYRoAXsafvfAyqtQ+h440+qIBhS\"};\n\n    for (let i = 0; i < js_urls.length; i++) {\n      const url = js_urls[i];\n      const element = document.createElement('script');\n      element.onload = on_load;\n      element.onerror = on_error.bind(null, url);\n      element.async = false;\n      element.src = url;\n      if (url in hashes) {\n        element.crossOrigin = \"anonymous\";\n        element.integrity = \"sha384-\" + hashes[url];\n      }\n      console.debug(\"Bokeh: injecting script tag for BokehJS library: \", url);\n      document.head.appendChild(element);\n    }\n  };\n\n  function inject_raw_css(css) {\n    const element = document.createElement(\"style\");\n    element.appendChild(document.createTextNode(css));\n    document.body.appendChild(element);\n  }\n\n  \n  var js_urls = [\"https://cdn.bokeh.org/bokeh/release/bokeh-2.3.3.min.js\", \"https://cdn.bokeh.org/bokeh/release/bokeh-widgets-2.3.3.min.js\", \"https://cdn.bokeh.org/bokeh/release/bokeh-tables-2.3.3.min.js\"];\n  var css_urls = [];\n  \n\n  var inline_js = [\n    function(Bokeh) {\n      Bokeh.set_log_level(\"info\");\n    },\n    function(Bokeh) {\n    \n    \n    }\n  ];\n\n  function run_inline_js() {\n    \n    if (root.Bokeh !== undefined || force === true) {\n      \n    for (var i = 0; i < inline_js.length; i++) {\n      inline_js[i].call(root, root.Bokeh);\n    }\n    if (force === true) {\n        display_loaded();\n      }} else if (Date.now() < root._bokeh_timeout) {\n      setTimeout(run_inline_js, 100);\n    } else if (!root._bokeh_failed_load) {\n      console.log(\"Bokeh: BokehJS failed to load within specified timeout.\");\n      root._bokeh_failed_load = true;\n    } else if (force !== true) {\n      var cell = $(document.getElementById(\"1389\")).parents('.cell').data().cell;\n      cell.output_area.append_execute_result(NB_LOAD_WARNING)\n    }\n\n  }\n\n  if (root._bokeh_is_loading === 0) {\n    console.debug(\"Bokeh: BokehJS loaded, going straight to plotting\");\n    run_inline_js();\n  } else {\n    load_libs(css_urls, js_urls, function() {\n      console.debug(\"Bokeh: BokehJS plotting callback run at\", now());\n      run_inline_js();\n    });\n  }\n}(window));"
     },
     "metadata": {},
     "output_type": "display_data"
    }
   ],
   "source": [
    "from bokeh.io import show, output_file, output_notebook\n",
    "from bokeh.models import (BoxSelectTool, Circle, EdgesAndLinkedNodes, \n",
    "                          HoverTool, MultiLine, NodesAndLinkedEdges, \n",
    "                          Plot, Range1d, TapTool, LabelSet, \n",
    "                          ColumnDataSource)\n",
    "from bokeh.plotting import from_networkx\n",
    "from bokeh.palettes import Spectral4\n",
    "output_notebook()\n",
    "\n",
    "import networkx as nx\n",
    "G = nx.from_pandas_adjacency(pd.DataFrame(omega, columns=logret.columns.to_list(), index=logret.columns.to_list()))"
   ]
  },
  {
   "cell_type": "code",
   "execution_count": 16,
   "id": "streaming-reservation",
   "metadata": {
    "hideCode": true,
    "hideOutput": false,
    "slideshow": {
     "slide_type": "subslide"
    }
   },
   "outputs": [
    {
     "data": {
      "text/html": [
       "\n",
       "\n",
       "\n",
       "\n",
       "\n",
       "\n",
       "  <div class=\"bk-root\" id=\"4e7873c1-1393-4410-ad91-0eb61a81d715\" data-root-id=\"1392\"></div>\n"
      ]
     },
     "metadata": {},
     "output_type": "display_data"
    },
    {
     "data": {
      "application/javascript": [
       "(function(root) {\n",
       "  function embed_document(root) {\n",
       "    \n",
       "  var docs_json = {\"98276907-933c-4669-aacd-43f49d52c963\":{\"defs\":[],\"roots\":{\"references\":[{\"attributes\":{\"renderers\":[{\"id\":\"1396\"},{\"id\":\"1437\"}],\"title\":{\"id\":\"1395\"},\"toolbar\":{\"id\":\"1433\"},\"x_range\":{\"id\":\"1390\"},\"x_scale\":{\"id\":\"1479\"},\"y_range\":{\"id\":\"1391\"},\"y_scale\":{\"id\":\"1478\"}},\"id\":\"1392\",\"type\":\"Plot\"},{\"attributes\":{},\"id\":\"1428\",\"type\":\"EdgesAndLinkedNodes\"},{\"attributes\":{\"active_multi\":null,\"tools\":[{\"id\":\"1430\"},{\"id\":\"1431\"},{\"id\":\"1432\"}]},\"id\":\"1433\",\"type\":\"Toolbar\"},{\"attributes\":{\"callback\":null,\"tooltips\":null},\"id\":\"1430\",\"type\":\"HoverTool\"},{\"attributes\":{\"line_color\":{\"value\":\"#fdae61\"},\"line_width\":{\"value\":5}},\"id\":\"1421\",\"type\":\"MultiLine\"},{\"attributes\":{},\"id\":\"1490\",\"type\":\"UnionRenderers\"},{\"attributes\":{\"callback\":null},\"id\":\"1431\",\"type\":\"TapTool\"},{\"attributes\":{\"data\":{\"ticker\":[\"AAPL\",\"AXP\",\"BA\",\"BAC\",\"CAT\",\"CSCO\",\"CVX\",\"DD\",\"DIS\",\"GE\",\"HD\",\"HPQ\",\"IBM\",\"INTC\",\"JNJ\",\"JPM\",\"KO\",\"MCD\",\"MMM\",\"MRK\",\"MSFT\",\"PFE\",\"PG\",\"T\",\"TRV\",\"VZ\",\"WMT\",\"XOM\"],\"x\":[1.0,0.9749279023302002,0.9009688500876064,0.7818315038587358,0.6234897987449894,0.43388375884949737,0.22252098062387454,-3.9383049730156167e-08,-0.22252094216487556,-0.4338838395997873,-0.6234897900883127,-0.7818314952020591,-0.9009688414309297,-0.9749278936735235,-0.9999999913433233,-0.9749278936735235,-0.9009688414309297,-0.7818315548067036,-0.6234896112743792,-0.4338838992044319,-0.22252100176952005,1.6253218954272222e-08,0.22252104022851904,0.43388390786110864,0.6234896795357004,0.7818314442540912,0.9009688500876064,0.9749279023302002],\"y\":[2.5900576809189324e-09,0.22252093418211047,0.43388375711121663,0.6234897970067088,0.7818315021204552,0.9009688483493258,0.9749279005919196,0.9999999982617194,0.9749279005919196,0.9009688483493258,0.7818315021204552,0.6234897374020644,0.4338838167158611,0.22252093418211047,-8.483271851416157e-08,-0.22252086939735058,-0.4338837519311013,-0.6234897322219489,-0.7818316161496287,-0.9009687835645658,-0.9749278954118041,-0.9999999930816039,-0.9749278954118041,-0.9009687835645658,-0.7818316161496287,-0.6234898514312379,-0.4338837519311013,-0.22252085449618944]},\"selected\":{\"id\":\"1489\"},\"selection_policy\":{\"id\":\"1490\"}},\"id\":\"1436\",\"type\":\"ColumnDataSource\"},{\"attributes\":{\"overlay\":{\"id\":\"1491\"}},\"id\":\"1432\",\"type\":\"BoxSelectTool\"},{\"attributes\":{\"fill_color\":{\"value\":\"#2b83ba\"},\"size\":{\"value\":15}},\"id\":\"1406\",\"type\":\"Circle\"},{\"attributes\":{\"graph_layout\":{\"AAPL\":[1.0,2.5900576809189324e-09],\"AXP\":[0.9749279023302002,0.22252093418211047],\"BA\":[0.9009688500876064,0.43388375711121663],\"BAC\":[0.7818315038587358,0.6234897970067088],\"CAT\":[0.6234897987449894,0.7818315021204552],\"CSCO\":[0.43388375884949737,0.9009688483493258],\"CVX\":[0.22252098062387454,0.9749279005919196],\"DD\":[-3.9383049730156167e-08,0.9999999982617194],\"DIS\":[-0.22252094216487556,0.9749279005919196],\"GE\":[-0.4338838395997873,0.9009688483493258],\"HD\":[-0.6234897900883127,0.7818315021204552],\"HPQ\":[-0.7818314952020591,0.6234897374020644],\"IBM\":[-0.9009688414309297,0.4338838167158611],\"INTC\":[-0.9749278936735235,0.22252093418211047],\"JNJ\":[-0.9999999913433233,-8.483271851416157e-08],\"JPM\":[-0.9749278936735235,-0.22252086939735058],\"KO\":[-0.9009688414309297,-0.4338837519311013],\"MCD\":[-0.7818315548067036,-0.6234897322219489],\"MMM\":[-0.6234896112743792,-0.7818316161496287],\"MRK\":[-0.4338838992044319,-0.9009687835645658],\"MSFT\":[-0.22252100176952005,-0.9749278954118041],\"PFE\":[1.6253218954272222e-08,-0.9999999930816039],\"PG\":[0.22252104022851904,-0.9749278954118041],\"T\":[0.43388390786110864,-0.9009687835645658],\"TRV\":[0.6234896795357004,-0.7818316161496287],\"VZ\":[0.7818314442540912,-0.6234898514312379],\"WMT\":[0.9009688500876064,-0.4338837519311013],\"XOM\":[0.9749279023302002,-0.22252085449618944]}},\"id\":\"1405\",\"type\":\"StaticLayoutProvider\"},{\"attributes\":{},\"id\":\"1426\",\"type\":\"NodesAndLinkedEdges\"},{\"attributes\":{\"source\":{\"id\":\"1436\"},\"text\":{\"field\":\"ticker\"},\"x\":{\"field\":\"x\"},\"y\":{\"field\":\"y\"}},\"id\":\"1437\",\"type\":\"LabelSet\"},{\"attributes\":{\"data_source\":{\"id\":\"1402\"},\"glyph\":{\"id\":\"1416\"},\"hover_glyph\":null,\"muted_glyph\":null,\"selection_glyph\":{\"id\":\"1421\"},\"view\":{\"id\":\"1404\"}},\"id\":\"1403\",\"type\":\"GlyphRenderer\"},{\"attributes\":{\"bottom_units\":\"screen\",\"fill_alpha\":0.5,\"fill_color\":\"lightgrey\",\"left_units\":\"screen\",\"level\":\"overlay\",\"line_alpha\":1.0,\"line_color\":\"black\",\"line_dash\":[4,4],\"line_width\":2,\"right_units\":\"screen\",\"syncable\":false,\"top_units\":\"screen\"},\"id\":\"1491\",\"type\":\"BoxAnnotation\"},{\"attributes\":{\"fill_color\":{\"value\":\"#fdae61\"},\"size\":{\"value\":15}},\"id\":\"1411\",\"type\":\"Circle\"},{\"attributes\":{\"source\":{\"id\":\"1402\"}},\"id\":\"1404\",\"type\":\"CDSView\"},{\"attributes\":{},\"id\":\"1478\",\"type\":\"LinearScale\"},{\"attributes\":{\"data_source\":{\"id\":\"1398\"},\"glyph\":{\"id\":\"1406\"},\"hover_glyph\":null,\"muted_glyph\":null,\"selection_glyph\":{\"id\":\"1411\"},\"view\":{\"id\":\"1400\"}},\"id\":\"1399\",\"type\":\"GlyphRenderer\"},{\"attributes\":{\"text\":\"Dow Jones Component Stock Graphical Models\"},\"id\":\"1395\",\"type\":\"Title\"},{\"attributes\":{\"source\":{\"id\":\"1398\"}},\"id\":\"1400\",\"type\":\"CDSView\"},{\"attributes\":{\"data\":{\"index\":[\"AAPL\",\"AXP\",\"BA\",\"BAC\",\"CAT\",\"CSCO\",\"CVX\",\"DD\",\"DIS\",\"GE\",\"HD\",\"HPQ\",\"IBM\",\"INTC\",\"JNJ\",\"JPM\",\"KO\",\"MCD\",\"MMM\",\"MRK\",\"MSFT\",\"PFE\",\"PG\",\"T\",\"TRV\",\"VZ\",\"WMT\",\"XOM\"]},\"selected\":{\"id\":\"1494\"},\"selection_policy\":{\"id\":\"1495\"}},\"id\":\"1398\",\"type\":\"ColumnDataSource\"},{\"attributes\":{\"data\":{\"end\":[\"AAPL\",\"CSCO\",\"CVX\",\"DD\",\"GE\",\"HD\",\"HPQ\",\"INTC\",\"JNJ\",\"JPM\",\"MRK\",\"MSFT\",\"T\",\"VZ\",\"AXP\",\"BAC\",\"DD\",\"GE\",\"HD\",\"INTC\",\"JNJ\",\"JPM\",\"PFE\",\"T\",\"TRV\",\"WMT\",\"XOM\",\"BA\",\"CVX\",\"DD\",\"JPM\",\"KO\",\"MRK\",\"MSFT\",\"PG\",\"TRV\",\"XOM\",\"BAC\",\"CAT\",\"DD\",\"DIS\",\"GE\",\"HPQ\",\"INTC\",\"JNJ\",\"JPM\",\"MMM\",\"TRV\",\"CAT\",\"CVX\",\"DD\",\"DIS\",\"GE\",\"IBM\",\"KO\",\"MMM\",\"MRK\",\"PFE\",\"PG\",\"TRV\",\"WMT\",\"CSCO\",\"GE\",\"HPQ\",\"IBM\",\"INTC\",\"MRK\",\"MSFT\",\"XOM\",\"CVX\",\"HD\",\"INTC\",\"KO\",\"MSFT\",\"PG\",\"TRV\",\"WMT\",\"XOM\",\"DD\",\"GE\",\"IBM\",\"MCD\",\"MMM\",\"PG\",\"TRV\",\"WMT\",\"DIS\",\"HD\",\"HPQ\",\"MCD\",\"MSFT\",\"WMT\",\"GE\",\"HD\",\"JPM\",\"MCD\",\"MMM\",\"MRK\",\"PG\",\"WMT\",\"HD\",\"INTC\",\"JPM\",\"MCD\",\"MRK\",\"PFE\",\"WMT\",\"HPQ\",\"IBM\",\"INTC\",\"KO\",\"VZ\",\"IBM\",\"INTC\",\"MCD\",\"T\",\"INTC\",\"JPM\",\"MSFT\",\"T\",\"XOM\",\"JNJ\",\"KO\",\"MRK\",\"PFE\",\"PG\",\"T\",\"JPM\",\"TRV\",\"KO\",\"MCD\",\"PFE\",\"PG\",\"VZ\",\"WMT\",\"XOM\",\"MCD\",\"MRK\",\"PFE\",\"PG\",\"WMT\",\"MMM\",\"MSFT\",\"PFE\",\"PG\",\"WMT\",\"XOM\",\"MRK\",\"PFE\",\"TRV\",\"WMT\",\"XOM\",\"MSFT\",\"PG\",\"TRV\",\"PFE\",\"PG\",\"WMT\",\"PG\",\"T\",\"WMT\",\"XOM\",\"T\",\"TRV\",\"VZ\",\"WMT\",\"XOM\",\"TRV\",\"VZ\",\"XOM\",\"WMT\",\"XOM\",\"XOM\"],\"start\":[\"AAPL\",\"AAPL\",\"AAPL\",\"AAPL\",\"AAPL\",\"AAPL\",\"AAPL\",\"AAPL\",\"AAPL\",\"AAPL\",\"AAPL\",\"AAPL\",\"AAPL\",\"AAPL\",\"AXP\",\"AXP\",\"AXP\",\"AXP\",\"AXP\",\"AXP\",\"AXP\",\"AXP\",\"AXP\",\"AXP\",\"AXP\",\"AXP\",\"AXP\",\"BA\",\"BA\",\"BA\",\"BA\",\"BA\",\"BA\",\"BA\",\"BA\",\"BA\",\"BA\",\"BAC\",\"BAC\",\"BAC\",\"BAC\",\"BAC\",\"BAC\",\"BAC\",\"BAC\",\"BAC\",\"BAC\",\"BAC\",\"CAT\",\"CAT\",\"CAT\",\"CAT\",\"CAT\",\"CAT\",\"CAT\",\"CAT\",\"CAT\",\"CAT\",\"CAT\",\"CAT\",\"CAT\",\"CSCO\",\"CSCO\",\"CSCO\",\"CSCO\",\"CSCO\",\"CSCO\",\"CSCO\",\"CSCO\",\"CVX\",\"CVX\",\"CVX\",\"CVX\",\"CVX\",\"CVX\",\"CVX\",\"CVX\",\"CVX\",\"DD\",\"DD\",\"DD\",\"DD\",\"DD\",\"DD\",\"DD\",\"DD\",\"DIS\",\"DIS\",\"DIS\",\"DIS\",\"DIS\",\"DIS\",\"GE\",\"GE\",\"GE\",\"GE\",\"GE\",\"GE\",\"GE\",\"GE\",\"HD\",\"HD\",\"HD\",\"HD\",\"HD\",\"HD\",\"HD\",\"HPQ\",\"HPQ\",\"HPQ\",\"HPQ\",\"HPQ\",\"IBM\",\"IBM\",\"IBM\",\"IBM\",\"INTC\",\"INTC\",\"INTC\",\"INTC\",\"INTC\",\"JNJ\",\"JNJ\",\"JNJ\",\"JNJ\",\"JNJ\",\"JNJ\",\"JPM\",\"JPM\",\"KO\",\"KO\",\"KO\",\"KO\",\"KO\",\"KO\",\"KO\",\"MCD\",\"MCD\",\"MCD\",\"MCD\",\"MCD\",\"MMM\",\"MMM\",\"MMM\",\"MMM\",\"MMM\",\"MMM\",\"MRK\",\"MRK\",\"MRK\",\"MRK\",\"MRK\",\"MSFT\",\"MSFT\",\"MSFT\",\"PFE\",\"PFE\",\"PFE\",\"PG\",\"PG\",\"PG\",\"PG\",\"T\",\"T\",\"T\",\"T\",\"T\",\"TRV\",\"VZ\",\"VZ\",\"WMT\",\"WMT\",\"XOM\"],\"weight\":[744.5838579436937,-139.14823169377428,35.27143751415922,93.80210991840008,-182.5734125705193,46.73619891016041,-114.59276812018894,-250.12428705954034,-39.92981022160015,-91.41887585843355,-10.363629521293287,-78.11441502379556,-3.2332086731552567,-79.38072890145901,2138.8892588722497,-613.16910086946,-53.25012389057578,-352.5500482273032,-96.99433689069504,-51.13659289254,-80.48907569937319,-460.6674922048097,-64.80413103870177,-133.6858129068825,-248.50214547086014,-20.35442290660093,-122.3205166940656,1237.8557128712218,-33.912199889490545,-78.54056271328761,-17.21262026239442,-106.08248043319793,-18.765722618319767,-11.230112104196493,-2.0213417982336934,-75.66378170668956,-5.463968513763795,2175.730433507595,-29.682137297976826,-44.939963663289234,77.33184657949303,-7.583788301874123,37.20311829394412,-37.44940678779983,-15.170050974622525,-775.0887169817909,-379.4092489664979,-107.80268646550205,1993.7057887277442,-8.829772370755167,-494.6892765163699,140.41234181841187,-136.79394834646826,-42.60282789879344,-121.50249681156805,-286.2285988165628,-261.64396728294275,-135.0446446057703,-66.62459444090247,-133.043514132442,-103.01828607026457,1202.8320239092545,-195.3089241696012,-249.82896884506272,-57.857560112555454,-414.5287966809061,18.724072982840845,-345.5935861405829,26.26915143638208,2750.1985734969358,-34.78851520626321,57.809377664810675,-61.030124856393016,-77.71663358458645,153.2207409686829,-104.9298525153839,-34.25102014898236,-1282.2867485116499,1643.854687381591,-57.947805320390955,-122.14405517891622,-266.9394800883514,-343.62986339115383,-141.0438197995975,-316.00557199303705,-52.27897364192203,960.5964501917732,-54.66251048419343,-193.36898413738524,-95.57798740903891,-20.323570517098474,-39.17131245202053,2673.90628530052,-252.11834307802798,-230.08401468178053,-12.616127436937704,-302.48779531266024,-73.00771744643495,-13.33721866048312,-370.17325142111497,1554.2814688549063,25.787938320533414,-272.6273635363696,-67.88310519925662,-164.79639056886555,-61.127103259028694,-473.1186482601418,1133.437211856532,-87.54153565292013,-176.48913985692238,114.11185475476596,-37.20299882881438,1825.31237562659,-406.0144816125282,-40.08719438436917,-20.809724014413693,1292.5620109873878,-14.291575347682274,-74.97259814675684,-128.84946080234394,31.940203196012202,1987.1037342504244,-159.72869440805127,-650.0907375867338,-287.6477384093983,-56.779710644124314,-18.279895162103774,2095.811134737606,-64.33873764679979,1286.1404341108416,-87.84913003230177,-56.21655984823736,-98.07511707994956,-150.76424185143304,-150.9225848991906,-93.64997675183886,1371.009433397688,-117.27251236823511,-141.4008227162658,-57.14153051360201,-108.24698776128614,2151.1108953693665,4.2869860163123,-138.71389402384537,-175.75125888245765,-30.486940157648963,-359.8207572921483,1930.2864832107998,-557.124867203746,-119.78366436402682,-9.137590176531456,-93.26625800596419,947.0411000519589,77.24164487969895,-35.9595392152005,2087.974943141695,-71.91934387467309,-121.7417018177262,593.9474132918687,-25.173904986417508,-66.21337185249415,175.73125303770615,1411.4742406389253,-69.4402580447762,-742.4628356987101,-154.47568047280114,-72.50753456734498,1443.5919136454474,2056.3592193373834,-129.30607131614414,1300.6996683384752,-82.9884616215132,2670.852161427713]},\"selected\":{\"id\":\"1492\"},\"selection_policy\":{\"id\":\"1493\"}},\"id\":\"1402\",\"type\":\"ColumnDataSource\"},{\"attributes\":{},\"id\":\"1489\",\"type\":\"Selection\"},{\"attributes\":{},\"id\":\"1494\",\"type\":\"Selection\"},{\"attributes\":{\"edge_renderer\":{\"id\":\"1403\"},\"inspection_policy\":{\"id\":\"1428\"},\"layout_provider\":{\"id\":\"1405\"},\"node_renderer\":{\"id\":\"1399\"},\"selection_policy\":{\"id\":\"1426\"}},\"id\":\"1396\",\"type\":\"GraphRenderer\"},{\"attributes\":{},\"id\":\"1495\",\"type\":\"UnionRenderers\"},{\"attributes\":{\"end\":1.1,\"start\":-1.1},\"id\":\"1391\",\"type\":\"Range1d\"},{\"attributes\":{\"end\":1.1,\"start\":-1.1},\"id\":\"1390\",\"type\":\"Range1d\"},{\"attributes\":{},\"id\":\"1492\",\"type\":\"Selection\"},{\"attributes\":{},\"id\":\"1493\",\"type\":\"UnionRenderers\"},{\"attributes\":{},\"id\":\"1479\",\"type\":\"LinearScale\"},{\"attributes\":{\"line_alpha\":{\"value\":0.8},\"line_color\":{\"value\":\"#CCCCCC\"},\"line_width\":{\"value\":5}},\"id\":\"1416\",\"type\":\"MultiLine\"}],\"root_ids\":[\"1392\"]},\"title\":\"Bokeh Application\",\"version\":\"2.3.3\"}};\n",
       "  var render_items = [{\"docid\":\"98276907-933c-4669-aacd-43f49d52c963\",\"root_ids\":[\"1392\"],\"roots\":{\"1392\":\"4e7873c1-1393-4410-ad91-0eb61a81d715\"}}];\n",
       "  root.Bokeh.embed.embed_items_notebook(docs_json, render_items);\n",
       "\n",
       "  }\n",
       "  if (root.Bokeh !== undefined) {\n",
       "    embed_document(root);\n",
       "  } else {\n",
       "    var attempts = 0;\n",
       "    var timer = setInterval(function(root) {\n",
       "      if (root.Bokeh !== undefined) {\n",
       "        clearInterval(timer);\n",
       "        embed_document(root);\n",
       "      } else {\n",
       "        attempts++;\n",
       "        if (attempts > 100) {\n",
       "          clearInterval(timer);\n",
       "          console.log(\"Bokeh: ERROR: Unable to run BokehJS code because BokehJS library is missing\");\n",
       "        }\n",
       "      }\n",
       "    }, 10, root)\n",
       "  }\n",
       "})(window);"
      ],
      "application/vnd.bokehjs_exec.v0+json": ""
     },
     "metadata": {
      "application/vnd.bokehjs_exec.v0+json": {
       "id": "1392"
      }
     },
     "output_type": "display_data"
    }
   ],
   "source": [
    "plot = Plot(plot_width=600, plot_height=600,\n",
    "            x_range=Range1d(-1.1,1.1), y_range=Range1d(-1.1,1.1))\n",
    "plot.title.text = \"Dow Jones Component Stock Graphical Models\"\n",
    "\n",
    "graph_renderer = from_networkx(G, nx.circular_layout, scale=1, center=(0,0))\n",
    "\n",
    "graph_renderer.node_renderer.glyph = Circle(size=15, fill_color=Spectral4[0])\n",
    "graph_renderer.node_renderer.selection_glyph = Circle(size=15, fill_color=Spectral4[2])\n",
    "\n",
    "graph_renderer.edge_renderer.glyph = MultiLine(line_color=\"#CCCCCC\", line_alpha=0.8, line_width=5)\n",
    "graph_renderer.edge_renderer.selection_glyph = MultiLine(line_color=Spectral4[2], line_width=5)\n",
    "\n",
    "graph_renderer.selection_policy = NodesAndLinkedEdges()\n",
    "graph_renderer.inspection_policy = EdgesAndLinkedNodes()\n",
    "\n",
    "plot.add_tools(HoverTool(tooltips=None), TapTool(), BoxSelectTool())\n",
    "plot.renderers.append(graph_renderer)\n",
    "\n",
    "# add labels\n",
    "pos = nx.circular_layout(G)\n",
    "x, y=zip(*pos.values())\n",
    "\n",
    "source = ColumnDataSource({'x':x,'y':y,'ticker':logret.columns.to_list()})\n",
    "labels = LabelSet(x='x', y='y', text='ticker', source=source)\n",
    "\n",
    "plot.renderers.append(labels)\n",
    "\n",
    "show(plot)"
   ]
  },
  {
   "cell_type": "markdown",
   "id": "oriented-circular",
   "metadata": {
    "slideshow": {
     "slide_type": "slide"
    }
   },
   "source": [
    "## Compare Eigenvalues\n",
    "\n",
    "* Different estimates perform different regularization\n",
    "* There are similairies as well as differences"
   ]
  },
  {
   "cell_type": "code",
   "execution_count": 8,
   "id": "narrative-sample",
   "metadata": {
    "hideCode": true,
    "slideshow": {
     "slide_type": "-"
    }
   },
   "outputs": [
    {
     "data": {
      "image/png": "[encoded data removed]",
      "text/plain": [
       "<Figure size 432x288 with 1 Axes>"
      ]
     },
     "metadata": {
      "needs_background": "light"
     },
     "output_type": "display_data"
    }
   ],
   "source": [
    "import numpy as np\n",
    "allevals = pd.DataFrame({\n",
    "    \"sample\": np.real(eigval_sample),\n",
    "    \"lw\": eigval_lw,\n",
    "    \"ggm\": eigval_ggm\n",
    "})\n",
    "allevals.plot();"
   ]
  }
 ],
 "metadata": {
  "celltoolbar": "Slideshow",
  "kernelspec": {
   "display_name": "Python 3 (ipykernel)",
   "language": "python",
   "name": "python3"
  },
  "language_info": {
   "codemirror_mode": {
    "name": "ipython",
    "version": 3
   },
   "file_extension": ".py",
   "mimetype": "text/x-python",
   "name": "python",
   "nbconvert_exporter": "python",
   "pygments_lexer": "ipython3",
   "version": "3.9.6"
  },
  "toc": {
   "base_numbering": 1,
   "nav_menu": {},
   "number_sections": true,
   "sideBar": true,
   "skip_h1_title": false,
   "title_cell": "Table of Contents",
   "title_sidebar": "Contents",
   "toc_cell": false,
   "toc_position": {},
   "toc_section_display": true,
   "toc_window_display": false
  },
  "vscode": {
   "interpreter": {
    "hash": "d4d1e4263499bec80672ea0156c357c1ee493ec2b1c70f0acce89fc37c4a6abe"
   }
  }
 },
 "nbformat": 4,
 "nbformat_minor": 5
}

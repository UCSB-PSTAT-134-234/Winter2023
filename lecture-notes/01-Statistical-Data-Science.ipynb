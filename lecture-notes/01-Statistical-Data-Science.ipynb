{
 "cells": [
  {
   "cell_type": "markdown",
   "metadata": {
    "slideshow": {
     "slide_type": "slide"
    }
   },
   "source": [
    "# PSTAT 134/234 - Statistical Data Science <a class=\"tocSkip\">\n",
    "    \n",
    "\n",
    "## Sang-Yun Oh <a class=\"tocSkip\">"
   ]
  },
  {
   "cell_type": "markdown",
   "metadata": {
    "slideshow": {
     "slide_type": "subslide"
    },
    "toc": true
   },
   "source": [
    "<h1>Table of Contents<span class=\"tocSkip\"></span></h1>\n",
    "<div class=\"toc\"><ul class=\"toc-item\"><li><span><a href=\"#What-is-Data-Science?\" data-toc-modified-id=\"What-is-Data-Science?-2\">What is Data Science?</a></span><ul class=\"toc-item\"><li><span><a href=\"#(Classical)-Scientific-Method\" data-toc-modified-id=\"(Classical)-Scientific-Method-2.1\">(Classical) Scientific Method</a></span></li><li><span><a href=\"#New-Paradigm-of-Science\" data-toc-modified-id=\"New-Paradigm-of-Science-2.2\">New Paradigm of Science</a></span></li><li><span><a href=\"#Data-Science-is-...\" data-toc-modified-id=\"Data-Science-is-...-2.3\">Data Science is ...</a></span></li><li><span><a href=\"#Beginnings-of-Data-Science\" data-toc-modified-id=\"Beginnings-of-Data-Science-2.4\">Beginnings of Data Science</a></span></li><li><span><a href=\"#Data-Scientific-Approach\" data-toc-modified-id=\"Data-Scientific-Approach-2.5\">Data Scientific Approach</a></span></li></ul></li><li><span><a href=\"#Statistics-and-Data-Science\" data-toc-modified-id=\"Statistics-and-Data-Science-3\">Statistics and Data Science</a></span></li><li><span><a href=\"#Computational-Environment\" data-toc-modified-id=\"Computational-Environment-4\">Computational Environment</a></span><ul class=\"toc-item\"><li><span><a href=\"#Jupyter-Notebooks-vs.-Jupyter-Lab\" data-toc-modified-id=\"Jupyter-Notebooks-vs.-Jupyter-Lab-4.1\">Jupyter Notebooks vs. Jupyter Lab</a></span></li><li><span><a href=\"#Jupyter-Notebook\" data-toc-modified-id=\"Jupyter-Notebook-4.2\">Jupyter Notebook</a></span></li><li><span><a href=\"#Command-Line-Interface\" data-toc-modified-id=\"Command-Line-Interface-4.3\">Command-Line Interface</a></span></li></ul></li></ul></div>"
   ]
  },
  {
   "cell_type": "markdown",
   "metadata": {
    "slideshow": {
     "slide_type": "slide"
    }
   },
   "source": [
    "# What is Data Science?"
   ]
  },
  {
   "cell_type": "markdown",
   "metadata": {
    "slideshow": {
     "slide_type": "subslide"
    }
   },
   "source": [
    "## (Classical) Scientific Method\n",
    "\n",
    "* Scientific method used since ~1200s and formalized in 1500s\n",
    "\n",
    "* Roughly, scientific method is an approach [[reference](https://en.wikipedia.org/wiki/Scientific_method)]\n",
    "\n",
    "    * Question\n",
    "    * Hypothesis\n",
    "    * Prediction\n",
    "    * Testing\n",
    "    * Analysis\n",
    "\n",
    "* No one clear definition [[reference](https://plato.stanford.edu/entries/scientific-method/)]"
   ]
  },
  {
   "cell_type": "markdown",
   "metadata": {
    "slideshow": {
     "slide_type": "subslide"
    }
   },
   "source": [
    "## New Paradigm of Science\n",
    "\n",
    "**Fourth Paradigm: Data-intensive scientific discovery** (Jim Gray): everything about science is changing"
   ]
  },
  {
   "cell_type": "markdown",
   "metadata": {
    "slideshow": {
     "slide_type": "fragment"
    }
   },
   "source": [
    "* Scope of Research has broadened: **Basic science vs. Business insight**"
   ]
  },
  {
   "cell_type": "markdown",
   "metadata": {
    "slideshow": {
     "slide_type": "fragment"
    }
   },
   "source": [
    "* \"Some models are useful\": **Precise vs. Approximate**"
   ]
  },
  {
   "cell_type": "markdown",
   "metadata": {
    "slideshow": {
     "slide_type": "fragment"
    }
   },
   "source": [
    "* What is more important? **Understanding vs. Prediction**"
   ]
  },
  {
   "cell_type": "markdown",
   "metadata": {
    "slideshow": {
     "slide_type": "subslide"
    }
   },
   "source": [
    "## Data Science is ...\n",
    "\n",
    "* A multi-disciplinary field that uses scientific methods, processes, algorithms and systems to extract knowledge and insights from structured and unstructured data [reference](https://doi.org/10.1145/2500499)"
   ]
  },
  {
   "cell_type": "markdown",
   "metadata": {
    "slideshow": {
     "slide_type": "fragment"
    }
   },
   "source": [
    "* Merger of statistics, data analysis, machine learning and their related methods in order to understand and analyze actual phenomena with data [reference](https://doi.org/10.1007/978-4-431-65950-1_3)"
   ]
  },
  {
   "cell_type": "markdown",
   "metadata": {
    "slideshow": {
     "slide_type": "fragment"
    }
   },
   "source": [
    "* Composed of techniques and theories drawn from many fields within the context of mathematics, statistics, computer science, and information science. [reference](https://www.microsoft.com/en-us/research/publication/fourth-paradigm-data-intensive-scientific-discovery/)"
   ]
  },
  {
   "cell_type": "markdown",
   "metadata": {
    "slideshow": {
     "slide_type": "subslide"
    }
   },
   "source": [
    "## Beginnings of Data Science\n",
    "\n",
    "![Cleveland](images/data-science-cleveland.png)\n",
    "[[International Statistical Review](http://doi.org/10.2307/1403527)]"
   ]
  },
  {
   "cell_type": "markdown",
   "metadata": {
    "slideshow": {
     "slide_type": "subslide"
    }
   },
   "source": [
    "The article proposed data science program to train a new generation of data analysts:\n",
    "\n",
    "* **Domain expertise**: data analysis collaborations in subject matter areas.\n",
    "\n",
    "* **Mathematics/Statistics**: models, estimation, and distribution based on probabilistic inference.\n",
    "\n",
    "* **Computing**: hardware and software; computational algorithms\n",
    "    \n",
    "* **Theory**: foundations of data science; mathematical investigations of models and methods\n",
    "    \n",
    "\n",
    "[International Statistical Review](http://doi.org/10.2307/1403527)"
   ]
  },
  {
   "cell_type": "markdown",
   "metadata": {
    "slideshow": {
     "slide_type": "subslide"
    }
   },
   "source": [
    "## Data Scientific Approach\n",
    "\n",
    "![DataScienceLifeCycle](images/DataScienceLifeCycle.jpg)\n",
    "[[UC Berkeley, School of Information](https://datascience.berkeley.edu/about/what-is-data-science/)]"
   ]
  },
  {
   "cell_type": "markdown",
   "metadata": {
    "slideshow": {
     "slide_type": "slide"
    }
   },
   "source": [
    "# Statistics and Data Science\n",
    "\n",
    "- Traditional statistical methods tackle problems often under strict set of assumptions"
   ]
  },
  {
   "cell_type": "markdown",
   "metadata": {
    "slideshow": {
     "slide_type": "fragment"
    }
   },
   "source": [
    "- Data science process emphasize entire data lifecycle  \n",
    "    e.g. data collection, cleaning, analysis, interpretation, etc."
   ]
  },
  {
   "cell_type": "markdown",
   "metadata": {
    "slideshow": {
     "slide_type": "fragment"
    }
   },
   "source": [
    "- Data science often iterate to make improvements"
   ]
  },
  {
   "cell_type": "markdown",
   "metadata": {
    "slideshow": {
     "slide_type": "fragment"
    }
   },
   "source": [
    "- Data science develops processes (often custom built)"
   ]
  },
  {
   "cell_type": "markdown",
   "metadata": {
    "slideshow": {
     "slide_type": "slide"
    }
   },
   "source": [
    "# Computational Environment"
   ]
  },
  {
   "cell_type": "markdown",
   "metadata": {
    "slideshow": {
     "slide_type": "subslide"
    }
   },
   "source": [
    "<table style=\"width: 100%;\">\n",
    "    <tr>\n",
    "    <td style=\"width: 50%;\"> <img src=\"images/jupyternotebook.png\" alt=\"Drawing\" style=\"width: 100%;\"/> </td>\n",
    "    <td style=\"width: 50%;\"> <img src=\"images/jupyterlab.png\" alt=\"Drawing\" style=\"width: 100%;\"/> </td>\n",
    "    </tr>\n",
    "    <tr>\n",
    "    <td style=\"text-align: center; font-weight: bold;\"/> Jupyter Notebook</td>\n",
    "    <td style=\"text-align: center; font-weight: bold;\"/> Jupyter Lab</td>\n",
    "    </tr>\n",
    "</table>"
   ]
  },
  {
   "cell_type": "markdown",
   "metadata": {
    "slideshow": {
     "slide_type": "subslide"
    }
   },
   "source": [
    "## Jupyter Notebooks vs. Jupyter Lab\n",
    "\n",
    "- Jupyter cluster is here: https://pstat-134-234.lsit.ucsb.edu\n",
    "\n",
    "- If your username is `[UCSB NetID]`,  \n",
    "\n",
    "- Jupyter Notebook: `https://pstat-134-234.lsit.ucsb.edu/user/[UCSB NetID]/tree`  \n",
    "\n",
    "- Jupyter Lab (default): `https://pstat-134-234.lsit.ucsb.edu/user/[UCSB NetID]/lab`   "
   ]
  },
  {
   "cell_type": "markdown",
   "metadata": {
    "slideshow": {
     "slide_type": "fragment"
    }
   },
   "source": [
    "- **Jupyter Notebook + Additional Features = Jupyter Lab**"
   ]
  },
  {
   "cell_type": "markdown",
   "metadata": {
    "slideshow": {
     "slide_type": "subslide"
    }
   },
   "source": [
    "## Jupyter Notebook\n",
    "\n",
    "- Notebook environment: code, formatted text, and graphics\n",
    "\n",
    "- Conversion to other formats: e.g. markdown, latx, PDF, HTML, etc.\n",
    "\n",
    "- Interactivity HTML widgets\n",
    "\n",
    "- [Jupyter notebook basics](https://nbviewer.jupyter.org/github/jupyter/notebook/blob/master/docs/source/examples/Notebook/Notebook%20Basics.ipynb)\n",
    "\n",
    "![Jupyter Notebook](images/jupyternotebook.png)"
   ]
  },
  {
   "cell_type": "markdown",
   "metadata": {
    "slideshow": {
     "slide_type": "subslide"
    }
   },
   "source": [
    "[Jupyter Notebook Jupyter kernels](https://github.com/jupyter/jupyter/wiki/Jupyter-kernels) (Python, shell, R, Julia, others)  \n",
    "    \n",
    "![Jupyter Diagram](images/jupyter-diagram.jpg)\n"
   ]
  },
  {
   "cell_type": "markdown",
   "metadata": {
    "slideshow": {
     "slide_type": "subslide"
    }
   },
   "source": [
    "![Jupyter Diagram](images/jupyterhub-notebook.png)"
   ]
  },
  {
   "cell_type": "markdown",
   "metadata": {
    "slideshow": {
     "slide_type": "subslide"
    }
   },
   "source": [
    "![Jupyter Diagram](images/jupyterhub-gcp.png)"
   ]
  },
  {
   "cell_type": "markdown",
   "metadata": {
    "slideshow": {
     "slide_type": "fragment"
    }
   },
   "source": [
    "- Read [Jupyter notebook basics](https://nbviewer.jupyter.org/github/jupyter/notebook/blob/master/docs/source/examples/Notebook/Notebook%20Basics.ipynb)"
   ]
  },
  {
   "cell_type": "markdown",
   "metadata": {
    "slideshow": {
     "slide_type": "subslide"
    }
   },
   "source": [
    "### Writing formatted text\n",
    "\n",
    "- Text formatting with [markdown syntax](https://guides.github.com/features/mastering-markdown/): e.g., variations like [Github Flavored Markdown (GFM)](https://guides.github.com/features/mastering-markdown/#GitHub-flavored-markdown)"
   ]
  },
  {
   "cell_type": "markdown",
   "metadata": {
    "slideshow": {
     "slide_type": "fragment"
    }
   },
   "source": [
    "- Math equations (latex): e.g., `$$ \\hat \\mu = \\frac{1}{n}\\sum_{i=1}^n x_i $$`\n",
    "    $$ \\hat \\mu = \\frac{1}{n}\\sum_{i=1}^n x_i,\\qquad \\hat\\sigma^2 = \\frac{1}{n}\\sum_{i=1}^n (x_i-\\hat\\mu)^2 $$\n",
    "    [Mathpix](https://mathpix.com/)"
   ]
  },
  {
   "cell_type": "markdown",
   "metadata": {
    "slideshow": {
     "slide_type": "fragment"
    }
   },
   "source": [
    "- Images: e.g. `![alt-text](some-image.jpg)`  \n",
    "    ![Not Lazy](images/im-not-lazy-im-just-in-energy-saving-mode-sleepy-cat.jpg)   \n",
    "    _Note: Markdown can display an image given its URL; however, doing so doesn't work with PDF generation_  \n",
    "    `![Not Lazy](http://thoughtfulcampaigner.org/wp-content/uploads/2017/10/im-not-lazy-im-just-in-energy-saving-mode-sleepy-cat.jpg)`  "
   ]
  },
  {
   "cell_type": "markdown",
   "metadata": {
    "slideshow": {
     "slide_type": "subslide"
    }
   },
   "source": [
    "### More than Python\n",
    "\n",
    "- Python interpreter\n",
    "\n",
    "- IPython is short for interactive Python with additional functionality  \n",
    "    e.g., tab completion, syntax highlighting, magic, etc. (Chapter 2 in McKinney)  \n",
    "\n",
    "- IPython's \"[line, cell] magic\" commands  \n",
    "    e.g., debugging, code timing, shell commands, execute external script, etc."
   ]
  },
  {
   "cell_type": "markdown",
   "metadata": {
    "slideshow": {
     "slide_type": "subslide"
    }
   },
   "source": [
    "### Line magic: `%`\n",
    "\n",
    "- [Demo] Debugging example: `%debug`, etc.\n",
    "\n",
    "- [`xmode`](https://jakevdp.github.io/PythonDataScienceHandbook/01.06-errors-and-debugging.html#Controlling-Exceptions:-%xmode): Exception handler mode\n",
    "\n",
    "- More detail on debugging: [Vanderplas - Chapter 1](https://jakevdp.github.io/PythonDataScienceHandbook/01.06-errors-and-debugging.html)"
   ]
  },
  {
   "cell_type": "markdown",
   "metadata": {
    "slideshow": {
     "slide_type": "slide"
    }
   },
   "source": [
    "#### Example: Debugging"
   ]
  },
  {
   "cell_type": "code",
   "execution_count": 1,
   "metadata": {
    "hideCode": false,
    "hideOutput": false,
    "slideshow": {
     "slide_type": "-"
    }
   },
   "outputs": [
    {
     "name": "stdout",
     "output_type": "stream",
     "text": [
      "Exception reporting mode: Verbose\n"
     ]
    }
   ],
   "source": [
    "# exception mode to verbose output\n",
    "# %xmode Plain\n",
    "%xmode Verbose\n",
    "\n",
    "from IPython.core.debugger import set_trace\n",
    "\n",
    "def func1(a, b):\n",
    "    return a / b\n",
    "\n",
    "def func2(x):\n",
    "    \n",
    "    a = x\n",
    "    # set_trace()\n",
    "    b = x - 1\n",
    "    return func1(a, b)\n",
    "\n",
    "# Refer to https://docs.python.org/3/library/pdb.html#debugger-commands\n",
    "# Press h for help\n",
    "# Uncomment below to trigger an error\n",
    "# func2(1) "
   ]
  },
  {
   "cell_type": "code",
   "execution_count": 2,
   "metadata": {
    "slideshow": {
     "slide_type": "slide"
    }
   },
   "outputs": [
    {
     "name": "stderr",
     "output_type": "stream",
     "text": [
      "ERROR:root:No traceback has been produced, nothing to debug.\n"
     ]
    }
   ],
   "source": [
    "# After an exception occurs, calling %debug \n",
    "# starts the debugger at last error\n",
    "# uncomment the next line for demo\n",
    "%debug\n",
    "\n",
    "# input following at ipdb prompt\n",
    "# print(a)\n",
    "# print(b)"
   ]
  },
  {
   "cell_type": "markdown",
   "metadata": {
    "slideshow": {
     "slide_type": "slide"
    }
   },
   "source": [
    "#### Other magic commands\n",
    "\n",
    "- [many more](https://www.datacamp.com/community/tutorials/tutorial-jupyter-notebook)"
   ]
  },
  {
   "cell_type": "code",
   "execution_count": 3,
   "metadata": {
    "slideshow": {
     "slide_type": "-"
    }
   },
   "outputs": [
    {
     "data": {
      "application/json": {
       "cell": {
        "!": "OSMagics",
        "HTML": "Other",
        "SVG": "Other",
        "bash": "Other",
        "capture": "ExecutionMagics",
        "debug": "ExecutionMagics",
        "file": "Other",
        "html": "DisplayMagics",
        "javascript": "DisplayMagics",
        "js": "DisplayMagics",
        "latex": "DisplayMagics",
        "markdown": "DisplayMagics",
        "perl": "Other",
        "prun": "ExecutionMagics",
        "pypy": "Other",
        "python": "Other",
        "python2": "Other",
        "python3": "Other",
        "ruby": "Other",
        "script": "ScriptMagics",
        "sh": "Other",
        "svg": "DisplayMagics",
        "sx": "OSMagics",
        "system": "OSMagics",
        "time": "ExecutionMagics",
        "timeit": "ExecutionMagics",
        "writefile": "OSMagics"
       },
       "line": {
        "alias": "OSMagics",
        "alias_magic": "BasicMagics",
        "autoawait": "AsyncMagics",
        "autocall": "AutoMagics",
        "automagic": "AutoMagics",
        "autosave": "KernelMagics",
        "bookmark": "OSMagics",
        "cat": "Other",
        "cd": "OSMagics",
        "clear": "KernelMagics",
        "colors": "BasicMagics",
        "conda": "PackagingMagics",
        "config": "ConfigMagics",
        "connect_info": "KernelMagics",
        "cp": "Other",
        "debug": "ExecutionMagics",
        "dhist": "OSMagics",
        "dirs": "OSMagics",
        "doctest_mode": "BasicMagics",
        "ed": "Other",
        "edit": "KernelMagics",
        "env": "OSMagics",
        "gui": "BasicMagics",
        "hist": "Other",
        "history": "HistoryMagics",
        "killbgscripts": "ScriptMagics",
        "ldir": "Other",
        "less": "KernelMagics",
        "lf": "Other",
        "lk": "Other",
        "ll": "Other",
        "load": "CodeMagics",
        "load_ext": "ExtensionMagics",
        "loadpy": "CodeMagics",
        "logoff": "LoggingMagics",
        "logon": "LoggingMagics",
        "logstart": "LoggingMagics",
        "logstate": "LoggingMagics",
        "logstop": "LoggingMagics",
        "ls": "Other",
        "lsmagic": "BasicMagics",
        "lx": "Other",
        "macro": "ExecutionMagics",
        "magic": "BasicMagics",
        "man": "KernelMagics",
        "matplotlib": "PylabMagics",
        "mkdir": "Other",
        "more": "KernelMagics",
        "mv": "Other",
        "notebook": "BasicMagics",
        "page": "BasicMagics",
        "pastebin": "CodeMagics",
        "pdb": "ExecutionMagics",
        "pdef": "NamespaceMagics",
        "pdoc": "NamespaceMagics",
        "pfile": "NamespaceMagics",
        "pinfo": "NamespaceMagics",
        "pinfo2": "NamespaceMagics",
        "pip": "PackagingMagics",
        "popd": "OSMagics",
        "pprint": "BasicMagics",
        "precision": "BasicMagics",
        "prun": "ExecutionMagics",
        "psearch": "NamespaceMagics",
        "psource": "NamespaceMagics",
        "pushd": "OSMagics",
        "pwd": "OSMagics",
        "pycat": "OSMagics",
        "pylab": "PylabMagics",
        "qtconsole": "KernelMagics",
        "quickref": "BasicMagics",
        "recall": "HistoryMagics",
        "rehashx": "OSMagics",
        "reload_ext": "ExtensionMagics",
        "rep": "Other",
        "rerun": "HistoryMagics",
        "reset": "NamespaceMagics",
        "reset_selective": "NamespaceMagics",
        "rm": "Other",
        "rmdir": "Other",
        "run": "ExecutionMagics",
        "save": "CodeMagics",
        "sc": "OSMagics",
        "set_env": "OSMagics",
        "store": "StoreMagics",
        "sx": "OSMagics",
        "system": "OSMagics",
        "tb": "ExecutionMagics",
        "time": "ExecutionMagics",
        "timeit": "ExecutionMagics",
        "unalias": "OSMagics",
        "unload_ext": "ExtensionMagics",
        "who": "NamespaceMagics",
        "who_ls": "NamespaceMagics",
        "whos": "NamespaceMagics",
        "xdel": "NamespaceMagics",
        "xmode": "BasicMagics"
       }
      },
      "text/plain": [
       "Available line magics:\n",
       "%alias  %alias_magic  %autoawait  %autocall  %automagic  %autosave  %bookmark  %cat  %cd  %clear  %colors  %conda  %config  %connect_info  %cp  %debug  %dhist  %dirs  %doctest_mode  %ed  %edit  %env  %gui  %hist  %history  %killbgscripts  %ldir  %less  %lf  %lk  %ll  %load  %load_ext  %loadpy  %logoff  %logon  %logstart  %logstate  %logstop  %ls  %lsmagic  %lx  %macro  %magic  %man  %matplotlib  %mkdir  %more  %mv  %notebook  %page  %pastebin  %pdb  %pdef  %pdoc  %pfile  %pinfo  %pinfo2  %pip  %popd  %pprint  %precision  %prun  %psearch  %psource  %pushd  %pwd  %pycat  %pylab  %qtconsole  %quickref  %recall  %rehashx  %reload_ext  %rep  %rerun  %reset  %reset_selective  %rm  %rmdir  %run  %save  %sc  %set_env  %store  %sx  %system  %tb  %time  %timeit  %unalias  %unload_ext  %who  %who_ls  %whos  %xdel  %xmode\n",
       "\n",
       "Available cell magics:\n",
       "%%!  %%HTML  %%SVG  %%bash  %%capture  %%debug  %%file  %%html  %%javascript  %%js  %%latex  %%markdown  %%perl  %%prun  %%pypy  %%python  %%python2  %%python3  %%ruby  %%script  %%sh  %%svg  %%sx  %%system  %%time  %%timeit  %%writefile\n",
       "\n",
       "Automagic is ON, % prefix IS NOT needed for line magics."
      ]
     },
     "execution_count": 3,
     "metadata": {},
     "output_type": "execute_result"
    }
   ],
   "source": [
    "# shift-tab for documentation\n",
    "%lsmagic"
   ]
  },
  {
   "cell_type": "markdown",
   "metadata": {
    "slideshow": {
     "slide_type": "subslide"
    }
   },
   "source": [
    "### Cell magic: `%%`\n",
    "\n",
    "- Entire cell is interpreted differently\n",
    "\n",
    "#### Example: Measuring running time"
   ]
  },
  {
   "cell_type": "code",
   "execution_count": 4,
   "metadata": {
    "slideshow": {
     "slide_type": "-"
    }
   },
   "outputs": [
    {
     "name": "stdout",
     "output_type": "stream",
     "text": [
      "140 µs ± 9.82 µs per loop (mean ± std. dev. of 10 runs, 500 loops each)\n"
     ]
    }
   ],
   "source": [
    "%%timeit -n500 -r10\n",
    "total = []\n",
    "for i in range(1000):\n",
    "    total += [i]"
   ]
  },
  {
   "cell_type": "code",
   "execution_count": 5,
   "metadata": {
    "slideshow": {
     "slide_type": "fragment"
    }
   },
   "outputs": [
    {
     "name": "stdout",
     "output_type": "stream",
     "text": [
      "45.6 µs ± 321 ns per loop (mean ± std. dev. of 10 runs, 500 loops each)\n"
     ]
    }
   ],
   "source": [
    "%%timeit -n500 -r10\n",
    "total = [i for i in range(1000)]"
   ]
  },
  {
   "cell_type": "markdown",
   "metadata": {
    "slideshow": {
     "slide_type": "slide"
    }
   },
   "source": [
    "## Command-Line Interface\n",
    "\n",
    "---\n",
    "\n",
    "* [Bash](https://en.wikipedia.org/wiki/Bash_(Unix_shell)): text (command-line) interface to operating system (OS)\n",
    "\n",
    "* OS (e.g. Windows, MacOS) handles file operations interfacing with network, etc \n",
    "\n",
    "* From https://pstat-134-234.lsit.ucsb.edu/user/syoh/tree, choose **Terminal** from **New** dropdown menu\n",
    "\n",
    "* Run system operations using text commands\n",
    "\n",
    "    ```bash\n",
    "    echo \"######## hello\" > somefile.txt ## prints string into file 'somefile.txt'\n",
    "    ls -alh                              ## list files in directory\n",
    "    cat somefile.txt                     ## print contents of 'somefile.txt'\n",
    "    rm somefile.txt                      ## remove 'somefile.txt'\n",
    "    ``` "
   ]
  },
  {
   "cell_type": "markdown",
   "metadata": {
    "slideshow": {
     "slide_type": "subslide"
    }
   },
   "source": [
    "* [Explain Shell](https://explainshell.com/)\n",
    "\n",
    "* **Demo**: Use `git` command to clone a repository from Github  \n",
    "    _Note: self-learning git is recommended but not required for the course_ [[Software carpentry lesson: git](https://swcarpentry.github.io/git-novice/)]\n",
    "    \n",
    "* More on command line later    "
   ]
  },
  {
   "cell_type": "markdown",
   "metadata": {
    "slideshow": {
     "slide_type": "subslide"
    }
   },
   "source": [
    "### Run CLI from Jupyter Notebook\n",
    "\n",
    "### Example: Run bash commands: `%%bash`\n",
    "\n",
    "Bash is a shell scripting language. Bash language can coexist in Jupyter notebook. "
   ]
  },
  {
   "cell_type": "code",
   "execution_count": 6,
   "metadata": {
    "slideshow": {
     "slide_type": "fragment"
    }
   },
   "outputs": [
    {
     "name": "stdout",
     "output_type": "stream",
     "text": [
      "######## hello\n",
      "######## did you see a hello?\n",
      "######## listing files\n",
      "total 3.9M\n",
      "drwxr-xr-x  5 jovyan users 4.0K Sep 30 05:11 .\n",
      "drwxrwxr-x 10 jovyan users 4.0K Sep 28 13:44 ..\n",
      "-rw-r--r--  1 jovyan users 4.7K Sep 26 13:14 00-Syllabus.ipynb\n",
      "-rw-r--r--  1 jovyan users  28K Sep 28 13:44 01-Statistical-Data-Science.ipynb\n",
      "-rw-r--r--  1 jovyan users 337K Sep 28 13:40 02-Data-and-Uncertainty.ipynb\n",
      "-rw-r--r--  1 jovyan users 228K Sep 28 13:44 03-Distributions-Histograms-and-Bootstrap.ipynb\n",
      "-rw-r--r--  1 jovyan users 832K Sep 28 13:44 04-Exploratory-Data-Analysis-and-Visualization.ipynb\n",
      "-rw-r--r--  1 jovyan users 565K Sep 28 13:44 05-Dimension-Reduction-and-Matrix-Factorization.ipynb\n",
      "-rw-r--r--  1 jovyan users 422K Sep 28 13:44 06-Movie-Recommendation-System.ipynb\n",
      "-rw-r--r--  1 jovyan users 153K Sep 28 13:44 07-Command-Line-and-Data-collection.ipynb\n",
      "-rw-r--r--  1 jovyan users 655K Sep 28 13:44 07-Optimizing-Stock-Portfolio-Allocation.ipynb\n",
      "-rw-r--r--  1 jovyan users 659K Sep 28 13:44 08-Optimizing-Stock-Portfolio-Allocation.ipynb\n",
      "drwxr-xr-x  2 jovyan users 4.0K Sep 28 13:44 data\n",
      "drwxr-xr-x  2 jovyan users 4.0K Sep 28 13:43 images\n",
      "drwxr-xr-x  2 jovyan users 4.0K Sep 28 05:52 .ipynb_checkpoints\n"
     ]
    }
   ],
   "source": [
    "%%bash\n",
    "\n",
    "echo \"######## hello\" > somefile.txt\n",
    "cat somefile.txt\n",
    "echo \"######## did you see a hello?\"\n",
    "echo \"######## listing files\"\n",
    "rm somefile.txt\n",
    "ls -alh"
   ]
  },
  {
   "cell_type": "markdown",
   "metadata": {
    "slideshow": {
     "slide_type": "slide"
    }
   },
   "source": [
    "### Example: Jupyter Notebook and Bash\n",
    "\n",
    "- [Who is Jovyan?](https://github.com/jupyter/docker-stacks/issues/358)\n",
    "- [\"In science fiction, a Jovian is an inhabitant of the planet Jupiter.\"](https://en.wikipedia.org/wiki/Jovian_%28fiction%29)\n",
    "\n",
    "Shell output can be saved into a Python variable"
   ]
  },
  {
   "cell_type": "code",
   "execution_count": 7,
   "metadata": {
    "slideshow": {
     "slide_type": "fragment"
    }
   },
   "outputs": [
    {
     "name": "stdout",
     "output_type": "stream",
     "text": [
      "file 0 : 00-Syllabus.ipynb\n",
      "file 1 : 01-Statistical-Data-Science.ipynb\n",
      "file 2 : 02-Data-and-Uncertainty.ipynb\n",
      "file 3 : 03-Distributions-Histograms-and-Bootstrap.ipynb\n",
      "file 4 : 04-Exploratory-Data-Analysis-and-Visualization.ipynb\n",
      "file 5 : 05-Dimension-Reduction-and-Matrix-Factorization.ipynb\n",
      "file 6 : 06-Movie-Recommendation-System.ipynb\n",
      "file 7 : 07-Command-Line-and-Data-collection.ipynb\n",
      "file 8 : 07-Optimizing-Stock-Portfolio-Allocation.ipynb\n",
      "file 9 : 08-Optimizing-Stock-Portfolio-Allocation.ipynb\n"
     ]
    }
   ],
   "source": [
    "nbfiles = !ls *.ipynb  # store filenames in nbfiles variable\n",
    "\n",
    "for f,one in enumerate(nbfiles):\n",
    "    print(\"file\", f, \":\", one)"
   ]
  },
  {
   "cell_type": "markdown",
   "metadata": {
    "slideshow": {
     "slide_type": "slide"
    }
   },
   "source": [
    "### Example: Exporting notebooks\n",
    "\n",
    "- Notebooks can be converted using [`nbconvert`](https://nbconvert.readthedocs.io/en/latest/)\n",
    "    - Slides\n",
    "    - Static web pages  \n",
    "        e.g. auto-updating reporting, blogs, etc\n",
    "\n",
    "- Shell script to automated execution  \n",
    "    `jupyter nbconvert --to html --execute mynotebook.ipynb`"
   ]
  }
 ],
 "metadata": {
  "celltoolbar": "Slideshow",
  "kernelspec": {
   "display_name": "Python 3 (ipykernel)",
   "language": "python",
   "name": "python3"
  },
  "language_info": {
   "codemirror_mode": {
    "name": "ipython",
    "version": 3
   },
   "file_extension": ".py",
   "mimetype": "text/x-python",
   "name": "python",
   "nbconvert_exporter": "python",
   "pygments_lexer": "ipython3",
   "version": "3.9.6"
  },
  "toc": {
   "base_numbering": "2",
   "nav_menu": {},
   "number_sections": false,
   "sideBar": true,
   "skip_h1_title": false,
   "title_cell": "Table of Contents",
   "title_sidebar": "Contents",
   "toc_cell": true,
   "toc_position": {
    "height": "306.8px",
    "left": "130px",
    "top": "386.8px",
    "width": "312.688px"
   },
   "toc_section_display": true,
   "toc_window_display": false
  },
  "vscode": {
   "interpreter": {
    "hash": "d4d1e4263499bec80672ea0156c357c1ee493ec2b1c70f0acce89fc37c4a6abe"
   }
  }
 },
 "nbformat": 4,
 "nbformat_minor": 4
}

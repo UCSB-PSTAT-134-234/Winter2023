{
 "cells": [
  {
   "cell_type": "markdown",
   "metadata": {
    "slideshow": {
     "slide_type": "slide"
    }
   },
   "source": [
    "# Optimizing Stock Portfolio Allocation <a class='tocSkip'>\n",
    "\n",
    "## Sang-Yun Oh <a class='tocSkip'>"
   ]
  },
  {
   "cell_type": "markdown",
   "metadata": {
    "slideshow": {
     "slide_type": "slide"
    }
   },
   "source": [
    "## Installing Packages in Python\n",
    "\n",
    "* Default package source for `pip` command is Python Package Index (PyPI)  \n",
    "    e.g., https://pypi.org/project/yfinance/\n",
    "* Can also install from github repository: \n",
    "    https://pypi.org/project/yfinance/"
   ]
  },
  {
   "cell_type": "code",
   "execution_count": 1,
   "metadata": {
    "slideshow": {
     "slide_type": "subslide"
    }
   },
   "outputs": [
    {
     "name": "stdout",
     "output_type": "stream",
     "text": [
      "Requirement already satisfied: yfinance in /opt/conda/lib/python3.9/site-packages (0.2.12)\n",
      "Requirement already satisfied: html5lib>=1.1 in /opt/conda/lib/python3.9/site-packages (from yfinance) (1.1)\n",
      "Requirement already satisfied: appdirs>=1.4.4 in /opt/conda/lib/python3.9/site-packages (from yfinance) (1.4.4)\n",
      "Requirement already satisfied: numpy>=1.16.5 in /opt/conda/lib/python3.9/site-packages (from yfinance) (1.20.3)\n",
      "Requirement already satisfied: cryptography>=3.3.2 in /opt/conda/lib/python3.9/site-packages (from yfinance) (3.4.7)\n",
      "Requirement already satisfied: requests>=2.26 in /opt/conda/lib/python3.9/site-packages (from yfinance) (2.26.0)\n",
      "Requirement already satisfied: pytz>=2022.5 in /opt/conda/lib/python3.9/site-packages (from yfinance) (2022.7.1)\n",
      "Requirement already satisfied: frozendict>=2.3.4 in /opt/conda/lib/python3.9/site-packages (from yfinance) (2.3.5)\n",
      "Requirement already satisfied: pandas>=1.3.0 in /opt/conda/lib/python3.9/site-packages (from yfinance) (1.3.3)\n",
      "Requirement already satisfied: lxml>=4.9.1 in /opt/conda/lib/python3.9/site-packages (from yfinance) (4.9.1)\n",
      "Requirement already satisfied: beautifulsoup4>=4.11.1 in /opt/conda/lib/python3.9/site-packages (from yfinance) (4.11.2)\n",
      "Requirement already satisfied: multitasking>=0.0.7 in /opt/conda/lib/python3.9/site-packages (from yfinance) (0.0.11)\n",
      "Requirement already satisfied: soupsieve>1.2 in /opt/conda/lib/python3.9/site-packages (from beautifulsoup4>=4.11.1->yfinance) (2.0.1)\n",
      "Requirement already satisfied: cffi>=1.12 in /opt/conda/lib/python3.9/site-packages (from cryptography>=3.3.2->yfinance) (1.14.6)\n",
      "Requirement already satisfied: pycparser in /opt/conda/lib/python3.9/site-packages (from cffi>=1.12->cryptography>=3.3.2->yfinance) (2.20)\n",
      "Requirement already satisfied: six>=1.9 in /opt/conda/lib/python3.9/site-packages (from html5lib>=1.1->yfinance) (1.16.0)\n",
      "Requirement already satisfied: webencodings in /opt/conda/lib/python3.9/site-packages (from html5lib>=1.1->yfinance) (0.5.1)\n",
      "Requirement already satisfied: python-dateutil>=2.7.3 in /opt/conda/lib/python3.9/site-packages (from pandas>=1.3.0->yfinance) (2.8.2)\n",
      "Requirement already satisfied: urllib3<1.27,>=1.21.1 in /opt/conda/lib/python3.9/site-packages (from requests>=2.26->yfinance) (1.26.6)\n",
      "Requirement already satisfied: certifi>=2017.4.17 in /opt/conda/lib/python3.9/site-packages (from requests>=2.26->yfinance) (2021.5.30)\n",
      "Requirement already satisfied: charset-normalizer~=2.0.0 in /opt/conda/lib/python3.9/site-packages (from requests>=2.26->yfinance) (2.0.0)\n",
      "Requirement already satisfied: idna<4,>=2.5 in /opt/conda/lib/python3.9/site-packages (from requests>=2.26->yfinance) (3.1)\n"
     ]
    }
   ],
   "source": [
    "# install from pypi\n",
    "!pip install yfinance"
   ]
  },
  {
   "cell_type": "code",
   "execution_count": 2,
   "metadata": {
    "hideCode": false,
    "slideshow": {
     "slide_type": "subslide"
    }
   },
   "outputs": [],
   "source": [
    "# install from github\n",
    "# ! pip install git+https://github.com/ranaroussi/yfinance"
   ]
  },
  {
   "cell_type": "code",
   "execution_count": 3,
   "metadata": {},
   "outputs": [
    {
     "name": "stdout",
     "output_type": "stream",
     "text": [
      "Requirement already satisfied: cvxpy in /opt/conda/lib/python3.9/site-packages (1.2.2)\r\n",
      "Requirement already satisfied: scs>=1.1.6 in /opt/conda/lib/python3.9/site-packages (from cvxpy) (3.2.2)\r\n",
      "Requirement already satisfied: numpy>=1.15 in /opt/conda/lib/python3.9/site-packages (from cvxpy) (1.20.3)\r\n",
      "Requirement already satisfied: scipy>=1.1.0 in /opt/conda/lib/python3.9/site-packages (from cvxpy) (1.7.1)\r\n",
      "Requirement already satisfied: osqp>=0.4.1 in /opt/conda/lib/python3.9/site-packages (from cvxpy) (0.6.2.post8)\r\n",
      "Requirement already satisfied: ecos>=2 in /opt/conda/lib/python3.9/site-packages (from cvxpy) (2.0.10)\r\n",
      "Requirement already satisfied: qdldl in /opt/conda/lib/python3.9/site-packages (from osqp>=0.4.1->cvxpy) (0.1.5.post2)\r\n"
     ]
    }
   ],
   "source": [
    "!pip install cvxpy"
   ]
  },
  {
   "cell_type": "code",
   "execution_count": 4,
   "metadata": {
    "slideshow": {
     "slide_type": "skip"
    }
   },
   "outputs": [],
   "source": [
    "import pandas as pd\n",
    "import numpy as np\n",
    "import pickle\n",
    "import cvxpy"
   ]
  },
  {
   "cell_type": "markdown",
   "metadata": {
    "slideshow": {
     "slide_type": "slide"
    }
   },
   "source": [
    "## Introduction to Portfolio Theory\n",
    "\n",
    "### Stock Prices vs. Returns \n",
    "\n",
    "* Model stock returns as random variables\n",
    "* Returns depend on change in stock prices:  \n",
    "    $$ R_t = \\frac{P_t - P_{t-1}}{P_{t-1}} = \\frac{P_t}{P_{t-1}} - 1 $$"
   ]
  },
  {
   "cell_type": "markdown",
   "metadata": {
    "slideshow": {
     "slide_type": "fragment"
    }
   },
   "source": [
    "* Linear approximation of $\\log(1+x)\\approx x$ when $x$ is small. \n",
    "* Since daily stock returns are small,\n",
    "$$ R_t \\approx \\log(1 + R_t) = \\log\\left(\\frac{P_t}{P_{t-1}}\\right) = \\log(P_t) - \\log(P_{t-1})$$"
   ]
  },
  {
   "cell_type": "markdown",
   "metadata": {
    "slideshow": {
     "slide_type": "fragment"
    }
   },
   "source": [
    "* Compute the log-returns then difference of log prices (converting data)"
   ]
  },
  {
   "cell_type": "markdown",
   "metadata": {
    "slideshow": {
     "slide_type": "subslide"
    }
   },
   "source": [
    "### Modeling Stock Returns\n",
    "\n",
    "* In classical portfolio theory, stock returns are normally distributed\n",
    "* Daily returns of two stocks: $R_A$ and $R_B$ of two stocks $A$ and $B$\n",
    "* Jointly normally distributed: bivariate normal distribution: \n",
    "$$\\begin{aligned}\n",
    "\\begin{pmatrix}\n",
    "R_A\\\\ R_B\n",
    "\\end{pmatrix}\n",
    "\\sim\n",
    "N\\left(\n",
    "\\begin{pmatrix}\n",
    "\\mu_A\\\\ \\mu_B\n",
    "\\end{pmatrix},\n",
    "\\begin{pmatrix}\n",
    "\\sigma_A^2 & \\sigma_{AB}\\\\\n",
    "\\sigma_{AB} & \\sigma_B^2\n",
    "\\end{pmatrix}\n",
    "\\right)\n",
    "\\end{aligned}$$"
   ]
  },
  {
   "cell_type": "markdown",
   "metadata": {
    "slideshow": {
     "slide_type": "fragment"
    }
   },
   "source": [
    "* Marginal distributions: \n",
    "$$R_A \\sim N(\\mu_A,\\sigma_A^2) \\text{, and } R_B \\sim N(\\mu_B,\\sigma_B^2),$$\n",
    "* Covariance and correlation are\n",
    "$$\\sigma_\\text{AB} = \\text{Cov}(R_A,R_B) \\text{, and } \\rho_\\text{AB} = \\frac{\\sigma_\\text{AB}}{\\sigma_A\\sigma_B}$$"
   ]
  },
  {
   "cell_type": "markdown",
   "metadata": {
    "slideshow": {
     "slide_type": "subslide"
    }
   },
   "source": [
    "### Modeling Portfolio Returns\n",
    "\n",
    "* Two-stock portfolio: Return for the portfolio $R_p$ is \n",
    "$$R_p = R_A x_A + R_B x_B,$$\n",
    "* Allocations: $x_A$ and $x_B$ are proportions of stocks $A$ and $B$ such that  \n",
    "$$x_A + x_B = 1$$"
   ]
  },
  {
   "cell_type": "markdown",
   "metadata": {
    "slideshow": {
     "slide_type": "fragment"
    }
   },
   "source": [
    "* $R_p$ is also normally distributed with following mean and variance:\n",
    "$$\\begin{aligned}\n",
    "\\mu_p &= \\text{E}(R_p) \\\\\n",
    "    &= \\text{E}(R_B)\\, x_A + \\text{E}(R_B)\\, x_B\\\\\n",
    "    &= \\mu_A x_A + \\mu_B x_B\\\\\n",
    "\\sigma_p^2 &= \\text{Var}(R_p) \\\\\n",
    "    &= \\text{E}\\left((R_p - \\text{E}(R_p))^2\\right) \\\\\n",
    "    &= \\sigma_A^2\\,x_A^2 + \\sigma_B^2\\,x_B^2 + 2\\sigma_{AB}x_A x_B.\n",
    "\\end{aligned}\n",
    "$$\n",
    "Note that $\\sigma_{AB} = \\rho_{AB}\\sigma_A\\sigma_B$.\n",
    "* Distribution of the portfolio return is\n",
    "$$ R_p \\sim N(\\mu_p, \\sigma_p^2) $$"
   ]
  },
  {
   "cell_type": "markdown",
   "metadata": {
    "slideshow": {
     "slide_type": "subslide"
    }
   },
   "source": [
    "### Hedging Portfolio Risk\n",
    "\n",
    "* Mean return ($\\mu_p$): weighted average of returns\n",
    "* Risk ($\\sigma_p^2$):  Risk of $p$ can be decreased if $\\rho<0$\n",
    "* Hedge risk by having negatively correlated stocks"
   ]
  },
  {
   "cell_type": "markdown",
   "metadata": {
    "slideshow": {
     "slide_type": "subslide"
    }
   },
   "source": [
    "## Toy Example: Simulating $R_A$ and $R_B$\n",
    "\n",
    "* $R_A\\sim N(0.15, 0.1^2)$ and $R_B\\sim N(0.1, 0.05^2)$\n",
    "* Correlation: $\\rho_{AB} = -0.15$\n",
    "* Portfolio weight distributed evenly: i.e. $x_A = x_B = 0.5$"
   ]
  },
  {
   "cell_type": "code",
   "execution_count": 5,
   "metadata": {
    "slideshow": {
     "slide_type": "-"
    }
   },
   "outputs": [],
   "source": [
    "A = {'mu': 0.15, 'sig': 0.1,  'proportion': 0.5}\n",
    "B = {'mu': 0.1,  'sig': 0.05, 'proportion': 0.5}"
   ]
  },
  {
   "cell_type": "markdown",
   "metadata": {
    "slideshow": {
     "slide_type": "subslide"
    }
   },
   "source": [
    "### Generate random returns"
   ]
  },
  {
   "cell_type": "code",
   "execution_count": 6,
   "metadata": {
    "slideshow": {
     "slide_type": "-"
    }
   },
   "outputs": [],
   "source": [
    "def simulate_returns(A, B, correlation, size=100):\n",
    "    \n",
    "    from numpy import sqrt\n",
    "    from numpy.random import multivariate_normal\n",
    "    from pandas import DataFrame\n",
    "    \n",
    "    # what could go wrong with rounding errors?\n",
    "    assert(A['proportion'] + B['proportion'] == 1) \n",
    "\n",
    "    # construct bivariate normal random variable\n",
    "    mu = [A['mu'], B['mu']]\n",
    "    sigma = [[A['sig']**2, correlation*A['sig']*B['sig']],\n",
    "             [correlation*A['sig']*B['sig'], B['sig']**2]]\n",
    "    \n",
    "    # get random observations\n",
    "    R = multivariate_normal(mu, sigma, size)\n",
    "    Rp = R[:,0]*A['proportion'] + R[:,1]*B['proportion']\n",
    "    \n",
    "    # simulated returns\n",
    "    R = np.hstack((R, Rp.reshape((-1,1))))\n",
    "    \n",
    "    # theoretical properties of portfolio returns\n",
    "    p = {\n",
    "        'mu': A['mu']*A['proportion'] + B['mu']*B['proportion'],\n",
    "        'sig': sqrt(\n",
    "            A['sig']**2*A['proportion']**2 + B['sig']**2*B['proportion']**2 \n",
    "            + 2*correlation*A['sig']*B['sig']*A['proportion']*B['proportion'])\n",
    "        }\n",
    "    \n",
    "    return p, DataFrame(R, columns=['A', 'B', 'p'])"
   ]
  },
  {
   "cell_type": "markdown",
   "metadata": {
    "slideshow": {
     "slide_type": "subslide"
    }
   },
   "source": [
    "### Empirical Returns"
   ]
  },
  {
   "cell_type": "code",
   "execution_count": 7,
   "metadata": {
    "slideshow": {
     "slide_type": "-"
    }
   },
   "outputs": [
    {
     "name": "stdout",
     "output_type": "stream",
     "text": [
      "A: mean = 0.15, std = 0.1005\n",
      "B: mean = 0.10, std = 0.0503\n",
      "p: mean = 0.13, std = 0.0297\n",
      "cor(R_A, R_B) = -0.9011\n"
     ]
    }
   ],
   "source": [
    "A = {'mu': 0.15, 'sig': 0.1,  'proportion': 0.5}\n",
    "B = {'mu': 0.1,  'sig': 0.05, 'proportion': 0.5}\n",
    "\n",
    "p, R = simulate_returns(A, B, -0.9, 10000)\n",
    "\n",
    "print('A: mean = %1.2f, std = %1.4f' % (R.A.mean(), R.A.std()))\n",
    "print('B: mean = %1.2f, std = %1.4f' % (R.B.mean(), R.B.std()))\n",
    "print('p: mean = %1.2f, std = %1.4f' % (R.p.mean(), R.p.std()))\n",
    "\n",
    "print('cor(R_A, R_B) = %1.4f' % np.corrcoef(R.A, R.B)[1,0])"
   ]
  },
  {
   "cell_type": "markdown",
   "metadata": {},
   "source": [
    "### Empirical Portfolio Returns"
   ]
  },
  {
   "cell_type": "code",
   "execution_count": 8,
   "metadata": {
    "slideshow": {
     "slide_type": "subslide"
    }
   },
   "outputs": [
    {
     "data": {
      "image/png": "[encoded data removed]",
      "text/plain": [
       "<Figure size 720x720 with 4 Axes>"
      ]
     },
     "metadata": {
      "needs_background": "light"
     },
     "output_type": "display_data"
    }
   ],
   "source": [
    "p, R = simulate_returns(A, B, -0.5, 1000)\n",
    "pd.plotting.scatter_matrix(R.loc[:,['A','B']], figsize=(10,10));"
   ]
  },
  {
   "cell_type": "markdown",
   "metadata": {
    "slideshow": {
     "slide_type": "subslide"
    }
   },
   "source": [
    "### Theoretical returns\n",
    "\n",
    "Calculate the volatility ($\\sigma^2$) and expected returns ($\\mu$):"
   ]
  },
  {
   "cell_type": "code",
   "execution_count": 9,
   "metadata": {
    "slideshow": {
     "slide_type": "-"
    }
   },
   "outputs": [
    {
     "name": "stdout",
     "output_type": "stream",
     "text": [
      "A: mean = 0.15, std = 0.1000\n",
      "B: mean = 0.10, std = 0.0500\n",
      "p: mean = 0.12, std = 0.0433\n"
     ]
    }
   ],
   "source": [
    "print('A: mean = %1.2f, std = %1.4f' % (A['mu'], A['sig']))\n",
    "print('B: mean = %1.2f, std = %1.4f' % (B['mu'], B['sig']))\n",
    "print('p: mean = %1.2f, std = %1.4f' % (p['mu'], p['sig']))"
   ]
  },
  {
   "cell_type": "markdown",
   "metadata": {
    "slideshow": {
     "slide_type": "subslide"
    }
   },
   "source": [
    "### Independent Portfolio Theoretical returns\n",
    "\n",
    "If stocks A and B were independent"
   ]
  },
  {
   "cell_type": "code",
   "execution_count": 10,
   "metadata": {
    "slideshow": {
     "slide_type": "-"
    }
   },
   "outputs": [
    {
     "name": "stdout",
     "output_type": "stream",
     "text": [
      "A: mean = 0.15, std = 0.1000\n",
      "B: mean = 0.10, std = 0.0500\n",
      "\n",
      "p: mean = 0.12, std = 0.0296 (if A and B are correlated )\n",
      "p: mean = 0.12, std = 0.0559 (if A and B are independent)\n"
     ]
    }
   ],
   "source": [
    "p, R = simulate_returns(A, B, -0.9, 10000)\n",
    "print('A: mean = %1.2f, std = %1.4f' % (A['mu'], A['sig']))\n",
    "print('B: mean = %1.2f, std = %1.4f' % (B['mu'], B['sig']))\n",
    "print('')\n",
    "print('p: mean = %1.2f, std = %1.4f (if A and B are correlated )' % (p['mu'], p['sig']))\n",
    "print('p: mean = %1.2f, std = %1.4f (if A and B are independent)' % (p['mu'], np.sqrt(0.5**2*A['sig']**2 + 0.5**2*B['sig']**2)))"
   ]
  },
  {
   "cell_type": "markdown",
   "metadata": {
    "slideshow": {
     "slide_type": "subslide"
    }
   },
   "source": [
    "#### Empirical (Data) Properties "
   ]
  },
  {
   "cell_type": "code",
   "execution_count": 11,
   "metadata": {
    "slideshow": {
     "slide_type": "-"
    }
   },
   "outputs": [
    {
     "name": "stdout",
     "output_type": "stream",
     "text": [
      "A: mean = 0.15, std = 0.1012\n",
      "B: mean = 0.10, std = 0.0507\n",
      "p: mean = 0.12, std = 0.0298\n",
      "corr(A, B) = -0.9026\n"
     ]
    }
   ],
   "source": [
    "print('A: mean = %1.2f, std = %1.4f' % (R.A.mean(), R.A.std()))\n",
    "print('B: mean = %1.2f, std = %1.4f' % (R.B.mean(), R.B.std()))\n",
    "print('p: mean = %1.2f, std = %1.4f' % (R.p.mean(), R.p.std()))\n",
    "print('corr(A, B) = %1.4f' % np.corrcoef(R.A, R.B)[0,1])"
   ]
  },
  {
   "cell_type": "markdown",
   "metadata": {
    "slideshow": {
     "slide_type": "subslide"
    }
   },
   "source": [
    "### Efficient frontier of portfolios\n",
    "\n",
    "* Consider all values of $x_A$ and $x_B$\n",
    "\n",
    "* For each combination, compute $\\mu_p$ and $\\sigma_p^2$."
   ]
  },
  {
   "cell_type": "code",
   "execution_count": 12,
   "metadata": {
    "slideshow": {
     "slide_type": "skip"
    }
   },
   "outputs": [],
   "source": [
    "xa = np.linspace(-1, 2, num=101)\n",
    "pf = pd.DataFrame({'xa':xa, 'xb':1-xa})\n",
    "\n",
    "# pf, R = simulate_returns(A, B, -0.5, 10000)\n",
    "\n",
    "corr = -0.5\n",
    "pf['mu'] = A['mu'] * pf.xa + B['mu'] * pf.xb\n",
    "pf['sig2'] = ((A['sig']**2 * pf.xa**2) + (B['sig']**2 * pf.xb**2) + (2 * corr * A['sig'] * B['sig'] * pf.xa * pf.xb))"
   ]
  },
  {
   "cell_type": "code",
   "execution_count": 13,
   "metadata": {
    "hideCode": true,
    "slideshow": {
     "slide_type": "-"
    }
   },
   "outputs": [
    {
     "data": {
      "image/png": "[encoded data removed]",
      "text/plain": [
       "<Figure size 936x576 with 1 Axes>"
      ]
     },
     "metadata": {
      "needs_background": "light"
     },
     "output_type": "display_data"
    }
   ],
   "source": [
    "%matplotlib inline\n",
    "import matplotlib.pyplot as plt\n",
    "fig, ax = plt.subplots(figsize=(13, 8))\n",
    "plt.plot(pf.sig2, pf.mu, color='b')\n",
    "plt.plot(pf.sig2[pf.xa<0], pf.mu[pf.xa<0], color='r') # sell stock A to fund purchase of stock B\n",
    "plt.plot(pf.sig2[pf.xb<0], pf.mu[pf.xb<0], color='g') # sell stock B to fund purchase of stock A\n",
    "plt.scatter([A['sig']**2, B['sig']**2], [A['mu'], B['mu']])\n",
    "ax.set_xlabel('Portfolio volatility')\n",
    "ax.set_ylabel('Portfolio return')\n",
    "plt.show(p)"
   ]
  },
  {
   "cell_type": "markdown",
   "metadata": {
    "slideshow": {
     "slide_type": "subslide"
    }
   },
   "source": [
    "* Line is called efficient frontier\n",
    "* Represents the lower boundary of achievable volatility\n",
    "* Return and volatility of $A$ and $B$"
   ]
  },
  {
   "cell_type": "markdown",
   "metadata": {},
   "source": [
    "#### Long and short positions\n",
    "\n",
    "* Note that `xa` can be negative\n",
    "* Positive $x_A$ : _long position_ for stock A and indicates a purchase\n",
    "* Negative $x_A$ : _short position_ stock A and indicates a sale\n",
    "* _You are selling stocks that you do not own with the expectation that the price of the stock will fall_\n",
    "* Shorting allows for higher long positions on other stocks."
   ]
  },
  {
   "cell_type": "markdown",
   "metadata": {
    "slideshow": {
     "slide_type": "subslide"
    }
   },
   "source": [
    "#### Minimum variance portfolio (MVP)\n",
    "\n",
    "What is the point at the tip of the parabola? This point indicates what is called the minimum variance portfolio that, regardless of the return, has the minimum volatility. Minimum variance portfolio (MVP) has the minimum volatility of any portfolio achievable.\n",
    "\n",
    "It can be shown that minimum variance portfolio would have the following allocation $x_A$:\n",
    "\n",
    "$$x_A = \\frac{\\sigma_B^2-\\sigma_\\text{AB}^2}{\\sigma_A^2 + \\sigma_B^2 – \\sigma_\\text{AB}^2}$$"
   ]
  },
  {
   "cell_type": "markdown",
   "metadata": {
    "slideshow": {
     "slide_type": "slide"
    }
   },
   "source": [
    "The mathematical problem to solve for the minimum variance portfolio can be stated as follows:\n",
    "$$ \\min_{x_A,x_B}\\ \\ \\sigma_p^2 = \\sigma_A^2 x_A^2 + \\sigma_B^2 x_B^2 + \\sigma_{AB} x_A x_B\\\\\n",
    "\\text{such that }x_A + x_B = 1$$\n",
    "Here, $\\sigma_p^2 = \\sigma_A^2 x_A^2 + \\sigma_B^2 x_B^2 + \\sigma_{AB} x_A x_B$ is called the objective function, and $x_A + x_B = 1$ is called the constraint.\n",
    "\n",
    "The constraint has to be satisfied exactly, and objective wants to be minimized with the freedom of changing the values of $x_A$ and $x_B$."
   ]
  },
  {
   "cell_type": "markdown",
   "metadata": {
    "slideshow": {
     "slide_type": "subslide"
    }
   },
   "source": [
    "### Using `cvxpy` for numerical optimization\n",
    "\n",
    "Calculating analytical solutions is not always possible. There are ways to compute solutions numerically. Although out of scope of our class, a large field in applied math called optimization. The tools from this area allow us to compute solutions for problems such as the one we have here. (For more information, visit the "
   ]
  },
  {
   "cell_type": "markdown",
   "metadata": {
    "slideshow": {
     "slide_type": "subslide"
    }
   },
   "source": [
    "### Higher dimensional portfolios\n",
    "\n",
    "In higher dimensions, the portfolio equantion is written in terms of vectors and matrices. For example, suppose we construct a portfolio consisting of $s$-assets. The portfolio allocation can be written as,\n",
    "$$\\mathbf{1}^\\intercal x = 1,$$\n",
    "where $x$ is an $s$-vector whose sum adds up to 1: i.e., $x_1 + x_2 + \\cdots + x_s = 1$.\n",
    "\n",
    "The portfolio volatility in matrix-vector form looks like:\n",
    "$$\n",
    "\\begin{pmatrix}x_1 & x_2 & \\cdots & x_s\\end{pmatrix}\n",
    "\\begin{pmatrix}\n",
    "\\sigma_1^2 & \\sigma_{12} & \\cdots & \\sigma_{1s}\\\\\n",
    "\\sigma_{21} & \\sigma_2^2 & \\cdots & \\sigma_{2s}\\\\\n",
    "\\vdots & \\vdots & & \\vdots \\\\\n",
    "\\sigma_{s1} & \\sigma_{s2} & \\cdots & \\sigma_s^2\\\\\n",
    "\\end{pmatrix}\n",
    "\\begin{pmatrix}x_1 \\\\ x_2 \\\\ \\vdots \\\\ x_s\\end{pmatrix}.\n",
    "$$\n",
    "To verify the two stock example result, we check $\\sigma_p^2$:\n",
    "$$\n",
    "\\sigma_p^2 = \\begin{pmatrix}x_1 & x_2\\end{pmatrix}\n",
    "\\begin{pmatrix}\n",
    "\\sigma_1^2 & \\sigma_{12}\\\\\n",
    "\\sigma_{21} & \\sigma_2^2\\\\\n",
    "\\end{pmatrix}\n",
    "\\begin{pmatrix}x_1 \\\\ x_2\\end{pmatrix} = \n",
    "\\begin{pmatrix}x_1 & x_2\\end{pmatrix}\n",
    "\\begin{pmatrix}\n",
    "\\sigma_1^2 x_1 + \\sigma_{12} x_2\\\\\n",
    "\\sigma_{21} x_1 + \\sigma_2^2 x_2\\\\\n",
    "\\end{pmatrix} = \n",
    "\\sigma_1^2 x_1^2 + \\sigma_2^2 x_2^2 + \\sigma_{12} x_1 x_2,\n",
    "$$\n",
    "which matches the result from before.\n",
    "\n",
    "With this notation, we can re-write the problem.\n",
    "\n",
    "$$ \\min_{x\\in\\mathbb{R}^s}\\ \\ x^\\intercal \\Sigma x\\\\\n",
    "\\text{subject to }\\mathbf{1}^\\intercal x = 1,$$\n",
    "\n",
    "It can be shown that the optimal solution to this problem is,\n",
    "$$\n",
    "x^* = (\\mathbf{1}^\\intercal\\Sigma^{-1}\\mathbf{1})^{-1}\\Sigma^{-1}\\mathbf{1}\n",
    "$$."
   ]
  },
  {
   "cell_type": "markdown",
   "metadata": {
    "slideshow": {
     "slide_type": "subslide"
    }
   },
   "source": [
    "There are many variations of this problem. In fact the minimum variance portfolio is special case of a more general problem\n",
    "\n",
    "$$ \\min_{x\\in\\mathbb{R}^s}\\ \\ x^\\intercal \\Sigma x\\\\\n",
    "\\text{subject to }\\mu^\\intercal x\\geq \\mu^* \\text{, and } \\mathbf{1}^\\intercal x = 1,$$\n",
    "\n",
    "Note that in all of the above problems, the measure of $\\mu^*$, expected returns, and covariance matrix have to be provided. In practice, these quantities are estimated from data."
   ]
  },
  {
   "cell_type": "markdown",
   "metadata": {
    "slideshow": {
     "slide_type": "slide"
    }
   },
   "source": [
    "## Portfolio Allocation: Dow Jones component stocks\n",
    "\n",
    "Stock data can have irregularities such as missing data due stocks being added and removed from the index. Some examples are\n",
    "* Alcoa Corp. (AA) was removed in 2013\n",
    "* Apple (AAPL) was added in 2015\n",
    "* E.I. du Pont de Nemours & Company (DD) was removed and replaced with Dow du Pont (DWDP) as a continuation in 2017\n",
    "\n",
    "For simplicity the stocks we will use are based on the most recent DJIA constituent companies "
   ]
  },
  {
   "cell_type": "code",
   "execution_count": 14,
   "metadata": {
    "slideshow": {
     "slide_type": "subslide"
    }
   },
   "outputs": [
    {
     "name": "stdout",
     "output_type": "stream",
     "text": [
      "[*********************100%***********************]  28 of 28 completed\n"
     ]
    },
    {
     "data": {
      "text/html": [
       "<div>\n",
       "<style scoped>\n",
       "    .dataframe tbody tr th:only-of-type {\n",
       "        vertical-align: middle;\n",
       "    }\n",
       "\n",
       "    .dataframe tbody tr th {\n",
       "        vertical-align: top;\n",
       "    }\n",
       "\n",
       "    .dataframe thead tr th {\n",
       "        text-align: left;\n",
       "    }\n",
       "\n",
       "    .dataframe thead tr:last-of-type th {\n",
       "        text-align: right;\n",
       "    }\n",
       "</style>\n",
       "<table border=\"1\" class=\"dataframe\">\n",
       "  <thead>\n",
       "    <tr>\n",
       "      <th></th>\n",
       "      <th colspan=\"10\" halign=\"left\">Adj Close</th>\n",
       "      <th>...</th>\n",
       "      <th colspan=\"10\" halign=\"left\">Volume</th>\n",
       "    </tr>\n",
       "    <tr>\n",
       "      <th></th>\n",
       "      <th>AAPL</th>\n",
       "      <th>AXP</th>\n",
       "      <th>BA</th>\n",
       "      <th>BAC</th>\n",
       "      <th>CAT</th>\n",
       "      <th>CSCO</th>\n",
       "      <th>CVX</th>\n",
       "      <th>DD</th>\n",
       "      <th>DIS</th>\n",
       "      <th>GE</th>\n",
       "      <th>...</th>\n",
       "      <th>MMM</th>\n",
       "      <th>MRK</th>\n",
       "      <th>MSFT</th>\n",
       "      <th>PFE</th>\n",
       "      <th>PG</th>\n",
       "      <th>T</th>\n",
       "      <th>TRV</th>\n",
       "      <th>VZ</th>\n",
       "      <th>WMT</th>\n",
       "      <th>XOM</th>\n",
       "    </tr>\n",
       "    <tr>\n",
       "      <th>Date</th>\n",
       "      <th></th>\n",
       "      <th></th>\n",
       "      <th></th>\n",
       "      <th></th>\n",
       "      <th></th>\n",
       "      <th></th>\n",
       "      <th></th>\n",
       "      <th></th>\n",
       "      <th></th>\n",
       "      <th></th>\n",
       "      <th></th>\n",
       "      <th></th>\n",
       "      <th></th>\n",
       "      <th></th>\n",
       "      <th></th>\n",
       "      <th></th>\n",
       "      <th></th>\n",
       "      <th></th>\n",
       "      <th></th>\n",
       "      <th></th>\n",
       "      <th></th>\n",
       "    </tr>\n",
       "  </thead>\n",
       "  <tbody>\n",
       "    <tr>\n",
       "      <th>2000-01-03</th>\n",
       "      <td>0.850643</td>\n",
       "      <td>33.436104</td>\n",
       "      <td>25.940285</td>\n",
       "      <td>13.356878</td>\n",
       "      <td>13.171323</td>\n",
       "      <td>38.065071</td>\n",
       "      <td>17.849821</td>\n",
       "      <td>29.800083</td>\n",
       "      <td>23.115253</td>\n",
       "      <td>164.768661</td>\n",
       "      <td>...</td>\n",
       "      <td>2173400</td>\n",
       "      <td>6265782</td>\n",
       "      <td>53228400</td>\n",
       "      <td>12873345</td>\n",
       "      <td>4275000</td>\n",
       "      <td>7668476</td>\n",
       "      <td>336400</td>\n",
       "      <td>4663843</td>\n",
       "      <td>8369900</td>\n",
       "      <td>13458200</td>\n",
       "    </tr>\n",
       "    <tr>\n",
       "      <th>2000-01-04</th>\n",
       "      <td>0.778926</td>\n",
       "      <td>32.173595</td>\n",
       "      <td>25.899946</td>\n",
       "      <td>12.564081</td>\n",
       "      <td>13.002030</td>\n",
       "      <td>35.929550</td>\n",
       "      <td>17.849821</td>\n",
       "      <td>28.985552</td>\n",
       "      <td>24.469284</td>\n",
       "      <td>158.177887</td>\n",
       "      <td>...</td>\n",
       "      <td>2713800</td>\n",
       "      <td>7894689</td>\n",
       "      <td>54119000</td>\n",
       "      <td>14208974</td>\n",
       "      <td>4270800</td>\n",
       "      <td>9497846</td>\n",
       "      <td>494400</td>\n",
       "      <td>5005878</td>\n",
       "      <td>6745100</td>\n",
       "      <td>14510800</td>\n",
       "    </tr>\n",
       "    <tr>\n",
       "      <th>2000-01-05</th>\n",
       "      <td>0.790324</td>\n",
       "      <td>31.356422</td>\n",
       "      <td>27.513651</td>\n",
       "      <td>12.701962</td>\n",
       "      <td>13.306756</td>\n",
       "      <td>35.819477</td>\n",
       "      <td>18.169998</td>\n",
       "      <td>29.926455</td>\n",
       "      <td>25.484812</td>\n",
       "      <td>157.903275</td>\n",
       "      <td>...</td>\n",
       "      <td>3699400</td>\n",
       "      <td>7963018</td>\n",
       "      <td>64059600</td>\n",
       "      <td>12981591</td>\n",
       "      <td>5098400</td>\n",
       "      <td>12035160</td>\n",
       "      <td>736000</td>\n",
       "      <td>6368681</td>\n",
       "      <td>7018700</td>\n",
       "      <td>17485000</td>\n",
       "    </tr>\n",
       "    <tr>\n",
       "      <th>2000-01-06</th>\n",
       "      <td>0.721931</td>\n",
       "      <td>31.995262</td>\n",
       "      <td>27.796032</td>\n",
       "      <td>13.787753</td>\n",
       "      <td>13.983953</td>\n",
       "      <td>35.225052</td>\n",
       "      <td>18.943766</td>\n",
       "      <td>30.769075</td>\n",
       "      <td>24.469284</td>\n",
       "      <td>160.014435</td>\n",
       "      <td>...</td>\n",
       "      <td>5975800</td>\n",
       "      <td>4989004</td>\n",
       "      <td>54976600</td>\n",
       "      <td>11115273</td>\n",
       "      <td>6524200</td>\n",
       "      <td>9471366</td>\n",
       "      <td>660400</td>\n",
       "      <td>4705763</td>\n",
       "      <td>6544500</td>\n",
       "      <td>19461600</td>\n",
       "    </tr>\n",
       "    <tr>\n",
       "      <th>2000-01-07</th>\n",
       "      <td>0.756128</td>\n",
       "      <td>32.461098</td>\n",
       "      <td>28.602896</td>\n",
       "      <td>13.425812</td>\n",
       "      <td>14.441051</td>\n",
       "      <td>37.294529</td>\n",
       "      <td>19.277287</td>\n",
       "      <td>31.457182</td>\n",
       "      <td>24.082420</td>\n",
       "      <td>166.210388</td>\n",
       "      <td>...</td>\n",
       "      <td>4101200</td>\n",
       "      <td>10871218</td>\n",
       "      <td>62013600</td>\n",
       "      <td>17962163</td>\n",
       "      <td>9832000</td>\n",
       "      <td>7792534</td>\n",
       "      <td>594700</td>\n",
       "      <td>5043907</td>\n",
       "      <td>7976900</td>\n",
       "      <td>16603800</td>\n",
       "    </tr>\n",
       "  </tbody>\n",
       "</table>\n",
       "<p>5 rows × 168 columns</p>\n",
       "</div>"
      ],
      "text/plain": [
       "           Adj Close                                                         \\\n",
       "                AAPL        AXP         BA        BAC        CAT       CSCO   \n",
       "Date                                                                          \n",
       "2000-01-03  0.850643  33.436104  25.940285  13.356878  13.171323  38.065071   \n",
       "2000-01-04  0.778926  32.173595  25.899946  12.564081  13.002030  35.929550   \n",
       "2000-01-05  0.790324  31.356422  27.513651  12.701962  13.306756  35.819477   \n",
       "2000-01-06  0.721931  31.995262  27.796032  13.787753  13.983953  35.225052   \n",
       "2000-01-07  0.756128  32.461098  28.602896  13.425812  14.441051  37.294529   \n",
       "\n",
       "                                                         ...   Volume  \\\n",
       "                  CVX         DD        DIS          GE  ...      MMM   \n",
       "Date                                                     ...            \n",
       "2000-01-03  17.849821  29.800083  23.115253  164.768661  ...  2173400   \n",
       "2000-01-04  17.849821  28.985552  24.469284  158.177887  ...  2713800   \n",
       "2000-01-05  18.169998  29.926455  25.484812  157.903275  ...  3699400   \n",
       "2000-01-06  18.943766  30.769075  24.469284  160.014435  ...  5975800   \n",
       "2000-01-07  19.277287  31.457182  24.082420  166.210388  ...  4101200   \n",
       "\n",
       "                                                                              \\\n",
       "                 MRK      MSFT       PFE       PG         T     TRV       VZ   \n",
       "Date                                                                           \n",
       "2000-01-03   6265782  53228400  12873345  4275000   7668476  336400  4663843   \n",
       "2000-01-04   7894689  54119000  14208974  4270800   9497846  494400  5005878   \n",
       "2000-01-05   7963018  64059600  12981591  5098400  12035160  736000  6368681   \n",
       "2000-01-06   4989004  54976600  11115273  6524200   9471366  660400  4705763   \n",
       "2000-01-07  10871218  62013600  17962163  9832000   7792534  594700  5043907   \n",
       "\n",
       "                               \n",
       "                WMT       XOM  \n",
       "Date                           \n",
       "2000-01-03  8369900  13458200  \n",
       "2000-01-04  6745100  14510800  \n",
       "2000-01-05  7018700  17485000  \n",
       "2000-01-06  6544500  19461600  \n",
       "2000-01-07  7976900  16603800  \n",
       "\n",
       "[5 rows x 168 columns]"
      ]
     },
     "execution_count": 14,
     "metadata": {},
     "output_type": "execute_result"
    }
   ],
   "source": [
    "dowjones_components = [\n",
    "    'AAPL','AXP','BA','BAC','CAT',\n",
    "    'CSCO','CVX','DD','DIS','GE',\n",
    "    'HD','HPQ','IBM','INTC','JNJ',\n",
    "    'JPM','KO','MCD','MMM',\n",
    "    'MRK','MSFT','PFE','PG','T',\n",
    "    'TRV','VZ','WMT','XOM'\n",
    "]\n",
    "\n",
    "symbols = pd.read_csv('data/tickers.csv').set_index('code')\n",
    "\n",
    "import yfinance as yf\n",
    "rawdata = yf.download(dowjones_components, start=\"2000-01-01\", end=\"2022-10-31\")\n",
    "rawdata.head()"
   ]
  },
  {
   "cell_type": "code",
   "execution_count": 15,
   "metadata": {},
   "outputs": [
    {
     "data": {
      "text/html": [
       "<div>\n",
       "<style scoped>\n",
       "    .dataframe tbody tr th:only-of-type {\n",
       "        vertical-align: middle;\n",
       "    }\n",
       "\n",
       "    .dataframe tbody tr th {\n",
       "        vertical-align: top;\n",
       "    }\n",
       "\n",
       "    .dataframe thead tr th {\n",
       "        text-align: left;\n",
       "    }\n",
       "\n",
       "    .dataframe thead tr:last-of-type th {\n",
       "        text-align: right;\n",
       "    }\n",
       "</style>\n",
       "<table border=\"1\" class=\"dataframe\">\n",
       "  <thead>\n",
       "    <tr>\n",
       "      <th></th>\n",
       "      <th colspan=\"10\" halign=\"left\">Adj Close</th>\n",
       "      <th>...</th>\n",
       "      <th colspan=\"10\" halign=\"left\">Volume</th>\n",
       "    </tr>\n",
       "    <tr>\n",
       "      <th></th>\n",
       "      <th>AAPL</th>\n",
       "      <th>AXP</th>\n",
       "      <th>BA</th>\n",
       "      <th>BAC</th>\n",
       "      <th>CAT</th>\n",
       "      <th>CSCO</th>\n",
       "      <th>CVX</th>\n",
       "      <th>DD</th>\n",
       "      <th>DIS</th>\n",
       "      <th>GE</th>\n",
       "      <th>...</th>\n",
       "      <th>MMM</th>\n",
       "      <th>MRK</th>\n",
       "      <th>MSFT</th>\n",
       "      <th>PFE</th>\n",
       "      <th>PG</th>\n",
       "      <th>T</th>\n",
       "      <th>TRV</th>\n",
       "      <th>VZ</th>\n",
       "      <th>WMT</th>\n",
       "      <th>XOM</th>\n",
       "    </tr>\n",
       "    <tr>\n",
       "      <th>Date</th>\n",
       "      <th></th>\n",
       "      <th></th>\n",
       "      <th></th>\n",
       "      <th></th>\n",
       "      <th></th>\n",
       "      <th></th>\n",
       "      <th></th>\n",
       "      <th></th>\n",
       "      <th></th>\n",
       "      <th></th>\n",
       "      <th></th>\n",
       "      <th></th>\n",
       "      <th></th>\n",
       "      <th></th>\n",
       "      <th></th>\n",
       "      <th></th>\n",
       "      <th></th>\n",
       "      <th></th>\n",
       "      <th></th>\n",
       "      <th></th>\n",
       "      <th></th>\n",
       "    </tr>\n",
       "  </thead>\n",
       "  <tbody>\n",
       "    <tr>\n",
       "      <th>2022-10-24</th>\n",
       "      <td>148.975021</td>\n",
       "      <td>141.140793</td>\n",
       "      <td>142.050003</td>\n",
       "      <td>34.641479</td>\n",
       "      <td>190.392014</td>\n",
       "      <td>43.194878</td>\n",
       "      <td>170.295593</td>\n",
       "      <td>55.468273</td>\n",
       "      <td>101.720001</td>\n",
       "      <td>57.159496</td>\n",
       "      <td>...</td>\n",
       "      <td>3394100</td>\n",
       "      <td>11414900</td>\n",
       "      <td>24911200</td>\n",
       "      <td>24972000</td>\n",
       "      <td>6946000</td>\n",
       "      <td>69196500</td>\n",
       "      <td>1649700</td>\n",
       "      <td>28844800</td>\n",
       "      <td>6268900</td>\n",
       "      <td>17024200</td>\n",
       "    </tr>\n",
       "    <tr>\n",
       "      <th>2022-10-25</th>\n",
       "      <td>151.855850</td>\n",
       "      <td>146.512161</td>\n",
       "      <td>146.649994</td>\n",
       "      <td>34.957569</td>\n",
       "      <td>193.915207</td>\n",
       "      <td>44.008377</td>\n",
       "      <td>172.066116</td>\n",
       "      <td>56.409088</td>\n",
       "      <td>104.360001</td>\n",
       "      <td>56.878998</td>\n",
       "      <td>...</td>\n",
       "      <td>5014700</td>\n",
       "      <td>8747900</td>\n",
       "      <td>34775500</td>\n",
       "      <td>23127000</td>\n",
       "      <td>6776000</td>\n",
       "      <td>58235100</td>\n",
       "      <td>2059800</td>\n",
       "      <td>25496500</td>\n",
       "      <td>5017100</td>\n",
       "      <td>15719800</td>\n",
       "    </tr>\n",
       "    <tr>\n",
       "      <th>2022-10-26</th>\n",
       "      <td>148.875351</td>\n",
       "      <td>146.372650</td>\n",
       "      <td>133.789993</td>\n",
       "      <td>35.263783</td>\n",
       "      <td>196.025146</td>\n",
       "      <td>44.028221</td>\n",
       "      <td>174.190750</td>\n",
       "      <td>56.537830</td>\n",
       "      <td>104.629997</td>\n",
       "      <td>58.795738</td>\n",
       "      <td>...</td>\n",
       "      <td>4628000</td>\n",
       "      <td>10374700</td>\n",
       "      <td>82543200</td>\n",
       "      <td>21407900</td>\n",
       "      <td>6612800</td>\n",
       "      <td>65157700</td>\n",
       "      <td>1926000</td>\n",
       "      <td>20328200</td>\n",
       "      <td>6918100</td>\n",
       "      <td>17383800</td>\n",
       "    </tr>\n",
       "    <tr>\n",
       "      <th>2022-10-27</th>\n",
       "      <td>144.339813</td>\n",
       "      <td>146.462341</td>\n",
       "      <td>139.759995</td>\n",
       "      <td>35.431702</td>\n",
       "      <td>211.133087</td>\n",
       "      <td>44.067898</td>\n",
       "      <td>174.987488</td>\n",
       "      <td>56.220928</td>\n",
       "      <td>104.440002</td>\n",
       "      <td>59.216488</td>\n",
       "      <td>...</td>\n",
       "      <td>3716500</td>\n",
       "      <td>12218400</td>\n",
       "      <td>40424600</td>\n",
       "      <td>20377700</td>\n",
       "      <td>6676700</td>\n",
       "      <td>53975500</td>\n",
       "      <td>1143500</td>\n",
       "      <td>20268000</td>\n",
       "      <td>5534300</td>\n",
       "      <td>18214000</td>\n",
       "    </tr>\n",
       "    <tr>\n",
       "      <th>2022-10-28</th>\n",
       "      <td>155.245056</td>\n",
       "      <td>149.920349</td>\n",
       "      <td>143.839996</td>\n",
       "      <td>35.737919</td>\n",
       "      <td>218.298920</td>\n",
       "      <td>45.278229</td>\n",
       "      <td>177.033447</td>\n",
       "      <td>57.003284</td>\n",
       "      <td>105.949997</td>\n",
       "      <td>61.031944</td>\n",
       "      <td>...</td>\n",
       "      <td>3812600</td>\n",
       "      <td>11228000</td>\n",
       "      <td>40647700</td>\n",
       "      <td>27854000</td>\n",
       "      <td>6996400</td>\n",
       "      <td>55833900</td>\n",
       "      <td>1750700</td>\n",
       "      <td>31824300</td>\n",
       "      <td>4549400</td>\n",
       "      <td>28169400</td>\n",
       "    </tr>\n",
       "  </tbody>\n",
       "</table>\n",
       "<p>5 rows × 168 columns</p>\n",
       "</div>"
      ],
      "text/plain": [
       "             Adj Close                                                 \\\n",
       "                  AAPL         AXP          BA        BAC         CAT   \n",
       "Date                                                                    \n",
       "2022-10-24  148.975021  141.140793  142.050003  34.641479  190.392014   \n",
       "2022-10-25  151.855850  146.512161  146.649994  34.957569  193.915207   \n",
       "2022-10-26  148.875351  146.372650  133.789993  35.263783  196.025146   \n",
       "2022-10-27  144.339813  146.462341  139.759995  35.431702  211.133087   \n",
       "2022-10-28  155.245056  149.920349  143.839996  35.737919  218.298920   \n",
       "\n",
       "                                                                     ...  \\\n",
       "                 CSCO         CVX         DD         DIS         GE  ...   \n",
       "Date                                                                 ...   \n",
       "2022-10-24  43.194878  170.295593  55.468273  101.720001  57.159496  ...   \n",
       "2022-10-25  44.008377  172.066116  56.409088  104.360001  56.878998  ...   \n",
       "2022-10-26  44.028221  174.190750  56.537830  104.629997  58.795738  ...   \n",
       "2022-10-27  44.067898  174.987488  56.220928  104.440002  59.216488  ...   \n",
       "2022-10-28  45.278229  177.033447  57.003284  105.949997  61.031944  ...   \n",
       "\n",
       "             Volume                                                            \\\n",
       "                MMM       MRK      MSFT       PFE       PG         T      TRV   \n",
       "Date                                                                            \n",
       "2022-10-24  3394100  11414900  24911200  24972000  6946000  69196500  1649700   \n",
       "2022-10-25  5014700   8747900  34775500  23127000  6776000  58235100  2059800   \n",
       "2022-10-26  4628000  10374700  82543200  21407900  6612800  65157700  1926000   \n",
       "2022-10-27  3716500  12218400  40424600  20377700  6676700  53975500  1143500   \n",
       "2022-10-28  3812600  11228000  40647700  27854000  6996400  55833900  1750700   \n",
       "\n",
       "                                         \n",
       "                  VZ      WMT       XOM  \n",
       "Date                                     \n",
       "2022-10-24  28844800  6268900  17024200  \n",
       "2022-10-25  25496500  5017100  15719800  \n",
       "2022-10-26  20328200  6918100  17383800  \n",
       "2022-10-27  20268000  5534300  18214000  \n",
       "2022-10-28  31824300  4549400  28169400  \n",
       "\n",
       "[5 rows x 168 columns]"
      ]
     },
     "execution_count": 15,
     "metadata": {},
     "output_type": "execute_result"
    }
   ],
   "source": [
    "rawdata.tail()"
   ]
  },
  {
   "cell_type": "code",
   "execution_count": 16,
   "metadata": {
    "slideshow": {
     "slide_type": "subslide"
    }
   },
   "outputs": [
    {
     "data": {
      "text/html": [
       "<div>\n",
       "<style scoped>\n",
       "    .dataframe tbody tr th:only-of-type {\n",
       "        vertical-align: middle;\n",
       "    }\n",
       "\n",
       "    .dataframe tbody tr th {\n",
       "        vertical-align: top;\n",
       "    }\n",
       "\n",
       "    .dataframe thead th {\n",
       "        text-align: right;\n",
       "    }\n",
       "</style>\n",
       "<table border=\"1\" class=\"dataframe\">\n",
       "  <thead>\n",
       "    <tr style=\"text-align: right;\">\n",
       "      <th></th>\n",
       "      <th>name</th>\n",
       "    </tr>\n",
       "    <tr>\n",
       "      <th>code</th>\n",
       "      <th></th>\n",
       "    </tr>\n",
       "  </thead>\n",
       "  <tbody>\n",
       "    <tr>\n",
       "      <th>AAPL</th>\n",
       "      <td>Apple Inc (AAPL)</td>\n",
       "    </tr>\n",
       "    <tr>\n",
       "      <th>AXP</th>\n",
       "      <td>American Express Co. (AXP)</td>\n",
       "    </tr>\n",
       "    <tr>\n",
       "      <th>BA</th>\n",
       "      <td>The Boeing Co. (BA)</td>\n",
       "    </tr>\n",
       "    <tr>\n",
       "      <th>BAC</th>\n",
       "      <td>Bank of America Corp. (BAC)</td>\n",
       "    </tr>\n",
       "    <tr>\n",
       "      <th>CAT</th>\n",
       "      <td>Caterpillar Inc. (CAT)</td>\n",
       "    </tr>\n",
       "    <tr>\n",
       "      <th>CSCO</th>\n",
       "      <td>Cisco Systems Inc. (CSCO)</td>\n",
       "    </tr>\n",
       "    <tr>\n",
       "      <th>CVX</th>\n",
       "      <td>Chevron Corporation (CVX)</td>\n",
       "    </tr>\n",
       "    <tr>\n",
       "      <th>DD</th>\n",
       "      <td>E.I. du Pont de Nemours and Co. (DD)</td>\n",
       "    </tr>\n",
       "    <tr>\n",
       "      <th>DIS</th>\n",
       "      <td>Disney (Walt) Co. (The) (DIS)</td>\n",
       "    </tr>\n",
       "    <tr>\n",
       "      <th>GE</th>\n",
       "      <td>General Electric Co (GE)</td>\n",
       "    </tr>\n",
       "    <tr>\n",
       "      <th>HD</th>\n",
       "      <td>Home Depot Inc (HD)</td>\n",
       "    </tr>\n",
       "    <tr>\n",
       "      <th>HPQ</th>\n",
       "      <td>Hewlett-Packard Co (HPQ)</td>\n",
       "    </tr>\n",
       "    <tr>\n",
       "      <th>IBM</th>\n",
       "      <td>International Business Machines Corp (IBM)</td>\n",
       "    </tr>\n",
       "    <tr>\n",
       "      <th>INTC</th>\n",
       "      <td>Intel Corp (INTC)</td>\n",
       "    </tr>\n",
       "    <tr>\n",
       "      <th>JNJ</th>\n",
       "      <td>Johnson &amp; Johnson (JNJ)</td>\n",
       "    </tr>\n",
       "    <tr>\n",
       "      <th>JPM</th>\n",
       "      <td>JP Morgan Chase (JPM)</td>\n",
       "    </tr>\n",
       "    <tr>\n",
       "      <th>KO</th>\n",
       "      <td>Coca-Cola Co (The) (KO)</td>\n",
       "    </tr>\n",
       "    <tr>\n",
       "      <th>MCD</th>\n",
       "      <td>McDonald's Corp (MCD)</td>\n",
       "    </tr>\n",
       "    <tr>\n",
       "      <th>MMM</th>\n",
       "      <td>3M Co (MMM)</td>\n",
       "    </tr>\n",
       "    <tr>\n",
       "      <th>MRK</th>\n",
       "      <td>Merck &amp; Co. Inc (MRK)</td>\n",
       "    </tr>\n",
       "    <tr>\n",
       "      <th>MSFT</th>\n",
       "      <td>Microsoft Corporation (MSFT)</td>\n",
       "    </tr>\n",
       "    <tr>\n",
       "      <th>PFE</th>\n",
       "      <td>Pfizer Inc (PFE)</td>\n",
       "    </tr>\n",
       "    <tr>\n",
       "      <th>PG</th>\n",
       "      <td>Procter &amp; Gamble Co. (PG)</td>\n",
       "    </tr>\n",
       "    <tr>\n",
       "      <th>T</th>\n",
       "      <td>AT&amp;T Inc (T)</td>\n",
       "    </tr>\n",
       "    <tr>\n",
       "      <th>TRV</th>\n",
       "      <td>Travelers Companies Inc (The) (TRV)</td>\n",
       "    </tr>\n",
       "    <tr>\n",
       "      <th>UTX</th>\n",
       "      <td>United Technologies Corp. (UTX)</td>\n",
       "    </tr>\n",
       "    <tr>\n",
       "      <th>VZ</th>\n",
       "      <td>Verizon Communications Inc (VZ)</td>\n",
       "    </tr>\n",
       "    <tr>\n",
       "      <th>WMT</th>\n",
       "      <td>Wal-Mart Stores (WMT)</td>\n",
       "    </tr>\n",
       "    <tr>\n",
       "      <th>XOM</th>\n",
       "      <td>Exxon Mobil Corp. (XOM)</td>\n",
       "    </tr>\n",
       "  </tbody>\n",
       "</table>\n",
       "</div>"
      ],
      "text/plain": [
       "                                            name\n",
       "code                                            \n",
       "AAPL                            Apple Inc (AAPL)\n",
       "AXP                   American Express Co. (AXP)\n",
       "BA                           The Boeing Co. (BA)\n",
       "BAC                  Bank of America Corp. (BAC)\n",
       "CAT                       Caterpillar Inc. (CAT)\n",
       "CSCO                   Cisco Systems Inc. (CSCO)\n",
       "CVX                    Chevron Corporation (CVX)\n",
       "DD          E.I. du Pont de Nemours and Co. (DD)\n",
       "DIS                Disney (Walt) Co. (The) (DIS)\n",
       "GE                      General Electric Co (GE)\n",
       "HD                           Home Depot Inc (HD)\n",
       "HPQ                     Hewlett-Packard Co (HPQ)\n",
       "IBM   International Business Machines Corp (IBM)\n",
       "INTC                           Intel Corp (INTC)\n",
       "JNJ                      Johnson & Johnson (JNJ)\n",
       "JPM                        JP Morgan Chase (JPM)\n",
       "KO                       Coca-Cola Co (The) (KO)\n",
       "MCD                        McDonald's Corp (MCD)\n",
       "MMM                                  3M Co (MMM)\n",
       "MRK                        Merck & Co. Inc (MRK)\n",
       "MSFT                Microsoft Corporation (MSFT)\n",
       "PFE                             Pfizer Inc (PFE)\n",
       "PG                     Procter & Gamble Co. (PG)\n",
       "T                                   AT&T Inc (T)\n",
       "TRV          Travelers Companies Inc (The) (TRV)\n",
       "UTX              United Technologies Corp. (UTX)\n",
       "VZ               Verizon Communications Inc (VZ)\n",
       "WMT                        Wal-Mart Stores (WMT)\n",
       "XOM                      Exxon Mobil Corp. (XOM)"
      ]
     },
     "execution_count": 16,
     "metadata": {},
     "output_type": "execute_result"
    }
   ],
   "source": [
    "symbols # full company names"
   ]
  },
  {
   "cell_type": "markdown",
   "metadata": {
    "slideshow": {
     "slide_type": "subslide"
    }
   },
   "source": [
    "## Data Format\n",
    "\n",
    "### Hierarchical Indexing\n",
    "\n",
    "* Column indexing is hierarchical\n",
    "* Adjusted close, close, high, low, open, and volume are given for each stock symbol"
   ]
  },
  {
   "cell_type": "code",
   "execution_count": 17,
   "metadata": {
    "slideshow": {
     "slide_type": "-"
    }
   },
   "outputs": [
    {
     "data": {
      "text/plain": [
       "FrozenList([['Adj Close', 'Close', 'High', 'Low', 'Open', 'Volume'], ['AAPL', 'AXP', 'BA', 'BAC', 'CAT', 'CSCO', 'CVX', 'DD', 'DIS', 'GE', 'HD', 'HPQ', 'IBM', 'INTC', 'JNJ', 'JPM', 'KO', 'MCD', 'MMM', 'MRK', 'MSFT', 'PFE', 'PG', 'T', 'TRV', 'VZ', 'WMT', 'XOM']])"
      ]
     },
     "execution_count": 17,
     "metadata": {},
     "output_type": "execute_result"
    }
   ],
   "source": [
    "rawdata.columns.levels"
   ]
  },
  {
   "cell_type": "markdown",
   "metadata": {
    "slideshow": {
     "slide_type": "subslide"
    }
   },
   "source": [
    "* Column levels can be named:"
   ]
  },
  {
   "cell_type": "code",
   "execution_count": 18,
   "metadata": {
    "slideshow": {
     "slide_type": "-"
    }
   },
   "outputs": [
    {
     "data": {
      "text/html": [
       "<div>\n",
       "<style scoped>\n",
       "    .dataframe tbody tr th:only-of-type {\n",
       "        vertical-align: middle;\n",
       "    }\n",
       "\n",
       "    .dataframe tbody tr th {\n",
       "        vertical-align: top;\n",
       "    }\n",
       "\n",
       "    .dataframe thead tr th {\n",
       "        text-align: left;\n",
       "    }\n",
       "\n",
       "    .dataframe thead tr:last-of-type th {\n",
       "        text-align: right;\n",
       "    }\n",
       "</style>\n",
       "<table border=\"1\" class=\"dataframe\">\n",
       "  <thead>\n",
       "    <tr>\n",
       "      <th>Value</th>\n",
       "      <th colspan=\"10\" halign=\"left\">Adj Close</th>\n",
       "      <th>...</th>\n",
       "      <th colspan=\"10\" halign=\"left\">Volume</th>\n",
       "    </tr>\n",
       "    <tr>\n",
       "      <th>Symbol</th>\n",
       "      <th>AAPL</th>\n",
       "      <th>AXP</th>\n",
       "      <th>BA</th>\n",
       "      <th>BAC</th>\n",
       "      <th>CAT</th>\n",
       "      <th>CSCO</th>\n",
       "      <th>CVX</th>\n",
       "      <th>DD</th>\n",
       "      <th>DIS</th>\n",
       "      <th>GE</th>\n",
       "      <th>...</th>\n",
       "      <th>MMM</th>\n",
       "      <th>MRK</th>\n",
       "      <th>MSFT</th>\n",
       "      <th>PFE</th>\n",
       "      <th>PG</th>\n",
       "      <th>T</th>\n",
       "      <th>TRV</th>\n",
       "      <th>VZ</th>\n",
       "      <th>WMT</th>\n",
       "      <th>XOM</th>\n",
       "    </tr>\n",
       "    <tr>\n",
       "      <th>Date</th>\n",
       "      <th></th>\n",
       "      <th></th>\n",
       "      <th></th>\n",
       "      <th></th>\n",
       "      <th></th>\n",
       "      <th></th>\n",
       "      <th></th>\n",
       "      <th></th>\n",
       "      <th></th>\n",
       "      <th></th>\n",
       "      <th></th>\n",
       "      <th></th>\n",
       "      <th></th>\n",
       "      <th></th>\n",
       "      <th></th>\n",
       "      <th></th>\n",
       "      <th></th>\n",
       "      <th></th>\n",
       "      <th></th>\n",
       "      <th></th>\n",
       "      <th></th>\n",
       "    </tr>\n",
       "  </thead>\n",
       "  <tbody>\n",
       "    <tr>\n",
       "      <th>2000-01-03</th>\n",
       "      <td>0.850643</td>\n",
       "      <td>33.436104</td>\n",
       "      <td>25.940285</td>\n",
       "      <td>13.356878</td>\n",
       "      <td>13.171323</td>\n",
       "      <td>38.065071</td>\n",
       "      <td>17.849821</td>\n",
       "      <td>29.800083</td>\n",
       "      <td>23.115253</td>\n",
       "      <td>164.768661</td>\n",
       "      <td>...</td>\n",
       "      <td>2173400</td>\n",
       "      <td>6265782</td>\n",
       "      <td>53228400</td>\n",
       "      <td>12873345</td>\n",
       "      <td>4275000</td>\n",
       "      <td>7668476</td>\n",
       "      <td>336400</td>\n",
       "      <td>4663843</td>\n",
       "      <td>8369900</td>\n",
       "      <td>13458200</td>\n",
       "    </tr>\n",
       "    <tr>\n",
       "      <th>2000-01-04</th>\n",
       "      <td>0.778926</td>\n",
       "      <td>32.173595</td>\n",
       "      <td>25.899946</td>\n",
       "      <td>12.564081</td>\n",
       "      <td>13.002030</td>\n",
       "      <td>35.929550</td>\n",
       "      <td>17.849821</td>\n",
       "      <td>28.985552</td>\n",
       "      <td>24.469284</td>\n",
       "      <td>158.177887</td>\n",
       "      <td>...</td>\n",
       "      <td>2713800</td>\n",
       "      <td>7894689</td>\n",
       "      <td>54119000</td>\n",
       "      <td>14208974</td>\n",
       "      <td>4270800</td>\n",
       "      <td>9497846</td>\n",
       "      <td>494400</td>\n",
       "      <td>5005878</td>\n",
       "      <td>6745100</td>\n",
       "      <td>14510800</td>\n",
       "    </tr>\n",
       "    <tr>\n",
       "      <th>2000-01-05</th>\n",
       "      <td>0.790324</td>\n",
       "      <td>31.356422</td>\n",
       "      <td>27.513651</td>\n",
       "      <td>12.701962</td>\n",
       "      <td>13.306756</td>\n",
       "      <td>35.819477</td>\n",
       "      <td>18.169998</td>\n",
       "      <td>29.926455</td>\n",
       "      <td>25.484812</td>\n",
       "      <td>157.903275</td>\n",
       "      <td>...</td>\n",
       "      <td>3699400</td>\n",
       "      <td>7963018</td>\n",
       "      <td>64059600</td>\n",
       "      <td>12981591</td>\n",
       "      <td>5098400</td>\n",
       "      <td>12035160</td>\n",
       "      <td>736000</td>\n",
       "      <td>6368681</td>\n",
       "      <td>7018700</td>\n",
       "      <td>17485000</td>\n",
       "    </tr>\n",
       "    <tr>\n",
       "      <th>2000-01-06</th>\n",
       "      <td>0.721931</td>\n",
       "      <td>31.995262</td>\n",
       "      <td>27.796032</td>\n",
       "      <td>13.787753</td>\n",
       "      <td>13.983953</td>\n",
       "      <td>35.225052</td>\n",
       "      <td>18.943766</td>\n",
       "      <td>30.769075</td>\n",
       "      <td>24.469284</td>\n",
       "      <td>160.014435</td>\n",
       "      <td>...</td>\n",
       "      <td>5975800</td>\n",
       "      <td>4989004</td>\n",
       "      <td>54976600</td>\n",
       "      <td>11115273</td>\n",
       "      <td>6524200</td>\n",
       "      <td>9471366</td>\n",
       "      <td>660400</td>\n",
       "      <td>4705763</td>\n",
       "      <td>6544500</td>\n",
       "      <td>19461600</td>\n",
       "    </tr>\n",
       "    <tr>\n",
       "      <th>2000-01-07</th>\n",
       "      <td>0.756128</td>\n",
       "      <td>32.461098</td>\n",
       "      <td>28.602896</td>\n",
       "      <td>13.425812</td>\n",
       "      <td>14.441051</td>\n",
       "      <td>37.294529</td>\n",
       "      <td>19.277287</td>\n",
       "      <td>31.457182</td>\n",
       "      <td>24.082420</td>\n",
       "      <td>166.210388</td>\n",
       "      <td>...</td>\n",
       "      <td>4101200</td>\n",
       "      <td>10871218</td>\n",
       "      <td>62013600</td>\n",
       "      <td>17962163</td>\n",
       "      <td>9832000</td>\n",
       "      <td>7792534</td>\n",
       "      <td>594700</td>\n",
       "      <td>5043907</td>\n",
       "      <td>7976900</td>\n",
       "      <td>16603800</td>\n",
       "    </tr>\n",
       "  </tbody>\n",
       "</table>\n",
       "<p>5 rows × 168 columns</p>\n",
       "</div>"
      ],
      "text/plain": [
       "Value      Adj Close                                                         \\\n",
       "Symbol          AAPL        AXP         BA        BAC        CAT       CSCO   \n",
       "Date                                                                          \n",
       "2000-01-03  0.850643  33.436104  25.940285  13.356878  13.171323  38.065071   \n",
       "2000-01-04  0.778926  32.173595  25.899946  12.564081  13.002030  35.929550   \n",
       "2000-01-05  0.790324  31.356422  27.513651  12.701962  13.306756  35.819477   \n",
       "2000-01-06  0.721931  31.995262  27.796032  13.787753  13.983953  35.225052   \n",
       "2000-01-07  0.756128  32.461098  28.602896  13.425812  14.441051  37.294529   \n",
       "\n",
       "Value                                                    ...   Volume  \\\n",
       "Symbol            CVX         DD        DIS          GE  ...      MMM   \n",
       "Date                                                     ...            \n",
       "2000-01-03  17.849821  29.800083  23.115253  164.768661  ...  2173400   \n",
       "2000-01-04  17.849821  28.985552  24.469284  158.177887  ...  2713800   \n",
       "2000-01-05  18.169998  29.926455  25.484812  157.903275  ...  3699400   \n",
       "2000-01-06  18.943766  30.769075  24.469284  160.014435  ...  5975800   \n",
       "2000-01-07  19.277287  31.457182  24.082420  166.210388  ...  4101200   \n",
       "\n",
       "Value                                                                         \\\n",
       "Symbol           MRK      MSFT       PFE       PG         T     TRV       VZ   \n",
       "Date                                                                           \n",
       "2000-01-03   6265782  53228400  12873345  4275000   7668476  336400  4663843   \n",
       "2000-01-04   7894689  54119000  14208974  4270800   9497846  494400  5005878   \n",
       "2000-01-05   7963018  64059600  12981591  5098400  12035160  736000  6368681   \n",
       "2000-01-06   4989004  54976600  11115273  6524200   9471366  660400  4705763   \n",
       "2000-01-07  10871218  62013600  17962163  9832000   7792534  594700  5043907   \n",
       "\n",
       "Value                          \n",
       "Symbol          WMT       XOM  \n",
       "Date                           \n",
       "2000-01-03  8369900  13458200  \n",
       "2000-01-04  6745100  14510800  \n",
       "2000-01-05  7018700  17485000  \n",
       "2000-01-06  6544500  19461600  \n",
       "2000-01-07  7976900  16603800  \n",
       "\n",
       "[5 rows x 168 columns]"
      ]
     },
     "execution_count": 18,
     "metadata": {},
     "output_type": "execute_result"
    }
   ],
   "source": [
    "rawdata.columns = rawdata.columns.set_names(['Value', 'Symbol'])\n",
    "rawdata.head()"
   ]
  },
  {
   "cell_type": "markdown",
   "metadata": {
    "slideshow": {
     "slide_type": "subslide"
    }
   },
   "source": [
    "* Subsetting first level of hierarchical indexing: `Adj Close`"
   ]
  },
  {
   "cell_type": "code",
   "execution_count": 19,
   "metadata": {
    "slideshow": {
     "slide_type": "-"
    }
   },
   "outputs": [
    {
     "data": {
      "text/html": [
       "<div>\n",
       "<style scoped>\n",
       "    .dataframe tbody tr th:only-of-type {\n",
       "        vertical-align: middle;\n",
       "    }\n",
       "\n",
       "    .dataframe tbody tr th {\n",
       "        vertical-align: top;\n",
       "    }\n",
       "\n",
       "    .dataframe thead th {\n",
       "        text-align: right;\n",
       "    }\n",
       "</style>\n",
       "<table border=\"1\" class=\"dataframe\">\n",
       "  <thead>\n",
       "    <tr style=\"text-align: right;\">\n",
       "      <th>Symbol</th>\n",
       "      <th>AAPL</th>\n",
       "      <th>AXP</th>\n",
       "      <th>BA</th>\n",
       "      <th>BAC</th>\n",
       "      <th>CAT</th>\n",
       "      <th>CSCO</th>\n",
       "      <th>CVX</th>\n",
       "      <th>DD</th>\n",
       "      <th>DIS</th>\n",
       "      <th>GE</th>\n",
       "      <th>...</th>\n",
       "      <th>MMM</th>\n",
       "      <th>MRK</th>\n",
       "      <th>MSFT</th>\n",
       "      <th>PFE</th>\n",
       "      <th>PG</th>\n",
       "      <th>T</th>\n",
       "      <th>TRV</th>\n",
       "      <th>VZ</th>\n",
       "      <th>WMT</th>\n",
       "      <th>XOM</th>\n",
       "    </tr>\n",
       "    <tr>\n",
       "      <th>Date</th>\n",
       "      <th></th>\n",
       "      <th></th>\n",
       "      <th></th>\n",
       "      <th></th>\n",
       "      <th></th>\n",
       "      <th></th>\n",
       "      <th></th>\n",
       "      <th></th>\n",
       "      <th></th>\n",
       "      <th></th>\n",
       "      <th></th>\n",
       "      <th></th>\n",
       "      <th></th>\n",
       "      <th></th>\n",
       "      <th></th>\n",
       "      <th></th>\n",
       "      <th></th>\n",
       "      <th></th>\n",
       "      <th></th>\n",
       "      <th></th>\n",
       "      <th></th>\n",
       "    </tr>\n",
       "  </thead>\n",
       "  <tbody>\n",
       "    <tr>\n",
       "      <th>2000-01-03</th>\n",
       "      <td>0.850643</td>\n",
       "      <td>33.436104</td>\n",
       "      <td>25.940285</td>\n",
       "      <td>13.356878</td>\n",
       "      <td>13.171323</td>\n",
       "      <td>38.065071</td>\n",
       "      <td>17.849821</td>\n",
       "      <td>29.800083</td>\n",
       "      <td>23.115253</td>\n",
       "      <td>164.768661</td>\n",
       "      <td>...</td>\n",
       "      <td>25.525522</td>\n",
       "      <td>27.435095</td>\n",
       "      <td>36.361561</td>\n",
       "      <td>13.733079</td>\n",
       "      <td>28.968676</td>\n",
       "      <td>7.381409</td>\n",
       "      <td>18.308657</td>\n",
       "      <td>18.767641</td>\n",
       "      <td>44.220299</td>\n",
       "      <td>18.984547</td>\n",
       "    </tr>\n",
       "    <tr>\n",
       "      <th>2000-01-04</th>\n",
       "      <td>0.778926</td>\n",
       "      <td>32.173595</td>\n",
       "      <td>25.899946</td>\n",
       "      <td>12.564081</td>\n",
       "      <td>13.002030</td>\n",
       "      <td>35.929550</td>\n",
       "      <td>17.849821</td>\n",
       "      <td>28.985552</td>\n",
       "      <td>24.469284</td>\n",
       "      <td>158.177887</td>\n",
       "      <td>...</td>\n",
       "      <td>24.511259</td>\n",
       "      <td>26.471582</td>\n",
       "      <td>35.133278</td>\n",
       "      <td>13.221455</td>\n",
       "      <td>28.411270</td>\n",
       "      <td>6.949518</td>\n",
       "      <td>18.065924</td>\n",
       "      <td>18.160978</td>\n",
       "      <td>42.565651</td>\n",
       "      <td>18.620926</td>\n",
       "    </tr>\n",
       "    <tr>\n",
       "      <th>2000-01-05</th>\n",
       "      <td>0.790324</td>\n",
       "      <td>31.356422</td>\n",
       "      <td>27.513651</td>\n",
       "      <td>12.701962</td>\n",
       "      <td>13.306756</td>\n",
       "      <td>35.819477</td>\n",
       "      <td>18.169998</td>\n",
       "      <td>29.926455</td>\n",
       "      <td>25.484812</td>\n",
       "      <td>157.903275</td>\n",
       "      <td>...</td>\n",
       "      <td>25.221237</td>\n",
       "      <td>27.511169</td>\n",
       "      <td>35.503693</td>\n",
       "      <td>13.436866</td>\n",
       "      <td>27.870735</td>\n",
       "      <td>7.057490</td>\n",
       "      <td>17.927223</td>\n",
       "      <td>18.767641</td>\n",
       "      <td>41.696953</td>\n",
       "      <td>19.636055</td>\n",
       "    </tr>\n",
       "    <tr>\n",
       "      <th>2000-01-06</th>\n",
       "      <td>0.721931</td>\n",
       "      <td>31.995262</td>\n",
       "      <td>27.796032</td>\n",
       "      <td>13.787753</td>\n",
       "      <td>13.983953</td>\n",
       "      <td>35.225052</td>\n",
       "      <td>18.943766</td>\n",
       "      <td>30.769075</td>\n",
       "      <td>24.469284</td>\n",
       "      <td>160.014435</td>\n",
       "      <td>...</td>\n",
       "      <td>27.249743</td>\n",
       "      <td>27.739374</td>\n",
       "      <td>34.314407</td>\n",
       "      <td>13.921565</td>\n",
       "      <td>29.154482</td>\n",
       "      <td>6.920746</td>\n",
       "      <td>18.273975</td>\n",
       "      <td>18.672314</td>\n",
       "      <td>42.151981</td>\n",
       "      <td>20.651190</td>\n",
       "    </tr>\n",
       "    <tr>\n",
       "      <th>2000-01-07</th>\n",
       "      <td>0.756128</td>\n",
       "      <td>32.461098</td>\n",
       "      <td>28.602896</td>\n",
       "      <td>13.425812</td>\n",
       "      <td>14.441051</td>\n",
       "      <td>37.294529</td>\n",
       "      <td>19.277287</td>\n",
       "      <td>31.457182</td>\n",
       "      <td>24.082420</td>\n",
       "      <td>166.210388</td>\n",
       "      <td>...</td>\n",
       "      <td>27.790697</td>\n",
       "      <td>30.401758</td>\n",
       "      <td>34.762833</td>\n",
       "      <td>14.864026</td>\n",
       "      <td>31.485491</td>\n",
       "      <td>6.980069</td>\n",
       "      <td>19.002157</td>\n",
       "      <td>18.534437</td>\n",
       "      <td>45.337158</td>\n",
       "      <td>20.590586</td>\n",
       "    </tr>\n",
       "  </tbody>\n",
       "</table>\n",
       "<p>5 rows × 28 columns</p>\n",
       "</div>"
      ],
      "text/plain": [
       "Symbol          AAPL        AXP         BA        BAC        CAT       CSCO  \\\n",
       "Date                                                                          \n",
       "2000-01-03  0.850643  33.436104  25.940285  13.356878  13.171323  38.065071   \n",
       "2000-01-04  0.778926  32.173595  25.899946  12.564081  13.002030  35.929550   \n",
       "2000-01-05  0.790324  31.356422  27.513651  12.701962  13.306756  35.819477   \n",
       "2000-01-06  0.721931  31.995262  27.796032  13.787753  13.983953  35.225052   \n",
       "2000-01-07  0.756128  32.461098  28.602896  13.425812  14.441051  37.294529   \n",
       "\n",
       "Symbol            CVX         DD        DIS          GE  ...        MMM  \\\n",
       "Date                                                     ...              \n",
       "2000-01-03  17.849821  29.800083  23.115253  164.768661  ...  25.525522   \n",
       "2000-01-04  17.849821  28.985552  24.469284  158.177887  ...  24.511259   \n",
       "2000-01-05  18.169998  29.926455  25.484812  157.903275  ...  25.221237   \n",
       "2000-01-06  18.943766  30.769075  24.469284  160.014435  ...  27.249743   \n",
       "2000-01-07  19.277287  31.457182  24.082420  166.210388  ...  27.790697   \n",
       "\n",
       "Symbol            MRK       MSFT        PFE         PG         T        TRV  \\\n",
       "Date                                                                          \n",
       "2000-01-03  27.435095  36.361561  13.733079  28.968676  7.381409  18.308657   \n",
       "2000-01-04  26.471582  35.133278  13.221455  28.411270  6.949518  18.065924   \n",
       "2000-01-05  27.511169  35.503693  13.436866  27.870735  7.057490  17.927223   \n",
       "2000-01-06  27.739374  34.314407  13.921565  29.154482  6.920746  18.273975   \n",
       "2000-01-07  30.401758  34.762833  14.864026  31.485491  6.980069  19.002157   \n",
       "\n",
       "Symbol             VZ        WMT        XOM  \n",
       "Date                                         \n",
       "2000-01-03  18.767641  44.220299  18.984547  \n",
       "2000-01-04  18.160978  42.565651  18.620926  \n",
       "2000-01-05  18.767641  41.696953  19.636055  \n",
       "2000-01-06  18.672314  42.151981  20.651190  \n",
       "2000-01-07  18.534437  45.337158  20.590586  \n",
       "\n",
       "[5 rows x 28 columns]"
      ]
     },
     "execution_count": 19,
     "metadata": {},
     "output_type": "execute_result"
    }
   ],
   "source": [
    "rawdata['Adj Close'].head()"
   ]
  },
  {
   "cell_type": "markdown",
   "metadata": {
    "slideshow": {
     "slide_type": "subslide"
    }
   },
   "source": [
    "* Subsetting first level of hierarchical indexing: `Volume`"
   ]
  },
  {
   "cell_type": "code",
   "execution_count": 20,
   "metadata": {
    "slideshow": {
     "slide_type": "-"
    }
   },
   "outputs": [
    {
     "data": {
      "text/html": [
       "<div>\n",
       "<style scoped>\n",
       "    .dataframe tbody tr th:only-of-type {\n",
       "        vertical-align: middle;\n",
       "    }\n",
       "\n",
       "    .dataframe tbody tr th {\n",
       "        vertical-align: top;\n",
       "    }\n",
       "\n",
       "    .dataframe thead th {\n",
       "        text-align: right;\n",
       "    }\n",
       "</style>\n",
       "<table border=\"1\" class=\"dataframe\">\n",
       "  <thead>\n",
       "    <tr style=\"text-align: right;\">\n",
       "      <th>Symbol</th>\n",
       "      <th>AAPL</th>\n",
       "      <th>AXP</th>\n",
       "      <th>BA</th>\n",
       "      <th>BAC</th>\n",
       "      <th>CAT</th>\n",
       "      <th>CSCO</th>\n",
       "      <th>CVX</th>\n",
       "      <th>DD</th>\n",
       "      <th>DIS</th>\n",
       "      <th>GE</th>\n",
       "      <th>...</th>\n",
       "      <th>MMM</th>\n",
       "      <th>MRK</th>\n",
       "      <th>MSFT</th>\n",
       "      <th>PFE</th>\n",
       "      <th>PG</th>\n",
       "      <th>T</th>\n",
       "      <th>TRV</th>\n",
       "      <th>VZ</th>\n",
       "      <th>WMT</th>\n",
       "      <th>XOM</th>\n",
       "    </tr>\n",
       "    <tr>\n",
       "      <th>Date</th>\n",
       "      <th></th>\n",
       "      <th></th>\n",
       "      <th></th>\n",
       "      <th></th>\n",
       "      <th></th>\n",
       "      <th></th>\n",
       "      <th></th>\n",
       "      <th></th>\n",
       "      <th></th>\n",
       "      <th></th>\n",
       "      <th></th>\n",
       "      <th></th>\n",
       "      <th></th>\n",
       "      <th></th>\n",
       "      <th></th>\n",
       "      <th></th>\n",
       "      <th></th>\n",
       "      <th></th>\n",
       "      <th></th>\n",
       "      <th></th>\n",
       "      <th></th>\n",
       "    </tr>\n",
       "  </thead>\n",
       "  <tbody>\n",
       "    <tr>\n",
       "      <th>2000-01-03</th>\n",
       "      <td>535796800</td>\n",
       "      <td>6471267</td>\n",
       "      <td>2638200</td>\n",
       "      <td>13705800</td>\n",
       "      <td>5055000</td>\n",
       "      <td>53076000</td>\n",
       "      <td>4387600</td>\n",
       "      <td>1296100</td>\n",
       "      <td>8402230</td>\n",
       "      <td>3675284</td>\n",
       "      <td>...</td>\n",
       "      <td>2173400</td>\n",
       "      <td>6265782</td>\n",
       "      <td>53228400</td>\n",
       "      <td>12873345</td>\n",
       "      <td>4275000</td>\n",
       "      <td>7668476</td>\n",
       "      <td>336400</td>\n",
       "      <td>4663843</td>\n",
       "      <td>8369900</td>\n",
       "      <td>13458200</td>\n",
       "    </tr>\n",
       "    <tr>\n",
       "      <th>2000-01-04</th>\n",
       "      <td>512377600</td>\n",
       "      <td>10440877</td>\n",
       "      <td>3592100</td>\n",
       "      <td>27293400</td>\n",
       "      <td>6181400</td>\n",
       "      <td>50805600</td>\n",
       "      <td>3702400</td>\n",
       "      <td>2073676</td>\n",
       "      <td>16051191</td>\n",
       "      <td>3683877</td>\n",
       "      <td>...</td>\n",
       "      <td>2713800</td>\n",
       "      <td>7894689</td>\n",
       "      <td>54119000</td>\n",
       "      <td>14208974</td>\n",
       "      <td>4270800</td>\n",
       "      <td>9497846</td>\n",
       "      <td>494400</td>\n",
       "      <td>5005878</td>\n",
       "      <td>6745100</td>\n",
       "      <td>14510800</td>\n",
       "    </tr>\n",
       "    <tr>\n",
       "      <th>2000-01-05</th>\n",
       "      <td>778321600</td>\n",
       "      <td>8646293</td>\n",
       "      <td>7631700</td>\n",
       "      <td>22855600</td>\n",
       "      <td>6398600</td>\n",
       "      <td>68524000</td>\n",
       "      <td>5567600</td>\n",
       "      <td>3653278</td>\n",
       "      <td>19823822</td>\n",
       "      <td>4545070</td>\n",
       "      <td>...</td>\n",
       "      <td>3699400</td>\n",
       "      <td>7963018</td>\n",
       "      <td>64059600</td>\n",
       "      <td>12981591</td>\n",
       "      <td>5098400</td>\n",
       "      <td>12035160</td>\n",
       "      <td>736000</td>\n",
       "      <td>6368681</td>\n",
       "      <td>7018700</td>\n",
       "      <td>17485000</td>\n",
       "    </tr>\n",
       "    <tr>\n",
       "      <th>2000-01-06</th>\n",
       "      <td>767972800</td>\n",
       "      <td>10990975</td>\n",
       "      <td>4922200</td>\n",
       "      <td>17307000</td>\n",
       "      <td>5140600</td>\n",
       "      <td>48242600</td>\n",
       "      <td>4353400</td>\n",
       "      <td>4885511</td>\n",
       "      <td>7903193</td>\n",
       "      <td>3309484</td>\n",
       "      <td>...</td>\n",
       "      <td>5975800</td>\n",
       "      <td>4989004</td>\n",
       "      <td>54976600</td>\n",
       "      <td>11115273</td>\n",
       "      <td>6524200</td>\n",
       "      <td>9471366</td>\n",
       "      <td>660400</td>\n",
       "      <td>4705763</td>\n",
       "      <td>6544500</td>\n",
       "      <td>19461600</td>\n",
       "    </tr>\n",
       "    <tr>\n",
       "      <th>2000-01-07</th>\n",
       "      <td>460734400</td>\n",
       "      <td>6016452</td>\n",
       "      <td>6008300</td>\n",
       "      <td>11632800</td>\n",
       "      <td>6360200</td>\n",
       "      <td>62260600</td>\n",
       "      <td>4487400</td>\n",
       "      <td>3469265</td>\n",
       "      <td>6773543</td>\n",
       "      <td>3354147</td>\n",
       "      <td>...</td>\n",
       "      <td>4101200</td>\n",
       "      <td>10871218</td>\n",
       "      <td>62013600</td>\n",
       "      <td>17962163</td>\n",
       "      <td>9832000</td>\n",
       "      <td>7792534</td>\n",
       "      <td>594700</td>\n",
       "      <td>5043907</td>\n",
       "      <td>7976900</td>\n",
       "      <td>16603800</td>\n",
       "    </tr>\n",
       "  </tbody>\n",
       "</table>\n",
       "<p>5 rows × 28 columns</p>\n",
       "</div>"
      ],
      "text/plain": [
       "Symbol           AAPL       AXP       BA       BAC      CAT      CSCO  \\\n",
       "Date                                                                    \n",
       "2000-01-03  535796800   6471267  2638200  13705800  5055000  53076000   \n",
       "2000-01-04  512377600  10440877  3592100  27293400  6181400  50805600   \n",
       "2000-01-05  778321600   8646293  7631700  22855600  6398600  68524000   \n",
       "2000-01-06  767972800  10990975  4922200  17307000  5140600  48242600   \n",
       "2000-01-07  460734400   6016452  6008300  11632800  6360200  62260600   \n",
       "\n",
       "Symbol          CVX       DD       DIS       GE  ...      MMM       MRK  \\\n",
       "Date                                             ...                      \n",
       "2000-01-03  4387600  1296100   8402230  3675284  ...  2173400   6265782   \n",
       "2000-01-04  3702400  2073676  16051191  3683877  ...  2713800   7894689   \n",
       "2000-01-05  5567600  3653278  19823822  4545070  ...  3699400   7963018   \n",
       "2000-01-06  4353400  4885511   7903193  3309484  ...  5975800   4989004   \n",
       "2000-01-07  4487400  3469265   6773543  3354147  ...  4101200  10871218   \n",
       "\n",
       "Symbol          MSFT       PFE       PG         T     TRV       VZ      WMT  \\\n",
       "Date                                                                          \n",
       "2000-01-03  53228400  12873345  4275000   7668476  336400  4663843  8369900   \n",
       "2000-01-04  54119000  14208974  4270800   9497846  494400  5005878  6745100   \n",
       "2000-01-05  64059600  12981591  5098400  12035160  736000  6368681  7018700   \n",
       "2000-01-06  54976600  11115273  6524200   9471366  660400  4705763  6544500   \n",
       "2000-01-07  62013600  17962163  9832000   7792534  594700  5043907  7976900   \n",
       "\n",
       "Symbol           XOM  \n",
       "Date                  \n",
       "2000-01-03  13458200  \n",
       "2000-01-04  14510800  \n",
       "2000-01-05  17485000  \n",
       "2000-01-06  19461600  \n",
       "2000-01-07  16603800  \n",
       "\n",
       "[5 rows x 28 columns]"
      ]
     },
     "execution_count": 20,
     "metadata": {},
     "output_type": "execute_result"
    }
   ],
   "source": [
    "rawdata.loc[:, 'Volume'].head()"
   ]
  },
  {
   "cell_type": "markdown",
   "metadata": {
    "slideshow": {
     "slide_type": "subslide"
    }
   },
   "source": [
    "* Subsetting second level is slightly harder: `AAPL`"
   ]
  },
  {
   "cell_type": "code",
   "execution_count": 21,
   "metadata": {
    "slideshow": {
     "slide_type": "-"
    }
   },
   "outputs": [
    {
     "data": {
      "text/html": [
       "<div>\n",
       "<style scoped>\n",
       "    .dataframe tbody tr th:only-of-type {\n",
       "        vertical-align: middle;\n",
       "    }\n",
       "\n",
       "    .dataframe tbody tr th {\n",
       "        vertical-align: top;\n",
       "    }\n",
       "\n",
       "    .dataframe thead tr th {\n",
       "        text-align: left;\n",
       "    }\n",
       "\n",
       "    .dataframe thead tr:last-of-type th {\n",
       "        text-align: right;\n",
       "    }\n",
       "</style>\n",
       "<table border=\"1\" class=\"dataframe\">\n",
       "  <thead>\n",
       "    <tr>\n",
       "      <th>Value</th>\n",
       "      <th>Adj Close</th>\n",
       "      <th>Close</th>\n",
       "      <th>High</th>\n",
       "      <th>Low</th>\n",
       "      <th>Open</th>\n",
       "      <th>Volume</th>\n",
       "    </tr>\n",
       "    <tr>\n",
       "      <th>Symbol</th>\n",
       "      <th>AAPL</th>\n",
       "      <th>AAPL</th>\n",
       "      <th>AAPL</th>\n",
       "      <th>AAPL</th>\n",
       "      <th>AAPL</th>\n",
       "      <th>AAPL</th>\n",
       "    </tr>\n",
       "    <tr>\n",
       "      <th>Date</th>\n",
       "      <th></th>\n",
       "      <th></th>\n",
       "      <th></th>\n",
       "      <th></th>\n",
       "      <th></th>\n",
       "      <th></th>\n",
       "    </tr>\n",
       "  </thead>\n",
       "  <tbody>\n",
       "    <tr>\n",
       "      <th>2000-01-03</th>\n",
       "      <td>0.850643</td>\n",
       "      <td>0.999442</td>\n",
       "      <td>1.004464</td>\n",
       "      <td>0.907924</td>\n",
       "      <td>0.936384</td>\n",
       "      <td>535796800</td>\n",
       "    </tr>\n",
       "    <tr>\n",
       "      <th>2000-01-04</th>\n",
       "      <td>0.778926</td>\n",
       "      <td>0.915179</td>\n",
       "      <td>0.987723</td>\n",
       "      <td>0.903460</td>\n",
       "      <td>0.966518</td>\n",
       "      <td>512377600</td>\n",
       "    </tr>\n",
       "    <tr>\n",
       "      <th>2000-01-05</th>\n",
       "      <td>0.790324</td>\n",
       "      <td>0.928571</td>\n",
       "      <td>0.987165</td>\n",
       "      <td>0.919643</td>\n",
       "      <td>0.926339</td>\n",
       "      <td>778321600</td>\n",
       "    </tr>\n",
       "    <tr>\n",
       "      <th>2000-01-06</th>\n",
       "      <td>0.721931</td>\n",
       "      <td>0.848214</td>\n",
       "      <td>0.955357</td>\n",
       "      <td>0.848214</td>\n",
       "      <td>0.947545</td>\n",
       "      <td>767972800</td>\n",
       "    </tr>\n",
       "    <tr>\n",
       "      <th>2000-01-07</th>\n",
       "      <td>0.756128</td>\n",
       "      <td>0.888393</td>\n",
       "      <td>0.901786</td>\n",
       "      <td>0.852679</td>\n",
       "      <td>0.861607</td>\n",
       "      <td>460734400</td>\n",
       "    </tr>\n",
       "  </tbody>\n",
       "</table>\n",
       "</div>"
      ],
      "text/plain": [
       "Value      Adj Close     Close      High       Low      Open     Volume\n",
       "Symbol          AAPL      AAPL      AAPL      AAPL      AAPL       AAPL\n",
       "Date                                                                   \n",
       "2000-01-03  0.850643  0.999442  1.004464  0.907924  0.936384  535796800\n",
       "2000-01-04  0.778926  0.915179  0.987723  0.903460  0.966518  512377600\n",
       "2000-01-05  0.790324  0.928571  0.987165  0.919643  0.926339  778321600\n",
       "2000-01-06  0.721931  0.848214  0.955357  0.848214  0.947545  767972800\n",
       "2000-01-07  0.756128  0.888393  0.901786  0.852679  0.861607  460734400"
      ]
     },
     "execution_count": 21,
     "metadata": {},
     "output_type": "execute_result"
    }
   ],
   "source": [
    "idx = pd.IndexSlice\n",
    "rawdata.loc[:, idx[:, 'AAPL']].head()"
   ]
  },
  {
   "cell_type": "markdown",
   "metadata": {
    "slideshow": {
     "slide_type": "subslide"
    }
   },
   "source": [
    "* Subsetting `Open`, `High`, `Low`, and `Close` (OHLC) for `AAPL`:"
   ]
  },
  {
   "cell_type": "code",
   "execution_count": 22,
   "metadata": {
    "slideshow": {
     "slide_type": "-"
    }
   },
   "outputs": [
    {
     "data": {
      "text/html": [
       "<div>\n",
       "<style scoped>\n",
       "    .dataframe tbody tr th:only-of-type {\n",
       "        vertical-align: middle;\n",
       "    }\n",
       "\n",
       "    .dataframe tbody tr th {\n",
       "        vertical-align: top;\n",
       "    }\n",
       "\n",
       "    .dataframe thead tr th {\n",
       "        text-align: left;\n",
       "    }\n",
       "\n",
       "    .dataframe thead tr:last-of-type th {\n",
       "        text-align: right;\n",
       "    }\n",
       "</style>\n",
       "<table border=\"1\" class=\"dataframe\">\n",
       "  <thead>\n",
       "    <tr>\n",
       "      <th>Value</th>\n",
       "      <th>Close</th>\n",
       "      <th>High</th>\n",
       "      <th>Low</th>\n",
       "      <th>Open</th>\n",
       "    </tr>\n",
       "    <tr>\n",
       "      <th>Symbol</th>\n",
       "      <th>AAPL</th>\n",
       "      <th>AAPL</th>\n",
       "      <th>AAPL</th>\n",
       "      <th>AAPL</th>\n",
       "    </tr>\n",
       "    <tr>\n",
       "      <th>Date</th>\n",
       "      <th></th>\n",
       "      <th></th>\n",
       "      <th></th>\n",
       "      <th></th>\n",
       "    </tr>\n",
       "  </thead>\n",
       "  <tbody>\n",
       "    <tr>\n",
       "      <th>2000-01-03</th>\n",
       "      <td>0.999442</td>\n",
       "      <td>1.004464</td>\n",
       "      <td>0.907924</td>\n",
       "      <td>0.936384</td>\n",
       "    </tr>\n",
       "    <tr>\n",
       "      <th>2000-01-04</th>\n",
       "      <td>0.915179</td>\n",
       "      <td>0.987723</td>\n",
       "      <td>0.903460</td>\n",
       "      <td>0.966518</td>\n",
       "    </tr>\n",
       "    <tr>\n",
       "      <th>2000-01-05</th>\n",
       "      <td>0.928571</td>\n",
       "      <td>0.987165</td>\n",
       "      <td>0.919643</td>\n",
       "      <td>0.926339</td>\n",
       "    </tr>\n",
       "    <tr>\n",
       "      <th>2000-01-06</th>\n",
       "      <td>0.848214</td>\n",
       "      <td>0.955357</td>\n",
       "      <td>0.848214</td>\n",
       "      <td>0.947545</td>\n",
       "    </tr>\n",
       "    <tr>\n",
       "      <th>2000-01-07</th>\n",
       "      <td>0.888393</td>\n",
       "      <td>0.901786</td>\n",
       "      <td>0.852679</td>\n",
       "      <td>0.861607</td>\n",
       "    </tr>\n",
       "  </tbody>\n",
       "</table>\n",
       "</div>"
      ],
      "text/plain": [
       "Value          Close      High       Low      Open\n",
       "Symbol          AAPL      AAPL      AAPL      AAPL\n",
       "Date                                              \n",
       "2000-01-03  0.999442  1.004464  0.907924  0.936384\n",
       "2000-01-04  0.915179  0.987723  0.903460  0.966518\n",
       "2000-01-05  0.928571  0.987165  0.919643  0.926339\n",
       "2000-01-06  0.848214  0.955357  0.848214  0.947545\n",
       "2000-01-07  0.888393  0.901786  0.852679  0.861607"
      ]
     },
     "execution_count": 22,
     "metadata": {},
     "output_type": "execute_result"
    }
   ],
   "source": [
    "aapl = rawdata.loc[:, idx['Close':'Open', 'AAPL']]\n",
    "aapl.head()"
   ]
  },
  {
   "cell_type": "markdown",
   "metadata": {
    "slideshow": {
     "slide_type": "subslide"
    }
   },
   "source": [
    "* Drop redudant index level, `AAPL`:"
   ]
  },
  {
   "cell_type": "code",
   "execution_count": 23,
   "metadata": {
    "slideshow": {
     "slide_type": "-"
    }
   },
   "outputs": [
    {
     "data": {
      "text/html": [
       "<div>\n",
       "<style scoped>\n",
       "    .dataframe tbody tr th:only-of-type {\n",
       "        vertical-align: middle;\n",
       "    }\n",
       "\n",
       "    .dataframe tbody tr th {\n",
       "        vertical-align: top;\n",
       "    }\n",
       "\n",
       "    .dataframe thead th {\n",
       "        text-align: right;\n",
       "    }\n",
       "</style>\n",
       "<table border=\"1\" class=\"dataframe\">\n",
       "  <thead>\n",
       "    <tr style=\"text-align: right;\">\n",
       "      <th>Value</th>\n",
       "      <th>Close</th>\n",
       "      <th>High</th>\n",
       "      <th>Low</th>\n",
       "      <th>Open</th>\n",
       "    </tr>\n",
       "    <tr>\n",
       "      <th>Date</th>\n",
       "      <th></th>\n",
       "      <th></th>\n",
       "      <th></th>\n",
       "      <th></th>\n",
       "    </tr>\n",
       "  </thead>\n",
       "  <tbody>\n",
       "    <tr>\n",
       "      <th>2022-08-05</th>\n",
       "      <td>165.350006</td>\n",
       "      <td>165.850006</td>\n",
       "      <td>163.000000</td>\n",
       "      <td>163.210007</td>\n",
       "    </tr>\n",
       "    <tr>\n",
       "      <th>2022-08-08</th>\n",
       "      <td>164.869995</td>\n",
       "      <td>167.809998</td>\n",
       "      <td>164.199997</td>\n",
       "      <td>166.369995</td>\n",
       "    </tr>\n",
       "    <tr>\n",
       "      <th>2022-08-09</th>\n",
       "      <td>164.919998</td>\n",
       "      <td>165.820007</td>\n",
       "      <td>163.250000</td>\n",
       "      <td>164.020004</td>\n",
       "    </tr>\n",
       "    <tr>\n",
       "      <th>2022-08-10</th>\n",
       "      <td>169.240005</td>\n",
       "      <td>169.339996</td>\n",
       "      <td>166.899994</td>\n",
       "      <td>167.679993</td>\n",
       "    </tr>\n",
       "    <tr>\n",
       "      <th>2022-08-11</th>\n",
       "      <td>168.490005</td>\n",
       "      <td>170.990005</td>\n",
       "      <td>168.190002</td>\n",
       "      <td>170.059998</td>\n",
       "    </tr>\n",
       "  </tbody>\n",
       "</table>\n",
       "</div>"
      ],
      "text/plain": [
       "Value            Close        High         Low        Open\n",
       "Date                                                      \n",
       "2022-08-05  165.350006  165.850006  163.000000  163.210007\n",
       "2022-08-08  164.869995  167.809998  164.199997  166.369995\n",
       "2022-08-09  164.919998  165.820007  163.250000  164.020004\n",
       "2022-08-10  169.240005  169.339996  166.899994  167.679993\n",
       "2022-08-11  168.490005  170.990005  168.190002  170.059998"
      ]
     },
     "execution_count": 23,
     "metadata": {},
     "output_type": "execute_result"
    }
   ],
   "source": [
    "aapl = rawdata.loc[:, idx['Close':'Open', 'AAPL']].droplevel('Symbol', axis=1).tail(60)\n",
    "aapl.head()"
   ]
  },
  {
   "cell_type": "markdown",
   "metadata": {
    "slideshow": {
     "slide_type": "slide"
    }
   },
   "source": [
    "### Example Figure: Candlestick Chart for 3M"
   ]
  },
  {
   "cell_type": "code",
   "execution_count": 24,
   "metadata": {
    "slideshow": {
     "slide_type": "-"
    }
   },
   "outputs": [
    {
     "data": {
      "text/html": [
       "\n",
       "<div id=\"altair-viz-9f3e7b001f5247ac92c9c68b600ba224\"></div>\n",
       "<script type=\"text/javascript\">\n",
       "  (function(spec, embedOpt){\n",
       "    let outputDiv = document.currentScript.previousElementSibling;\n",
       "    if (outputDiv.id !== \"altair-viz-9f3e7b001f5247ac92c9c68b600ba224\") {\n",
       "      outputDiv = document.getElementById(\"altair-viz-9f3e7b001f5247ac92c9c68b600ba224\");\n",
       "    }\n",
       "    const paths = {\n",
       "      \"vega\": \"https://cdn.jsdelivr.net/npm//vega@5?noext\",\n",
       "      \"vega-lib\": \"https://cdn.jsdelivr.net/npm//vega-lib?noext\",\n",
       "      \"vega-lite\": \"https://cdn.jsdelivr.net/npm//vega-lite@4.8.1?noext\",\n",
       "      \"vega-embed\": \"https://cdn.jsdelivr.net/npm//vega-embed@6?noext\",\n",
       "    };\n",
       "\n",
       "    function loadScript(lib) {\n",
       "      return new Promise(function(resolve, reject) {\n",
       "        var s = document.createElement('script');\n",
       "        s.src = paths[lib];\n",
       "        s.async = true;\n",
       "        s.onload = () => resolve(paths[lib]);\n",
       "        s.onerror = () => reject(`Error loading script: ${paths[lib]}`);\n",
       "        document.getElementsByTagName(\"head\")[0].appendChild(s);\n",
       "      });\n",
       "    }\n",
       "\n",
       "    function showError(err) {\n",
       "      outputDiv.innerHTML = `<div class=\"error\" style=\"color:red;\">${err}</div>`;\n",
       "      throw err;\n",
       "    }\n",
       "\n",
       "    function displayChart(vegaEmbed) {\n",
       "      vegaEmbed(outputDiv, spec, embedOpt)\n",
       "        .catch(err => showError(`Javascript Error: ${err.message}<br>This usually means there's a typo in your chart specification. See the javascript console for the full traceback.`));\n",
       "    }\n",
       "\n",
       "    if(typeof define === \"function\" && define.amd) {\n",
       "      requirejs.config({paths});\n",
       "      require([\"vega-embed\"], displayChart, err => showError(`Error loading script: ${err.message}`));\n",
       "    } else if (typeof vegaEmbed === \"function\") {\n",
       "      displayChart(vegaEmbed);\n",
       "    } else {\n",
       "      loadScript(\"vega\")\n",
       "        .then(() => loadScript(\"vega-lite\"))\n",
       "        .then(() => loadScript(\"vega-embed\"))\n",
       "        .catch(showError)\n",
       "        .then(() => displayChart(vegaEmbed));\n",
       "    }\n",
       "  })({\"config\": {\"view\": {\"continuousWidth\": 400, \"continuousHeight\": 300}}, \"layer\": [{\"mark\": \"rule\", \"encoding\": {\"color\": {\"condition\": {\"value\": \"#06982d\", \"test\": \"datum.Open <= datum.Close\"}, \"value\": \"#ae1325\"}, \"x\": {\"type\": \"temporal\", \"axis\": {\"format\": \"%m-%d-%Y\", \"labelAngle\": -90}, \"field\": \"Date\"}, \"y\": {\"type\": \"quantitative\", \"field\": \"Low\", \"scale\": {\"zero\": false}, \"title\": \"Price\"}, \"y2\": {\"field\": \"High\"}}}, {\"mark\": \"bar\", \"encoding\": {\"color\": {\"condition\": {\"value\": \"#06982d\", \"test\": \"datum.Open <= datum.Close\"}, \"value\": \"#ae1325\"}, \"x\": {\"type\": \"temporal\", \"axis\": {\"format\": \"%m-%d-%Y\", \"labelAngle\": -90}, \"field\": \"Date\"}, \"y\": {\"type\": \"quantitative\", \"field\": \"Open\"}, \"y2\": {\"field\": \"Close\"}}}], \"data\": {\"name\": \"data-8c869b72378d93998bd5a2a7d2ca0c04\"}, \"$schema\": \"https://vega.github.io/schema/vega-lite/v4.8.1.json\", \"datasets\": {\"data-8c869b72378d93998bd5a2a7d2ca0c04\": [{\"Date\": \"2022-08-05T00:00:00\", \"Close\": 147.41000366210938, \"High\": 148.49000549316406, \"Low\": 146.38999938964844, \"Open\": 147.00999450683594}, {\"Date\": \"2022-08-08T00:00:00\", \"Close\": 148.47999572753906, \"High\": 150.14999389648438, \"Low\": 147.5800018310547, \"Open\": 148.02999877929688}, {\"Date\": \"2022-08-09T00:00:00\", \"Close\": 147.83999633789062, \"High\": 149.0500030517578, \"Low\": 147.19000244140625, \"Open\": 148.30999755859375}, {\"Date\": \"2022-08-10T00:00:00\", \"Close\": 149.3800048828125, \"High\": 150.61000061035156, \"Low\": 148.83999633789062, \"Open\": 149.8800048828125}, {\"Date\": \"2022-08-11T00:00:00\", \"Close\": 149.66000366210938, \"High\": 151.44000244140625, \"Low\": 149.3699951171875, \"Open\": 150.0}, {\"Date\": \"2022-08-12T00:00:00\", \"Close\": 152.24000549316406, \"High\": 152.3000030517578, \"Low\": 150.0, \"Open\": 150.3699951171875}, {\"Date\": \"2022-08-15T00:00:00\", \"Close\": 151.42999267578125, \"High\": 152.10000610351562, \"Low\": 150.47999572753906, \"Open\": 151.38999938964844}, {\"Date\": \"2022-08-16T00:00:00\", \"Close\": 150.25999450683594, \"High\": 151.30999755859375, \"Low\": 148.8800048828125, \"Open\": 150.47000122070312}, {\"Date\": \"2022-08-17T00:00:00\", \"Close\": 147.42999267578125, \"High\": 148.7899932861328, \"Low\": 147.07000732421875, \"Open\": 148.44000244140625}, {\"Date\": \"2022-08-18T00:00:00\", \"Close\": 146.67999267578125, \"High\": 147.44000244140625, \"Low\": 145.3800048828125, \"Open\": 147.39999389648438}, {\"Date\": \"2022-08-19T00:00:00\", \"Close\": 145.1999969482422, \"High\": 145.64999389648438, \"Low\": 143.2100067138672, \"Open\": 144.61000061035156}, {\"Date\": \"2022-08-22T00:00:00\", \"Close\": 141.58999633789062, \"High\": 143.67999267578125, \"Low\": 141.02999877929688, \"Open\": 143.27999877929688}, {\"Date\": \"2022-08-23T00:00:00\", \"Close\": 141.75, \"High\": 142.4199981689453, \"Low\": 140.7100067138672, \"Open\": 141.0}, {\"Date\": \"2022-08-24T00:00:00\", \"Close\": 141.0399932861328, \"High\": 141.58999633789062, \"Low\": 139.7100067138672, \"Open\": 140.91000366210938}, {\"Date\": \"2022-08-25T00:00:00\", \"Close\": 142.75999450683594, \"High\": 143.27000427246094, \"Low\": 140.63999938964844, \"Open\": 141.07000732421875}, {\"Date\": \"2022-08-26T00:00:00\", \"Close\": 129.13999938964844, \"High\": 144.00999450683594, \"Low\": 128.67999267578125, \"Open\": 143.63999938964844}, {\"Date\": \"2022-08-29T00:00:00\", \"Close\": 126.44000244140625, \"High\": 128.7899932861328, \"Low\": 125.2699966430664, \"Open\": 128.7899932861328}, {\"Date\": \"2022-08-30T00:00:00\", \"Close\": 124.86000061035156, \"High\": 127.73999786376953, \"Low\": 123.02999877929688, \"Open\": 126.88999938964844}, {\"Date\": \"2022-08-31T00:00:00\", \"Close\": 124.3499984741211, \"High\": 126.45999908447266, \"Low\": 123.61000061035156, \"Open\": 124.8499984741211}, {\"Date\": \"2022-09-01T00:00:00\", \"Close\": 125.62999725341797, \"High\": 126.38999938964844, \"Low\": 123.66999816894531, \"Open\": 124.30000305175781}, {\"Date\": \"2022-09-02T00:00:00\", \"Close\": 121.6500015258789, \"High\": 126.37000274658203, \"Low\": 121.1500015258789, \"Open\": 126.02999877929688}, {\"Date\": \"2022-09-06T00:00:00\", \"Close\": 116.5999984741211, \"High\": 121.5, \"Low\": 115.9800033569336, \"Open\": 121.36000061035156}, {\"Date\": \"2022-09-07T00:00:00\", \"Close\": 120.55000305175781, \"High\": 121.25, \"Low\": 116.0199966430664, \"Open\": 116.63999938964844}, {\"Date\": \"2022-09-08T00:00:00\", \"Close\": 119.2699966430664, \"High\": 119.79000091552734, \"Low\": 117.16000366210938, \"Open\": 118.38999938964844}, {\"Date\": \"2022-09-09T00:00:00\", \"Close\": 123.0999984741211, \"High\": 123.29000091552734, \"Low\": 119.87000274658203, \"Open\": 121.2699966430664}, {\"Date\": \"2022-09-12T00:00:00\", \"Close\": 124.25, \"High\": 126.5199966430664, \"Low\": 123.97000122070312, \"Open\": 124.31999969482422}, {\"Date\": \"2022-09-13T00:00:00\", \"Close\": 120.47000122070312, \"High\": 124.5999984741211, \"Low\": 120.2300033569336, \"Open\": 122.11000061035156}, {\"Date\": \"2022-09-14T00:00:00\", \"Close\": 117.52999877929688, \"High\": 120.58999633789062, \"Low\": 116.30999755859375, \"Open\": 120.58999633789062}, {\"Date\": \"2022-09-15T00:00:00\", \"Close\": 116.41999816894531, \"High\": 118.73999786376953, \"Low\": 116.06999969482422, \"Open\": 117.81999969482422}, {\"Date\": \"2022-09-16T00:00:00\", \"Close\": 116.61000061035156, \"High\": 117.30999755859375, \"Low\": 114.11000061035156, \"Open\": 114.69999694824219}, {\"Date\": \"2022-09-19T00:00:00\", \"Close\": 116.63999938964844, \"High\": 116.91000366210938, \"Low\": 115.27999877929688, \"Open\": 116.01000213623047}, {\"Date\": \"2022-09-20T00:00:00\", \"Close\": 116.5199966430664, \"High\": 117.19999694824219, \"Low\": 114.75, \"Open\": 115.30000305175781}, {\"Date\": \"2022-09-21T00:00:00\", \"Close\": 114.80999755859375, \"High\": 118.02999877929688, \"Low\": 114.80000305175781, \"Open\": 116.83000183105469}, {\"Date\": \"2022-09-22T00:00:00\", \"Close\": 114.13999938964844, \"High\": 115.05000305175781, \"Low\": 113.43000030517578, \"Open\": 114.16000366210938}, {\"Date\": \"2022-09-23T00:00:00\", \"Close\": 112.98999786376953, \"High\": 114.16999816894531, \"Low\": 111.62000274658203, \"Open\": 113.7300033569336}, {\"Date\": \"2022-09-26T00:00:00\", \"Close\": 113.0, \"High\": 113.80999755859375, \"Low\": 112.2300033569336, \"Open\": 112.76000213623047}, {\"Date\": \"2022-09-27T00:00:00\", \"Close\": 112.41000366210938, \"High\": 114.12999725341797, \"Low\": 111.41999816894531, \"Open\": 114.12999725341797}, {\"Date\": \"2022-09-28T00:00:00\", \"Close\": 114.27999877929688, \"High\": 114.70999908447266, \"Low\": 113.05999755859375, \"Open\": 113.51000213623047}, {\"Date\": \"2022-09-29T00:00:00\", \"Close\": 112.30000305175781, \"High\": 113.4000015258789, \"Low\": 111.5999984741211, \"Open\": 112.95999908447266}, {\"Date\": \"2022-09-30T00:00:00\", \"Close\": 110.5, \"High\": 113.1500015258789, \"Low\": 110.38999938964844, \"Open\": 112.0}, {\"Date\": \"2022-10-03T00:00:00\", \"Close\": 113.22000122070312, \"High\": 114.0199966430664, \"Low\": 110.91000366210938, \"Open\": 111.69000244140625}, {\"Date\": \"2022-10-04T00:00:00\", \"Close\": 115.62000274658203, \"High\": 115.9800033569336, \"Low\": 114.69000244140625, \"Open\": 114.73999786376953}, {\"Date\": \"2022-10-05T00:00:00\", \"Close\": 115.16999816894531, \"High\": 116.0999984741211, \"Low\": 113.41999816894531, \"Open\": 114.33999633789062}, {\"Date\": \"2022-10-06T00:00:00\", \"Close\": 111.12000274658203, \"High\": 114.94000244140625, \"Low\": 110.20999908447266, \"Open\": 114.3499984741211}, {\"Date\": \"2022-10-07T00:00:00\", \"Close\": 107.5199966430664, \"High\": 110.76000213623047, \"Low\": 107.08999633789062, \"Open\": 110.37000274658203}, {\"Date\": \"2022-10-10T00:00:00\", \"Close\": 108.45999908447266, \"High\": 109.12000274658203, \"Low\": 107.19000244140625, \"Open\": 108.52999877929688}, {\"Date\": \"2022-10-11T00:00:00\", \"Close\": 108.83999633789062, \"High\": 110.44999694824219, \"Low\": 107.94999694824219, \"Open\": 108.5}, {\"Date\": \"2022-10-12T00:00:00\", \"Close\": 108.94999694824219, \"High\": 109.69999694824219, \"Low\": 108.25, \"Open\": 108.56999969482422}, {\"Date\": \"2022-10-13T00:00:00\", \"Close\": 114.26000213623047, \"High\": 114.83000183105469, \"Low\": 107.06999969482422, \"Open\": 107.5}, {\"Date\": \"2022-10-14T00:00:00\", \"Close\": 113.62999725341797, \"High\": 115.16000366210938, \"Low\": 112.8499984741211, \"Open\": 114.26000213623047}, {\"Date\": \"2022-10-17T00:00:00\", \"Close\": 113.86000061035156, \"High\": 115.72000122070312, \"Low\": 113.29000091552734, \"Open\": 115.30999755859375}, {\"Date\": \"2022-10-18T00:00:00\", \"Close\": 115.94999694824219, \"High\": 116.4000015258789, \"Low\": 114.44999694824219, \"Open\": 115.73999786376953}, {\"Date\": \"2022-10-19T00:00:00\", \"Close\": 114.19999694824219, \"High\": 115.68000030517578, \"Low\": 113.23999786376953, \"Open\": 115.0999984741211}, {\"Date\": \"2022-10-20T00:00:00\", \"Close\": 113.11000061035156, \"High\": 115.6500015258789, \"Low\": 112.88999938964844, \"Open\": 113.9800033569336}, {\"Date\": \"2022-10-21T00:00:00\", \"Close\": 116.80999755859375, \"High\": 116.94000244140625, \"Low\": 113.05000305175781, \"Open\": 113.1500015258789}, {\"Date\": \"2022-10-24T00:00:00\", \"Close\": 118.37999725341797, \"High\": 119.13999938964844, \"Low\": 117.19000244140625, \"Open\": 117.52999877929688}, {\"Date\": \"2022-10-25T00:00:00\", \"Close\": 118.5, \"High\": 118.5999984741211, \"Low\": 113.1500015258789, \"Open\": 113.51000213623047}, {\"Date\": \"2022-10-26T00:00:00\", \"Close\": 122.69999694824219, \"High\": 123.29000091552734, \"Low\": 119.58999633789062, \"Open\": 119.58999633789062}, {\"Date\": \"2022-10-27T00:00:00\", \"Close\": 122.80000305175781, \"High\": 124.44999694824219, \"Low\": 122.02999877929688, \"Open\": 123.48999786376953}, {\"Date\": \"2022-10-28T00:00:00\", \"Close\": 126.5999984741211, \"High\": 126.66999816894531, \"Low\": 122.51000213623047, \"Open\": 122.9800033569336}]}}, {\"mode\": \"vega-lite\"});\n",
       "</script>"
      ],
      "text/plain": [
       "alt.LayerChart(...)"
      ]
     },
     "execution_count": 24,
     "metadata": {},
     "output_type": "execute_result"
    }
   ],
   "source": [
    "mmm = rawdata.loc[:, idx['Close':'Open', 'MMM']].droplevel('Symbol', axis=1).tail(60)\n",
    "\n",
    "import altair as alt\n",
    "\n",
    "open_close_color = alt.condition(\n",
    "    \"datum.Open <= datum.Close\",\n",
    "    alt.value(\"#06982d\"), # green for increase\n",
    "    alt.value(\"#ae1325\"), # red for decrease\n",
    ") \n",
    "\n",
    "base = alt.Chart(mmm.reset_index()).encode(\n",
    "    alt.X('Date:T',\n",
    "          axis=alt.Axis(\n",
    "              format='%m-%d-%Y',\n",
    "              labelAngle=-90)\n",
    "    ),\n",
    "    color=open_close_color\n",
    ")\n",
    "\n",
    "rule = base.mark_rule().encode(\n",
    "    alt.Y(\n",
    "        'Low:Q',\n",
    "        title='Price',\n",
    "        scale=alt.Scale(zero=False),\n",
    "    ),\n",
    "    alt.Y2('High:Q')\n",
    ")\n",
    "\n",
    "bar = base.mark_bar().encode(\n",
    "    alt.Y('Open:Q'),\n",
    "    alt.Y2('Close:Q')\n",
    ")\n",
    "\n",
    "rule + bar"
   ]
  },
  {
   "cell_type": "markdown",
   "metadata": {
    "slideshow": {
     "slide_type": "subslide"
    }
   },
   "source": [
    "### Example Figure: Adjusted close prices"
   ]
  },
  {
   "cell_type": "code",
   "execution_count": 25,
   "metadata": {
    "slideshow": {
     "slide_type": "-"
    }
   },
   "outputs": [
    {
     "data": {
      "text/html": [
       "<div>\n",
       "<style scoped>\n",
       "    .dataframe tbody tr th:only-of-type {\n",
       "        vertical-align: middle;\n",
       "    }\n",
       "\n",
       "    .dataframe tbody tr th {\n",
       "        vertical-align: top;\n",
       "    }\n",
       "\n",
       "    .dataframe thead tr th {\n",
       "        text-align: left;\n",
       "    }\n",
       "\n",
       "    .dataframe thead tr:last-of-type th {\n",
       "        text-align: right;\n",
       "    }\n",
       "</style>\n",
       "<table border=\"1\" class=\"dataframe\">\n",
       "  <thead>\n",
       "    <tr>\n",
       "      <th>Value</th>\n",
       "      <th colspan=\"5\" halign=\"left\">Adj Close</th>\n",
       "    </tr>\n",
       "    <tr>\n",
       "      <th>Symbol</th>\n",
       "      <th>MMM</th>\n",
       "      <th>MRK</th>\n",
       "      <th>PFE</th>\n",
       "      <th>PG</th>\n",
       "      <th>JNJ</th>\n",
       "    </tr>\n",
       "    <tr>\n",
       "      <th>Date</th>\n",
       "      <th></th>\n",
       "      <th></th>\n",
       "      <th></th>\n",
       "      <th></th>\n",
       "      <th></th>\n",
       "    </tr>\n",
       "  </thead>\n",
       "  <tbody>\n",
       "    <tr>\n",
       "      <th>2022-08-05</th>\n",
       "      <td>142.339218</td>\n",
       "      <td>85.545494</td>\n",
       "      <td>48.406906</td>\n",
       "      <td>142.804062</td>\n",
       "      <td>167.671997</td>\n",
       "    </tr>\n",
       "    <tr>\n",
       "      <th>2022-08-08</th>\n",
       "      <td>143.372406</td>\n",
       "      <td>86.602455</td>\n",
       "      <td>48.701653</td>\n",
       "      <td>143.346786</td>\n",
       "      <td>166.780273</td>\n",
       "    </tr>\n",
       "    <tr>\n",
       "      <th>2022-08-09</th>\n",
       "      <td>142.754410</td>\n",
       "      <td>87.610481</td>\n",
       "      <td>48.907974</td>\n",
       "      <td>143.011276</td>\n",
       "      <td>166.760666</td>\n",
       "    </tr>\n",
       "    <tr>\n",
       "      <th>2022-08-10</th>\n",
       "      <td>144.241440</td>\n",
       "      <td>87.287537</td>\n",
       "      <td>49.074997</td>\n",
       "      <td>144.363159</td>\n",
       "      <td>167.240814</td>\n",
       "    </tr>\n",
       "    <tr>\n",
       "      <th>2022-08-11</th>\n",
       "      <td>144.511795</td>\n",
       "      <td>87.033081</td>\n",
       "      <td>47.444077</td>\n",
       "      <td>143.336914</td>\n",
       "      <td>163.781738</td>\n",
       "    </tr>\n",
       "  </tbody>\n",
       "</table>\n",
       "</div>"
      ],
      "text/plain": [
       "Value        Adj Close                                              \n",
       "Symbol             MMM        MRK        PFE          PG         JNJ\n",
       "Date                                                                \n",
       "2022-08-05  142.339218  85.545494  48.406906  142.804062  167.671997\n",
       "2022-08-08  143.372406  86.602455  48.701653  143.346786  166.780273\n",
       "2022-08-09  142.754410  87.610481  48.907974  143.011276  166.760666\n",
       "2022-08-10  144.241440  87.287537  49.074997  144.363159  167.240814\n",
       "2022-08-11  144.511795  87.033081  47.444077  143.336914  163.781738"
      ]
     },
     "execution_count": 25,
     "metadata": {},
     "output_type": "execute_result"
    }
   ],
   "source": [
    "first10 = rawdata.loc[:, idx['Adj Close', ['MMM', 'MRK', 'PFE', 'PG', 'UNH', 'JNJ']]].tail(60)\n",
    "first10.head()"
   ]
  },
  {
   "cell_type": "markdown",
   "metadata": {
    "slideshow": {
     "slide_type": "subslide"
    }
   },
   "source": [
    "* Stacking transforms data into long-format:  \n",
    "    _Note: unstack does the opposite_"
   ]
  },
  {
   "cell_type": "code",
   "execution_count": 26,
   "metadata": {
    "slideshow": {
     "slide_type": "-"
    }
   },
   "outputs": [
    {
     "data": {
      "text/html": [
       "<div>\n",
       "<style scoped>\n",
       "    .dataframe tbody tr th:only-of-type {\n",
       "        vertical-align: middle;\n",
       "    }\n",
       "\n",
       "    .dataframe tbody tr th {\n",
       "        vertical-align: top;\n",
       "    }\n",
       "\n",
       "    .dataframe thead th {\n",
       "        text-align: right;\n",
       "    }\n",
       "</style>\n",
       "<table border=\"1\" class=\"dataframe\">\n",
       "  <thead>\n",
       "    <tr style=\"text-align: right;\">\n",
       "      <th></th>\n",
       "      <th>Value</th>\n",
       "      <th>Adj Close</th>\n",
       "    </tr>\n",
       "    <tr>\n",
       "      <th>Date</th>\n",
       "      <th>Symbol</th>\n",
       "      <th></th>\n",
       "    </tr>\n",
       "  </thead>\n",
       "  <tbody>\n",
       "    <tr>\n",
       "      <th rowspan=\"5\" valign=\"top\">2022-08-05</th>\n",
       "      <th>JNJ</th>\n",
       "      <td>167.671997</td>\n",
       "    </tr>\n",
       "    <tr>\n",
       "      <th>MMM</th>\n",
       "      <td>142.339218</td>\n",
       "    </tr>\n",
       "    <tr>\n",
       "      <th>MRK</th>\n",
       "      <td>85.545494</td>\n",
       "    </tr>\n",
       "    <tr>\n",
       "      <th>PFE</th>\n",
       "      <td>48.406906</td>\n",
       "    </tr>\n",
       "    <tr>\n",
       "      <th>PG</th>\n",
       "      <td>142.804062</td>\n",
       "    </tr>\n",
       "    <tr>\n",
       "      <th>...</th>\n",
       "      <th>...</th>\n",
       "      <td>...</td>\n",
       "    </tr>\n",
       "    <tr>\n",
       "      <th rowspan=\"5\" valign=\"top\">2022-10-28</th>\n",
       "      <th>JNJ</th>\n",
       "      <td>172.507782</td>\n",
       "    </tr>\n",
       "    <tr>\n",
       "      <th>MMM</th>\n",
       "      <td>123.499580</td>\n",
       "    </tr>\n",
       "    <tr>\n",
       "      <th>MRK</th>\n",
       "      <td>99.415565</td>\n",
       "    </tr>\n",
       "    <tr>\n",
       "      <th>PFE</th>\n",
       "      <td>46.599140</td>\n",
       "    </tr>\n",
       "    <tr>\n",
       "      <th>PG</th>\n",
       "      <td>134.376785</td>\n",
       "    </tr>\n",
       "  </tbody>\n",
       "</table>\n",
       "<p>300 rows × 1 columns</p>\n",
       "</div>"
      ],
      "text/plain": [
       "Value               Adj Close\n",
       "Date       Symbol            \n",
       "2022-08-05 JNJ     167.671997\n",
       "           MMM     142.339218\n",
       "           MRK      85.545494\n",
       "           PFE      48.406906\n",
       "           PG      142.804062\n",
       "...                       ...\n",
       "2022-10-28 JNJ     172.507782\n",
       "           MMM     123.499580\n",
       "           MRK      99.415565\n",
       "           PFE      46.599140\n",
       "           PG      134.376785\n",
       "\n",
       "[300 rows x 1 columns]"
      ]
     },
     "execution_count": 26,
     "metadata": {},
     "output_type": "execute_result"
    }
   ],
   "source": [
    "healthcare = first10.stack('Symbol')\n",
    "healthcare"
   ]
  },
  {
   "cell_type": "code",
   "execution_count": 27,
   "metadata": {
    "slideshow": {
     "slide_type": "subslide"
    }
   },
   "outputs": [
    {
     "data": {
      "text/html": [
       "\n",
       "<div id=\"altair-viz-d65194f9fc494f73a683f5355051984c\"></div>\n",
       "<script type=\"text/javascript\">\n",
       "  (function(spec, embedOpt){\n",
       "    let outputDiv = document.currentScript.previousElementSibling;\n",
       "    if (outputDiv.id !== \"altair-viz-d65194f9fc494f73a683f5355051984c\") {\n",
       "      outputDiv = document.getElementById(\"altair-viz-d65194f9fc494f73a683f5355051984c\");\n",
       "    }\n",
       "    const paths = {\n",
       "      \"vega\": \"https://cdn.jsdelivr.net/npm//vega@5?noext\",\n",
       "      \"vega-lib\": \"https://cdn.jsdelivr.net/npm//vega-lib?noext\",\n",
       "      \"vega-lite\": \"https://cdn.jsdelivr.net/npm//vega-lite@4.8.1?noext\",\n",
       "      \"vega-embed\": \"https://cdn.jsdelivr.net/npm//vega-embed@6?noext\",\n",
       "    };\n",
       "\n",
       "    function loadScript(lib) {\n",
       "      return new Promise(function(resolve, reject) {\n",
       "        var s = document.createElement('script');\n",
       "        s.src = paths[lib];\n",
       "        s.async = true;\n",
       "        s.onload = () => resolve(paths[lib]);\n",
       "        s.onerror = () => reject(`Error loading script: ${paths[lib]}`);\n",
       "        document.getElementsByTagName(\"head\")[0].appendChild(s);\n",
       "      });\n",
       "    }\n",
       "\n",
       "    function showError(err) {\n",
       "      outputDiv.innerHTML = `<div class=\"error\" style=\"color:red;\">${err}</div>`;\n",
       "      throw err;\n",
       "    }\n",
       "\n",
       "    function displayChart(vegaEmbed) {\n",
       "      vegaEmbed(outputDiv, spec, embedOpt)\n",
       "        .catch(err => showError(`Javascript Error: ${err.message}<br>This usually means there's a typo in your chart specification. See the javascript console for the full traceback.`));\n",
       "    }\n",
       "\n",
       "    if(typeof define === \"function\" && define.amd) {\n",
       "      requirejs.config({paths});\n",
       "      require([\"vega-embed\"], displayChart, err => showError(`Error loading script: ${err.message}`));\n",
       "    } else if (typeof vegaEmbed === \"function\") {\n",
       "      displayChart(vegaEmbed);\n",
       "    } else {\n",
       "      loadScript(\"vega\")\n",
       "        .then(() => loadScript(\"vega-lite\"))\n",
       "        .then(() => loadScript(\"vega-embed\"))\n",
       "        .catch(showError)\n",
       "        .then(() => displayChart(vegaEmbed));\n",
       "    }\n",
       "  })({\"config\": {\"view\": {\"continuousWidth\": 400, \"continuousHeight\": 300}}, \"data\": {\"name\": \"data-a92e8bfb01869ff1f776afb319f01708\"}, \"mark\": \"line\", \"encoding\": {\"color\": {\"type\": \"nominal\", \"field\": \"Symbol\"}, \"x\": {\"type\": \"temporal\", \"axis\": {\"format\": \"%m-%d-%Y\", \"labelAngle\": -90}, \"field\": \"Date\"}, \"y\": {\"type\": \"quantitative\", \"field\": \"Adj Close\"}}, \"$schema\": \"https://vega.github.io/schema/vega-lite/v4.8.1.json\", \"datasets\": {\"data-a92e8bfb01869ff1f776afb319f01708\": [{\"Date\": \"2022-08-05T00:00:00\", \"Symbol\": \"JNJ\", \"Adj Close\": 167.6719970703125}, {\"Date\": \"2022-08-05T00:00:00\", \"Symbol\": \"MMM\", \"Adj Close\": 142.33921813964844}, {\"Date\": \"2022-08-05T00:00:00\", \"Symbol\": \"MRK\", \"Adj Close\": 85.54549407958984}, {\"Date\": \"2022-08-05T00:00:00\", \"Symbol\": \"PFE\", \"Adj Close\": 48.40690612792969}, {\"Date\": \"2022-08-05T00:00:00\", \"Symbol\": \"PG\", \"Adj Close\": 142.80406188964844}, {\"Date\": \"2022-08-08T00:00:00\", \"Symbol\": \"JNJ\", \"Adj Close\": 166.7802734375}, {\"Date\": \"2022-08-08T00:00:00\", \"Symbol\": \"MMM\", \"Adj Close\": 143.37240600585938}, {\"Date\": \"2022-08-08T00:00:00\", \"Symbol\": \"MRK\", \"Adj Close\": 86.60245513916016}, {\"Date\": \"2022-08-08T00:00:00\", \"Symbol\": \"PFE\", \"Adj Close\": 48.70165252685547}, {\"Date\": \"2022-08-08T00:00:00\", \"Symbol\": \"PG\", \"Adj Close\": 143.34678649902344}, {\"Date\": \"2022-08-09T00:00:00\", \"Symbol\": \"JNJ\", \"Adj Close\": 166.7606658935547}, {\"Date\": \"2022-08-09T00:00:00\", \"Symbol\": \"MMM\", \"Adj Close\": 142.75440979003906}, {\"Date\": \"2022-08-09T00:00:00\", \"Symbol\": \"MRK\", \"Adj Close\": 87.61048126220703}, {\"Date\": \"2022-08-09T00:00:00\", \"Symbol\": \"PFE\", \"Adj Close\": 48.90797424316406}, {\"Date\": \"2022-08-09T00:00:00\", \"Symbol\": \"PG\", \"Adj Close\": 143.0112762451172}, {\"Date\": \"2022-08-10T00:00:00\", \"Symbol\": \"JNJ\", \"Adj Close\": 167.24081420898438}, {\"Date\": \"2022-08-10T00:00:00\", \"Symbol\": \"MMM\", \"Adj Close\": 144.24143981933594}, {\"Date\": \"2022-08-10T00:00:00\", \"Symbol\": \"MRK\", \"Adj Close\": 87.28753662109375}, {\"Date\": \"2022-08-10T00:00:00\", \"Symbol\": \"PFE\", \"Adj Close\": 49.07499694824219}, {\"Date\": \"2022-08-10T00:00:00\", \"Symbol\": \"PG\", \"Adj Close\": 144.3631591796875}, {\"Date\": \"2022-08-11T00:00:00\", \"Symbol\": \"JNJ\", \"Adj Close\": 163.78173828125}, {\"Date\": \"2022-08-11T00:00:00\", \"Symbol\": \"MMM\", \"Adj Close\": 144.5117950439453}, {\"Date\": \"2022-08-11T00:00:00\", \"Symbol\": \"MRK\", \"Adj Close\": 87.0330810546875}, {\"Date\": \"2022-08-11T00:00:00\", \"Symbol\": \"PFE\", \"Adj Close\": 47.44407653808594}, {\"Date\": \"2022-08-11T00:00:00\", \"Symbol\": \"PG\", \"Adj Close\": 143.3369140625}, {\"Date\": \"2022-08-12T00:00:00\", \"Symbol\": \"JNJ\", \"Adj Close\": 161.97872924804688}, {\"Date\": \"2022-08-12T00:00:00\", \"Symbol\": \"MMM\", \"Adj Close\": 147.00306701660156}, {\"Date\": \"2022-08-12T00:00:00\", \"Symbol\": \"MRK\", \"Adj Close\": 89.0784912109375}, {\"Date\": \"2022-08-12T00:00:00\", \"Symbol\": \"PFE\", \"Adj Close\": 49.23219299316406}, {\"Date\": \"2022-08-12T00:00:00\", \"Symbol\": \"PG\", \"Adj Close\": 144.72825622558594}, {\"Date\": \"2022-08-15T00:00:00\", \"Symbol\": \"JNJ\", \"Adj Close\": 162.75283813476562}, {\"Date\": \"2022-08-15T00:00:00\", \"Symbol\": \"MMM\", \"Adj Close\": 146.22091674804688}, {\"Date\": \"2022-08-15T00:00:00\", \"Symbol\": \"MRK\", \"Adj Close\": 88.66744995117188}, {\"Date\": \"2022-08-15T00:00:00\", \"Symbol\": \"PFE\", \"Adj Close\": 48.87849807739258}, {\"Date\": \"2022-08-15T00:00:00\", \"Symbol\": \"PG\", \"Adj Close\": 146.59323120117188}, {\"Date\": \"2022-08-16T00:00:00\", \"Symbol\": \"JNJ\", \"Adj Close\": 164.20310974121094}, {\"Date\": \"2022-08-16T00:00:00\", \"Symbol\": \"MMM\", \"Adj Close\": 145.09115600585938}, {\"Date\": \"2022-08-16T00:00:00\", \"Symbol\": \"MRK\", \"Adj Close\": 88.65766143798828}, {\"Date\": \"2022-08-16T00:00:00\", \"Symbol\": \"PFE\", \"Adj Close\": 48.986568450927734}, {\"Date\": \"2022-08-16T00:00:00\", \"Symbol\": \"PG\", \"Adj Close\": 147.94508361816406}, {\"Date\": \"2022-08-17T00:00:00\", \"Symbol\": \"JNJ\", \"Adj Close\": 164.21292114257812}, {\"Date\": \"2022-08-17T00:00:00\", \"Symbol\": \"MMM\", \"Adj Close\": 142.3585205078125}, {\"Date\": \"2022-08-17T00:00:00\", \"Symbol\": \"MRK\", \"Adj Close\": 89.09807586669922}, {\"Date\": \"2022-08-17T00:00:00\", \"Symbol\": \"PFE\", \"Adj Close\": 48.40690612792969}, {\"Date\": \"2022-08-17T00:00:00\", \"Symbol\": \"PG\", \"Adj Close\": 147.2642364501953}, {\"Date\": \"2022-08-18T00:00:00\", \"Symbol\": \"JNJ\", \"Adj Close\": 163.419189453125}, {\"Date\": \"2022-08-18T00:00:00\", \"Symbol\": \"MMM\", \"Adj Close\": 141.6343231201172}, {\"Date\": \"2022-08-18T00:00:00\", \"Symbol\": \"MRK\", \"Adj Close\": 89.45038604736328}, {\"Date\": \"2022-08-18T00:00:00\", \"Symbol\": \"PFE\", \"Adj Close\": 47.72899627685547}, {\"Date\": \"2022-08-18T00:00:00\", \"Symbol\": \"PG\", \"Adj Close\": 147.78721618652344}, {\"Date\": \"2022-08-19T00:00:00\", \"Symbol\": \"JNJ\", \"Adj Close\": 165.90814208984375}, {\"Date\": \"2022-08-19T00:00:00\", \"Symbol\": \"MMM\", \"Adj Close\": 141.64405822753906}, {\"Date\": \"2022-08-19T00:00:00\", \"Symbol\": \"MRK\", \"Adj Close\": 90.11588287353516}, {\"Date\": \"2022-08-19T00:00:00\", \"Symbol\": \"PFE\", \"Adj Close\": 48.28900909423828}, {\"Date\": \"2022-08-19T00:00:00\", \"Symbol\": \"PG\", \"Adj Close\": 147.7477264404297}, {\"Date\": \"2022-08-22T00:00:00\", \"Symbol\": \"JNJ\", \"Adj Close\": 165.3261260986328}, {\"Date\": \"2022-08-22T00:00:00\", \"Symbol\": \"MMM\", \"Adj Close\": 138.1224822998047}, {\"Date\": \"2022-08-22T00:00:00\", \"Symbol\": \"MRK\", \"Adj Close\": 89.21550750732422}, {\"Date\": \"2022-08-22T00:00:00\", \"Symbol\": \"PFE\", \"Adj Close\": 48.04338836669922}, {\"Date\": \"2022-08-22T00:00:00\", \"Symbol\": \"PG\", \"Adj Close\": 147.35304260253906}, {\"Date\": \"2022-08-23T00:00:00\", \"Symbol\": \"JNJ\", \"Adj Close\": 163.88584899902344}, {\"Date\": \"2022-08-23T00:00:00\", \"Symbol\": \"MMM\", \"Adj Close\": 138.278564453125}, {\"Date\": \"2022-08-23T00:00:00\", \"Symbol\": \"MRK\", \"Adj Close\": 88.2759780883789}, {\"Date\": \"2022-08-23T00:00:00\", \"Symbol\": \"PFE\", \"Adj Close\": 47.16897964477539}, {\"Date\": \"2022-08-23T00:00:00\", \"Symbol\": \"PG\", \"Adj Close\": 144.5111541748047}, {\"Date\": \"2022-08-24T00:00:00\", \"Symbol\": \"JNJ\", \"Adj Close\": 163.34327697753906}, {\"Date\": \"2022-08-24T00:00:00\", \"Symbol\": \"MMM\", \"Adj Close\": 137.58595275878906}, {\"Date\": \"2022-08-24T00:00:00\", \"Symbol\": \"MRK\", \"Adj Close\": 88.09004211425781}, {\"Date\": \"2022-08-24T00:00:00\", \"Symbol\": \"PFE\", \"Adj Close\": 46.59914016723633}, {\"Date\": \"2022-08-24T00:00:00\", \"Symbol\": \"PG\", \"Adj Close\": 143.88951110839844}, {\"Date\": \"2022-08-25T00:00:00\", \"Symbol\": \"JNJ\", \"Adj Close\": 164.87234497070312}, {\"Date\": \"2022-08-25T00:00:00\", \"Symbol\": \"MMM\", \"Adj Close\": 139.26382446289062}, {\"Date\": \"2022-08-25T00:00:00\", \"Symbol\": \"MRK\", \"Adj Close\": 88.34449005126953}, {\"Date\": \"2022-08-25T00:00:00\", \"Symbol\": \"PFE\", \"Adj Close\": 47.060909271240234}, {\"Date\": \"2022-08-25T00:00:00\", \"Symbol\": \"PG\", \"Adj Close\": 143.77110290527344}, {\"Date\": \"2022-08-26T00:00:00\", \"Symbol\": \"JNJ\", \"Adj Close\": 162.0509796142578}, {\"Date\": \"2022-08-26T00:00:00\", \"Symbol\": \"MMM\", \"Adj Close\": 125.97737884521484}, {\"Date\": \"2022-08-26T00:00:00\", \"Symbol\": \"MRK\", \"Adj Close\": 87.35603332519531}, {\"Date\": \"2022-08-26T00:00:00\", \"Symbol\": \"PFE\", \"Adj Close\": 45.99982452392578}, {\"Date\": \"2022-08-26T00:00:00\", \"Symbol\": \"PG\", \"Adj Close\": 140.40621948242188}, {\"Date\": \"2022-08-29T00:00:00\", \"Symbol\": \"JNJ\", \"Adj Close\": 160.79812622070312}, {\"Date\": \"2022-08-29T00:00:00\", \"Symbol\": \"MMM\", \"Adj Close\": 123.343505859375}, {\"Date\": \"2022-08-29T00:00:00\", \"Symbol\": \"MRK\", \"Adj Close\": 85.7216567993164}, {\"Date\": \"2022-08-29T00:00:00\", \"Symbol\": \"PFE\", \"Adj Close\": 45.42015838623047}, {\"Date\": \"2022-08-29T00:00:00\", \"Symbol\": \"PG\", \"Adj Close\": 139.81419372558594}, {\"Date\": \"2022-08-30T00:00:00\", \"Symbol\": \"JNJ\", \"Adj Close\": 160.23580932617188}, {\"Date\": \"2022-08-30T00:00:00\", \"Symbol\": \"MMM\", \"Adj Close\": 121.80219268798828}, {\"Date\": \"2022-08-30T00:00:00\", \"Symbol\": \"MRK\", \"Adj Close\": 85.02679443359375}, {\"Date\": \"2022-08-30T00:00:00\", \"Symbol\": \"PFE\", \"Adj Close\": 45.046817779541016}, {\"Date\": \"2022-08-30T00:00:00\", \"Symbol\": \"PG\", \"Adj Close\": 138.3241729736328}, {\"Date\": \"2022-08-31T00:00:00\", \"Symbol\": \"JNJ\", \"Adj Close\": 159.16055297851562}, {\"Date\": \"2022-08-31T00:00:00\", \"Symbol\": \"MMM\", \"Adj Close\": 121.3046875}, {\"Date\": \"2022-08-31T00:00:00\", \"Symbol\": \"MRK\", \"Adj Close\": 83.53922271728516}, {\"Date\": \"2022-08-31T00:00:00\", \"Symbol\": \"PFE\", \"Adj Close\": 44.437679290771484}, {\"Date\": \"2022-08-31T00:00:00\", \"Symbol\": \"PG\", \"Adj Close\": 136.11383056640625}, {\"Date\": \"2022-09-01T00:00:00\", \"Symbol\": \"JNJ\", \"Adj Close\": 163.1065216064453}, {\"Date\": \"2022-09-01T00:00:00\", \"Symbol\": \"MMM\", \"Adj Close\": 122.55333709716797}, {\"Date\": \"2022-09-01T00:00:00\", \"Symbol\": \"MRK\", \"Adj Close\": 85.2910385131836}, {\"Date\": \"2022-09-01T00:00:00\", \"Symbol\": \"PFE\", \"Adj Close\": 45.81315612792969}, {\"Date\": \"2022-09-01T00:00:00\", \"Symbol\": \"PG\", \"Adj Close\": 137.79132080078125}, {\"Date\": \"2022-09-02T00:00:00\", \"Symbol\": \"JNJ\", \"Adj Close\": 160.54164123535156}, {\"Date\": \"2022-09-02T00:00:00\", \"Symbol\": \"MMM\", \"Adj Close\": 118.67081451416016}, {\"Date\": \"2022-09-02T00:00:00\", \"Symbol\": \"MRK\", \"Adj Close\": 84.39067077636719}, {\"Date\": \"2022-09-02T00:00:00\", \"Symbol\": \"PFE\", \"Adj Close\": 44.899444580078125}, {\"Date\": \"2022-09-02T00:00:00\", \"Symbol\": \"PG\", \"Adj Close\": 135.3441619873047}, {\"Date\": \"2022-09-06T00:00:00\", \"Symbol\": \"JNJ\", \"Adj Close\": 160.97567749023438}, {\"Date\": \"2022-09-06T00:00:00\", \"Symbol\": \"MMM\", \"Adj Close\": 113.7444839477539}, {\"Date\": \"2022-09-06T00:00:00\", \"Symbol\": \"MRK\", \"Adj Close\": 84.57660675048828}, {\"Date\": \"2022-09-06T00:00:00\", \"Symbol\": \"PFE\", \"Adj Close\": 44.95839309692383}, {\"Date\": \"2022-09-06T00:00:00\", \"Symbol\": \"PG\", \"Adj Close\": 133.83441162109375}, {\"Date\": \"2022-09-07T00:00:00\", \"Symbol\": \"JNJ\", \"Adj Close\": 161.8536834716797}, {\"Date\": \"2022-09-07T00:00:00\", \"Symbol\": \"MMM\", \"Adj Close\": 117.5977554321289}, {\"Date\": \"2022-09-07T00:00:00\", \"Symbol\": \"MRK\", \"Adj Close\": 85.01702117919922}, {\"Date\": \"2022-09-07T00:00:00\", \"Symbol\": \"PFE\", \"Adj Close\": 45.32191467285156}, {\"Date\": \"2022-09-07T00:00:00\", \"Symbol\": \"PG\", \"Adj Close\": 135.85726928710938}, {\"Date\": \"2022-09-08T00:00:00\", \"Symbol\": \"JNJ\", \"Adj Close\": 163.1558380126953}, {\"Date\": \"2022-09-08T00:00:00\", \"Symbol\": \"MMM\", \"Adj Close\": 116.34909057617188}, {\"Date\": \"2022-09-08T00:00:00\", \"Symbol\": \"MRK\", \"Adj Close\": 85.5552749633789}, {\"Date\": \"2022-09-08T00:00:00\", \"Symbol\": \"PFE\", \"Adj Close\": 46.255271911621094}, {\"Date\": \"2022-09-08T00:00:00\", \"Symbol\": \"PG\", \"Adj Close\": 136.03488159179688}, {\"Date\": \"2022-09-09T00:00:00\", \"Symbol\": \"JNJ\", \"Adj Close\": 163.47152709960938}, {\"Date\": \"2022-09-09T00:00:00\", \"Symbol\": \"MMM\", \"Adj Close\": 120.08529663085938}, {\"Date\": \"2022-09-09T00:00:00\", \"Symbol\": \"MRK\", \"Adj Close\": 85.47698974609375}, {\"Date\": \"2022-09-09T00:00:00\", \"Symbol\": \"PFE\", \"Adj Close\": 47.001956939697266}, {\"Date\": \"2022-09-09T00:00:00\", \"Symbol\": \"PG\", \"Adj Close\": 138.1071014404297}, {\"Date\": \"2022-09-12T00:00:00\", \"Symbol\": \"JNJ\", \"Adj Close\": 163.4024658203125}, {\"Date\": \"2022-09-12T00:00:00\", \"Symbol\": \"MMM\", \"Adj Close\": 121.20713806152344}, {\"Date\": \"2022-09-12T00:00:00\", \"Symbol\": \"MRK\", \"Adj Close\": 86.27950286865234}, {\"Date\": \"2022-09-12T00:00:00\", \"Symbol\": \"PFE\", \"Adj Close\": 46.92335891723633}, {\"Date\": \"2022-09-12T00:00:00\", \"Symbol\": \"PG\", \"Adj Close\": 139.23199462890625}, {\"Date\": \"2022-09-13T00:00:00\", \"Symbol\": \"JNJ\", \"Adj Close\": 159.1506805419922}, {\"Date\": \"2022-09-13T00:00:00\", \"Symbol\": \"MMM\", \"Adj Close\": 117.51970672607422}, {\"Date\": \"2022-09-13T00:00:00\", \"Symbol\": \"MRK\", \"Adj Close\": 84.4395980834961}, {\"Date\": \"2022-09-13T00:00:00\", \"Symbol\": \"PFE\", \"Adj Close\": 45.380859375}, {\"Date\": \"2022-09-13T00:00:00\", \"Symbol\": \"PG\", \"Adj Close\": 136.35064697265625}, {\"Date\": \"2022-09-14T00:00:00\", \"Symbol\": \"JNJ\", \"Adj Close\": 162.4357147216797}, {\"Date\": \"2022-09-14T00:00:00\", \"Symbol\": \"MMM\", \"Adj Close\": 114.65170288085938}, {\"Date\": \"2022-09-14T00:00:00\", \"Symbol\": \"MRK\", \"Adj Close\": 85.78131866455078}, {\"Date\": \"2022-09-14T00:00:00\", \"Symbol\": \"PFE\", \"Adj Close\": 45.34156036376953}, {\"Date\": \"2022-09-14T00:00:00\", \"Symbol\": \"PG\", \"Adj Close\": 136.67626953125}, {\"Date\": \"2022-09-15T00:00:00\", \"Symbol\": \"JNJ\", \"Adj Close\": 162.8500213623047}, {\"Date\": \"2022-09-15T00:00:00\", \"Symbol\": \"MMM\", \"Adj Close\": 113.56889343261719}, {\"Date\": \"2022-09-15T00:00:00\", \"Symbol\": \"MRK\", \"Adj Close\": 85.58401489257812}, {\"Date\": \"2022-09-15T00:00:00\", \"Symbol\": \"PFE\", \"Adj Close\": 45.13523864746094}, {\"Date\": \"2022-09-15T00:00:00\", \"Symbol\": \"PG\", \"Adj Close\": 135.6204376220703}, {\"Date\": \"2022-09-16T00:00:00\", \"Symbol\": \"JNJ\", \"Adj Close\": 165.33599853515625}, {\"Date\": \"2022-09-16T00:00:00\", \"Symbol\": \"MMM\", \"Adj Close\": 113.75424194335938}, {\"Date\": \"2022-09-16T00:00:00\", \"Symbol\": \"MRK\", \"Adj Close\": 86.54097747802734}, {\"Date\": \"2022-09-16T00:00:00\", \"Symbol\": \"PFE\", \"Adj Close\": 45.223663330078125}, {\"Date\": \"2022-09-16T00:00:00\", \"Symbol\": \"PG\", \"Adj Close\": 136.44932556152344}, {\"Date\": \"2022-09-19T00:00:00\", \"Symbol\": \"JNJ\", \"Adj Close\": 164.03382873535156}, {\"Date\": \"2022-09-19T00:00:00\", \"Symbol\": \"MMM\", \"Adj Close\": 113.78350067138672}, {\"Date\": \"2022-09-19T00:00:00\", \"Symbol\": \"MRK\", \"Adj Close\": 85.4754867553711}, {\"Date\": \"2022-09-19T00:00:00\", \"Symbol\": \"PFE\", \"Adj Close\": 44.64399719238281}, {\"Date\": \"2022-09-19T00:00:00\", \"Symbol\": \"PG\", \"Adj Close\": 136.1631622314453}, {\"Date\": \"2022-09-20T00:00:00\", \"Symbol\": \"JNJ\", \"Adj Close\": 162.74151611328125}, {\"Date\": \"2022-09-20T00:00:00\", \"Symbol\": \"MMM\", \"Adj Close\": 113.66643524169922}, {\"Date\": \"2022-09-20T00:00:00\", \"Symbol\": \"MRK\", \"Adj Close\": 84.8440933227539}, {\"Date\": \"2022-09-20T00:00:00\", \"Symbol\": \"PFE\", \"Adj Close\": 43.98573303222656}, {\"Date\": \"2022-09-20T00:00:00\", \"Symbol\": \"PG\", \"Adj Close\": 135.67965698242188}, {\"Date\": \"2022-09-21T00:00:00\", \"Symbol\": \"JNJ\", \"Adj Close\": 161.07435607910156}, {\"Date\": \"2022-09-21T00:00:00\", \"Symbol\": \"MMM\", \"Adj Close\": 111.9983139038086}, {\"Date\": \"2022-09-21T00:00:00\", \"Symbol\": \"MRK\", \"Adj Close\": 83.39384460449219}, {\"Date\": \"2022-09-21T00:00:00\", \"Symbol\": \"PFE\", \"Adj Close\": 43.1506233215332}, {\"Date\": \"2022-09-21T00:00:00\", \"Symbol\": \"PG\", \"Adj Close\": 133.93307495117188}, {\"Date\": \"2022-09-22T00:00:00\", \"Symbol\": \"JNJ\", \"Adj Close\": 163.93515014648438}, {\"Date\": \"2022-09-22T00:00:00\", \"Symbol\": \"MMM\", \"Adj Close\": 111.34473419189453}, {\"Date\": \"2022-09-22T00:00:00\", \"Symbol\": \"MRK\", \"Adj Close\": 86.33379364013672}, {\"Date\": \"2022-09-22T00:00:00\", \"Symbol\": \"PFE\", \"Adj Close\": 43.78923797607422}, {\"Date\": \"2022-09-22T00:00:00\", \"Symbol\": \"PG\", \"Adj Close\": 134.40673828125}, {\"Date\": \"2022-09-23T00:00:00\", \"Symbol\": \"JNJ\", \"Adj Close\": 164.46788024902344}, {\"Date\": \"2022-09-23T00:00:00\", \"Symbol\": \"MMM\", \"Adj Close\": 110.22288513183594}, {\"Date\": \"2022-09-23T00:00:00\", \"Symbol\": \"MRK\", \"Adj Close\": 85.61360931396484}, {\"Date\": \"2022-09-23T00:00:00\", \"Symbol\": \"PFE\", \"Adj Close\": 43.30782699584961}, {\"Date\": \"2022-09-23T00:00:00\", \"Symbol\": \"PG\", \"Adj Close\": 133.78506469726562}, {\"Date\": \"2022-09-26T00:00:00\", \"Symbol\": \"JNJ\", \"Adj Close\": 163.46165466308594}, {\"Date\": \"2022-09-26T00:00:00\", \"Symbol\": \"MMM\", \"Adj Close\": 110.2326431274414}, {\"Date\": \"2022-09-26T00:00:00\", \"Symbol\": \"MRK\", \"Adj Close\": 85.02166748046875}, {\"Date\": \"2022-09-26T00:00:00\", \"Symbol\": \"PFE\", \"Adj Close\": 43.06220245361328}, {\"Date\": \"2022-09-26T00:00:00\", \"Symbol\": \"PG\", \"Adj Close\": 133.91334533691406}, {\"Date\": \"2022-09-27T00:00:00\", \"Symbol\": \"JNJ\", \"Adj Close\": 162.71192932128906}, {\"Date\": \"2022-09-27T00:00:00\", \"Symbol\": \"MMM\", \"Adj Close\": 109.65709686279297}, {\"Date\": \"2022-09-27T00:00:00\", \"Symbol\": \"MRK\", \"Adj Close\": 84.68624114990234}, {\"Date\": \"2022-09-27T00:00:00\", \"Symbol\": \"PFE\", \"Adj Close\": 43.31764602661133}, {\"Date\": \"2022-09-27T00:00:00\", \"Symbol\": \"PG\", \"Adj Close\": 130.23272705078125}, {\"Date\": \"2022-09-28T00:00:00\", \"Symbol\": \"JNJ\", \"Adj Close\": 164.11273193359375}, {\"Date\": \"2022-09-28T00:00:00\", \"Symbol\": \"MMM\", \"Adj Close\": 111.4813003540039}, {\"Date\": \"2022-09-28T00:00:00\", \"Symbol\": \"MRK\", \"Adj Close\": 85.61360931396484}, {\"Date\": \"2022-09-28T00:00:00\", \"Symbol\": \"PFE\", \"Adj Close\": 43.65169143676758}, {\"Date\": \"2022-09-28T00:00:00\", \"Symbol\": \"PG\", \"Adj Close\": 130.23272705078125}, {\"Date\": \"2022-09-29T00:00:00\", \"Symbol\": \"JNJ\", \"Adj Close\": 162.30746459960938}, {\"Date\": \"2022-09-29T00:00:00\", \"Symbol\": \"MMM\", \"Adj Close\": 109.54979705810547}, {\"Date\": \"2022-09-29T00:00:00\", \"Symbol\": \"MRK\", \"Adj Close\": 85.4754867553711}, {\"Date\": \"2022-09-29T00:00:00\", \"Symbol\": \"PFE\", \"Adj Close\": 43.38642120361328}, {\"Date\": \"2022-09-29T00:00:00\", \"Symbol\": \"PG\", \"Adj Close\": 126.99614715576172}, {\"Date\": \"2022-09-30T00:00:00\", \"Symbol\": \"JNJ\", \"Adj Close\": 161.15325927734375}, {\"Date\": \"2022-09-30T00:00:00\", \"Symbol\": \"MMM\", \"Adj Close\": 107.79386901855469}, {\"Date\": \"2022-09-30T00:00:00\", \"Symbol\": \"MRK\", \"Adj Close\": 84.96247863769531}, {\"Date\": \"2022-09-30T00:00:00\", \"Symbol\": \"PFE\", \"Adj Close\": 42.99342727661133}, {\"Date\": \"2022-09-30T00:00:00\", \"Symbol\": \"PG\", \"Adj Close\": 124.5785903930664}, {\"Date\": \"2022-10-03T00:00:00\", \"Symbol\": \"JNJ\", \"Adj Close\": 160.99542236328125}, {\"Date\": \"2022-10-03T00:00:00\", \"Symbol\": \"MMM\", \"Adj Close\": 110.44725799560547}, {\"Date\": \"2022-10-03T00:00:00\", \"Symbol\": \"MRK\", \"Adj Close\": 86.37325286865234}, {\"Date\": \"2022-10-03T00:00:00\", \"Symbol\": \"PFE\", \"Adj Close\": 43.36677169799805}, {\"Date\": \"2022-10-03T00:00:00\", \"Symbol\": \"PG\", \"Adj Close\": 126.80866241455078}, {\"Date\": \"2022-10-04T00:00:00\", \"Symbol\": \"JNJ\", \"Adj Close\": 163.38272094726562}, {\"Date\": \"2022-10-04T00:00:00\", \"Symbol\": \"MMM\", \"Adj Close\": 112.78848266601562}, {\"Date\": \"2022-10-04T00:00:00\", \"Symbol\": \"MRK\", \"Adj Close\": 87.20196533203125}, {\"Date\": \"2022-10-04T00:00:00\", \"Symbol\": \"PFE\", \"Adj Close\": 43.6811637878418}, {\"Date\": \"2022-10-04T00:00:00\", \"Symbol\": \"PG\", \"Adj Close\": 128.37762451171875}, {\"Date\": \"2022-10-05T00:00:00\", \"Symbol\": \"JNJ\", \"Adj Close\": 162.87962341308594}, {\"Date\": \"2022-10-05T00:00:00\", \"Symbol\": \"MMM\", \"Adj Close\": 112.34950256347656}, {\"Date\": \"2022-10-05T00:00:00\", \"Symbol\": \"MRK\", \"Adj Close\": 87.20196533203125}, {\"Date\": \"2022-10-05T00:00:00\", \"Symbol\": \"PFE\", \"Adj Close\": 43.34711837768555}, {\"Date\": \"2022-10-05T00:00:00\", \"Symbol\": \"PG\", \"Adj Close\": 127.48953247070312}, {\"Date\": \"2022-10-06T00:00:00\", \"Symbol\": \"JNJ\", \"Adj Close\": 159.7228546142578}, {\"Date\": \"2022-10-06T00:00:00\", \"Symbol\": \"MMM\", \"Adj Close\": 108.39868927001953}, {\"Date\": \"2022-10-06T00:00:00\", \"Symbol\": \"MRK\", \"Adj Close\": 86.26473236083984}, {\"Date\": \"2022-10-06T00:00:00\", \"Symbol\": \"PFE\", \"Adj Close\": 42.335166931152344}, {\"Date\": \"2022-10-06T00:00:00\", \"Symbol\": \"PG\", \"Adj Close\": 124.80554962158203}, {\"Date\": \"2022-10-07T00:00:00\", \"Symbol\": \"JNJ\", \"Adj Close\": 158.03594970703125}, {\"Date\": \"2022-10-07T00:00:00\", \"Symbol\": \"MMM\", \"Adj Close\": 104.88684844970703}, {\"Date\": \"2022-10-07T00:00:00\", \"Symbol\": \"MRK\", \"Adj Close\": 86.4225845336914}, {\"Date\": \"2022-10-07T00:00:00\", \"Symbol\": \"PFE\", \"Adj Close\": 41.578651428222656}, {\"Date\": \"2022-10-07T00:00:00\", \"Symbol\": \"PG\", \"Adj Close\": 122.62479400634766}, {\"Date\": \"2022-10-10T00:00:00\", \"Symbol\": \"JNJ\", \"Adj Close\": 158.2431182861328}, {\"Date\": \"2022-10-10T00:00:00\", \"Symbol\": \"MMM\", \"Adj Close\": 105.80382537841797}, {\"Date\": \"2022-10-10T00:00:00\", \"Symbol\": \"MRK\", \"Adj Close\": 89.26387786865234}, {\"Date\": \"2022-10-10T00:00:00\", \"Symbol\": \"PFE\", \"Adj Close\": 41.018638610839844}, {\"Date\": \"2022-10-10T00:00:00\", \"Symbol\": \"PG\", \"Adj Close\": 122.12155151367188}, {\"Date\": \"2022-10-11T00:00:00\", \"Symbol\": \"JNJ\", \"Adj Close\": 160.53176879882812}, {\"Date\": \"2022-10-11T00:00:00\", \"Symbol\": \"MMM\", \"Adj Close\": 106.17452239990234}, {\"Date\": \"2022-10-11T00:00:00\", \"Symbol\": \"MRK\", \"Adj Close\": 89.82621765136719}, {\"Date\": \"2022-10-11T00:00:00\", \"Symbol\": \"PFE\", \"Adj Close\": 41.1856575012207}, {\"Date\": \"2022-10-11T00:00:00\", \"Symbol\": \"PG\", \"Adj Close\": 122.58533477783203}, {\"Date\": \"2022-10-12T00:00:00\", \"Symbol\": \"JNJ\", \"Adj Close\": 160.49232482910156}, {\"Date\": \"2022-10-12T00:00:00\", \"Symbol\": \"MMM\", \"Adj Close\": 106.28182983398438}, {\"Date\": \"2022-10-12T00:00:00\", \"Symbol\": \"MRK\", \"Adj Close\": 89.20467376708984}, {\"Date\": \"2022-10-12T00:00:00\", \"Symbol\": \"PFE\", \"Adj Close\": 41.293731689453125}, {\"Date\": \"2022-10-12T00:00:00\", \"Symbol\": \"PG\", \"Adj Close\": 122.78268432617188}, {\"Date\": \"2022-10-13T00:00:00\", \"Symbol\": \"JNJ\", \"Adj Close\": 162.9190673828125}, {\"Date\": \"2022-10-13T00:00:00\", \"Symbol\": \"MMM\", \"Adj Close\": 111.46178436279297}, {\"Date\": \"2022-10-13T00:00:00\", \"Symbol\": \"MRK\", \"Adj Close\": 91.24685668945312}, {\"Date\": \"2022-10-13T00:00:00\", \"Symbol\": \"PFE\", \"Adj Close\": 42.22709274291992}, {\"Date\": \"2022-10-13T00:00:00\", \"Symbol\": \"PG\", \"Adj Close\": 124.6377944946289}, {\"Date\": \"2022-10-14T00:00:00\", \"Symbol\": \"JNJ\", \"Adj Close\": 162.2384033203125}, {\"Date\": \"2022-10-14T00:00:00\", \"Symbol\": \"MMM\", \"Adj Close\": 110.84721374511719}, {\"Date\": \"2022-10-14T00:00:00\", \"Symbol\": \"MRK\", \"Adj Close\": 90.94102478027344}, {\"Date\": \"2022-10-14T00:00:00\", \"Symbol\": \"PFE\", \"Adj Close\": 42.109195709228516}, {\"Date\": \"2022-10-14T00:00:00\", \"Symbol\": \"PG\", \"Adj Close\": 123.42407989501953}, {\"Date\": \"2022-10-17T00:00:00\", \"Symbol\": \"JNJ\", \"Adj Close\": 164.33963012695312}, {\"Date\": \"2022-10-17T00:00:00\", \"Symbol\": \"MMM\", \"Adj Close\": 111.07158660888672}, {\"Date\": \"2022-10-17T00:00:00\", \"Symbol\": \"MRK\", \"Adj Close\": 92.85494995117188}, {\"Date\": \"2022-10-17T00:00:00\", \"Symbol\": \"PFE\", \"Adj Close\": 42.88535690307617}, {\"Date\": \"2022-10-17T00:00:00\", \"Symbol\": \"PG\", \"Adj Close\": 125.65415954589844}, {\"Date\": \"2022-10-18T00:00:00\", \"Symbol\": \"JNJ\", \"Adj Close\": 163.7674560546875}, {\"Date\": \"2022-10-18T00:00:00\", \"Symbol\": \"MMM\", \"Adj Close\": 113.11039733886719}, {\"Date\": \"2022-10-18T00:00:00\", \"Symbol\": \"MRK\", \"Adj Close\": 93.33836364746094}, {\"Date\": \"2022-10-18T00:00:00\", \"Symbol\": \"PFE\", \"Adj Close\": 43.31764602661133}, {\"Date\": \"2022-10-18T00:00:00\", \"Symbol\": \"PG\", \"Adj Close\": 126.67051696777344}, {\"Date\": \"2022-10-19T00:00:00\", \"Symbol\": \"JNJ\", \"Adj Close\": 162.46530151367188}, {\"Date\": \"2022-10-19T00:00:00\", \"Symbol\": \"MMM\", \"Adj Close\": 111.40325164794922}, {\"Date\": \"2022-10-19T00:00:00\", \"Symbol\": \"MRK\", \"Adj Close\": 92.00650787353516}, {\"Date\": \"2022-10-19T00:00:00\", \"Symbol\": \"PFE\", \"Adj Close\": 42.35481262207031}, {\"Date\": \"2022-10-19T00:00:00\", \"Symbol\": \"PG\", \"Adj Close\": 127.84477233886719}, {\"Date\": \"2022-10-20T00:00:00\", \"Symbol\": \"JNJ\", \"Adj Close\": 162.87962341308594}, {\"Date\": \"2022-10-20T00:00:00\", \"Symbol\": \"MMM\", \"Adj Close\": 110.33995056152344}, {\"Date\": \"2022-10-20T00:00:00\", \"Symbol\": \"MRK\", \"Adj Close\": 91.69081115722656}, {\"Date\": \"2022-10-20T00:00:00\", \"Symbol\": \"PFE\", \"Adj Close\": 42.15831756591797}, {\"Date\": \"2022-10-20T00:00:00\", \"Symbol\": \"PG\", \"Adj Close\": 126.19810485839844}, {\"Date\": \"2022-10-21T00:00:00\", \"Symbol\": \"JNJ\", \"Adj Close\": 166.43099975585938}, {\"Date\": \"2022-10-21T00:00:00\", \"Symbol\": \"MMM\", \"Adj Close\": 113.94933319091797}, {\"Date\": \"2022-10-21T00:00:00\", \"Symbol\": \"MRK\", \"Adj Close\": 94.38410949707031}, {\"Date\": \"2022-10-21T00:00:00\", \"Symbol\": \"PFE\", \"Adj Close\": 44.16258239746094}, {\"Date\": \"2022-10-21T00:00:00\", \"Symbol\": \"PG\", \"Adj Close\": 127.77819061279297}, {\"Date\": \"2022-10-24T00:00:00\", \"Symbol\": \"JNJ\", \"Adj Close\": 168.67031860351562}, {\"Date\": \"2022-10-24T00:00:00\", \"Symbol\": \"MMM\", \"Adj Close\": 115.48088073730469}, {\"Date\": \"2022-10-24T00:00:00\", \"Symbol\": \"MRK\", \"Adj Close\": 96.06127166748047}, {\"Date\": \"2022-10-24T00:00:00\", \"Symbol\": \"PFE\", \"Adj Close\": 44.74224853515625}, {\"Date\": \"2022-10-24T00:00:00\", \"Symbol\": \"PG\", \"Adj Close\": 128.56326293945312}, {\"Date\": \"2022-10-25T00:00:00\", \"Symbol\": \"JNJ\", \"Adj Close\": 168.4039764404297}, {\"Date\": \"2022-10-25T00:00:00\", \"Symbol\": \"MMM\", \"Adj Close\": 115.59794616699219}, {\"Date\": \"2022-10-25T00:00:00\", \"Symbol\": \"MRK\", \"Adj Close\": 96.39669799804688}, {\"Date\": \"2022-10-25T00:00:00\", \"Symbol\": \"PFE\", \"Adj Close\": 44.79137420654297}, {\"Date\": \"2022-10-25T00:00:00\", \"Symbol\": \"PG\", \"Adj Close\": 130.04397583007812}, {\"Date\": \"2022-10-26T00:00:00\", \"Symbol\": \"JNJ\", \"Adj Close\": 169.8837127685547}, {\"Date\": \"2022-10-26T00:00:00\", \"Symbol\": \"MMM\", \"Adj Close\": 119.6950912475586}, {\"Date\": \"2022-10-26T00:00:00\", \"Symbol\": \"MRK\", \"Adj Close\": 97.08728790283203}, {\"Date\": \"2022-10-26T00:00:00\", \"Symbol\": \"PFE\", \"Adj Close\": 45.25313949584961}, {\"Date\": \"2022-10-26T00:00:00\", \"Symbol\": \"PG\", \"Adj Close\": 130.95823669433594}, {\"Date\": \"2022-10-27T00:00:00\", \"Symbol\": \"JNJ\", \"Adj Close\": 169.98236083984375}, {\"Date\": \"2022-10-27T00:00:00\", \"Symbol\": \"MMM\", \"Adj Close\": 119.79264831542969}, {\"Date\": \"2022-10-27T00:00:00\", \"Symbol\": \"MRK\", \"Adj Close\": 98.3994140625}, {\"Date\": \"2022-10-27T00:00:00\", \"Symbol\": \"PFE\", \"Adj Close\": 44.93874740600586}, {\"Date\": \"2022-10-27T00:00:00\", \"Symbol\": \"PG\", \"Adj Close\": 131.0576171875}, {\"Date\": \"2022-10-28T00:00:00\", \"Symbol\": \"JNJ\", \"Adj Close\": 172.50778198242188}, {\"Date\": \"2022-10-28T00:00:00\", \"Symbol\": \"MMM\", \"Adj Close\": 123.49958038330078}, {\"Date\": \"2022-10-28T00:00:00\", \"Symbol\": \"MRK\", \"Adj Close\": 99.41556549072266}, {\"Date\": \"2022-10-28T00:00:00\", \"Symbol\": \"PFE\", \"Adj Close\": 46.59914016723633}, {\"Date\": \"2022-10-28T00:00:00\", \"Symbol\": \"PG\", \"Adj Close\": 134.3767852783203}]}}, {\"mode\": \"vega-lite\"});\n",
       "</script>"
      ],
      "text/plain": [
       "alt.Chart(...)"
      ]
     },
     "execution_count": 27,
     "metadata": {},
     "output_type": "execute_result"
    }
   ],
   "source": [
    "base = alt.Chart(healthcare.reset_index()).mark_line().encode(\n",
    "    x=alt.X('Date:T',\n",
    "            axis=alt.Axis(\n",
    "                format='%m-%d-%Y',\n",
    "                labelAngle=-90)\n",
    "    ),\n",
    "    y='Adj Close:Q',\n",
    "    color='Symbol:N'\n",
    ")\n",
    "base"
   ]
  },
  {
   "cell_type": "markdown",
   "metadata": {
    "slideshow": {
     "slide_type": "subslide"
    }
   },
   "source": [
    "* Inspect missing values:  "
   ]
  },
  {
   "cell_type": "code",
   "execution_count": 28,
   "metadata": {
    "slideshow": {
     "slide_type": "-"
    }
   },
   "outputs": [
    {
     "data": {
      "text/plain": [
       "Symbol\n",
       "AAPL    0\n",
       "AXP     0\n",
       "BA      0\n",
       "BAC     0\n",
       "CAT     0\n",
       "CSCO    0\n",
       "CVX     0\n",
       "DD      0\n",
       "DIS     0\n",
       "GE      0\n",
       "HD      0\n",
       "HPQ     0\n",
       "IBM     0\n",
       "INTC    0\n",
       "JNJ     0\n",
       "JPM     0\n",
       "KO      0\n",
       "MCD     0\n",
       "MMM     0\n",
       "MRK     0\n",
       "MSFT    0\n",
       "PFE     0\n",
       "PG      0\n",
       "T       0\n",
       "TRV     0\n",
       "VZ      0\n",
       "WMT     0\n",
       "XOM     0\n",
       "dtype: int64"
      ]
     },
     "execution_count": 28,
     "metadata": {},
     "output_type": "execute_result"
    }
   ],
   "source": [
    "rawdata['Adj Close'].isna().sum(axis=0)"
   ]
  },
  {
   "cell_type": "code",
   "execution_count": 29,
   "metadata": {
    "slideshow": {
     "slide_type": "subslide"
    }
   },
   "outputs": [
    {
     "data": {
      "text/html": [
       "<div>\n",
       "<style scoped>\n",
       "    .dataframe tbody tr th:only-of-type {\n",
       "        vertical-align: middle;\n",
       "    }\n",
       "\n",
       "    .dataframe tbody tr th {\n",
       "        vertical-align: top;\n",
       "    }\n",
       "\n",
       "    .dataframe thead tr th {\n",
       "        text-align: left;\n",
       "    }\n",
       "\n",
       "    .dataframe thead tr:last-of-type th {\n",
       "        text-align: right;\n",
       "    }\n",
       "</style>\n",
       "<table border=\"1\" class=\"dataframe\">\n",
       "  <thead>\n",
       "    <tr>\n",
       "      <th>Value</th>\n",
       "      <th colspan=\"10\" halign=\"left\">Adj Close</th>\n",
       "      <th>...</th>\n",
       "      <th colspan=\"10\" halign=\"left\">Volume</th>\n",
       "    </tr>\n",
       "    <tr>\n",
       "      <th>Symbol</th>\n",
       "      <th>AAPL</th>\n",
       "      <th>AXP</th>\n",
       "      <th>BA</th>\n",
       "      <th>BAC</th>\n",
       "      <th>CAT</th>\n",
       "      <th>CSCO</th>\n",
       "      <th>CVX</th>\n",
       "      <th>DD</th>\n",
       "      <th>DIS</th>\n",
       "      <th>GE</th>\n",
       "      <th>...</th>\n",
       "      <th>MMM</th>\n",
       "      <th>MRK</th>\n",
       "      <th>MSFT</th>\n",
       "      <th>PFE</th>\n",
       "      <th>PG</th>\n",
       "      <th>T</th>\n",
       "      <th>TRV</th>\n",
       "      <th>VZ</th>\n",
       "      <th>WMT</th>\n",
       "      <th>XOM</th>\n",
       "    </tr>\n",
       "    <tr>\n",
       "      <th>Date</th>\n",
       "      <th></th>\n",
       "      <th></th>\n",
       "      <th></th>\n",
       "      <th></th>\n",
       "      <th></th>\n",
       "      <th></th>\n",
       "      <th></th>\n",
       "      <th></th>\n",
       "      <th></th>\n",
       "      <th></th>\n",
       "      <th></th>\n",
       "      <th></th>\n",
       "      <th></th>\n",
       "      <th></th>\n",
       "      <th></th>\n",
       "      <th></th>\n",
       "      <th></th>\n",
       "      <th></th>\n",
       "      <th></th>\n",
       "      <th></th>\n",
       "      <th></th>\n",
       "    </tr>\n",
       "  </thead>\n",
       "  <tbody>\n",
       "  </tbody>\n",
       "</table>\n",
       "<p>0 rows × 168 columns</p>\n",
       "</div>"
      ],
      "text/plain": [
       "Empty DataFrame\n",
       "Columns: [(Adj Close, AAPL), (Adj Close, AXP), (Adj Close, BA), (Adj Close, BAC), (Adj Close, CAT), (Adj Close, CSCO), (Adj Close, CVX), (Adj Close, DD), (Adj Close, DIS), (Adj Close, GE), (Adj Close, HD), (Adj Close, HPQ), (Adj Close, IBM), (Adj Close, INTC), (Adj Close, JNJ), (Adj Close, JPM), (Adj Close, KO), (Adj Close, MCD), (Adj Close, MMM), (Adj Close, MRK), (Adj Close, MSFT), (Adj Close, PFE), (Adj Close, PG), (Adj Close, T), (Adj Close, TRV), (Adj Close, VZ), (Adj Close, WMT), (Adj Close, XOM), (Close, AAPL), (Close, AXP), (Close, BA), (Close, BAC), (Close, CAT), (Close, CSCO), (Close, CVX), (Close, DD), (Close, DIS), (Close, GE), (Close, HD), (Close, HPQ), (Close, IBM), (Close, INTC), (Close, JNJ), (Close, JPM), (Close, KO), (Close, MCD), (Close, MMM), (Close, MRK), (Close, MSFT), (Close, PFE), (Close, PG), (Close, T), (Close, TRV), (Close, VZ), (Close, WMT), (Close, XOM), (High, AAPL), (High, AXP), (High, BA), (High, BAC), (High, CAT), (High, CSCO), (High, CVX), (High, DD), (High, DIS), (High, GE), (High, HD), (High, HPQ), (High, IBM), (High, INTC), (High, JNJ), (High, JPM), (High, KO), (High, MCD), (High, MMM), (High, MRK), (High, MSFT), (High, PFE), (High, PG), (High, T), (High, TRV), (High, VZ), (High, WMT), (High, XOM), (Low, AAPL), (Low, AXP), (Low, BA), (Low, BAC), (Low, CAT), (Low, CSCO), (Low, CVX), (Low, DD), (Low, DIS), (Low, GE), (Low, HD), (Low, HPQ), (Low, IBM), (Low, INTC), (Low, JNJ), (Low, JPM), ...]\n",
       "Index: []\n",
       "\n",
       "[0 rows x 168 columns]"
      ]
     },
     "execution_count": 29,
     "metadata": {},
     "output_type": "execute_result"
    }
   ],
   "source": [
    "anymissing = rawdata['Adj Close'].isna().any(axis=1)\n",
    "rawdata.loc[anymissing]"
   ]
  },
  {
   "cell_type": "markdown",
   "metadata": {
    "slideshow": {
     "slide_type": "subslide"
    }
   },
   "source": [
    "* Raytheon bought United Technologies in April  \n",
    "    Let's remove UTX and keep other recent data\n",
    "* Remove missing day: '1999-12-31'\n",
    "* Fill '2001-09-12', '2016-01-18' with [`pandas.DataFrame.fillna()`](https://pandas.pydata.org/pandas-docs/stable/reference/api/pandas.DataFrame.fillna.html#pandas.DataFrame.fillna)"
   ]
  },
  {
   "cell_type": "code",
   "execution_count": 30,
   "metadata": {
    "slideshow": {
     "slide_type": "-"
    }
   },
   "outputs": [],
   "source": [
    "data_all = pd.concat([\n",
    "    rawdata.loc[:, idx[:, :'TRV']], \n",
    "    rawdata.loc[:, idx[:, 'VZ':]], \n",
    "], axis=1).fillna(method='pad').loc['2000-01-03':]\n",
    "\n",
    "data_all.columns = data_all.columns.set_names(['Value', 'Symbol'])"
   ]
  },
  {
   "cell_type": "markdown",
   "metadata": {
    "slideshow": {
     "slide_type": "subslide"
    }
   },
   "source": [
    "* Double check: did we remove all missing values?"
   ]
  },
  {
   "cell_type": "code",
   "execution_count": 31,
   "metadata": {
    "slideshow": {
     "slide_type": "-"
    }
   },
   "outputs": [
    {
     "data": {
      "text/plain": [
       "False"
      ]
     },
     "execution_count": 31,
     "metadata": {},
     "output_type": "execute_result"
    }
   ],
   "source": [
    "(data_all.isna().sum(axis=None)>0).any()"
   ]
  },
  {
   "cell_type": "markdown",
   "metadata": {
    "slideshow": {
     "slide_type": "subslide"
    }
   },
   "source": [
    "* Reset symbols to what is in `data` variable"
   ]
  },
  {
   "cell_type": "code",
   "execution_count": 32,
   "metadata": {
    "slideshow": {
     "slide_type": "-"
    }
   },
   "outputs": [
    {
     "data": {
      "text/html": [
       "<div>\n",
       "<style scoped>\n",
       "    .dataframe tbody tr th:only-of-type {\n",
       "        vertical-align: middle;\n",
       "    }\n",
       "\n",
       "    .dataframe tbody tr th {\n",
       "        vertical-align: top;\n",
       "    }\n",
       "\n",
       "    .dataframe thead th {\n",
       "        text-align: right;\n",
       "    }\n",
       "</style>\n",
       "<table border=\"1\" class=\"dataframe\">\n",
       "  <thead>\n",
       "    <tr style=\"text-align: right;\">\n",
       "      <th></th>\n",
       "      <th>name</th>\n",
       "    </tr>\n",
       "    <tr>\n",
       "      <th>code</th>\n",
       "      <th></th>\n",
       "    </tr>\n",
       "  </thead>\n",
       "  <tbody>\n",
       "    <tr>\n",
       "      <th>AAPL</th>\n",
       "      <td>Apple Inc (AAPL)</td>\n",
       "    </tr>\n",
       "    <tr>\n",
       "      <th>AXP</th>\n",
       "      <td>American Express Co. (AXP)</td>\n",
       "    </tr>\n",
       "    <tr>\n",
       "      <th>BA</th>\n",
       "      <td>The Boeing Co. (BA)</td>\n",
       "    </tr>\n",
       "    <tr>\n",
       "      <th>BAC</th>\n",
       "      <td>Bank of America Corp. (BAC)</td>\n",
       "    </tr>\n",
       "    <tr>\n",
       "      <th>CAT</th>\n",
       "      <td>Caterpillar Inc. (CAT)</td>\n",
       "    </tr>\n",
       "    <tr>\n",
       "      <th>CSCO</th>\n",
       "      <td>Cisco Systems Inc. (CSCO)</td>\n",
       "    </tr>\n",
       "    <tr>\n",
       "      <th>CVX</th>\n",
       "      <td>Chevron Corporation (CVX)</td>\n",
       "    </tr>\n",
       "    <tr>\n",
       "      <th>DD</th>\n",
       "      <td>E.I. du Pont de Nemours and Co. (DD)</td>\n",
       "    </tr>\n",
       "    <tr>\n",
       "      <th>DIS</th>\n",
       "      <td>Disney (Walt) Co. (The) (DIS)</td>\n",
       "    </tr>\n",
       "    <tr>\n",
       "      <th>GE</th>\n",
       "      <td>General Electric Co (GE)</td>\n",
       "    </tr>\n",
       "    <tr>\n",
       "      <th>HD</th>\n",
       "      <td>Home Depot Inc (HD)</td>\n",
       "    </tr>\n",
       "    <tr>\n",
       "      <th>HPQ</th>\n",
       "      <td>Hewlett-Packard Co (HPQ)</td>\n",
       "    </tr>\n",
       "    <tr>\n",
       "      <th>IBM</th>\n",
       "      <td>International Business Machines Corp (IBM)</td>\n",
       "    </tr>\n",
       "    <tr>\n",
       "      <th>INTC</th>\n",
       "      <td>Intel Corp (INTC)</td>\n",
       "    </tr>\n",
       "    <tr>\n",
       "      <th>JNJ</th>\n",
       "      <td>Johnson &amp; Johnson (JNJ)</td>\n",
       "    </tr>\n",
       "    <tr>\n",
       "      <th>JPM</th>\n",
       "      <td>JP Morgan Chase (JPM)</td>\n",
       "    </tr>\n",
       "    <tr>\n",
       "      <th>KO</th>\n",
       "      <td>Coca-Cola Co (The) (KO)</td>\n",
       "    </tr>\n",
       "    <tr>\n",
       "      <th>MCD</th>\n",
       "      <td>McDonald's Corp (MCD)</td>\n",
       "    </tr>\n",
       "    <tr>\n",
       "      <th>MMM</th>\n",
       "      <td>3M Co (MMM)</td>\n",
       "    </tr>\n",
       "    <tr>\n",
       "      <th>MRK</th>\n",
       "      <td>Merck &amp; Co. Inc (MRK)</td>\n",
       "    </tr>\n",
       "    <tr>\n",
       "      <th>MSFT</th>\n",
       "      <td>Microsoft Corporation (MSFT)</td>\n",
       "    </tr>\n",
       "    <tr>\n",
       "      <th>PFE</th>\n",
       "      <td>Pfizer Inc (PFE)</td>\n",
       "    </tr>\n",
       "    <tr>\n",
       "      <th>PG</th>\n",
       "      <td>Procter &amp; Gamble Co. (PG)</td>\n",
       "    </tr>\n",
       "    <tr>\n",
       "      <th>T</th>\n",
       "      <td>AT&amp;T Inc (T)</td>\n",
       "    </tr>\n",
       "    <tr>\n",
       "      <th>TRV</th>\n",
       "      <td>Travelers Companies Inc (The) (TRV)</td>\n",
       "    </tr>\n",
       "    <tr>\n",
       "      <th>VZ</th>\n",
       "      <td>Verizon Communications Inc (VZ)</td>\n",
       "    </tr>\n",
       "    <tr>\n",
       "      <th>WMT</th>\n",
       "      <td>Wal-Mart Stores (WMT)</td>\n",
       "    </tr>\n",
       "    <tr>\n",
       "      <th>XOM</th>\n",
       "      <td>Exxon Mobil Corp. (XOM)</td>\n",
       "    </tr>\n",
       "  </tbody>\n",
       "</table>\n",
       "</div>"
      ],
      "text/plain": [
       "                                            name\n",
       "code                                            \n",
       "AAPL                            Apple Inc (AAPL)\n",
       "AXP                   American Express Co. (AXP)\n",
       "BA                           The Boeing Co. (BA)\n",
       "BAC                  Bank of America Corp. (BAC)\n",
       "CAT                       Caterpillar Inc. (CAT)\n",
       "CSCO                   Cisco Systems Inc. (CSCO)\n",
       "CVX                    Chevron Corporation (CVX)\n",
       "DD          E.I. du Pont de Nemours and Co. (DD)\n",
       "DIS                Disney (Walt) Co. (The) (DIS)\n",
       "GE                      General Electric Co (GE)\n",
       "HD                           Home Depot Inc (HD)\n",
       "HPQ                     Hewlett-Packard Co (HPQ)\n",
       "IBM   International Business Machines Corp (IBM)\n",
       "INTC                           Intel Corp (INTC)\n",
       "JNJ                      Johnson & Johnson (JNJ)\n",
       "JPM                        JP Morgan Chase (JPM)\n",
       "KO                       Coca-Cola Co (The) (KO)\n",
       "MCD                        McDonald's Corp (MCD)\n",
       "MMM                                  3M Co (MMM)\n",
       "MRK                        Merck & Co. Inc (MRK)\n",
       "MSFT                Microsoft Corporation (MSFT)\n",
       "PFE                             Pfizer Inc (PFE)\n",
       "PG                     Procter & Gamble Co. (PG)\n",
       "T                                   AT&T Inc (T)\n",
       "TRV          Travelers Companies Inc (The) (TRV)\n",
       "VZ               Verizon Communications Inc (VZ)\n",
       "WMT                        Wal-Mart Stores (WMT)\n",
       "XOM                      Exxon Mobil Corp. (XOM)"
      ]
     },
     "execution_count": 32,
     "metadata": {},
     "output_type": "execute_result"
    }
   ],
   "source": [
    "symbols = symbols.loc[data_all.columns.levels[1].to_list()]\n",
    "symbols"
   ]
  },
  {
   "cell_type": "code",
   "execution_count": 33,
   "metadata": {
    "slideshow": {
     "slide_type": "subslide"
    }
   },
   "outputs": [
    {
     "data": {
      "text/html": [
       "<div>\n",
       "<style scoped>\n",
       "    .dataframe tbody tr th:only-of-type {\n",
       "        vertical-align: middle;\n",
       "    }\n",
       "\n",
       "    .dataframe tbody tr th {\n",
       "        vertical-align: top;\n",
       "    }\n",
       "\n",
       "    .dataframe thead tr th {\n",
       "        text-align: left;\n",
       "    }\n",
       "\n",
       "    .dataframe thead tr:last-of-type th {\n",
       "        text-align: right;\n",
       "    }\n",
       "</style>\n",
       "<table border=\"1\" class=\"dataframe\">\n",
       "  <thead>\n",
       "    <tr>\n",
       "      <th>Value</th>\n",
       "      <th colspan=\"10\" halign=\"left\">Adj Close</th>\n",
       "      <th>...</th>\n",
       "      <th>High</th>\n",
       "      <th colspan=\"3\" halign=\"left\">Low</th>\n",
       "      <th colspan=\"3\" halign=\"left\">Open</th>\n",
       "      <th colspan=\"3\" halign=\"left\">Volume</th>\n",
       "    </tr>\n",
       "    <tr>\n",
       "      <th>Symbol</th>\n",
       "      <th>AAPL</th>\n",
       "      <th>AXP</th>\n",
       "      <th>BA</th>\n",
       "      <th>BAC</th>\n",
       "      <th>CAT</th>\n",
       "      <th>CSCO</th>\n",
       "      <th>CVX</th>\n",
       "      <th>DD</th>\n",
       "      <th>DIS</th>\n",
       "      <th>GE</th>\n",
       "      <th>...</th>\n",
       "      <th>XOM</th>\n",
       "      <th>VZ</th>\n",
       "      <th>WMT</th>\n",
       "      <th>XOM</th>\n",
       "      <th>VZ</th>\n",
       "      <th>WMT</th>\n",
       "      <th>XOM</th>\n",
       "      <th>VZ</th>\n",
       "      <th>WMT</th>\n",
       "      <th>XOM</th>\n",
       "    </tr>\n",
       "    <tr>\n",
       "      <th>Date</th>\n",
       "      <th></th>\n",
       "      <th></th>\n",
       "      <th></th>\n",
       "      <th></th>\n",
       "      <th></th>\n",
       "      <th></th>\n",
       "      <th></th>\n",
       "      <th></th>\n",
       "      <th></th>\n",
       "      <th></th>\n",
       "      <th></th>\n",
       "      <th></th>\n",
       "      <th></th>\n",
       "      <th></th>\n",
       "      <th></th>\n",
       "      <th></th>\n",
       "      <th></th>\n",
       "      <th></th>\n",
       "      <th></th>\n",
       "      <th></th>\n",
       "      <th></th>\n",
       "    </tr>\n",
       "  </thead>\n",
       "  <tbody>\n",
       "    <tr>\n",
       "      <th>2000-01-03</th>\n",
       "      <td>0.850643</td>\n",
       "      <td>33.436104</td>\n",
       "      <td>25.940285</td>\n",
       "      <td>13.356878</td>\n",
       "      <td>13.171323</td>\n",
       "      <td>38.065071</td>\n",
       "      <td>17.849821</td>\n",
       "      <td>29.800083</td>\n",
       "      <td>23.115253</td>\n",
       "      <td>164.768661</td>\n",
       "      <td>...</td>\n",
       "      <td>40.37500</td>\n",
       "      <td>53.622120</td>\n",
       "      <td>65.5000</td>\n",
       "      <td>38.93750</td>\n",
       "      <td>54.521442</td>\n",
       "      <td>68.375</td>\n",
       "      <td>39.75000</td>\n",
       "      <td>4663843</td>\n",
       "      <td>8369900</td>\n",
       "      <td>13458200</td>\n",
       "    </tr>\n",
       "    <tr>\n",
       "      <th>2000-01-04</th>\n",
       "      <td>0.778926</td>\n",
       "      <td>32.173595</td>\n",
       "      <td>25.899946</td>\n",
       "      <td>12.564081</td>\n",
       "      <td>13.002030</td>\n",
       "      <td>35.929550</td>\n",
       "      <td>17.849821</td>\n",
       "      <td>28.985552</td>\n",
       "      <td>24.469284</td>\n",
       "      <td>158.177887</td>\n",
       "      <td>...</td>\n",
       "      <td>39.09375</td>\n",
       "      <td>51.486229</td>\n",
       "      <td>64.1875</td>\n",
       "      <td>38.25000</td>\n",
       "      <td>53.678326</td>\n",
       "      <td>65.500</td>\n",
       "      <td>38.68750</td>\n",
       "      <td>5005878</td>\n",
       "      <td>6745100</td>\n",
       "      <td>14510800</td>\n",
       "    </tr>\n",
       "    <tr>\n",
       "      <th>2000-01-05</th>\n",
       "      <td>0.790324</td>\n",
       "      <td>31.356422</td>\n",
       "      <td>27.513651</td>\n",
       "      <td>12.701962</td>\n",
       "      <td>13.306756</td>\n",
       "      <td>35.819477</td>\n",
       "      <td>18.169998</td>\n",
       "      <td>29.926455</td>\n",
       "      <td>25.484812</td>\n",
       "      <td>157.903275</td>\n",
       "      <td>...</td>\n",
       "      <td>40.87500</td>\n",
       "      <td>52.610382</td>\n",
       "      <td>62.1875</td>\n",
       "      <td>38.90625</td>\n",
       "      <td>53.060043</td>\n",
       "      <td>63.875</td>\n",
       "      <td>39.00000</td>\n",
       "      <td>6368681</td>\n",
       "      <td>7018700</td>\n",
       "      <td>17485000</td>\n",
       "    </tr>\n",
       "    <tr>\n",
       "      <th>2000-01-06</th>\n",
       "      <td>0.721931</td>\n",
       "      <td>31.995262</td>\n",
       "      <td>27.796032</td>\n",
       "      <td>13.787753</td>\n",
       "      <td>13.983953</td>\n",
       "      <td>35.225052</td>\n",
       "      <td>18.943766</td>\n",
       "      <td>30.769075</td>\n",
       "      <td>24.469284</td>\n",
       "      <td>160.014435</td>\n",
       "      <td>...</td>\n",
       "      <td>42.90625</td>\n",
       "      <td>52.497967</td>\n",
       "      <td>62.6875</td>\n",
       "      <td>40.09375</td>\n",
       "      <td>53.678326</td>\n",
       "      <td>63.000</td>\n",
       "      <td>40.31250</td>\n",
       "      <td>4705763</td>\n",
       "      <td>6544500</td>\n",
       "      <td>19461600</td>\n",
       "    </tr>\n",
       "    <tr>\n",
       "      <th>2000-01-07</th>\n",
       "      <td>0.756128</td>\n",
       "      <td>32.461098</td>\n",
       "      <td>28.602896</td>\n",
       "      <td>13.425812</td>\n",
       "      <td>14.441051</td>\n",
       "      <td>37.294529</td>\n",
       "      <td>19.277287</td>\n",
       "      <td>31.457182</td>\n",
       "      <td>24.082420</td>\n",
       "      <td>166.210388</td>\n",
       "      <td>...</td>\n",
       "      <td>43.12500</td>\n",
       "      <td>51.992096</td>\n",
       "      <td>64.5000</td>\n",
       "      <td>42.00000</td>\n",
       "      <td>52.947628</td>\n",
       "      <td>64.500</td>\n",
       "      <td>42.96875</td>\n",
       "      <td>5043907</td>\n",
       "      <td>7976900</td>\n",
       "      <td>16603800</td>\n",
       "    </tr>\n",
       "  </tbody>\n",
       "</table>\n",
       "<p>5 rows × 168 columns</p>\n",
       "</div>"
      ],
      "text/plain": [
       "Value      Adj Close                                                         \\\n",
       "Symbol          AAPL        AXP         BA        BAC        CAT       CSCO   \n",
       "Date                                                                          \n",
       "2000-01-03  0.850643  33.436104  25.940285  13.356878  13.171323  38.065071   \n",
       "2000-01-04  0.778926  32.173595  25.899946  12.564081  13.002030  35.929550   \n",
       "2000-01-05  0.790324  31.356422  27.513651  12.701962  13.306756  35.819477   \n",
       "2000-01-06  0.721931  31.995262  27.796032  13.787753  13.983953  35.225052   \n",
       "2000-01-07  0.756128  32.461098  28.602896  13.425812  14.441051  37.294529   \n",
       "\n",
       "Value                                                    ...      High  \\\n",
       "Symbol            CVX         DD        DIS          GE  ...       XOM   \n",
       "Date                                                     ...             \n",
       "2000-01-03  17.849821  29.800083  23.115253  164.768661  ...  40.37500   \n",
       "2000-01-04  17.849821  28.985552  24.469284  158.177887  ...  39.09375   \n",
       "2000-01-05  18.169998  29.926455  25.484812  157.903275  ...  40.87500   \n",
       "2000-01-06  18.943766  30.769075  24.469284  160.014435  ...  42.90625   \n",
       "2000-01-07  19.277287  31.457182  24.082420  166.210388  ...  43.12500   \n",
       "\n",
       "Value             Low                          Open                    \\\n",
       "Symbol             VZ      WMT       XOM         VZ     WMT       XOM   \n",
       "Date                                                                    \n",
       "2000-01-03  53.622120  65.5000  38.93750  54.521442  68.375  39.75000   \n",
       "2000-01-04  51.486229  64.1875  38.25000  53.678326  65.500  38.68750   \n",
       "2000-01-05  52.610382  62.1875  38.90625  53.060043  63.875  39.00000   \n",
       "2000-01-06  52.497967  62.6875  40.09375  53.678326  63.000  40.31250   \n",
       "2000-01-07  51.992096  64.5000  42.00000  52.947628  64.500  42.96875   \n",
       "\n",
       "Value        Volume                     \n",
       "Symbol           VZ      WMT       XOM  \n",
       "Date                                    \n",
       "2000-01-03  4663843  8369900  13458200  \n",
       "2000-01-04  5005878  6745100  14510800  \n",
       "2000-01-05  6368681  7018700  17485000  \n",
       "2000-01-06  4705763  6544500  19461600  \n",
       "2000-01-07  5043907  7976900  16603800  \n",
       "\n",
       "[5 rows x 168 columns]"
      ]
     },
     "execution_count": 33,
     "metadata": {},
     "output_type": "execute_result"
    }
   ],
   "source": [
    "data_all.head()"
   ]
  },
  {
   "cell_type": "markdown",
   "metadata": {
    "slideshow": {
     "slide_type": "subslide"
    }
   },
   "source": [
    "### Adjusted Close\n",
    "\n",
    "* [Adjusted closing prices](https://help.yahoo.com/kb/SLN28256.html) accounts for splits, etc"
   ]
  },
  {
   "cell_type": "code",
   "execution_count": 34,
   "metadata": {
    "slideshow": {
     "slide_type": "-"
    }
   },
   "outputs": [
    {
     "data": {
      "text/html": [
       "<div>\n",
       "<style scoped>\n",
       "    .dataframe tbody tr th:only-of-type {\n",
       "        vertical-align: middle;\n",
       "    }\n",
       "\n",
       "    .dataframe tbody tr th {\n",
       "        vertical-align: top;\n",
       "    }\n",
       "\n",
       "    .dataframe thead th {\n",
       "        text-align: right;\n",
       "    }\n",
       "</style>\n",
       "<table border=\"1\" class=\"dataframe\">\n",
       "  <thead>\n",
       "    <tr style=\"text-align: right;\">\n",
       "      <th>Symbol</th>\n",
       "      <th>AAPL</th>\n",
       "      <th>AXP</th>\n",
       "      <th>BA</th>\n",
       "      <th>BAC</th>\n",
       "      <th>CAT</th>\n",
       "      <th>CSCO</th>\n",
       "      <th>CVX</th>\n",
       "      <th>DD</th>\n",
       "      <th>DIS</th>\n",
       "      <th>GE</th>\n",
       "      <th>...</th>\n",
       "      <th>MMM</th>\n",
       "      <th>MRK</th>\n",
       "      <th>MSFT</th>\n",
       "      <th>PFE</th>\n",
       "      <th>PG</th>\n",
       "      <th>T</th>\n",
       "      <th>TRV</th>\n",
       "      <th>VZ</th>\n",
       "      <th>WMT</th>\n",
       "      <th>XOM</th>\n",
       "    </tr>\n",
       "    <tr>\n",
       "      <th>Date</th>\n",
       "      <th></th>\n",
       "      <th></th>\n",
       "      <th></th>\n",
       "      <th></th>\n",
       "      <th></th>\n",
       "      <th></th>\n",
       "      <th></th>\n",
       "      <th></th>\n",
       "      <th></th>\n",
       "      <th></th>\n",
       "      <th></th>\n",
       "      <th></th>\n",
       "      <th></th>\n",
       "      <th></th>\n",
       "      <th></th>\n",
       "      <th></th>\n",
       "      <th></th>\n",
       "      <th></th>\n",
       "      <th></th>\n",
       "      <th></th>\n",
       "      <th></th>\n",
       "    </tr>\n",
       "  </thead>\n",
       "  <tbody>\n",
       "    <tr>\n",
       "      <th>2000-01-03</th>\n",
       "      <td>0.850643</td>\n",
       "      <td>33.436104</td>\n",
       "      <td>25.940285</td>\n",
       "      <td>13.356878</td>\n",
       "      <td>13.171323</td>\n",
       "      <td>38.065071</td>\n",
       "      <td>17.849821</td>\n",
       "      <td>29.800083</td>\n",
       "      <td>23.115253</td>\n",
       "      <td>164.768661</td>\n",
       "      <td>...</td>\n",
       "      <td>25.525522</td>\n",
       "      <td>27.435095</td>\n",
       "      <td>36.361561</td>\n",
       "      <td>13.733079</td>\n",
       "      <td>28.968676</td>\n",
       "      <td>7.381409</td>\n",
       "      <td>18.308657</td>\n",
       "      <td>18.767641</td>\n",
       "      <td>44.220299</td>\n",
       "      <td>18.984547</td>\n",
       "    </tr>\n",
       "    <tr>\n",
       "      <th>2000-01-04</th>\n",
       "      <td>0.778926</td>\n",
       "      <td>32.173595</td>\n",
       "      <td>25.899946</td>\n",
       "      <td>12.564081</td>\n",
       "      <td>13.002030</td>\n",
       "      <td>35.929550</td>\n",
       "      <td>17.849821</td>\n",
       "      <td>28.985552</td>\n",
       "      <td>24.469284</td>\n",
       "      <td>158.177887</td>\n",
       "      <td>...</td>\n",
       "      <td>24.511259</td>\n",
       "      <td>26.471582</td>\n",
       "      <td>35.133278</td>\n",
       "      <td>13.221455</td>\n",
       "      <td>28.411270</td>\n",
       "      <td>6.949518</td>\n",
       "      <td>18.065924</td>\n",
       "      <td>18.160978</td>\n",
       "      <td>42.565651</td>\n",
       "      <td>18.620926</td>\n",
       "    </tr>\n",
       "    <tr>\n",
       "      <th>2000-01-05</th>\n",
       "      <td>0.790324</td>\n",
       "      <td>31.356422</td>\n",
       "      <td>27.513651</td>\n",
       "      <td>12.701962</td>\n",
       "      <td>13.306756</td>\n",
       "      <td>35.819477</td>\n",
       "      <td>18.169998</td>\n",
       "      <td>29.926455</td>\n",
       "      <td>25.484812</td>\n",
       "      <td>157.903275</td>\n",
       "      <td>...</td>\n",
       "      <td>25.221237</td>\n",
       "      <td>27.511169</td>\n",
       "      <td>35.503693</td>\n",
       "      <td>13.436866</td>\n",
       "      <td>27.870735</td>\n",
       "      <td>7.057490</td>\n",
       "      <td>17.927223</td>\n",
       "      <td>18.767641</td>\n",
       "      <td>41.696953</td>\n",
       "      <td>19.636055</td>\n",
       "    </tr>\n",
       "    <tr>\n",
       "      <th>2000-01-06</th>\n",
       "      <td>0.721931</td>\n",
       "      <td>31.995262</td>\n",
       "      <td>27.796032</td>\n",
       "      <td>13.787753</td>\n",
       "      <td>13.983953</td>\n",
       "      <td>35.225052</td>\n",
       "      <td>18.943766</td>\n",
       "      <td>30.769075</td>\n",
       "      <td>24.469284</td>\n",
       "      <td>160.014435</td>\n",
       "      <td>...</td>\n",
       "      <td>27.249743</td>\n",
       "      <td>27.739374</td>\n",
       "      <td>34.314407</td>\n",
       "      <td>13.921565</td>\n",
       "      <td>29.154482</td>\n",
       "      <td>6.920746</td>\n",
       "      <td>18.273975</td>\n",
       "      <td>18.672314</td>\n",
       "      <td>42.151981</td>\n",
       "      <td>20.651190</td>\n",
       "    </tr>\n",
       "    <tr>\n",
       "      <th>2000-01-07</th>\n",
       "      <td>0.756128</td>\n",
       "      <td>32.461098</td>\n",
       "      <td>28.602896</td>\n",
       "      <td>13.425812</td>\n",
       "      <td>14.441051</td>\n",
       "      <td>37.294529</td>\n",
       "      <td>19.277287</td>\n",
       "      <td>31.457182</td>\n",
       "      <td>24.082420</td>\n",
       "      <td>166.210388</td>\n",
       "      <td>...</td>\n",
       "      <td>27.790697</td>\n",
       "      <td>30.401758</td>\n",
       "      <td>34.762833</td>\n",
       "      <td>14.864026</td>\n",
       "      <td>31.485491</td>\n",
       "      <td>6.980069</td>\n",
       "      <td>19.002157</td>\n",
       "      <td>18.534437</td>\n",
       "      <td>45.337158</td>\n",
       "      <td>20.590586</td>\n",
       "    </tr>\n",
       "  </tbody>\n",
       "</table>\n",
       "<p>5 rows × 28 columns</p>\n",
       "</div>"
      ],
      "text/plain": [
       "Symbol          AAPL        AXP         BA        BAC        CAT       CSCO  \\\n",
       "Date                                                                          \n",
       "2000-01-03  0.850643  33.436104  25.940285  13.356878  13.171323  38.065071   \n",
       "2000-01-04  0.778926  32.173595  25.899946  12.564081  13.002030  35.929550   \n",
       "2000-01-05  0.790324  31.356422  27.513651  12.701962  13.306756  35.819477   \n",
       "2000-01-06  0.721931  31.995262  27.796032  13.787753  13.983953  35.225052   \n",
       "2000-01-07  0.756128  32.461098  28.602896  13.425812  14.441051  37.294529   \n",
       "\n",
       "Symbol            CVX         DD        DIS          GE  ...        MMM  \\\n",
       "Date                                                     ...              \n",
       "2000-01-03  17.849821  29.800083  23.115253  164.768661  ...  25.525522   \n",
       "2000-01-04  17.849821  28.985552  24.469284  158.177887  ...  24.511259   \n",
       "2000-01-05  18.169998  29.926455  25.484812  157.903275  ...  25.221237   \n",
       "2000-01-06  18.943766  30.769075  24.469284  160.014435  ...  27.249743   \n",
       "2000-01-07  19.277287  31.457182  24.082420  166.210388  ...  27.790697   \n",
       "\n",
       "Symbol            MRK       MSFT        PFE         PG         T        TRV  \\\n",
       "Date                                                                          \n",
       "2000-01-03  27.435095  36.361561  13.733079  28.968676  7.381409  18.308657   \n",
       "2000-01-04  26.471582  35.133278  13.221455  28.411270  6.949518  18.065924   \n",
       "2000-01-05  27.511169  35.503693  13.436866  27.870735  7.057490  17.927223   \n",
       "2000-01-06  27.739374  34.314407  13.921565  29.154482  6.920746  18.273975   \n",
       "2000-01-07  30.401758  34.762833  14.864026  31.485491  6.980069  19.002157   \n",
       "\n",
       "Symbol             VZ        WMT        XOM  \n",
       "Date                                         \n",
       "2000-01-03  18.767641  44.220299  18.984547  \n",
       "2000-01-04  18.160978  42.565651  18.620926  \n",
       "2000-01-05  18.767641  41.696953  19.636055  \n",
       "2000-01-06  18.672314  42.151981  20.651190  \n",
       "2000-01-07  18.534437  45.337158  20.590586  \n",
       "\n",
       "[5 rows x 28 columns]"
      ]
     },
     "execution_count": 34,
     "metadata": {},
     "output_type": "execute_result"
    }
   ],
   "source": [
    "data = data_all['Adj Close']\n",
    "data.head()"
   ]
  },
  {
   "cell_type": "markdown",
   "metadata": {
    "slideshow": {
     "slide_type": "subslide"
    }
   },
   "source": [
    "### Log returns from stock prices\n",
    "\n",
    "* Data is price per share\n",
    "* We need daily returns from the prices\n",
    "* Given the prices $P_t$ and $P_{t-1}$ for time $t$, the return is, \n",
    "$$ R_t = \\frac{P_t - P_{t-1}}{P_{t-1}} = \\frac{P_t}{P_{t-1}} - 1 $$"
   ]
  },
  {
   "cell_type": "markdown",
   "metadata": {
    "slideshow": {
     "slide_type": "subslide"
    }
   },
   "source": [
    "* Approximation $\\log(1+x)\\approx x$ is good when $x$ is small\n",
    "* Since daily returns of stocks are small, calculate as returns,\n",
    "$$ r_t = \\log(1 + R_t) = \\log\\left(\\frac{P_t}{P_{t-1}}\\right) = \\log(P_t) - \\log(P_{t-1})$$\n",
    "So, in order to compute the log-returns, compute the difference of log prices:"
   ]
  },
  {
   "cell_type": "code",
   "execution_count": 35,
   "metadata": {
    "slideshow": {
     "slide_type": "subslide"
    }
   },
   "outputs": [
    {
     "data": {
      "text/html": [
       "<div>\n",
       "<style scoped>\n",
       "    .dataframe tbody tr th:only-of-type {\n",
       "        vertical-align: middle;\n",
       "    }\n",
       "\n",
       "    .dataframe tbody tr th {\n",
       "        vertical-align: top;\n",
       "    }\n",
       "\n",
       "    .dataframe thead th {\n",
       "        text-align: right;\n",
       "    }\n",
       "</style>\n",
       "<table border=\"1\" class=\"dataframe\">\n",
       "  <thead>\n",
       "    <tr style=\"text-align: right;\">\n",
       "      <th>Symbol</th>\n",
       "      <th>AAPL</th>\n",
       "      <th>AXP</th>\n",
       "      <th>BA</th>\n",
       "      <th>BAC</th>\n",
       "      <th>CAT</th>\n",
       "      <th>CSCO</th>\n",
       "      <th>CVX</th>\n",
       "      <th>DD</th>\n",
       "      <th>DIS</th>\n",
       "      <th>GE</th>\n",
       "      <th>...</th>\n",
       "      <th>MMM</th>\n",
       "      <th>MRK</th>\n",
       "      <th>MSFT</th>\n",
       "      <th>PFE</th>\n",
       "      <th>PG</th>\n",
       "      <th>T</th>\n",
       "      <th>TRV</th>\n",
       "      <th>VZ</th>\n",
       "      <th>WMT</th>\n",
       "      <th>XOM</th>\n",
       "    </tr>\n",
       "    <tr>\n",
       "      <th>Date</th>\n",
       "      <th></th>\n",
       "      <th></th>\n",
       "      <th></th>\n",
       "      <th></th>\n",
       "      <th></th>\n",
       "      <th></th>\n",
       "      <th></th>\n",
       "      <th></th>\n",
       "      <th></th>\n",
       "      <th></th>\n",
       "      <th></th>\n",
       "      <th></th>\n",
       "      <th></th>\n",
       "      <th></th>\n",
       "      <th></th>\n",
       "      <th></th>\n",
       "      <th></th>\n",
       "      <th></th>\n",
       "      <th></th>\n",
       "      <th></th>\n",
       "      <th></th>\n",
       "    </tr>\n",
       "  </thead>\n",
       "  <tbody>\n",
       "    <tr>\n",
       "      <th>2000-01-03</th>\n",
       "      <td>NaN</td>\n",
       "      <td>NaN</td>\n",
       "      <td>NaN</td>\n",
       "      <td>NaN</td>\n",
       "      <td>NaN</td>\n",
       "      <td>NaN</td>\n",
       "      <td>NaN</td>\n",
       "      <td>NaN</td>\n",
       "      <td>NaN</td>\n",
       "      <td>NaN</td>\n",
       "      <td>...</td>\n",
       "      <td>NaN</td>\n",
       "      <td>NaN</td>\n",
       "      <td>NaN</td>\n",
       "      <td>NaN</td>\n",
       "      <td>NaN</td>\n",
       "      <td>NaN</td>\n",
       "      <td>NaN</td>\n",
       "      <td>NaN</td>\n",
       "      <td>NaN</td>\n",
       "      <td>NaN</td>\n",
       "    </tr>\n",
       "    <tr>\n",
       "      <th>2000-01-04</th>\n",
       "      <td>-0.088077</td>\n",
       "      <td>-0.038490</td>\n",
       "      <td>-0.001556</td>\n",
       "      <td>-0.061189</td>\n",
       "      <td>-0.012936</td>\n",
       "      <td>-0.057737</td>\n",
       "      <td>0.000000</td>\n",
       "      <td>-0.027714</td>\n",
       "      <td>0.056926</td>\n",
       "      <td>-0.040822</td>\n",
       "      <td>...</td>\n",
       "      <td>-0.040546</td>\n",
       "      <td>-0.035751</td>\n",
       "      <td>-0.034363</td>\n",
       "      <td>-0.037967</td>\n",
       "      <td>-0.019429</td>\n",
       "      <td>-0.060292</td>\n",
       "      <td>-0.013346</td>\n",
       "      <td>-0.032859</td>\n",
       "      <td>-0.038136</td>\n",
       "      <td>-0.019339</td>\n",
       "    </tr>\n",
       "    <tr>\n",
       "      <th>2000-01-05</th>\n",
       "      <td>0.014527</td>\n",
       "      <td>-0.025727</td>\n",
       "      <td>0.060441</td>\n",
       "      <td>0.010914</td>\n",
       "      <td>0.023166</td>\n",
       "      <td>-0.003068</td>\n",
       "      <td>0.017778</td>\n",
       "      <td>0.031945</td>\n",
       "      <td>0.040664</td>\n",
       "      <td>-0.001738</td>\n",
       "      <td>...</td>\n",
       "      <td>0.028554</td>\n",
       "      <td>0.038520</td>\n",
       "      <td>0.010488</td>\n",
       "      <td>0.016161</td>\n",
       "      <td>-0.019209</td>\n",
       "      <td>0.015417</td>\n",
       "      <td>-0.007707</td>\n",
       "      <td>0.032859</td>\n",
       "      <td>-0.020620</td>\n",
       "      <td>0.053081</td>\n",
       "    </tr>\n",
       "    <tr>\n",
       "      <th>2000-01-06</th>\n",
       "      <td>-0.090514</td>\n",
       "      <td>0.020169</td>\n",
       "      <td>0.010211</td>\n",
       "      <td>0.082024</td>\n",
       "      <td>0.049639</td>\n",
       "      <td>-0.016734</td>\n",
       "      <td>0.041703</td>\n",
       "      <td>0.027767</td>\n",
       "      <td>-0.040664</td>\n",
       "      <td>0.013281</td>\n",
       "      <td>...</td>\n",
       "      <td>0.077358</td>\n",
       "      <td>0.008261</td>\n",
       "      <td>-0.034071</td>\n",
       "      <td>0.035437</td>\n",
       "      <td>0.045031</td>\n",
       "      <td>-0.019566</td>\n",
       "      <td>0.019158</td>\n",
       "      <td>-0.005092</td>\n",
       "      <td>0.010854</td>\n",
       "      <td>0.050406</td>\n",
       "    </tr>\n",
       "    <tr>\n",
       "      <th>2000-01-07</th>\n",
       "      <td>0.046281</td>\n",
       "      <td>0.014455</td>\n",
       "      <td>0.028615</td>\n",
       "      <td>-0.026602</td>\n",
       "      <td>0.032164</td>\n",
       "      <td>0.057089</td>\n",
       "      <td>0.017453</td>\n",
       "      <td>0.022117</td>\n",
       "      <td>-0.015936</td>\n",
       "      <td>0.037990</td>\n",
       "      <td>...</td>\n",
       "      <td>0.019657</td>\n",
       "      <td>0.091648</td>\n",
       "      <td>0.012983</td>\n",
       "      <td>0.065505</td>\n",
       "      <td>0.076918</td>\n",
       "      <td>0.008535</td>\n",
       "      <td>0.039075</td>\n",
       "      <td>-0.007411</td>\n",
       "      <td>0.072845</td>\n",
       "      <td>-0.002939</td>\n",
       "    </tr>\n",
       "  </tbody>\n",
       "</table>\n",
       "<p>5 rows × 28 columns</p>\n",
       "</div>"
      ],
      "text/plain": [
       "Symbol          AAPL       AXP        BA       BAC       CAT      CSCO  \\\n",
       "Date                                                                     \n",
       "2000-01-03       NaN       NaN       NaN       NaN       NaN       NaN   \n",
       "2000-01-04 -0.088077 -0.038490 -0.001556 -0.061189 -0.012936 -0.057737   \n",
       "2000-01-05  0.014527 -0.025727  0.060441  0.010914  0.023166 -0.003068   \n",
       "2000-01-06 -0.090514  0.020169  0.010211  0.082024  0.049639 -0.016734   \n",
       "2000-01-07  0.046281  0.014455  0.028615 -0.026602  0.032164  0.057089   \n",
       "\n",
       "Symbol           CVX        DD       DIS        GE  ...       MMM       MRK  \\\n",
       "Date                                                ...                       \n",
       "2000-01-03       NaN       NaN       NaN       NaN  ...       NaN       NaN   \n",
       "2000-01-04  0.000000 -0.027714  0.056926 -0.040822  ... -0.040546 -0.035751   \n",
       "2000-01-05  0.017778  0.031945  0.040664 -0.001738  ...  0.028554  0.038520   \n",
       "2000-01-06  0.041703  0.027767 -0.040664  0.013281  ...  0.077358  0.008261   \n",
       "2000-01-07  0.017453  0.022117 -0.015936  0.037990  ...  0.019657  0.091648   \n",
       "\n",
       "Symbol          MSFT       PFE        PG         T       TRV        VZ  \\\n",
       "Date                                                                     \n",
       "2000-01-03       NaN       NaN       NaN       NaN       NaN       NaN   \n",
       "2000-01-04 -0.034363 -0.037967 -0.019429 -0.060292 -0.013346 -0.032859   \n",
       "2000-01-05  0.010488  0.016161 -0.019209  0.015417 -0.007707  0.032859   \n",
       "2000-01-06 -0.034071  0.035437  0.045031 -0.019566  0.019158 -0.005092   \n",
       "2000-01-07  0.012983  0.065505  0.076918  0.008535  0.039075 -0.007411   \n",
       "\n",
       "Symbol           WMT       XOM  \n",
       "Date                            \n",
       "2000-01-03       NaN       NaN  \n",
       "2000-01-04 -0.038136 -0.019339  \n",
       "2000-01-05 -0.020620  0.053081  \n",
       "2000-01-06  0.010854  0.050406  \n",
       "2000-01-07  0.072845 -0.002939  \n",
       "\n",
       "[5 rows x 28 columns]"
      ]
     },
     "execution_count": 35,
     "metadata": {},
     "output_type": "execute_result"
    }
   ],
   "source": [
    "logret = np.log(data).diff()\n",
    "logret.head()"
   ]
  },
  {
   "cell_type": "markdown",
   "metadata": {
    "slideshow": {
     "slide_type": "-"
    }
   },
   "source": [
    "* First time period is NaN since there is no data corresponding to $-1$.\n",
    "\n",
    "* Note that $100\\cdot r_t$% represent daily percentage returns."
   ]
  },
  {
   "cell_type": "markdown",
   "metadata": {
    "slideshow": {
     "slide_type": "subslide"
    }
   },
   "source": [
    "### Estimate expected returns\n",
    "\n",
    "Estimate the daily expected returns by computing the means:"
   ]
  },
  {
   "cell_type": "code",
   "execution_count": 36,
   "metadata": {
    "slideshow": {
     "slide_type": "-"
    }
   },
   "outputs": [
    {
     "data": {
      "text/plain": [
       "Symbol\n",
       "AAPL    0.000907\n",
       "AXP     0.000261\n",
       "BA      0.000298\n",
       "BAC     0.000171\n",
       "CAT     0.000489\n",
       "CSCO    0.000030\n",
       "CVX     0.000400\n",
       "DD      0.000113\n",
       "DIS     0.000265\n",
       "GE     -0.000173\n",
       "HD      0.000345\n",
       "HPQ     0.000129\n",
       "IBM     0.000132\n",
       "INTC    0.000020\n",
       "JNJ     0.000333\n",
       "JPM     0.000283\n",
       "KO      0.000242\n",
       "MCD     0.000434\n",
       "MMM     0.000275\n",
       "MRK     0.000224\n",
       "MSFT    0.000325\n",
       "PFE     0.000213\n",
       "PG      0.000267\n",
       "T       0.000157\n",
       "TRV     0.000398\n",
       "VZ      0.000119\n",
       "WMT     0.000203\n",
       "XOM     0.000304\n",
       "dtype: float64"
      ]
     },
     "execution_count": 36,
     "metadata": {},
     "output_type": "execute_result"
    }
   ],
   "source": [
    "mu = logret[1:].mean()\n",
    "mu"
   ]
  },
  {
   "cell_type": "markdown",
   "metadata": {
    "slideshow": {
     "slide_type": "subslide"
    }
   },
   "source": [
    "### Estimate covariance matrix (volatility structure)\n",
    "\n",
    "Estimate the covarince matrix of returns:"
   ]
  },
  {
   "cell_type": "code",
   "execution_count": 37,
   "metadata": {
    "slideshow": {
     "slide_type": "-"
    }
   },
   "outputs": [
    {
     "data": {
      "text/html": [
       "<div>\n",
       "<style scoped>\n",
       "    .dataframe tbody tr th:only-of-type {\n",
       "        vertical-align: middle;\n",
       "    }\n",
       "\n",
       "    .dataframe tbody tr th {\n",
       "        vertical-align: top;\n",
       "    }\n",
       "\n",
       "    .dataframe thead th {\n",
       "        text-align: right;\n",
       "    }\n",
       "</style>\n",
       "<table border=\"1\" class=\"dataframe\">\n",
       "  <thead>\n",
       "    <tr style=\"text-align: right;\">\n",
       "      <th>Symbol</th>\n",
       "      <th>AAPL</th>\n",
       "      <th>AXP</th>\n",
       "      <th>BA</th>\n",
       "      <th>BAC</th>\n",
       "      <th>CAT</th>\n",
       "      <th>CSCO</th>\n",
       "      <th>CVX</th>\n",
       "      <th>DD</th>\n",
       "      <th>DIS</th>\n",
       "      <th>GE</th>\n",
       "      <th>...</th>\n",
       "      <th>MMM</th>\n",
       "      <th>MRK</th>\n",
       "      <th>MSFT</th>\n",
       "      <th>PFE</th>\n",
       "      <th>PG</th>\n",
       "      <th>T</th>\n",
       "      <th>TRV</th>\n",
       "      <th>VZ</th>\n",
       "      <th>WMT</th>\n",
       "      <th>XOM</th>\n",
       "    </tr>\n",
       "    <tr>\n",
       "      <th>Symbol</th>\n",
       "      <th></th>\n",
       "      <th></th>\n",
       "      <th></th>\n",
       "      <th></th>\n",
       "      <th></th>\n",
       "      <th></th>\n",
       "      <th></th>\n",
       "      <th></th>\n",
       "      <th></th>\n",
       "      <th></th>\n",
       "      <th></th>\n",
       "      <th></th>\n",
       "      <th></th>\n",
       "      <th></th>\n",
       "      <th></th>\n",
       "      <th></th>\n",
       "      <th></th>\n",
       "      <th></th>\n",
       "      <th></th>\n",
       "      <th></th>\n",
       "      <th></th>\n",
       "    </tr>\n",
       "  </thead>\n",
       "  <tbody>\n",
       "    <tr>\n",
       "      <th>AAPL</th>\n",
       "      <td>0.000678</td>\n",
       "      <td>0.000213</td>\n",
       "      <td>0.000169</td>\n",
       "      <td>0.000227</td>\n",
       "      <td>0.000189</td>\n",
       "      <td>0.000282</td>\n",
       "      <td>0.000122</td>\n",
       "      <td>0.000168</td>\n",
       "      <td>0.000174</td>\n",
       "      <td>0.000187</td>\n",
       "      <td>...</td>\n",
       "      <td>0.000125</td>\n",
       "      <td>0.000090</td>\n",
       "      <td>0.000233</td>\n",
       "      <td>0.000089</td>\n",
       "      <td>0.000069</td>\n",
       "      <td>0.000113</td>\n",
       "      <td>0.000135</td>\n",
       "      <td>0.000097</td>\n",
       "      <td>0.000099</td>\n",
       "      <td>0.000116</td>\n",
       "    </tr>\n",
       "    <tr>\n",
       "      <th>AXP</th>\n",
       "      <td>0.000213</td>\n",
       "      <td>0.000524</td>\n",
       "      <td>0.000264</td>\n",
       "      <td>0.000437</td>\n",
       "      <td>0.000257</td>\n",
       "      <td>0.000241</td>\n",
       "      <td>0.000204</td>\n",
       "      <td>0.000272</td>\n",
       "      <td>0.000250</td>\n",
       "      <td>0.000291</td>\n",
       "      <td>...</td>\n",
       "      <td>0.000181</td>\n",
       "      <td>0.000137</td>\n",
       "      <td>0.000206</td>\n",
       "      <td>0.000144</td>\n",
       "      <td>0.000105</td>\n",
       "      <td>0.000166</td>\n",
       "      <td>0.000237</td>\n",
       "      <td>0.000140</td>\n",
       "      <td>0.000119</td>\n",
       "      <td>0.000186</td>\n",
       "    </tr>\n",
       "    <tr>\n",
       "      <th>BA</th>\n",
       "      <td>0.000169</td>\n",
       "      <td>0.000264</td>\n",
       "      <td>0.000502</td>\n",
       "      <td>0.000265</td>\n",
       "      <td>0.000218</td>\n",
       "      <td>0.000180</td>\n",
       "      <td>0.000187</td>\n",
       "      <td>0.000236</td>\n",
       "      <td>0.000206</td>\n",
       "      <td>0.000244</td>\n",
       "      <td>...</td>\n",
       "      <td>0.000153</td>\n",
       "      <td>0.000107</td>\n",
       "      <td>0.000167</td>\n",
       "      <td>0.000116</td>\n",
       "      <td>0.000086</td>\n",
       "      <td>0.000128</td>\n",
       "      <td>0.000173</td>\n",
       "      <td>0.000100</td>\n",
       "      <td>0.000092</td>\n",
       "      <td>0.000176</td>\n",
       "    </tr>\n",
       "    <tr>\n",
       "      <th>BAC</th>\n",
       "      <td>0.000227</td>\n",
       "      <td>0.000437</td>\n",
       "      <td>0.000265</td>\n",
       "      <td>0.000805</td>\n",
       "      <td>0.000293</td>\n",
       "      <td>0.000253</td>\n",
       "      <td>0.000224</td>\n",
       "      <td>0.000316</td>\n",
       "      <td>0.000248</td>\n",
       "      <td>0.000335</td>\n",
       "      <td>...</td>\n",
       "      <td>0.000203</td>\n",
       "      <td>0.000143</td>\n",
       "      <td>0.000208</td>\n",
       "      <td>0.000161</td>\n",
       "      <td>0.000112</td>\n",
       "      <td>0.000177</td>\n",
       "      <td>0.000269</td>\n",
       "      <td>0.000145</td>\n",
       "      <td>0.000117</td>\n",
       "      <td>0.000201</td>\n",
       "    </tr>\n",
       "    <tr>\n",
       "      <th>CAT</th>\n",
       "      <td>0.000189</td>\n",
       "      <td>0.000257</td>\n",
       "      <td>0.000218</td>\n",
       "      <td>0.000293</td>\n",
       "      <td>0.000418</td>\n",
       "      <td>0.000194</td>\n",
       "      <td>0.000194</td>\n",
       "      <td>0.000271</td>\n",
       "      <td>0.000185</td>\n",
       "      <td>0.000231</td>\n",
       "      <td>...</td>\n",
       "      <td>0.000181</td>\n",
       "      <td>0.000110</td>\n",
       "      <td>0.000165</td>\n",
       "      <td>0.000118</td>\n",
       "      <td>0.000087</td>\n",
       "      <td>0.000127</td>\n",
       "      <td>0.000169</td>\n",
       "      <td>0.000105</td>\n",
       "      <td>0.000099</td>\n",
       "      <td>0.000182</td>\n",
       "    </tr>\n",
       "    <tr>\n",
       "      <th>CSCO</th>\n",
       "      <td>0.000282</td>\n",
       "      <td>0.000241</td>\n",
       "      <td>0.000180</td>\n",
       "      <td>0.000253</td>\n",
       "      <td>0.000194</td>\n",
       "      <td>0.000562</td>\n",
       "      <td>0.000133</td>\n",
       "      <td>0.000194</td>\n",
       "      <td>0.000205</td>\n",
       "      <td>0.000214</td>\n",
       "      <td>...</td>\n",
       "      <td>0.000146</td>\n",
       "      <td>0.000098</td>\n",
       "      <td>0.000258</td>\n",
       "      <td>0.000111</td>\n",
       "      <td>0.000081</td>\n",
       "      <td>0.000133</td>\n",
       "      <td>0.000158</td>\n",
       "      <td>0.000123</td>\n",
       "      <td>0.000112</td>\n",
       "      <td>0.000128</td>\n",
       "    </tr>\n",
       "    <tr>\n",
       "      <th>CVX</th>\n",
       "      <td>0.000122</td>\n",
       "      <td>0.000204</td>\n",
       "      <td>0.000187</td>\n",
       "      <td>0.000224</td>\n",
       "      <td>0.000194</td>\n",
       "      <td>0.000133</td>\n",
       "      <td>0.000313</td>\n",
       "      <td>0.000194</td>\n",
       "      <td>0.000151</td>\n",
       "      <td>0.000177</td>\n",
       "      <td>...</td>\n",
       "      <td>0.000126</td>\n",
       "      <td>0.000112</td>\n",
       "      <td>0.000133</td>\n",
       "      <td>0.000109</td>\n",
       "      <td>0.000071</td>\n",
       "      <td>0.000116</td>\n",
       "      <td>0.000155</td>\n",
       "      <td>0.000096</td>\n",
       "      <td>0.000069</td>\n",
       "      <td>0.000249</td>\n",
       "    </tr>\n",
       "    <tr>\n",
       "      <th>DD</th>\n",
       "      <td>0.000168</td>\n",
       "      <td>0.000272</td>\n",
       "      <td>0.000236</td>\n",
       "      <td>0.000316</td>\n",
       "      <td>0.000271</td>\n",
       "      <td>0.000194</td>\n",
       "      <td>0.000194</td>\n",
       "      <td>0.000497</td>\n",
       "      <td>0.000201</td>\n",
       "      <td>0.000243</td>\n",
       "      <td>...</td>\n",
       "      <td>0.000188</td>\n",
       "      <td>0.000126</td>\n",
       "      <td>0.000166</td>\n",
       "      <td>0.000130</td>\n",
       "      <td>0.000105</td>\n",
       "      <td>0.000138</td>\n",
       "      <td>0.000185</td>\n",
       "      <td>0.000112</td>\n",
       "      <td>0.000107</td>\n",
       "      <td>0.000181</td>\n",
       "    </tr>\n",
       "    <tr>\n",
       "      <th>DIS</th>\n",
       "      <td>0.000174</td>\n",
       "      <td>0.000250</td>\n",
       "      <td>0.000206</td>\n",
       "      <td>0.000248</td>\n",
       "      <td>0.000185</td>\n",
       "      <td>0.000205</td>\n",
       "      <td>0.000151</td>\n",
       "      <td>0.000201</td>\n",
       "      <td>0.000374</td>\n",
       "      <td>0.000206</td>\n",
       "      <td>...</td>\n",
       "      <td>0.000137</td>\n",
       "      <td>0.000103</td>\n",
       "      <td>0.000172</td>\n",
       "      <td>0.000106</td>\n",
       "      <td>0.000079</td>\n",
       "      <td>0.000129</td>\n",
       "      <td>0.000151</td>\n",
       "      <td>0.000115</td>\n",
       "      <td>0.000097</td>\n",
       "      <td>0.000143</td>\n",
       "    </tr>\n",
       "    <tr>\n",
       "      <th>GE</th>\n",
       "      <td>0.000187</td>\n",
       "      <td>0.000291</td>\n",
       "      <td>0.000244</td>\n",
       "      <td>0.000335</td>\n",
       "      <td>0.000231</td>\n",
       "      <td>0.000214</td>\n",
       "      <td>0.000177</td>\n",
       "      <td>0.000243</td>\n",
       "      <td>0.000206</td>\n",
       "      <td>0.000450</td>\n",
       "      <td>...</td>\n",
       "      <td>0.000172</td>\n",
       "      <td>0.000117</td>\n",
       "      <td>0.000167</td>\n",
       "      <td>0.000128</td>\n",
       "      <td>0.000091</td>\n",
       "      <td>0.000139</td>\n",
       "      <td>0.000186</td>\n",
       "      <td>0.000119</td>\n",
       "      <td>0.000102</td>\n",
       "      <td>0.000169</td>\n",
       "    </tr>\n",
       "    <tr>\n",
       "      <th>HD</th>\n",
       "      <td>0.000168</td>\n",
       "      <td>0.000228</td>\n",
       "      <td>0.000182</td>\n",
       "      <td>0.000237</td>\n",
       "      <td>0.000178</td>\n",
       "      <td>0.000183</td>\n",
       "      <td>0.000127</td>\n",
       "      <td>0.000192</td>\n",
       "      <td>0.000177</td>\n",
       "      <td>0.000186</td>\n",
       "      <td>...</td>\n",
       "      <td>0.000139</td>\n",
       "      <td>0.000102</td>\n",
       "      <td>0.000164</td>\n",
       "      <td>0.000107</td>\n",
       "      <td>0.000086</td>\n",
       "      <td>0.000116</td>\n",
       "      <td>0.000158</td>\n",
       "      <td>0.000105</td>\n",
       "      <td>0.000150</td>\n",
       "      <td>0.000117</td>\n",
       "    </tr>\n",
       "    <tr>\n",
       "      <th>HPQ</th>\n",
       "      <td>0.000256</td>\n",
       "      <td>0.000236</td>\n",
       "      <td>0.000207</td>\n",
       "      <td>0.000245</td>\n",
       "      <td>0.000210</td>\n",
       "      <td>0.000288</td>\n",
       "      <td>0.000158</td>\n",
       "      <td>0.000211</td>\n",
       "      <td>0.000202</td>\n",
       "      <td>0.000212</td>\n",
       "      <td>...</td>\n",
       "      <td>0.000143</td>\n",
       "      <td>0.000103</td>\n",
       "      <td>0.000218</td>\n",
       "      <td>0.000102</td>\n",
       "      <td>0.000065</td>\n",
       "      <td>0.000123</td>\n",
       "      <td>0.000153</td>\n",
       "      <td>0.000111</td>\n",
       "      <td>0.000089</td>\n",
       "      <td>0.000144</td>\n",
       "    </tr>\n",
       "    <tr>\n",
       "      <th>IBM</th>\n",
       "      <td>0.000170</td>\n",
       "      <td>0.000178</td>\n",
       "      <td>0.000146</td>\n",
       "      <td>0.000186</td>\n",
       "      <td>0.000154</td>\n",
       "      <td>0.000205</td>\n",
       "      <td>0.000119</td>\n",
       "      <td>0.000160</td>\n",
       "      <td>0.000144</td>\n",
       "      <td>0.000169</td>\n",
       "      <td>...</td>\n",
       "      <td>0.000114</td>\n",
       "      <td>0.000083</td>\n",
       "      <td>0.000157</td>\n",
       "      <td>0.000088</td>\n",
       "      <td>0.000065</td>\n",
       "      <td>0.000112</td>\n",
       "      <td>0.000124</td>\n",
       "      <td>0.000096</td>\n",
       "      <td>0.000081</td>\n",
       "      <td>0.000117</td>\n",
       "    </tr>\n",
       "    <tr>\n",
       "      <th>INTC</th>\n",
       "      <td>0.000300</td>\n",
       "      <td>0.000248</td>\n",
       "      <td>0.000199</td>\n",
       "      <td>0.000253</td>\n",
       "      <td>0.000204</td>\n",
       "      <td>0.000341</td>\n",
       "      <td>0.000143</td>\n",
       "      <td>0.000201</td>\n",
       "      <td>0.000196</td>\n",
       "      <td>0.000210</td>\n",
       "      <td>...</td>\n",
       "      <td>0.000146</td>\n",
       "      <td>0.000107</td>\n",
       "      <td>0.000273</td>\n",
       "      <td>0.000109</td>\n",
       "      <td>0.000084</td>\n",
       "      <td>0.000134</td>\n",
       "      <td>0.000162</td>\n",
       "      <td>0.000121</td>\n",
       "      <td>0.000110</td>\n",
       "      <td>0.000140</td>\n",
       "    </tr>\n",
       "    <tr>\n",
       "      <th>JNJ</th>\n",
       "      <td>0.000071</td>\n",
       "      <td>0.000106</td>\n",
       "      <td>0.000090</td>\n",
       "      <td>0.000108</td>\n",
       "      <td>0.000089</td>\n",
       "      <td>0.000080</td>\n",
       "      <td>0.000086</td>\n",
       "      <td>0.000096</td>\n",
       "      <td>0.000082</td>\n",
       "      <td>0.000092</td>\n",
       "      <td>...</td>\n",
       "      <td>0.000085</td>\n",
       "      <td>0.000107</td>\n",
       "      <td>0.000081</td>\n",
       "      <td>0.000105</td>\n",
       "      <td>0.000078</td>\n",
       "      <td>0.000077</td>\n",
       "      <td>0.000084</td>\n",
       "      <td>0.000071</td>\n",
       "      <td>0.000064</td>\n",
       "      <td>0.000085</td>\n",
       "    </tr>\n",
       "    <tr>\n",
       "      <th>JPM</th>\n",
       "      <td>0.000222</td>\n",
       "      <td>0.000391</td>\n",
       "      <td>0.000246</td>\n",
       "      <td>0.000540</td>\n",
       "      <td>0.000262</td>\n",
       "      <td>0.000260</td>\n",
       "      <td>0.000200</td>\n",
       "      <td>0.000286</td>\n",
       "      <td>0.000241</td>\n",
       "      <td>0.000305</td>\n",
       "      <td>...</td>\n",
       "      <td>0.000181</td>\n",
       "      <td>0.000139</td>\n",
       "      <td>0.000212</td>\n",
       "      <td>0.000146</td>\n",
       "      <td>0.000101</td>\n",
       "      <td>0.000174</td>\n",
       "      <td>0.000252</td>\n",
       "      <td>0.000153</td>\n",
       "      <td>0.000122</td>\n",
       "      <td>0.000183</td>\n",
       "    </tr>\n",
       "    <tr>\n",
       "      <th>KO</th>\n",
       "      <td>0.000078</td>\n",
       "      <td>0.000119</td>\n",
       "      <td>0.000107</td>\n",
       "      <td>0.000113</td>\n",
       "      <td>0.000097</td>\n",
       "      <td>0.000085</td>\n",
       "      <td>0.000090</td>\n",
       "      <td>0.000106</td>\n",
       "      <td>0.000093</td>\n",
       "      <td>0.000099</td>\n",
       "      <td>...</td>\n",
       "      <td>0.000086</td>\n",
       "      <td>0.000080</td>\n",
       "      <td>0.000087</td>\n",
       "      <td>0.000078</td>\n",
       "      <td>0.000088</td>\n",
       "      <td>0.000085</td>\n",
       "      <td>0.000095</td>\n",
       "      <td>0.000078</td>\n",
       "      <td>0.000068</td>\n",
       "      <td>0.000091</td>\n",
       "    </tr>\n",
       "    <tr>\n",
       "      <th>MCD</th>\n",
       "      <td>0.000099</td>\n",
       "      <td>0.000135</td>\n",
       "      <td>0.000124</td>\n",
       "      <td>0.000134</td>\n",
       "      <td>0.000103</td>\n",
       "      <td>0.000109</td>\n",
       "      <td>0.000094</td>\n",
       "      <td>0.000117</td>\n",
       "      <td>0.000109</td>\n",
       "      <td>0.000113</td>\n",
       "      <td>...</td>\n",
       "      <td>0.000086</td>\n",
       "      <td>0.000078</td>\n",
       "      <td>0.000094</td>\n",
       "      <td>0.000073</td>\n",
       "      <td>0.000072</td>\n",
       "      <td>0.000077</td>\n",
       "      <td>0.000111</td>\n",
       "      <td>0.000069</td>\n",
       "      <td>0.000074</td>\n",
       "      <td>0.000085</td>\n",
       "    </tr>\n",
       "    <tr>\n",
       "      <th>MMM</th>\n",
       "      <td>0.000125</td>\n",
       "      <td>0.000181</td>\n",
       "      <td>0.000153</td>\n",
       "      <td>0.000203</td>\n",
       "      <td>0.000181</td>\n",
       "      <td>0.000146</td>\n",
       "      <td>0.000126</td>\n",
       "      <td>0.000188</td>\n",
       "      <td>0.000137</td>\n",
       "      <td>0.000172</td>\n",
       "      <td>...</td>\n",
       "      <td>0.000227</td>\n",
       "      <td>0.000091</td>\n",
       "      <td>0.000118</td>\n",
       "      <td>0.000101</td>\n",
       "      <td>0.000086</td>\n",
       "      <td>0.000100</td>\n",
       "      <td>0.000133</td>\n",
       "      <td>0.000086</td>\n",
       "      <td>0.000085</td>\n",
       "      <td>0.000124</td>\n",
       "    </tr>\n",
       "    <tr>\n",
       "      <th>MRK</th>\n",
       "      <td>0.000090</td>\n",
       "      <td>0.000137</td>\n",
       "      <td>0.000107</td>\n",
       "      <td>0.000143</td>\n",
       "      <td>0.000110</td>\n",
       "      <td>0.000098</td>\n",
       "      <td>0.000112</td>\n",
       "      <td>0.000126</td>\n",
       "      <td>0.000103</td>\n",
       "      <td>0.000117</td>\n",
       "      <td>...</td>\n",
       "      <td>0.000091</td>\n",
       "      <td>0.000288</td>\n",
       "      <td>0.000099</td>\n",
       "      <td>0.000147</td>\n",
       "      <td>0.000084</td>\n",
       "      <td>0.000098</td>\n",
       "      <td>0.000113</td>\n",
       "      <td>0.000093</td>\n",
       "      <td>0.000077</td>\n",
       "      <td>0.000108</td>\n",
       "    </tr>\n",
       "    <tr>\n",
       "      <th>MSFT</th>\n",
       "      <td>0.000233</td>\n",
       "      <td>0.000206</td>\n",
       "      <td>0.000167</td>\n",
       "      <td>0.000208</td>\n",
       "      <td>0.000165</td>\n",
       "      <td>0.000258</td>\n",
       "      <td>0.000133</td>\n",
       "      <td>0.000166</td>\n",
       "      <td>0.000172</td>\n",
       "      <td>0.000167</td>\n",
       "      <td>...</td>\n",
       "      <td>0.000118</td>\n",
       "      <td>0.000099</td>\n",
       "      <td>0.000375</td>\n",
       "      <td>0.000103</td>\n",
       "      <td>0.000075</td>\n",
       "      <td>0.000114</td>\n",
       "      <td>0.000140</td>\n",
       "      <td>0.000107</td>\n",
       "      <td>0.000101</td>\n",
       "      <td>0.000123</td>\n",
       "    </tr>\n",
       "    <tr>\n",
       "      <th>PFE</th>\n",
       "      <td>0.000089</td>\n",
       "      <td>0.000144</td>\n",
       "      <td>0.000116</td>\n",
       "      <td>0.000161</td>\n",
       "      <td>0.000118</td>\n",
       "      <td>0.000111</td>\n",
       "      <td>0.000109</td>\n",
       "      <td>0.000130</td>\n",
       "      <td>0.000106</td>\n",
       "      <td>0.000128</td>\n",
       "      <td>...</td>\n",
       "      <td>0.000101</td>\n",
       "      <td>0.000147</td>\n",
       "      <td>0.000103</td>\n",
       "      <td>0.000255</td>\n",
       "      <td>0.000082</td>\n",
       "      <td>0.000097</td>\n",
       "      <td>0.000113</td>\n",
       "      <td>0.000089</td>\n",
       "      <td>0.000081</td>\n",
       "      <td>0.000109</td>\n",
       "    </tr>\n",
       "    <tr>\n",
       "      <th>PG</th>\n",
       "      <td>0.000069</td>\n",
       "      <td>0.000105</td>\n",
       "      <td>0.000086</td>\n",
       "      <td>0.000112</td>\n",
       "      <td>0.000087</td>\n",
       "      <td>0.000081</td>\n",
       "      <td>0.000071</td>\n",
       "      <td>0.000105</td>\n",
       "      <td>0.000079</td>\n",
       "      <td>0.000091</td>\n",
       "      <td>...</td>\n",
       "      <td>0.000086</td>\n",
       "      <td>0.000084</td>\n",
       "      <td>0.000075</td>\n",
       "      <td>0.000082</td>\n",
       "      <td>0.000187</td>\n",
       "      <td>0.000083</td>\n",
       "      <td>0.000088</td>\n",
       "      <td>0.000074</td>\n",
       "      <td>0.000078</td>\n",
       "      <td>0.000073</td>\n",
       "    </tr>\n",
       "    <tr>\n",
       "      <th>T</th>\n",
       "      <td>0.000113</td>\n",
       "      <td>0.000166</td>\n",
       "      <td>0.000128</td>\n",
       "      <td>0.000177</td>\n",
       "      <td>0.000127</td>\n",
       "      <td>0.000133</td>\n",
       "      <td>0.000116</td>\n",
       "      <td>0.000138</td>\n",
       "      <td>0.000129</td>\n",
       "      <td>0.000139</td>\n",
       "      <td>...</td>\n",
       "      <td>0.000100</td>\n",
       "      <td>0.000098</td>\n",
       "      <td>0.000114</td>\n",
       "      <td>0.000097</td>\n",
       "      <td>0.000083</td>\n",
       "      <td>0.000265</td>\n",
       "      <td>0.000120</td>\n",
       "      <td>0.000171</td>\n",
       "      <td>0.000086</td>\n",
       "      <td>0.000119</td>\n",
       "    </tr>\n",
       "    <tr>\n",
       "      <th>TRV</th>\n",
       "      <td>0.000135</td>\n",
       "      <td>0.000237</td>\n",
       "      <td>0.000173</td>\n",
       "      <td>0.000269</td>\n",
       "      <td>0.000169</td>\n",
       "      <td>0.000158</td>\n",
       "      <td>0.000155</td>\n",
       "      <td>0.000185</td>\n",
       "      <td>0.000151</td>\n",
       "      <td>0.000186</td>\n",
       "      <td>...</td>\n",
       "      <td>0.000133</td>\n",
       "      <td>0.000113</td>\n",
       "      <td>0.000140</td>\n",
       "      <td>0.000113</td>\n",
       "      <td>0.000088</td>\n",
       "      <td>0.000120</td>\n",
       "      <td>0.000337</td>\n",
       "      <td>0.000108</td>\n",
       "      <td>0.000096</td>\n",
       "      <td>0.000142</td>\n",
       "    </tr>\n",
       "    <tr>\n",
       "      <th>VZ</th>\n",
       "      <td>0.000097</td>\n",
       "      <td>0.000140</td>\n",
       "      <td>0.000100</td>\n",
       "      <td>0.000145</td>\n",
       "      <td>0.000105</td>\n",
       "      <td>0.000123</td>\n",
       "      <td>0.000096</td>\n",
       "      <td>0.000112</td>\n",
       "      <td>0.000115</td>\n",
       "      <td>0.000119</td>\n",
       "      <td>...</td>\n",
       "      <td>0.000086</td>\n",
       "      <td>0.000093</td>\n",
       "      <td>0.000107</td>\n",
       "      <td>0.000089</td>\n",
       "      <td>0.000074</td>\n",
       "      <td>0.000171</td>\n",
       "      <td>0.000108</td>\n",
       "      <td>0.000228</td>\n",
       "      <td>0.000079</td>\n",
       "      <td>0.000099</td>\n",
       "    </tr>\n",
       "    <tr>\n",
       "      <th>WMT</th>\n",
       "      <td>0.000099</td>\n",
       "      <td>0.000119</td>\n",
       "      <td>0.000092</td>\n",
       "      <td>0.000117</td>\n",
       "      <td>0.000099</td>\n",
       "      <td>0.000112</td>\n",
       "      <td>0.000069</td>\n",
       "      <td>0.000107</td>\n",
       "      <td>0.000097</td>\n",
       "      <td>0.000102</td>\n",
       "      <td>...</td>\n",
       "      <td>0.000085</td>\n",
       "      <td>0.000077</td>\n",
       "      <td>0.000101</td>\n",
       "      <td>0.000081</td>\n",
       "      <td>0.000078</td>\n",
       "      <td>0.000086</td>\n",
       "      <td>0.000096</td>\n",
       "      <td>0.000079</td>\n",
       "      <td>0.000225</td>\n",
       "      <td>0.000073</td>\n",
       "    </tr>\n",
       "    <tr>\n",
       "      <th>XOM</th>\n",
       "      <td>0.000116</td>\n",
       "      <td>0.000186</td>\n",
       "      <td>0.000176</td>\n",
       "      <td>0.000201</td>\n",
       "      <td>0.000182</td>\n",
       "      <td>0.000128</td>\n",
       "      <td>0.000249</td>\n",
       "      <td>0.000181</td>\n",
       "      <td>0.000143</td>\n",
       "      <td>0.000169</td>\n",
       "      <td>...</td>\n",
       "      <td>0.000124</td>\n",
       "      <td>0.000108</td>\n",
       "      <td>0.000123</td>\n",
       "      <td>0.000109</td>\n",
       "      <td>0.000073</td>\n",
       "      <td>0.000119</td>\n",
       "      <td>0.000142</td>\n",
       "      <td>0.000099</td>\n",
       "      <td>0.000073</td>\n",
       "      <td>0.000281</td>\n",
       "    </tr>\n",
       "  </tbody>\n",
       "</table>\n",
       "<p>28 rows × 28 columns</p>\n",
       "</div>"
      ],
      "text/plain": [
       "Symbol      AAPL       AXP        BA       BAC       CAT      CSCO       CVX  \\\n",
       "Symbol                                                                         \n",
       "AAPL    0.000678  0.000213  0.000169  0.000227  0.000189  0.000282  0.000122   \n",
       "AXP     0.000213  0.000524  0.000264  0.000437  0.000257  0.000241  0.000204   \n",
       "BA      0.000169  0.000264  0.000502  0.000265  0.000218  0.000180  0.000187   \n",
       "BAC     0.000227  0.000437  0.000265  0.000805  0.000293  0.000253  0.000224   \n",
       "CAT     0.000189  0.000257  0.000218  0.000293  0.000418  0.000194  0.000194   \n",
       "CSCO    0.000282  0.000241  0.000180  0.000253  0.000194  0.000562  0.000133   \n",
       "CVX     0.000122  0.000204  0.000187  0.000224  0.000194  0.000133  0.000313   \n",
       "DD      0.000168  0.000272  0.000236  0.000316  0.000271  0.000194  0.000194   \n",
       "DIS     0.000174  0.000250  0.000206  0.000248  0.000185  0.000205  0.000151   \n",
       "GE      0.000187  0.000291  0.000244  0.000335  0.000231  0.000214  0.000177   \n",
       "HD      0.000168  0.000228  0.000182  0.000237  0.000178  0.000183  0.000127   \n",
       "HPQ     0.000256  0.000236  0.000207  0.000245  0.000210  0.000288  0.000158   \n",
       "IBM     0.000170  0.000178  0.000146  0.000186  0.000154  0.000205  0.000119   \n",
       "INTC    0.000300  0.000248  0.000199  0.000253  0.000204  0.000341  0.000143   \n",
       "JNJ     0.000071  0.000106  0.000090  0.000108  0.000089  0.000080  0.000086   \n",
       "JPM     0.000222  0.000391  0.000246  0.000540  0.000262  0.000260  0.000200   \n",
       "KO      0.000078  0.000119  0.000107  0.000113  0.000097  0.000085  0.000090   \n",
       "MCD     0.000099  0.000135  0.000124  0.000134  0.000103  0.000109  0.000094   \n",
       "MMM     0.000125  0.000181  0.000153  0.000203  0.000181  0.000146  0.000126   \n",
       "MRK     0.000090  0.000137  0.000107  0.000143  0.000110  0.000098  0.000112   \n",
       "MSFT    0.000233  0.000206  0.000167  0.000208  0.000165  0.000258  0.000133   \n",
       "PFE     0.000089  0.000144  0.000116  0.000161  0.000118  0.000111  0.000109   \n",
       "PG      0.000069  0.000105  0.000086  0.000112  0.000087  0.000081  0.000071   \n",
       "T       0.000113  0.000166  0.000128  0.000177  0.000127  0.000133  0.000116   \n",
       "TRV     0.000135  0.000237  0.000173  0.000269  0.000169  0.000158  0.000155   \n",
       "VZ      0.000097  0.000140  0.000100  0.000145  0.000105  0.000123  0.000096   \n",
       "WMT     0.000099  0.000119  0.000092  0.000117  0.000099  0.000112  0.000069   \n",
       "XOM     0.000116  0.000186  0.000176  0.000201  0.000182  0.000128  0.000249   \n",
       "\n",
       "Symbol        DD       DIS        GE  ...       MMM       MRK      MSFT  \\\n",
       "Symbol                                ...                                 \n",
       "AAPL    0.000168  0.000174  0.000187  ...  0.000125  0.000090  0.000233   \n",
       "AXP     0.000272  0.000250  0.000291  ...  0.000181  0.000137  0.000206   \n",
       "BA      0.000236  0.000206  0.000244  ...  0.000153  0.000107  0.000167   \n",
       "BAC     0.000316  0.000248  0.000335  ...  0.000203  0.000143  0.000208   \n",
       "CAT     0.000271  0.000185  0.000231  ...  0.000181  0.000110  0.000165   \n",
       "CSCO    0.000194  0.000205  0.000214  ...  0.000146  0.000098  0.000258   \n",
       "CVX     0.000194  0.000151  0.000177  ...  0.000126  0.000112  0.000133   \n",
       "DD      0.000497  0.000201  0.000243  ...  0.000188  0.000126  0.000166   \n",
       "DIS     0.000201  0.000374  0.000206  ...  0.000137  0.000103  0.000172   \n",
       "GE      0.000243  0.000206  0.000450  ...  0.000172  0.000117  0.000167   \n",
       "HD      0.000192  0.000177  0.000186  ...  0.000139  0.000102  0.000164   \n",
       "HPQ     0.000211  0.000202  0.000212  ...  0.000143  0.000103  0.000218   \n",
       "IBM     0.000160  0.000144  0.000169  ...  0.000114  0.000083  0.000157   \n",
       "INTC    0.000201  0.000196  0.000210  ...  0.000146  0.000107  0.000273   \n",
       "JNJ     0.000096  0.000082  0.000092  ...  0.000085  0.000107  0.000081   \n",
       "JPM     0.000286  0.000241  0.000305  ...  0.000181  0.000139  0.000212   \n",
       "KO      0.000106  0.000093  0.000099  ...  0.000086  0.000080  0.000087   \n",
       "MCD     0.000117  0.000109  0.000113  ...  0.000086  0.000078  0.000094   \n",
       "MMM     0.000188  0.000137  0.000172  ...  0.000227  0.000091  0.000118   \n",
       "MRK     0.000126  0.000103  0.000117  ...  0.000091  0.000288  0.000099   \n",
       "MSFT    0.000166  0.000172  0.000167  ...  0.000118  0.000099  0.000375   \n",
       "PFE     0.000130  0.000106  0.000128  ...  0.000101  0.000147  0.000103   \n",
       "PG      0.000105  0.000079  0.000091  ...  0.000086  0.000084  0.000075   \n",
       "T       0.000138  0.000129  0.000139  ...  0.000100  0.000098  0.000114   \n",
       "TRV     0.000185  0.000151  0.000186  ...  0.000133  0.000113  0.000140   \n",
       "VZ      0.000112  0.000115  0.000119  ...  0.000086  0.000093  0.000107   \n",
       "WMT     0.000107  0.000097  0.000102  ...  0.000085  0.000077  0.000101   \n",
       "XOM     0.000181  0.000143  0.000169  ...  0.000124  0.000108  0.000123   \n",
       "\n",
       "Symbol       PFE        PG         T       TRV        VZ       WMT       XOM  \n",
       "Symbol                                                                        \n",
       "AAPL    0.000089  0.000069  0.000113  0.000135  0.000097  0.000099  0.000116  \n",
       "AXP     0.000144  0.000105  0.000166  0.000237  0.000140  0.000119  0.000186  \n",
       "BA      0.000116  0.000086  0.000128  0.000173  0.000100  0.000092  0.000176  \n",
       "BAC     0.000161  0.000112  0.000177  0.000269  0.000145  0.000117  0.000201  \n",
       "CAT     0.000118  0.000087  0.000127  0.000169  0.000105  0.000099  0.000182  \n",
       "CSCO    0.000111  0.000081  0.000133  0.000158  0.000123  0.000112  0.000128  \n",
       "CVX     0.000109  0.000071  0.000116  0.000155  0.000096  0.000069  0.000249  \n",
       "DD      0.000130  0.000105  0.000138  0.000185  0.000112  0.000107  0.000181  \n",
       "DIS     0.000106  0.000079  0.000129  0.000151  0.000115  0.000097  0.000143  \n",
       "GE      0.000128  0.000091  0.000139  0.000186  0.000119  0.000102  0.000169  \n",
       "HD      0.000107  0.000086  0.000116  0.000158  0.000105  0.000150  0.000117  \n",
       "HPQ     0.000102  0.000065  0.000123  0.000153  0.000111  0.000089  0.000144  \n",
       "IBM     0.000088  0.000065  0.000112  0.000124  0.000096  0.000081  0.000117  \n",
       "INTC    0.000109  0.000084  0.000134  0.000162  0.000121  0.000110  0.000140  \n",
       "JNJ     0.000105  0.000078  0.000077  0.000084  0.000071  0.000064  0.000085  \n",
       "JPM     0.000146  0.000101  0.000174  0.000252  0.000153  0.000122  0.000183  \n",
       "KO      0.000078  0.000088  0.000085  0.000095  0.000078  0.000068  0.000091  \n",
       "MCD     0.000073  0.000072  0.000077  0.000111  0.000069  0.000074  0.000085  \n",
       "MMM     0.000101  0.000086  0.000100  0.000133  0.000086  0.000085  0.000124  \n",
       "MRK     0.000147  0.000084  0.000098  0.000113  0.000093  0.000077  0.000108  \n",
       "MSFT    0.000103  0.000075  0.000114  0.000140  0.000107  0.000101  0.000123  \n",
       "PFE     0.000255  0.000082  0.000097  0.000113  0.000089  0.000081  0.000109  \n",
       "PG      0.000082  0.000187  0.000083  0.000088  0.000074  0.000078  0.000073  \n",
       "T       0.000097  0.000083  0.000265  0.000120  0.000171  0.000086  0.000119  \n",
       "TRV     0.000113  0.000088  0.000120  0.000337  0.000108  0.000096  0.000142  \n",
       "VZ      0.000089  0.000074  0.000171  0.000108  0.000228  0.000079  0.000099  \n",
       "WMT     0.000081  0.000078  0.000086  0.000096  0.000079  0.000225  0.000073  \n",
       "XOM     0.000109  0.000073  0.000119  0.000142  0.000099  0.000073  0.000281  \n",
       "\n",
       "[28 rows x 28 columns]"
      ]
     },
     "execution_count": 37,
     "metadata": {},
     "output_type": "execute_result"
    }
   ],
   "source": [
    "sigma = logret.cov()\n",
    "sigma"
   ]
  },
  {
   "cell_type": "markdown",
   "metadata": {
    "slideshow": {
     "slide_type": "subslide"
    }
   },
   "source": [
    "### Visualize volatility structure\n",
    "\n",
    "* Heatmap visualization of covariance and correlation"
   ]
  },
  {
   "cell_type": "code",
   "execution_count": 38,
   "metadata": {
    "slideshow": {
     "slide_type": "-"
    }
   },
   "outputs": [
    {
     "data": {
      "image/png": "[encoded data removed]",
      "text/plain": [
       "<Figure size 1440x576 with 4 Axes>"
      ]
     },
     "metadata": {
      "needs_background": "light"
     },
     "output_type": "display_data"
    }
   ],
   "source": [
    "import seaborn as sns\n",
    "fig, ax = plt.subplots(1, 2, figsize=(20, 8))\n",
    "sns.heatmap(logret.cov(),  square=True, ax=ax[0]).set_title('Covariance Matrix')\n",
    "sns.heatmap(logret.corr(), square=True, ax=ax[1]).set_title('Correlation Matrix')\n",
    "fig.show()"
   ]
  },
  {
   "cell_type": "markdown",
   "metadata": {
    "slideshow": {
     "slide_type": "subslide"
    }
   },
   "source": [
    "* Reordering variables group similar stocks together"
   ]
  },
  {
   "cell_type": "code",
   "execution_count": 39,
   "metadata": {
    "hideCode": true,
    "slideshow": {
     "slide_type": "-"
    }
   },
   "outputs": [
    {
     "name": "stderr",
     "output_type": "stream",
     "text": [
      "/opt/conda/lib/python3.9/site-packages/seaborn/matrix.py:1214: UserWarning: ``square=True`` ignored in clustermap\n",
      "  warnings.warn(msg)\n"
     ]
    },
    {
     "data": {
      "image/png": "[encoded data removed]",
      "text/plain": [
       "<Figure size 576x576 with 4 Axes>"
      ]
     },
     "metadata": {
      "needs_background": "light"
     },
     "output_type": "display_data"
    }
   ],
   "source": [
    "clmap = sns.clustermap(logret.corr(), square=True, figsize=(8, 8));\n",
    "ordering = clmap.dendrogram_col.reordered_ind # save the hierarchical clustering generated variable ordering"
   ]
  },
  {
   "cell_type": "code",
   "execution_count": 40,
   "metadata": {
    "slideshow": {
     "slide_type": "subslide"
    }
   },
   "outputs": [
    {
     "data": {
      "image/png": "[encoded data removed]",
      "text/plain": [
       "<Figure size 1440x576 with 4 Axes>"
      ]
     },
     "metadata": {
      "needs_background": "light"
     },
     "output_type": "display_data"
    }
   ],
   "source": [
    "fig, ax = plt.subplots(1, 2, figsize=(20, 8))\n",
    "sns.heatmap(logret.cov().iloc[ordering, ordering],  square=True, ax=ax[0]).set_title('Covariance Matrix')\n",
    "sns.heatmap(logret.corr().iloc[ordering, ordering], square=True, ax=ax[1]).set_title('Correlation Matrix')\n",
    "fig.show()"
   ]
  },
  {
   "cell_type": "markdown",
   "metadata": {
    "slideshow": {
     "slide_type": "subslide"
    }
   },
   "source": [
    "## Calculate Minimum Variance Portfolio\n",
    "\n",
    "* $\\Sigma$ matrix is all that is specified\n",
    "* $\\Sigma$ characterizes the market\n",
    "* Minimize variance of portfolio $R_p$"
   ]
  },
  {
   "cell_type": "code",
   "execution_count": 41,
   "metadata": {
    "slideshow": {
     "slide_type": "-"
    }
   },
   "outputs": [
    {
     "data": {
      "text/plain": [
       "8.537030688980672e-05"
      ]
     },
     "execution_count": 41,
     "metadata": {},
     "output_type": "execute_result"
    }
   ],
   "source": [
    "import cvxpy as cvx\n",
    "\n",
    "s, _ = sigma.shape # calculated from data\n",
    "\n",
    "w = cvx.Variable(s) # variables\n",
    "risk = cvx.quad_form(w, sigma.values)  # objective function\n",
    "prob = cvx.Problem(cvx.Minimize(risk), # optimization problem \n",
    "               [cvx.sum(w) == 1])      # fully invested portfolio constraint\n",
    "prob.solve()"
   ]
  },
  {
   "cell_type": "code",
   "execution_count": 42,
   "metadata": {
    "slideshow": {
     "slide_type": "subslide"
    }
   },
   "outputs": [
    {
     "data": {
      "text/plain": [
       "array([ 0.01888171, -0.07221784, -0.00908147, -0.01113491, -0.00650453,\n",
       "       -0.01865739,  0.0408741 , -0.03976968,  0.01689274, -0.01371847,\n",
       "       -0.02266267,  0.01256432,  0.09942205, -0.0183747 ,  0.22110177,\n",
       "       -0.03230269,  0.14463123,  0.14935127,  0.08265743,  0.01089581,\n",
       "        0.01605696,  0.03147711,  0.12043869,  0.00538373,  0.01516256,\n",
       "        0.10794961,  0.13283893,  0.01784432])"
      ]
     },
     "execution_count": 42,
     "metadata": {},
     "output_type": "execute_result"
    }
   ],
   "source": [
    "w.value"
   ]
  },
  {
   "cell_type": "markdown",
   "metadata": {
    "slideshow": {
     "slide_type": "-"
    }
   },
   "source": [
    "* Positive weights indicate long positions\n",
    "* Negative weights indicate [short positions](https://en.wikipedia.org/wiki/Short_(finance))\n",
    "* Must sum to 1 (constraint)"
   ]
  },
  {
   "cell_type": "markdown",
   "metadata": {
    "slideshow": {
     "slide_type": "subslide"
    }
   },
   "source": [
    "* Other portfolio optimization variations:  \n",
    "    http://nbviewer.jupyter.org/github/cvxgrp/cvx_short_course/blob/master/applications/portfolio_optimization.ipynb"
   ]
  },
  {
   "cell_type": "markdown",
   "metadata": {
    "hideCode": true,
    "slideshow": {
     "slide_type": "subslide"
    }
   },
   "source": [
    "* `cvxpy` package makes it easy to solve many types of problems easily\n",
    "* Portfolio allocation problem with target expected return constraint:\n",
    "\n",
    "$$ \\min_{x\\in\\mathbb{R}^s}\\ \\ x^\\intercal \\Sigma x\\\\\n",
    "\\text{subject to }\\mu^\\intercal x\\geq \\mu^* \\text{, and } \\mathbf{1}^\\intercal x = 1,$$\n",
    "\n",
    "* Expected returns, $\\mu$, is estimated from data (also $\\Sigma$)\n",
    "* Investor specifies target return $\\mu^*$"
   ]
  },
  {
   "cell_type": "code",
   "execution_count": 43,
   "metadata": {
    "slideshow": {
     "slide_type": "-"
    }
   },
   "outputs": [
    {
     "data": {
      "text/plain": [
       "0.0002253520396792831"
      ]
     },
     "execution_count": 43,
     "metadata": {},
     "output_type": "execute_result"
    }
   ],
   "source": [
    "import cvxpy as cvx\n",
    "\n",
    "s,_ = sigma.shape\n",
    "\n",
    "w = cvx.Variable(s)\n",
    "risk = cvx.quad_form(w, sigma.values)\n",
    "prob = cvx.Problem(cvx.Minimize(risk), \n",
    "               [\n",
    "                   cvx.sum(w) == 1,\n",
    "                   mu.values@w >= 0.001\n",
    "               ]) \n",
    "prob.solve()"
   ]
  },
  {
   "cell_type": "code",
   "execution_count": 44,
   "metadata": {
    "slideshow": {
     "slide_type": "subslide"
    }
   },
   "outputs": [
    {
     "data": {
      "text/plain": [
       "array([ 0.33362379, -0.05160306,  0.02898955, -0.0961039 ,  0.25007014,\n",
       "       -0.13857816,  0.21356185, -0.18285252,  0.04999254, -0.41519756,\n",
       "        0.05636084, -0.05306768, -0.00922121, -0.1949554 ,  0.40386777,\n",
       "        0.11582048,  0.03491087,  0.33346351,  0.12383764, -0.05363263,\n",
       "        0.09301   , -0.02001998,  0.13934348, -0.02277297,  0.15932893,\n",
       "       -0.04478692,  0.00532552, -0.0587149 ])"
      ]
     },
     "execution_count": 44,
     "metadata": {},
     "output_type": "execute_result"
    }
   ],
   "source": [
    "w.value"
   ]
  },
  {
   "cell_type": "markdown",
   "metadata": {
    "slideshow": {
     "slide_type": "-"
    }
   },
   "source": [
    "* Higher target return achieved with more short positions\n",
    "* Constraint: $\\mu^\\intercal w=0.001$\n",
    "* Constraint: $\\mathbf{1}^\\intercal w=1$."
   ]
  },
  {
   "cell_type": "code",
   "execution_count": 45,
   "metadata": {
    "slideshow": {
     "slide_type": "subslide"
    }
   },
   "outputs": [
    {
     "data": {
      "text/plain": [
       "1.0000000000000002"
      ]
     },
     "execution_count": 45,
     "metadata": {},
     "output_type": "execute_result"
    }
   ],
   "source": [
    "w.value.sum()"
   ]
  },
  {
   "cell_type": "code",
   "execution_count": 46,
   "metadata": {
    "slideshow": {
     "slide_type": "fragment"
    }
   },
   "outputs": [
    {
     "data": {
      "text/plain": [
       "0.001"
      ]
     },
     "execution_count": 46,
     "metadata": {},
     "output_type": "execute_result"
    }
   ],
   "source": [
    "np.dot(mu.values,w.value)"
   ]
  },
  {
   "cell_type": "markdown",
   "metadata": {
    "slideshow": {
     "slide_type": "slide"
    }
   },
   "source": [
    "### Making the investment\n",
    "\n",
    "* Investing 1 dollar in a stock with 3% return over one time period makes me 3 cents:  \n",
    "    $$\\$1 \\cdot (1 + 0.03) = 1.03$$\n",
    "    \n",
    "* Investing a portfolio of worth $A_0$ dollars returns,\n",
    "    $$ A = A_0 (1+r_t^T w_t), $$\n",
    "    where elements of $r_t$ are returns at time $t$ and $w$ is portfolio allocation\n",
    "\n",
    "* Take allocation `w.value` and compute portfolio returns using historical returns: `logret`."
   ]
  },
  {
   "cell_type": "code",
   "execution_count": 47,
   "metadata": {
    "slideshow": {
     "slide_type": "-"
    }
   },
   "outputs": [],
   "source": [
    "earned = np.dot(logret.fillna(method='bfill').values, w.value)"
   ]
  },
  {
   "cell_type": "markdown",
   "metadata": {
    "slideshow": {
     "slide_type": "subslide"
    }
   },
   "source": [
    "* Compute portfolio growth"
   ]
  },
  {
   "cell_type": "code",
   "execution_count": 48,
   "metadata": {
    "slideshow": {
     "slide_type": "fragment"
    }
   },
   "outputs": [
    {
     "data": {
      "image/png": "[encoded data removed]",
      "text/plain": [
       "<Figure size 720x576 with 1 Axes>"
      ]
     },
     "metadata": {
      "needs_background": "light"
     },
     "output_type": "display_data"
    }
   ],
   "source": [
    "earnedcp = (1+earned[1:]).cumprod()\n",
    "ecp = pd.DataFrame(data=earnedcp.T, index=logret.index.values[1:], columns=['Portfolio Value'])\n",
    "ecp.plot(figsize=(10, 8));"
   ]
  },
  {
   "cell_type": "code",
   "execution_count": 49,
   "metadata": {
    "slideshow": {
     "slide_type": "subslide"
    }
   },
   "outputs": [
    {
     "data": {
      "image/png": "[encoded data removed]",
      "text/plain": [
       "<Figure size 720x576 with 1 Axes>"
      ]
     },
     "metadata": {
      "needs_background": "light"
     },
     "output_type": "display_data"
    }
   ],
   "source": [
    "np.log10(ecp).plot(figsize=(10, 8));"
   ]
  },
  {
   "cell_type": "code",
   "execution_count": 50,
   "metadata": {
    "slideshow": {
     "slide_type": "subslide"
    }
   },
   "outputs": [
    {
     "data": {
      "text/html": [
       "<div>\n",
       "<style scoped>\n",
       "    .dataframe tbody tr th:only-of-type {\n",
       "        vertical-align: middle;\n",
       "    }\n",
       "\n",
       "    .dataframe tbody tr th {\n",
       "        vertical-align: top;\n",
       "    }\n",
       "\n",
       "    .dataframe thead th {\n",
       "        text-align: right;\n",
       "    }\n",
       "</style>\n",
       "<table border=\"1\" class=\"dataframe\">\n",
       "  <thead>\n",
       "    <tr style=\"text-align: right;\">\n",
       "      <th></th>\n",
       "      <th>Portfolio Value</th>\n",
       "    </tr>\n",
       "  </thead>\n",
       "  <tbody>\n",
       "    <tr>\n",
       "      <th>2000-01-04</th>\n",
       "      <td>0.987725</td>\n",
       "    </tr>\n",
       "    <tr>\n",
       "      <th>2000-01-05</th>\n",
       "      <td>1.003204</td>\n",
       "    </tr>\n",
       "    <tr>\n",
       "      <th>2000-01-06</th>\n",
       "      <td>1.009728</td>\n",
       "    </tr>\n",
       "    <tr>\n",
       "      <th>2000-01-07</th>\n",
       "      <td>1.049987</td>\n",
       "    </tr>\n",
       "    <tr>\n",
       "      <th>2000-01-10</th>\n",
       "      <td>1.011140</td>\n",
       "    </tr>\n",
       "    <tr>\n",
       "      <th>...</th>\n",
       "      <td>...</td>\n",
       "    </tr>\n",
       "    <tr>\n",
       "      <th>2022-10-24</th>\n",
       "      <td>155.510432</td>\n",
       "    </tr>\n",
       "    <tr>\n",
       "      <th>2022-10-25</th>\n",
       "      <td>156.722906</td>\n",
       "    </tr>\n",
       "    <tr>\n",
       "      <th>2022-10-26</th>\n",
       "      <td>154.396808</td>\n",
       "    </tr>\n",
       "    <tr>\n",
       "      <th>2022-10-27</th>\n",
       "      <td>158.426089</td>\n",
       "    </tr>\n",
       "    <tr>\n",
       "      <th>2022-10-28</th>\n",
       "      <td>162.366803</td>\n",
       "    </tr>\n",
       "  </tbody>\n",
       "</table>\n",
       "<p>5743 rows × 1 columns</p>\n",
       "</div>"
      ],
      "text/plain": [
       "            Portfolio Value\n",
       "2000-01-04         0.987725\n",
       "2000-01-05         1.003204\n",
       "2000-01-06         1.009728\n",
       "2000-01-07         1.049987\n",
       "2000-01-10         1.011140\n",
       "...                     ...\n",
       "2022-10-24       155.510432\n",
       "2022-10-25       156.722906\n",
       "2022-10-26       154.396808\n",
       "2022-10-27       158.426089\n",
       "2022-10-28       162.366803\n",
       "\n",
       "[5743 rows x 1 columns]"
      ]
     },
     "execution_count": 50,
     "metadata": {},
     "output_type": "execute_result"
    }
   ],
   "source": [
    "ecp"
   ]
  },
  {
   "cell_type": "markdown",
   "metadata": {
    "slideshow": {
     "slide_type": "subslide"
    }
   },
   "source": [
    "* 1 dollar invested in 2000 would be 98 dollars today?\n",
    "* Unrealistic! Why?\n",
    "* Having knowledge of 20 years worth of data is cheating!"
   ]
  },
  {
   "cell_type": "markdown",
   "metadata": {
    "slideshow": {
     "slide_type": "subslide"
    }
   },
   "source": [
    "### Quantify results"
   ]
  },
  {
   "cell_type": "code",
   "execution_count": 51,
   "metadata": {
    "slideshow": {
     "slide_type": "-"
    }
   },
   "outputs": [
    {
     "name": "stdout",
     "output_type": "stream",
     "text": [
      "portfolio average returns: 0.0009976888116765574\n",
      "          average stddev : 0.015010138281981281\n",
      "\n",
      "component stocks average: minimum: -0.000173\n",
      "                          average: 0.000256\n",
      "                          maximum: 0.000907\n",
      "component stocks stddev : minimum: 0.012252\n",
      "                          average: 0.019118\n",
      "                          maximum: 0.028380\n"
     ]
    }
   ],
   "source": [
    "retinfo = logret.mean(axis=0).agg(['min', 'mean', 'max'])\n",
    "stdinfo = logret.std(axis=0).agg(['min', 'mean', 'max'])\n",
    "print('portfolio average returns:', earned.mean())\n",
    "print('          average stddev :', earned.std())\n",
    "print('')\n",
    "print(\"component stocks average: minimum: %f\\n                          average: %f\\n                          maximum: %f\" % tuple(retinfo))\n",
    "print(\"component stocks stddev : minimum: %f\\n                          average: %f\\n                          maximum: %f\" % tuple(stdinfo))"
   ]
  },
  {
   "cell_type": "markdown",
   "metadata": {
    "slideshow": {
     "slide_type": "subslide"
    }
   },
   "source": [
    "Annual return would be:"
   ]
  },
  {
   "cell_type": "code",
   "execution_count": 52,
   "metadata": {
    "slideshow": {
     "slide_type": "-"
    }
   },
   "outputs": [
    {
     "data": {
      "text/plain": [
       "0.4390380645001408"
      ]
     },
     "execution_count": 52,
     "metadata": {},
     "output_type": "execute_result"
    }
   ],
   "source": [
    "(1+earned.mean())**365 - 1"
   ]
  },
  {
   "cell_type": "markdown",
   "metadata": {
    "slideshow": {
     "slide_type": "fragment"
    }
   },
   "source": [
    "Again, unrealistic"
   ]
  },
  {
   "cell_type": "markdown",
   "metadata": {
    "slideshow": {
     "slide_type": "slide"
    }
   },
   "source": [
    "### Qualitative Visualization of Relationships\n",
    "\n",
    "* Correlations are stricly pairwise quantities (what about other stocks?)\n",
    "* Inverse covariance"
   ]
  },
  {
   "cell_type": "code",
   "execution_count": 53,
   "metadata": {
    "slideshow": {
     "slide_type": "-"
    }
   },
   "outputs": [],
   "source": [
    "from sklearn import preprocessing\n",
    "scaler = preprocessing.StandardScaler()\n",
    "scaled_df = scaler.fit_transform(logret.dropna().values)\n",
    "scaled_df = pd.DataFrame(scaled_df, columns=logret.columns, index=logret.index[1:])"
   ]
  },
  {
   "cell_type": "markdown",
   "metadata": {},
   "source": [
    "#### Correlation Matrix: 2020"
   ]
  },
  {
   "cell_type": "code",
   "execution_count": 54,
   "metadata": {},
   "outputs": [
    {
     "name": "stderr",
     "output_type": "stream",
     "text": [
      "/opt/conda/lib/python3.9/site-packages/seaborn/matrix.py:1214: UserWarning: ``square=True`` ignored in clustermap\n",
      "  warnings.warn(msg)\n"
     ]
    },
    {
     "data": {
      "image/png": "[encoded data removed]",
      "text/plain": [
       "<Figure size 576x576 with 4 Axes>"
      ]
     },
     "metadata": {
      "needs_background": "light"
     },
     "output_type": "display_data"
    }
   ],
   "source": [
    "clmap = sns.clustermap(scaled_df.loc['2020':'2020'].corr(), square=True, figsize=(8, 8));\n",
    "ordering = clmap.dendrogram_col.reordered_ind # save the hierarchical clustering generated variable ordering"
   ]
  },
  {
   "cell_type": "markdown",
   "metadata": {
    "slideshow": {
     "slide_type": "subslide"
    }
   },
   "source": [
    "#### Correlation Matrix: 2019 vs. 2020"
   ]
  },
  {
   "cell_type": "code",
   "execution_count": 55,
   "metadata": {
    "slideshow": {
     "slide_type": "-"
    }
   },
   "outputs": [
    {
     "data": {
      "image/png": "[encoded data removed]",
      "text/plain": [
       "<Figure size 1440x576 with 4 Axes>"
      ]
     },
     "metadata": {
      "needs_background": "light"
     },
     "output_type": "display_data"
    }
   ],
   "source": [
    "fig, ax = plt.subplots(1, 2, figsize=(20, 8))\n",
    "\n",
    "sns.heatmap(scaled_df.loc['2019':'2019'].corr().iloc[ordering, ordering],  square=True, ax=ax[0]).set_title('Correlation Matrix: 2019')\n",
    "sns.heatmap(scaled_df.loc['2020':'2020'].corr().iloc[ordering, ordering],  square=True, ax=ax[1]).set_title('Correlation Matrix: 2020')\n",
    "fig.show()"
   ]
  },
  {
   "cell_type": "markdown",
   "metadata": {
    "slideshow": {
     "slide_type": "slide"
    }
   },
   "source": [
    "### Reality check\n",
    "\n",
    "Obviously, this cannot be realistic. What aspects were unrealistic?\n",
    "\n",
    "1. We didn't take time into consideration: e.g. estimation of $\\Sigma$ and selecting `w`.\n",
    "1. We are investing with knowledge of the future returns!\n",
    "1. We did not take into account transaction costs (we will have to) \n",
    "1. We did not take into account shorting requires borrowing of money\n",
    "1. Is investing in stocks better than leaving our money in a savings account? What is the interest rate?\n",
    "\n",
    "Sharpe ratio tries to quantify the added benefit, i.e., excess returns, of investing in the volatile market by accounting for the volatility:\n",
    "$$\\text{Sharpe ratio}=\\frac{E\\left[R_{p}-R_{f}\\right]}{\\sigma_{p}}$$\n",
    "where $R_f$ is the risk-free rate."
   ]
  },
  {
   "cell_type": "markdown",
   "metadata": {
    "slideshow": {
     "slide_type": "subslide"
    }
   },
   "source": [
    "### Other considerations\n",
    "\n",
    "1. Picking component stocks (choosing what to invest in)\n",
    "    1. Playing the role of the fund manager\n",
    "    1. Expertise about a specific market\n",
    "    1. Warren Buffet says stick with long term _value_ investing strategies\n",
    "    1. High-frequency trading makes money by constantly shuffling investments and making incremental returns\n",
    "    1. Where is the middle ground? i.e., choosing strategies\n",
    "1. Choosing monitoring strategies (keeping an eye out for changes in the market)\n",
    "    1. Estimation of $\\Sigma$ becomes challenging with shorter historical data\n",
    "    1. \"Regularized\" estimates of $\\Sigma$: Ledoit-Wolfe, Condition number, Sparsity inducing, Low-rank\n",
    "    1. How big of a change in the market is signficant change?\n",
    "    1. Where to look for a change? Component stocks? Market indices? Economic indicators? Consumer sentiment? Policy changes?\n",
    "    1. Deciding when to take action. How big of a change warrants an action? (Actions cost money)\n",
    "1. Choosing rebalancing strategy (deciding when to shuffle your investments)  \n",
    "    1. Fixed intervals? dynamic intervals? \n",
    "    1. Allowing for shorts?\n",
    "    1. If many component stocks, do you trade all of them even if the change is small? etc."
   ]
  },
  {
   "cell_type": "markdown",
   "metadata": {},
   "source": [
    "## Other optimization problems for modeling and learning\n",
    "\n",
    "1. [Online advertising](https://github.com/UCSB-PSTAT-134-234/Spring2019/blob/master/labs/lab05/lab05.ipynb)\n",
    "1. [Trend filtering](https://web.stanford.edu/~boyd/l1_tf/), [CVX example](https://www.cvxpy.org/examples/applications/l1_trend_filter.html)\n",
    "1. [Catching a smuggler](https://www.cvxpy.org/examples/applications/interdiction.html)\n",
    "1. [Estimating sparse inverse covariance matrix](https://www.cvxpy.org/examples/applications/sparse_covariance_est.html)\n",
    "1. [Max-flow, Min-cut problem](https://www.cvxpy.org/examples/applications/OOCO.html)\n",
    "1. Many more!!"
   ]
  }
 ],
 "metadata": {
  "celltoolbar": "Slideshow",
  "kernelspec": {
   "display_name": "Python 3 (ipykernel)",
   "language": "python",
   "name": "python3"
  },
  "language_info": {
   "codemirror_mode": {
    "name": "ipython",
    "version": 3
   },
   "file_extension": ".py",
   "mimetype": "text/x-python",
   "name": "python",
   "nbconvert_exporter": "python",
   "pygments_lexer": "ipython3",
   "version": "3.9.6"
  },
  "toc": {
   "base_numbering": 1,
   "nav_menu": {},
   "number_sections": false,
   "sideBar": true,
   "skip_h1_title": false,
   "title_cell": "Table of Contents",
   "title_sidebar": "Contents",
   "toc_cell": false,
   "toc_position": {
    "height": "calc(100% - 180px)",
    "left": "10px",
    "top": "150px",
    "width": "252.667px"
   },
   "toc_section_display": true,
   "toc_window_display": false
  },
  "vscode": {
   "interpreter": {
    "hash": "d4d1e4263499bec80672ea0156c357c1ee493ec2b1c70f0acce89fc37c4a6abe"
   }
  }
 },
 "nbformat": 4,
 "nbformat_minor": 4
}
